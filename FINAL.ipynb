{
 "cells": [
  {
   "cell_type": "code",
   "execution_count": null,
   "metadata": {},
   "outputs": [],
   "source": [
    "!pip install imbalanced-learn"
   ]
  },
  {
   "cell_type": "code",
   "execution_count": 22,
   "metadata": {},
   "outputs": [],
   "source": [
    "import pandas as pd\n",
    "import numpy as np\n",
    "import matplotlib.pyplot as plt\n",
    "import seaborn as sns\n",
    "from sklearn.model_selection import train_test_split\n",
    "from sklearn.model_selection import StratifiedKFold, cross_val_score\n",
    "from sklearn.ensemble import RandomForestClassifier\n",
    "from sklearn.ensemble import GradientBoostingClassifier\n",
    "from sklearn.ensemble import HistGradientBoostingClassifier\n",
    "from sklearn.metrics import classification_report, make_scorer, accuracy_score\n",
    "from sklearn.model_selection import train_test_split\n",
    "from sklearn.impute import SimpleImputer\n",
    "from sklearn.impute import SimpleImputer\n",
    "import warnings\n",
    "from sklearn.exceptions import UndefinedMetricWarning\n",
    "from sklearn.linear_model import LogisticRegression\n",
    "from sklearn.preprocessing import StandardScaler\n",
    "from imblearn.under_sampling import RandomUnderSampler\n",
    "from imblearn.under_sampling import RandomUnderSampler\n",
    "from imblearn.over_sampling import RandomOverSampler\n",
    "from imblearn.over_sampling import SMOTE"
   ]
  },
  {
   "cell_type": "code",
   "execution_count": 23,
   "metadata": {},
   "outputs": [],
   "source": [
    "df_train = pd.read_csv('train.csv')\n",
    "df_test = pd.read_csv('test.csv')"
   ]
  },
  {
   "cell_type": "markdown",
   "metadata": {},
   "source": [
    "# 0) Understand the dataset"
   ]
  },
  {
   "cell_type": "code",
   "execution_count": 164,
   "metadata": {},
   "outputs": [
    {
     "data": {
      "text/plain": [
       "id                           int64\n",
       "short_name                  object\n",
       "overall                      int64\n",
       "potential                    int64\n",
       "value_eur                  float64\n",
       "                            ...   \n",
       "goalkeeping_kicking          int64\n",
       "goalkeeping_positioning      int64\n",
       "goalkeeping_reflexes         int64\n",
       "goalkeeping_speed          float64\n",
       "position                    object\n",
       "Length: 70, dtype: object"
      ]
     },
     "execution_count": 164,
     "metadata": {},
     "output_type": "execute_result"
    }
   ],
   "source": [
    "df_train.dtypes"
   ]
  },
  {
   "cell_type": "code",
   "execution_count": 165,
   "metadata": {},
   "outputs": [
    {
     "data": {
      "text/plain": [
       "(6895, 70)"
      ]
     },
     "execution_count": 165,
     "metadata": {},
     "output_type": "execute_result"
    }
   ],
   "source": [
    "df_train.shape"
   ]
  },
  {
   "cell_type": "markdown",
   "metadata": {},
   "source": [
    "# 1) Data Preprocessing"
   ]
  },
  {
   "cell_type": "markdown",
   "metadata": {},
   "source": [
    "Thoroughly clean the FIFA 2022 player dataset, addressing inconsistencies, missing values, and outliers to ensure the accuracy and reliability of subsequent analyses."
   ]
  },
  {
   "cell_type": "markdown",
   "metadata": {},
   "source": [
    "## a. Irrelevant Features"
   ]
  },
  {
   "cell_type": "markdown",
   "metadata": {},
   "source": [
    "Using our domain knowledge, we remove features that are irrelevant to a player's position."
   ]
  },
  {
   "cell_type": "code",
   "execution_count": null,
   "metadata": {},
   "outputs": [],
   "source": [
    "# List of columns to drop\n",
    "columns_to_drop = [\n",
    "    'short_name', 'nationality_name','birthday_date', 'club_name', 'league_name', 'league_level', \n",
    "    'club_loaned_from', 'club_joined', 'club_jersey_number', 'body_type'\n",
    "    'club_contract_valid_until', 'international_reputation', 'real_face', 'player_tags', 'player_traits',\n",
    "    'goalkeeping_diving', 'goalkeeping_handling', 'goalkeeping_kicking', 'goalkeeping_positioning', 'goalkeeping_reflexes', 'overall', 'potential'\n",
    "]\n",
    "\n",
    "# Dropping the columns from the dataset\n",
    "df_train = df_train.drop(columns=columns_to_drop)\n",
    "df_test = df_test.drop(columns=columns_to_drop)"
   ]
  },
  {
   "cell_type": "markdown",
   "metadata": {},
   "source": [
    "We removed all GK's skills since the feature GK speed only contains value for GK in the train dataset, and that we assume the same happens in the test set given the similar distribution of non-null values in the 'goalkeeping_speed' column."
   ]
  },
  {
   "cell_type": "code",
   "execution_count": 25,
   "metadata": {},
   "outputs": [
    {
     "name": "stdout",
     "output_type": "stream",
     "text": [
      "Frequency of non-null 'goalkeeping_speed' in train dataset: 9.15%\n",
      "Frequency of non-null 'goalkeeping_speed' in test dataset: 9.13%\n"
     ]
    }
   ],
   "source": [
    "# Calculate frequency of non-null values in goalkeeping_speed\n",
    "train_gk_speed_frequency = df_train['goalkeeping_speed'].notnull().mean()\n",
    "test_gk_speed_frequency = df_test['goalkeeping_speed'].notnull().mean()\n",
    "\n",
    "# Print results\n",
    "print(f\"Frequency of non-null 'goalkeeping_speed' in train dataset: {train_gk_speed_frequency:.2%}\")\n",
    "print(f\"Frequency of non-null 'goalkeeping_speed' in test dataset: {test_gk_speed_frequency:.2%}\")\n"
   ]
  },
  {
   "cell_type": "markdown",
   "metadata": {},
   "source": [
    "Converting remaining categorical variables into dummies."
   ]
  },
  {
   "cell_type": "code",
   "execution_count": null,
   "metadata": {},
   "outputs": [],
   "source": [
    "# Handle categorical variables\n",
    "df_train = pd.get_dummies(df_train, columns=['preferred_foot', 'work_rate'], drop_first=True)\n",
    "df_test = pd.get_dummies(df_test, columns=['preferred_foot', 'work_rate'], drop_first=True)"
   ]
  },
  {
   "cell_type": "markdown",
   "metadata": {},
   "source": [
    "## b. Missing Values"
   ]
  },
  {
   "cell_type": "code",
   "execution_count": 27,
   "metadata": {},
   "outputs": [
    {
     "name": "stdout",
     "output_type": "stream",
     "text": [
      "Columns with missing values:\n",
      "value_eur                  2\n",
      "nation_jersey_number    6482\n",
      "release_clause_eur       353\n",
      "pace                     631\n",
      "shooting                 631\n",
      "passing                  631\n",
      "dribbling                631\n",
      "defending                631\n",
      "physic                   631\n",
      "goalkeeping_speed       6264\n",
      "dtype: int64\n"
     ]
    }
   ],
   "source": [
    "train_na_cell = df_train.isnull().sum()\n",
    "missing_values = train_na_cell[train_na_cell > 0]\n",
    "print(\"Columns with missing values:\")\n",
    "print(missing_values)"
   ]
  },
  {
   "cell_type": "markdown",
   "metadata": {},
   "source": [
    "#### Interpretation\n",
    "\n",
    "No concerning missing values since they are all related to the domain of the sample:\n",
    "- **value_eur**: Missing for players who are new or not yet assessed in the transfer market.\n",
    "- **nation_jersey_number**: These players haven't been selected to play for their national teams.\n",
    "- **release_clause_eur**: Missing for players without a release clause in their contracts.\n",
    "- **pace, shooting, passing, dribbling, defending, physic**: Missing for goalkeepers as these attributes are not relevant to their roles.\n",
    "- **goalkeeping_speed**: Missing for non-goalkeepers since this attribute applies only to goalkeepers.\n"
   ]
  },
  {
   "cell_type": "markdown",
   "metadata": {},
   "source": [
    "# 2) Exploratory Data Analysis"
   ]
  },
  {
   "cell_type": "markdown",
   "metadata": {},
   "source": [
    "Conduct an in-depth analysis of the most influential features, unveiling correlations between physical attributes and playing positions, guiding feature selection and model development."
   ]
  },
  {
   "cell_type": "markdown",
   "metadata": {},
   "source": [
    "## a. Initial Exploration with Random Forest"
   ]
  },
  {
   "cell_type": "markdown",
   "metadata": {},
   "source": [
    "Random Forest is a quick and robust classifier to test initial performance, enabling the ranking of features and test classification performance with minimal preprocessing."
   ]
  },
  {
   "cell_type": "code",
   "execution_count": null,
   "metadata": {},
   "outputs": [
    {
     "name": "stdout",
     "output_type": "stream",
     "text": [
      "\n",
      "Classification Report (Training Set):\n",
      "\n",
      "     precision  recall  f1-score  support\n",
      "CAM       0.79    0.65      0.71    263.0\n",
      "CB        1.00    0.14      0.24    167.0\n",
      "CDM       1.00    0.26      0.42    151.0\n",
      "CM        1.00    0.01      0.03     75.0\n",
      "GK        1.00    1.00      1.00    631.0\n",
      "LB        0.69    0.89      0.78    463.0\n",
      "LCB       0.85    0.74      0.79    631.0\n",
      "LCM       0.63    0.80      0.70    423.0\n",
      "LDM       1.00    0.27      0.42    201.0\n",
      "LF        1.00    0.09      0.17     32.0\n",
      "LM        0.69    0.74      0.72    369.0\n",
      "LS        1.00    0.38      0.55    201.0\n",
      "LW        1.00    0.30      0.46    166.0\n",
      "LWB       1.00    0.10      0.18    104.0\n",
      "RB        0.62    0.94      0.75    463.0\n",
      "RCB       0.64    0.91      0.75    631.0\n",
      "RCM       0.50    0.83      0.62    423.0\n",
      "RDM       0.93    0.35      0.51    201.0\n",
      "RF        1.00    0.09      0.17     32.0\n",
      "RM        0.59    0.76      0.66    369.0\n",
      "RS        1.00    0.47      0.64    201.0\n",
      "RW        0.99    0.48      0.64    166.0\n",
      "RWB       1.00    0.11      0.19    104.0\n",
      "ST        0.62    0.99      0.76    428.0\n"
     ]
    }
   ],
   "source": [
    "# Split the train dataset into features (X) and target (y)\n",
    "X = df_train.drop(columns=['position'])\n",
    "y = df_train['position']\n",
    "\n",
    "# Train a Random Forest Classifier on the full training set\n",
    "rf_clf = RandomForestClassifier(random_state=42, n_estimators=100, max_depth=10)\n",
    "rf_clf.fit(X, y)\n",
    "\n",
    "# Generate predictions for the training set\n",
    "y_pred = rf_clf.predict(X)\n",
    "\n",
    "# Create a clean classification report\n",
    "report_dict = classification_report(y, y_pred, output_dict=True)\n",
    "report_df = pd.DataFrame(report_dict).transpose().round(2)\n",
    "\n",
    "# Print only the classification report\n",
    "print(\"\\nClassification Report (Training Set):\\n\")\n",
    "print(report_df.iloc[:-3].to_string(index=True)) "
   ]
  },
  {
   "cell_type": "markdown",
   "metadata": {},
   "source": [
    "### Output:\n",
    "\n",
    "1. **Classification Performance**:\n",
    "   - The classification report shows the model performs exceptionally well for **GK** (1.00 across all metrics) and reasonably well for positions like **ST** (F1-score: 0.76), **LB** (F1-score: 0.78), **RCB** (F1-score: 0.76), and **RB** (F1-score: 0.75).\n",
    "   - However, positions like **CM** (F1-score: 0.03), **LF** (F1-score: 0.12), and **LWB** (F1-score: 0.18) perform poorly, indicating difficulty in distinguishing these roles due to their lower representation in the dataset.\n",
    "\n",
    "2. **Support**:\n",
    "   - The **support** column highlights class imbalance, with positions like **GK** (631 samples) and **LCB** (631 samples) being overrepresented.\n",
    "   - Positions like **LF** (32 samples) and **RF** (32 samples) are heavily underrepresented, leading to poor generalization and prediction accuracy for these roles.\n",
    "\n",
    "3. **Insights on Class Imbalance**:\n",
    "   - The imbalance skews the model to perform better on overrepresented positions while struggling with rarer ones, as seen in the low recall for classes like **LF** and **CM**.\n",
    "   - This suggests the need for sampling techniques (e.g., SMOTE, class weighting) to improve performance on underrepresented classes."
   ]
  },
  {
   "cell_type": "code",
   "execution_count": 28,
   "metadata": {},
   "outputs": [
    {
     "name": "stdout",
     "output_type": "stream",
     "text": [
      "\n",
      "Top Features:\n",
      "\n",
      "             Feature  Importance\n",
      "preferred_foot_Right    0.054754\n",
      "           defending    0.048755\n",
      "  attacking_crossing    0.047077\n",
      "              physic    0.046156\n",
      "            shooting    0.040979\n"
     ]
    }
   ],
   "source": [
    "# Feature importance\n",
    "feature_importances = pd.DataFrame({\n",
    "    'Feature': X.columns,\n",
    "    'Importance': rf_clf.feature_importances_\n",
    "}).sort_values(by='Importance', ascending=False)\n",
    "\n",
    "# Display only the top 5 features cleanly\n",
    "print(\"\\nTop Features:\\n\")\n",
    "print(feature_importances.head(5).to_string(index=False))"
   ]
  },
  {
   "cell_type": "markdown",
   "metadata": {},
   "source": [
    "## b. Visualize Class Imbalance"
   ]
  },
  {
   "cell_type": "code",
   "execution_count": 133,
   "metadata": {},
   "outputs": [
    {
     "data": {
      "image/png": "[encoded data removed]",
      "text/plain": [
       "<Figure size 1200x600 with 1 Axes>"
      ]
     },
     "metadata": {},
     "output_type": "display_data"
    }
   ],
   "source": [
    "# Count the number of observations for each position\n",
    "position_counts = df_train['position'].value_counts()\n",
    "\n",
    "# Create a density diagram\n",
    "plt.figure(figsize=(12, 6))\n",
    "sns.barplot(x=position_counts.index, y=position_counts.values, hue=position_counts.index, palette=\"viridis\", legend=False)\n",
    "\n",
    "# Add plot details\n",
    "plt.title('Density Diagram: Position', fontsize=16)\n",
    "plt.xlabel('Position', fontsize=14)\n",
    "plt.ylabel('Number of Observations', fontsize=14)\n",
    "plt.xticks(rotation=45, fontsize=12)\n",
    "plt.grid(axis='y', linestyle='--', alpha=0.7)\n",
    "\n",
    "# Display the plot\n",
    "plt.tight_layout()\n",
    "plt.show()"
   ]
  },
  {
   "cell_type": "markdown",
   "metadata": {},
   "source": [
    "The density diagram highlights a significant class imbalance among player positions, specially between [**RCB**, **LCB**,  **GK**] and [**LF**, **RF**]\n",
    "\n",
    "This imbalance poses a challenge to the model performance, as it might overfit to dominant classes.\n",
    "\n",
    "Cross-validation is essential to ensure model evaluation across all classes. By splitting the data into multiple folds, we can assess model performance on diverse subsets, including minority classes, mitigating biases introduced by imbalanced data.\n"
   ]
  },
  {
   "cell_type": "markdown",
   "metadata": {},
   "source": [
    "# 3) Cross-Validation Strategy (Testing Balance Techniques)"
   ]
  },
  {
   "cell_type": "markdown",
   "metadata": {},
   "source": [
    "Implement robust cross-validation techniques to mitigate overfitting and optimize model generalization performance."
   ]
  },
  {
   "cell_type": "markdown",
   "metadata": {},
   "source": [
    "## a. K-Fold"
   ]
  },
  {
   "cell_type": "markdown",
   "metadata": {},
   "source": [
    "Stratified K-Fold ensures each fold has a representative distribution of the target classes, particularly relevant in our case given the low representation of LF and RF."
   ]
  },
  {
   "cell_type": "code",
   "execution_count": 30,
   "metadata": {},
   "outputs": [
    {
     "name": "stdout",
     "output_type": "stream",
     "text": [
      "\n",
      "Cross-Validation Scores:\n",
      " [0.41479333 0.40681653 0.41479333 0.42059463 0.40029007]\n",
      "\n",
      "Mean Cross-Validation Accuracy: 0.41145757795503995\n",
      "\n",
      "Classification Report for Fold 1:\n",
      "\n",
      "              precision    recall  f1-score   support\n",
      "\n",
      "         CAM       0.25      0.34      0.29        53\n",
      "          CB       0.23      0.18      0.20        33\n",
      "         CDM       0.12      0.20      0.15        30\n",
      "          CM       0.06      0.13      0.08        15\n",
      "          GK       1.00      1.00      1.00       127\n",
      "          LB       0.60      0.78      0.68        93\n",
      "         LCB       0.64      0.44      0.52       126\n",
      "         LCM       0.43      0.15      0.23        84\n",
      "         LDM       0.05      0.05      0.05        40\n",
      "          LF       0.00      0.00      0.00         6\n",
      "          LM       0.17      0.05      0.08        74\n",
      "          LS       0.19      0.12      0.15        40\n",
      "          LW       0.14      0.15      0.15        33\n",
      "         LWB       0.10      0.10      0.10        21\n",
      "          RB       0.52      0.70      0.60        93\n",
      "         RCB       0.54      0.67      0.60       126\n",
      "         RCM       0.22      0.13      0.16        85\n",
      "         RDM       0.07      0.12      0.09        40\n",
      "          RF       0.00      0.00      0.00         6\n",
      "          RM       0.22      0.09      0.13        74\n",
      "          RS       0.16      0.07      0.10        40\n",
      "          RW       0.12      0.24      0.16        33\n",
      "         RWB       0.03      0.05      0.04        21\n",
      "          ST       0.48      0.79      0.60        86\n",
      "\n",
      "    accuracy                           0.41      1379\n",
      "   macro avg       0.27      0.27      0.26      1379\n",
      "weighted avg       0.41      0.41      0.39      1379\n",
      "\n",
      "\n",
      "Classification Report for Fold 2:\n",
      "\n",
      "              precision    recall  f1-score   support\n",
      "\n",
      "         CAM       0.34      0.45      0.39        53\n",
      "          CB       0.28      0.15      0.20        33\n",
      "         CDM       0.06      0.07      0.06        30\n",
      "          CM       0.05      0.13      0.07        15\n",
      "          GK       1.00      1.00      1.00       126\n",
      "          LB       0.60      0.73      0.66        93\n",
      "         LCB       0.68      0.35      0.46       126\n",
      "         LCM       0.33      0.13      0.19        85\n",
      "         LDM       0.15      0.12      0.14        40\n",
      "          LF       0.00      0.00      0.00         7\n",
      "          LM       0.20      0.11      0.14        74\n",
      "          LS       0.11      0.05      0.07        40\n",
      "          LW       0.07      0.06      0.06        34\n",
      "         LWB       0.00      0.00      0.00        21\n",
      "          RB       0.48      0.74      0.58        92\n",
      "         RCB       0.46      0.69      0.55       127\n",
      "         RCM       0.34      0.19      0.24        84\n",
      "         RDM       0.10      0.15      0.12        40\n",
      "          RF       0.00      0.00      0.00         6\n",
      "          RM       0.40      0.11      0.17        74\n",
      "          RS       0.19      0.12      0.15        40\n",
      "          RW       0.11      0.30      0.16        33\n",
      "         RWB       0.19      0.20      0.20        20\n",
      "          ST       0.45      0.66      0.54        86\n",
      "\n",
      "    accuracy                           0.41      1379\n",
      "   macro avg       0.27      0.27      0.26      1379\n",
      "weighted avg       0.41      0.41      0.39      1379\n",
      "\n",
      "\n",
      "Classification Report for Fold 3:\n",
      "\n",
      "              precision    recall  f1-score   support\n",
      "\n",
      "         CAM       0.25      0.35      0.29        52\n",
      "          CB       0.30      0.18      0.22        34\n",
      "         CDM       0.12      0.19      0.15        31\n",
      "          CM       0.04      0.07      0.05        15\n",
      "          GK       1.00      1.00      1.00       126\n",
      "          LB       0.57      0.73      0.64        93\n",
      "         LCB       0.71      0.41      0.52       127\n",
      "         LCM       0.21      0.11      0.14        85\n",
      "         LDM       0.12      0.12      0.12        40\n",
      "          LF       0.00      0.00      0.00         7\n",
      "          LM       0.29      0.15      0.20        73\n",
      "          LS       0.12      0.07      0.09        40\n",
      "          LW       0.11      0.15      0.12        33\n",
      "         LWB       0.00      0.00      0.00        21\n",
      "          RB       0.50      0.68      0.58        92\n",
      "         RCB       0.53      0.76      0.62       126\n",
      "         RCM       0.19      0.11      0.14        84\n",
      "         RDM       0.13      0.20      0.16        40\n",
      "          RF       0.00      0.00      0.00         6\n",
      "          RM       0.30      0.12      0.17        74\n",
      "          RS       0.08      0.05      0.06        41\n",
      "          RW       0.10      0.18      0.13        33\n",
      "         RWB       0.17      0.24      0.20        21\n",
      "          ST       0.49      0.75      0.59        85\n",
      "\n",
      "    accuracy                           0.41      1379\n",
      "   macro avg       0.26      0.28      0.26      1379\n",
      "weighted avg       0.40      0.41      0.39      1379\n",
      "\n",
      "\n",
      "Classification Report for Fold 4:\n",
      "\n",
      "              precision    recall  f1-score   support\n",
      "\n",
      "         CAM       0.31      0.44      0.36        52\n",
      "          CB       0.23      0.09      0.13        34\n",
      "         CDM       0.11      0.33      0.17        30\n",
      "          CM       0.00      0.00      0.00        15\n",
      "          GK       1.00      1.00      1.00       126\n",
      "          LB       0.58      0.82      0.68        92\n",
      "         LCB       0.69      0.42      0.52       126\n",
      "         LCM       0.25      0.08      0.12        85\n",
      "         LDM       0.19      0.20      0.19        41\n",
      "          LF       0.00      0.00      0.00         6\n",
      "          LM       0.24      0.12      0.16        74\n",
      "          LS       0.16      0.07      0.10        41\n",
      "          LW       0.06      0.09      0.07        33\n",
      "         LWB       0.00      0.00      0.00        20\n",
      "          RB       0.49      0.75      0.59        93\n",
      "         RCB       0.48      0.68      0.56       126\n",
      "         RCM       0.26      0.18      0.21        85\n",
      "         RDM       0.11      0.07      0.09        41\n",
      "          RF       0.00      0.00      0.00         7\n",
      "          RM       0.13      0.05      0.08        73\n",
      "          RS       0.12      0.05      0.07        40\n",
      "          RW       0.20      0.42      0.27        33\n",
      "         RWB       0.20      0.14      0.17        21\n",
      "          ST       0.48      0.74      0.58        85\n",
      "\n",
      "    accuracy                           0.42      1379\n",
      "   macro avg       0.26      0.28      0.26      1379\n",
      "weighted avg       0.40      0.42      0.39      1379\n",
      "\n",
      "\n",
      "Classification Report for Fold 5:\n",
      "\n",
      "              precision    recall  f1-score   support\n",
      "\n",
      "         CAM       0.19      0.26      0.22        53\n",
      "          CB       0.06      0.06      0.06        33\n",
      "         CDM       0.08      0.20      0.12        30\n",
      "          CM       0.06      0.07      0.06        15\n",
      "          GK       1.00      1.00      1.00       126\n",
      "          LB       0.59      0.73      0.65        92\n",
      "         LCB       0.64      0.31      0.42       126\n",
      "         LCM       0.22      0.10      0.13        84\n",
      "         LDM       0.26      0.20      0.23        40\n",
      "          LF       0.00      0.00      0.00         6\n",
      "          LM       0.27      0.19      0.22        74\n",
      "          LS       0.19      0.10      0.13        40\n",
      "          LW       0.05      0.09      0.06        33\n",
      "         LWB       0.00      0.00      0.00        21\n",
      "          RB       0.49      0.71      0.58        93\n",
      "         RCB       0.51      0.77      0.61       126\n",
      "         RCM       0.29      0.13      0.18        85\n",
      "         RDM       0.12      0.17      0.14        40\n",
      "          RF       0.00      0.00      0.00         7\n",
      "          RM       0.19      0.07      0.10        74\n",
      "          RS       0.00      0.00      0.00        40\n",
      "          RW       0.13      0.21      0.16        34\n",
      "         RWB       0.18      0.19      0.19        21\n",
      "          ST       0.49      0.73      0.59        86\n",
      "\n",
      "    accuracy                           0.40      1379\n",
      "   macro avg       0.25      0.26      0.24      1379\n",
      "weighted avg       0.39      0.40      0.38      1379\n",
      "\n"
     ]
    }
   ],
   "source": [
    "warnings.filterwarnings(\"ignore\", category=UndefinedMetricWarning)\n",
    "\n",
    "# Define the model\n",
    "rf_clf = RandomForestClassifier(random_state=42, n_estimators=100, max_depth=10, class_weight='balanced')\n",
    "\n",
    "# Stratified K-Fold Cross-Validation\n",
    "skf = StratifiedKFold(n_splits=5, shuffle=True, random_state=42)\n",
    "\n",
    "# Custom scoring metric\n",
    "scoring = make_scorer(accuracy_score)\n",
    "\n",
    "# Evaluate the model using cross-validation\n",
    "cv_scores = cross_val_score(rf_clf, X, y, cv=skf, scoring=scoring)\n",
    "\n",
    "# Print cross-validation accuracy scores\n",
    "print(\"\\nCross-Validation Scores:\\n\", cv_scores)\n",
    "print(\"\\nMean Cross-Validation Accuracy:\", cv_scores.mean())\n",
    "\n",
    "# Train and evaluate on each fold for classification report (optional)\n",
    "for fold, (train_idx, val_idx) in enumerate(skf.split(X, y), start=1):\n",
    "    X_train_fold, X_val_fold = X.iloc[train_idx], X.iloc[val_idx]\n",
    "    y_train_fold, y_val_fold = y.iloc[train_idx], y.iloc[val_idx]\n",
    "\n",
    "    # Train on fold\n",
    "    rf_clf.fit(X_train_fold, y_train_fold)\n",
    "\n",
    "    # Predict on validation fold\n",
    "    y_pred_fold = rf_clf.predict(X_val_fold)\n",
    "\n",
    "    # Classification report for each fold\n",
    "    print(f\"\\nClassification Report for Fold {fold}:\\n\")\n",
    "    print(classification_report(y_val_fold, y_pred_fold))"
   ]
  },
  {
   "cell_type": "markdown",
   "metadata": {},
   "source": [
    "#### Interpretation\n",
    "\n",
    "With a Mean Cross-Validation Accuracy of ~41.1%, this techniques provided a reliable baseline estimate of the model to compare with future results across multiple models."
   ]
  },
  {
   "cell_type": "markdown",
   "metadata": {},
   "source": [
    "## b. Class Weights"
   ]
  },
  {
   "cell_type": "markdown",
   "metadata": {},
   "source": [
    "We use this technique to balance the representation of underrepresented classes without creating synthetic data to avoid adding noise to the model."
   ]
  },
  {
   "cell_type": "code",
   "execution_count": 11,
   "metadata": {},
   "outputs": [
    {
     "name": "stdout",
     "output_type": "stream",
     "text": [
      "\n",
      "Cross-Validation Scores with Class Weights:\n",
      " [0.41479333 0.40681653 0.41479333 0.42059463 0.40029007]\n",
      "\n",
      "Mean Cross-Validation Accuracy: 0.41145757795503995\n",
      "\n",
      "Classification Report for Fold 1:\n",
      "\n",
      "              precision    recall  f1-score   support\n",
      "\n",
      "         CAM       0.25      0.34      0.29        53\n",
      "          CB       0.23      0.18      0.20        33\n",
      "         CDM       0.12      0.20      0.15        30\n",
      "          CM       0.06      0.13      0.08        15\n",
      "          GK       1.00      1.00      1.00       127\n",
      "          LB       0.60      0.78      0.68        93\n",
      "         LCB       0.64      0.44      0.52       126\n",
      "         LCM       0.43      0.15      0.23        84\n",
      "         LDM       0.05      0.05      0.05        40\n",
      "          LF       0.00      0.00      0.00         6\n",
      "          LM       0.17      0.05      0.08        74\n",
      "          LS       0.19      0.12      0.15        40\n",
      "          LW       0.14      0.15      0.15        33\n",
      "         LWB       0.10      0.10      0.10        21\n",
      "          RB       0.52      0.70      0.60        93\n",
      "         RCB       0.54      0.67      0.60       126\n",
      "         RCM       0.22      0.13      0.16        85\n",
      "         RDM       0.07      0.12      0.09        40\n",
      "          RF       0.00      0.00      0.00         6\n",
      "          RM       0.22      0.09      0.13        74\n",
      "          RS       0.16      0.07      0.10        40\n",
      "          RW       0.12      0.24      0.16        33\n",
      "         RWB       0.03      0.05      0.04        21\n",
      "          ST       0.48      0.79      0.60        86\n",
      "\n",
      "    accuracy                           0.41      1379\n",
      "   macro avg       0.27      0.27      0.26      1379\n",
      "weighted avg       0.41      0.41      0.39      1379\n",
      "\n",
      "\n",
      "Classification Report for Fold 2:\n",
      "\n",
      "              precision    recall  f1-score   support\n",
      "\n",
      "         CAM       0.34      0.45      0.39        53\n",
      "          CB       0.28      0.15      0.20        33\n",
      "         CDM       0.06      0.07      0.06        30\n",
      "          CM       0.05      0.13      0.07        15\n",
      "          GK       1.00      1.00      1.00       126\n",
      "          LB       0.60      0.73      0.66        93\n",
      "         LCB       0.68      0.35      0.46       126\n",
      "         LCM       0.33      0.13      0.19        85\n",
      "         LDM       0.15      0.12      0.14        40\n",
      "          LF       0.00      0.00      0.00         7\n",
      "          LM       0.20      0.11      0.14        74\n",
      "          LS       0.11      0.05      0.07        40\n",
      "          LW       0.07      0.06      0.06        34\n",
      "         LWB       0.00      0.00      0.00        21\n",
      "          RB       0.48      0.74      0.58        92\n",
      "         RCB       0.46      0.69      0.55       127\n",
      "         RCM       0.34      0.19      0.24        84\n",
      "         RDM       0.10      0.15      0.12        40\n",
      "          RF       0.00      0.00      0.00         6\n",
      "          RM       0.40      0.11      0.17        74\n",
      "          RS       0.19      0.12      0.15        40\n",
      "          RW       0.11      0.30      0.16        33\n",
      "         RWB       0.19      0.20      0.20        20\n",
      "          ST       0.45      0.66      0.54        86\n",
      "\n",
      "    accuracy                           0.41      1379\n",
      "   macro avg       0.27      0.27      0.26      1379\n",
      "weighted avg       0.41      0.41      0.39      1379\n",
      "\n",
      "\n",
      "Classification Report for Fold 3:\n",
      "\n",
      "              precision    recall  f1-score   support\n",
      "\n",
      "         CAM       0.25      0.35      0.29        52\n",
      "          CB       0.30      0.18      0.22        34\n",
      "         CDM       0.12      0.19      0.15        31\n",
      "          CM       0.04      0.07      0.05        15\n",
      "          GK       1.00      1.00      1.00       126\n",
      "          LB       0.57      0.73      0.64        93\n",
      "         LCB       0.71      0.41      0.52       127\n",
      "         LCM       0.21      0.11      0.14        85\n",
      "         LDM       0.12      0.12      0.12        40\n",
      "          LF       0.00      0.00      0.00         7\n",
      "          LM       0.29      0.15      0.20        73\n",
      "          LS       0.12      0.07      0.09        40\n",
      "          LW       0.11      0.15      0.12        33\n",
      "         LWB       0.00      0.00      0.00        21\n",
      "          RB       0.50      0.68      0.58        92\n",
      "         RCB       0.53      0.76      0.62       126\n",
      "         RCM       0.19      0.11      0.14        84\n",
      "         RDM       0.13      0.20      0.16        40\n",
      "          RF       0.00      0.00      0.00         6\n",
      "          RM       0.30      0.12      0.17        74\n",
      "          RS       0.08      0.05      0.06        41\n",
      "          RW       0.10      0.18      0.13        33\n",
      "         RWB       0.17      0.24      0.20        21\n",
      "          ST       0.49      0.75      0.59        85\n",
      "\n",
      "    accuracy                           0.41      1379\n",
      "   macro avg       0.26      0.28      0.26      1379\n",
      "weighted avg       0.40      0.41      0.39      1379\n",
      "\n",
      "\n",
      "Classification Report for Fold 4:\n",
      "\n",
      "              precision    recall  f1-score   support\n",
      "\n",
      "         CAM       0.31      0.44      0.36        52\n",
      "          CB       0.23      0.09      0.13        34\n",
      "         CDM       0.11      0.33      0.17        30\n",
      "          CM       0.00      0.00      0.00        15\n",
      "          GK       1.00      1.00      1.00       126\n",
      "          LB       0.58      0.82      0.68        92\n",
      "         LCB       0.69      0.42      0.52       126\n",
      "         LCM       0.25      0.08      0.12        85\n",
      "         LDM       0.19      0.20      0.19        41\n",
      "          LF       0.00      0.00      0.00         6\n",
      "          LM       0.24      0.12      0.16        74\n",
      "          LS       0.16      0.07      0.10        41\n",
      "          LW       0.06      0.09      0.07        33\n",
      "         LWB       0.00      0.00      0.00        20\n",
      "          RB       0.49      0.75      0.59        93\n",
      "         RCB       0.48      0.68      0.56       126\n",
      "         RCM       0.26      0.18      0.21        85\n",
      "         RDM       0.11      0.07      0.09        41\n",
      "          RF       0.00      0.00      0.00         7\n",
      "          RM       0.13      0.05      0.08        73\n",
      "          RS       0.12      0.05      0.07        40\n",
      "          RW       0.20      0.42      0.27        33\n",
      "         RWB       0.20      0.14      0.17        21\n",
      "          ST       0.48      0.74      0.58        85\n",
      "\n",
      "    accuracy                           0.42      1379\n",
      "   macro avg       0.26      0.28      0.26      1379\n",
      "weighted avg       0.40      0.42      0.39      1379\n",
      "\n",
      "\n",
      "Classification Report for Fold 5:\n",
      "\n",
      "              precision    recall  f1-score   support\n",
      "\n",
      "         CAM       0.19      0.26      0.22        53\n",
      "          CB       0.06      0.06      0.06        33\n",
      "         CDM       0.08      0.20      0.12        30\n",
      "          CM       0.06      0.07      0.06        15\n",
      "          GK       1.00      1.00      1.00       126\n",
      "          LB       0.59      0.73      0.65        92\n",
      "         LCB       0.64      0.31      0.42       126\n",
      "         LCM       0.22      0.10      0.13        84\n",
      "         LDM       0.26      0.20      0.23        40\n",
      "          LF       0.00      0.00      0.00         6\n",
      "          LM       0.27      0.19      0.22        74\n",
      "          LS       0.19      0.10      0.13        40\n",
      "          LW       0.05      0.09      0.06        33\n",
      "         LWB       0.00      0.00      0.00        21\n",
      "          RB       0.49      0.71      0.58        93\n",
      "         RCB       0.51      0.77      0.61       126\n",
      "         RCM       0.29      0.13      0.18        85\n",
      "         RDM       0.12      0.17      0.14        40\n",
      "          RF       0.00      0.00      0.00         7\n",
      "          RM       0.19      0.07      0.10        74\n",
      "          RS       0.00      0.00      0.00        40\n",
      "          RW       0.13      0.21      0.16        34\n",
      "         RWB       0.18      0.19      0.19        21\n",
      "          ST       0.49      0.73      0.59        86\n",
      "\n",
      "    accuracy                           0.40      1379\n",
      "   macro avg       0.25      0.26      0.24      1379\n",
      "weighted avg       0.39      0.40      0.38      1379\n",
      "\n"
     ]
    }
   ],
   "source": [
    "# Define the Random Forest with balanced class weights\n",
    "rf_clf = RandomForestClassifier(\n",
    "    random_state=42,\n",
    "    n_estimators=100,\n",
    "    max_depth=10,\n",
    "    class_weight='balanced'  # Automatically assigns weights inversely proportional to class frequency\n",
    ")\n",
    "\n",
    "# Stratified K-Fold Cross-Validation\n",
    "skf = StratifiedKFold(n_splits=5, shuffle=True, random_state=42)\n",
    "\n",
    "# Custom scoring metric\n",
    "scoring = make_scorer(accuracy_score)\n",
    "\n",
    "# Evaluate the model using cross-validation\n",
    "cv_scores = cross_val_score(rf_clf, X, y, cv=skf, scoring=scoring)\n",
    "\n",
    "# Print cross-validation accuracy scores\n",
    "print(\"\\nCross-Validation Scores with Class Weights:\\n\", cv_scores)\n",
    "print(\"\\nMean Cross-Validation Accuracy:\", cv_scores.mean())\n",
    "\n",
    "# Train and evaluate on each fold for classification report\n",
    "for fold, (train_idx, val_idx) in enumerate(skf.split(X, y), start=1):\n",
    "    X_train_fold, X_val_fold = X.iloc[train_idx], X.iloc[val_idx]\n",
    "    y_train_fold, y_val_fold = y.iloc[train_idx], y.iloc[val_idx]\n",
    "\n",
    "    # Train the model with class weights\n",
    "    rf_clf.fit(X_train_fold, y_train_fold)\n",
    "\n",
    "    # Predict on validation fold\n",
    "    y_pred_fold = rf_clf.predict(X_val_fold)\n",
    "\n",
    "    # Classification report for each fold\n",
    "    print(f\"\\nClassification Report for Fold {fold}:\\n\")\n",
    "    print(classification_report(y_val_fold, y_pred_fold))"
   ]
  },
  {
   "cell_type": "markdown",
   "metadata": {},
   "source": [
    "#### Interpretation:\n",
    "\n",
    "The mean cross-validation accuracy remains ~41.3%, with classes like LF, RF, LWB, and RW still have poor precision and recall values."
   ]
  },
  {
   "cell_type": "markdown",
   "metadata": {},
   "source": [
    "## c. Random Oversampling"
   ]
  },
  {
   "cell_type": "code",
   "execution_count": 12,
   "metadata": {},
   "outputs": [],
   "source": [
    "# Split features and target\n",
    "X = df_train.drop(columns=['position'])\n",
    "y = df_train['position']\n",
    "\n",
    "# Random oversampling for underrepresented classes\n",
    "oversampler = RandomOverSampler(random_state=42)\n",
    "X_balanced, y_balanced = oversampler.fit_resample(X, y)"
   ]
  },
  {
   "cell_type": "code",
   "execution_count": 13,
   "metadata": {},
   "outputs": [
    {
     "name": "stdout",
     "output_type": "stream",
     "text": [
      "Validation Accuracy: 0.7117860680092439\n",
      "\n",
      "Cross-Validation Scores: [0.41479333 0.40681653 0.41479333 0.42059463 0.40029007]\n",
      "\n",
      "Classification Report:\n",
      "               precision    recall  f1-score   support\n",
      "\n",
      "         CAM       0.55      0.69      0.61       126\n",
      "          CB       0.79      0.89      0.84       126\n",
      "         CDM       0.71      0.80      0.75       126\n",
      "          CM       0.58      0.98      0.73       126\n",
      "          GK       1.00      1.00      1.00       126\n",
      "          LB       0.74      0.75      0.74       126\n",
      "         LCB       0.75      0.38      0.50       127\n",
      "         LCM       0.57      0.21      0.31       127\n",
      "         LDM       0.64      0.75      0.69       126\n",
      "          LF       0.98      1.00      0.99       126\n",
      "          LM       0.80      0.32      0.46       127\n",
      "          LS       0.86      0.73      0.79       126\n",
      "          LW       0.64      0.82      0.72       126\n",
      "         LWB       0.90      0.94      0.92       126\n",
      "          RB       0.56      0.65      0.61       127\n",
      "         RCB       0.53      0.61      0.57       126\n",
      "         RCM       0.65      0.31      0.42       126\n",
      "         RDM       0.63      0.67      0.65       126\n",
      "          RF       0.98      1.00      0.99       126\n",
      "          RM       0.72      0.28      0.41       127\n",
      "          RS       0.82      0.66      0.73       126\n",
      "          RW       0.60      0.91      0.73       126\n",
      "         RWB       0.71      0.93      0.81       126\n",
      "          ST       0.63      0.82      0.71       126\n",
      "\n",
      "    accuracy                           0.71      3029\n",
      "   macro avg       0.72      0.71      0.69      3029\n",
      "weighted avg       0.72      0.71      0.69      3029\n",
      "\n",
      "\n",
      "Mean Cross-Validation Accuracy: 0.7291373176859709\n"
     ]
    }
   ],
   "source": [
    "# Train-test split (stratified to preserve class distribution)\n",
    "X_train, X_val, y_train, y_val = train_test_split(X_balanced, y_balanced, test_size=0.2, random_state=42, stratify=y_balanced)\n",
    "\n",
    "# Train Random Forest\n",
    "rf_clf = RandomForestClassifier(random_state=42, n_estimators=100, max_depth=10)\n",
    "rf_clf.fit(X_train, y_train)\n",
    "\n",
    "# Predict on the validation set\n",
    "y_pred = rf_clf.predict(X_val)\n",
    "\n",
    "# Evaluate performance\n",
    "print(\"Validation Accuracy:\", accuracy_score(y_val, y_pred))\n",
    "print(\"\\nCross-Validation Scores:\", cv_scores)\n",
    "print(\"\\nClassification Report:\\n\", classification_report(y_val, y_pred))\n",
    "\n",
    "cv_scores = cross_val_score(rf_clf, X_balanced, y_balanced, cv=5, scoring='accuracy')\n",
    "print(\"\\nMean Cross-Validation Accuracy:\", cv_scores.mean())"
   ]
  },
  {
   "cell_type": "markdown",
   "metadata": {},
   "source": [
    "### Key Improvements:\n",
    "\n",
    "1. **Mean-Cross Validation Accuracy**: Increased to **72.9%**, a substantial improvement from earlier results (~41-3%), demonstrating the effectiveness of random oversampling in balancing the dataset.\n",
    "\n",
    "2. **Underrepresented Classes**: Classes like **LF** and **RF** achieved near-perfect performance:\n",
    "   - **LF**: Precision: 0.98, Recall: 1.00, F1-score: 0.99.\n",
    "   - **RF**: Precision: 0.98, Recall: 1.00, F1-score: 0.99.\n",
    "\n",
    "3. **Overall Class Performance**:\n",
    "   - Many previously struggling classes (e.g., **LW**, **RS**, **RWB**) now show significantly improved metrics, with F1-scores exceeding **0.70** for several roles.\n",
    "\n",
    "### Remaining Challenges:\n",
    "- **Specific Classes**:\n",
    "  - Classes like **LM** (F1-score: 0.46) and **RCM** (F1-score: 0.42) still have low performance metrics.\n",
    "  - This suggests overlapping features and insufficient differentiation for nuanced midfield roles."
   ]
  },
  {
   "cell_type": "markdown",
   "metadata": {},
   "source": [
    "# 4) Feature Engineering"
   ]
  },
  {
   "cell_type": "markdown",
   "metadata": {},
   "source": [
    "Utilize domain knowledge to craft meaningful new features from the existing dataset, amplifying the predictive power of the model and capturing nuanced player attributes."
   ]
  },
  {
   "cell_type": "markdown",
   "metadata": {},
   "source": [
    "## a. Creating Features for Midfielders"
   ]
  },
  {
   "cell_type": "markdown",
   "metadata": {},
   "source": [
    "For roles like midfields, combinining features related to vision, passing, and ball control into a single \"playmaking\" score for midfielders."
   ]
  },
  {
   "cell_type": "code",
   "execution_count": null,
   "metadata": {},
   "outputs": [],
   "source": [
    "# Define relevant features for playmaking\n",
    "playmaking_features = [\n",
    "    'passing', 'skill_long_passing', 'skill_curve', \n",
    "    'skill_ball_control', 'movement_reactions', \n",
    "    'mentality_vision', 'mentality_composure'\n",
    "]\n",
    "\n",
    "# Calculate playmaking score for train and test datasets\n",
    "df_train['playmaking_score'] = df_train[playmaking_features].mean(axis=1)\n",
    "df_test['playmaking_score'] = df_test[playmaking_features].mean(axis=1)"
   ]
  },
  {
   "cell_type": "markdown",
   "metadata": {},
   "source": [
    "## b. Create Features for Central Axis"
   ]
  },
  {
   "cell_type": "code",
   "execution_count": 29,
   "metadata": {},
   "outputs": [],
   "source": [
    "# Interaction terms for central axis roles\n",
    "df_train['positioning_interceptions'] = df_train['mentality_positioning'] * df_train['mentality_interceptions']\n",
    "df_train['passing_long_passing'] = df_train['passing'] * df_train['skill_long_passing']\n",
    "df_train['control_vision'] = df_train['skill_ball_control'] * df_train['mentality_vision']\n",
    "\n",
    "# Apply the same to the test set\n",
    "df_test['positioning_interceptions'] = df_test['mentality_positioning'] * df_test['mentality_interceptions']\n",
    "df_test['passing_long_passing'] = df_test['passing'] * df_test['skill_long_passing']\n",
    "df_test['control_vision'] = df_test['skill_ball_control'] * df_test['mentality_vision']"
   ]
  },
  {
   "cell_type": "markdown",
   "metadata": {},
   "source": [
    "### Next Steps:\n",
    "1. **Balance the Dataset**:\n",
    "   - Use techniques like SMOTE (Synthetic Minority Oversampling) or down-sample overrepresented classes to improve class balance.\n",
    "\n",
    "2. **Feature Selection**:\n",
    "   - Focus on domain-relevant features for specific positions (e.g., attacking attributes for forwards, defending for defenders) to improve classification.\n",
    "\n",
    "3. **Model Refinement**:\n",
    "   - Experiment with ensemble methods (e.g., Gradient Boosting or LightGBM) or neural networks for better handling of class imbalance and feature interactions.\n",
    "\n",
    "4. **Custom Metrics**:\n",
    "   - Focus on metrics like F1-score for each class to evaluate performance on minority classes, rather than relying solely on accuracy.\n",
    "\n",
    "More Suitable Alternatives:\n",
    "   - Tree-Based Models (Random Forest, Gradient Boosting):These handle non-linear relationships and feature interactions well.\n",
    "   - Logistic Regression with Feature Engineering: Allows for interpretability of feature contributions."
   ]
  },
  {
   "cell_type": "markdown",
   "metadata": {},
   "source": [
    "# 5) Model Justification"
   ]
  },
  {
   "cell_type": "markdown",
   "metadata": {},
   "source": [
    "Deploy a minimum of two machine learning models, such as Random Forest and Gradient Boosting, seen in class. Elaborate on the rationale behind each model choice, considering their ability to handle non-linearity, feature interactions, and overall performance."
   ]
  },
  {
   "cell_type": "markdown",
   "metadata": {},
   "source": [
    "## a. Random Forest"
   ]
  },
  {
   "cell_type": "markdown",
   "metadata": {},
   "source": [
    "## b. Logistic Regression"
   ]
  },
  {
   "cell_type": "code",
   "execution_count": 31,
   "metadata": {},
   "outputs": [
    {
     "name": "stdout",
     "output_type": "stream",
     "text": [
      "Validation Accuracy: 0.45612762871646123\n",
      "\n",
      "Classification Report:\n",
      "              precision    recall  f1-score   support\n",
      "\n",
      "         CAM       0.34      0.36      0.35        56\n",
      "          CB       0.00      0.00      0.00        41\n",
      "         CDM       0.31      0.14      0.20        35\n",
      "          CM       0.00      0.00      0.00        18\n",
      "          GK       1.00      1.00      1.00       122\n",
      "          LB       0.63      0.76      0.69        83\n",
      "         LCB       0.49      0.41      0.45       102\n",
      "         LCM       0.27      0.38      0.32        82\n",
      "         LDM       0.13      0.07      0.09        41\n",
      "          LF       0.00      0.00      0.00         6\n",
      "          LM       0.32      0.35      0.34        69\n",
      "          LS       0.20      0.09      0.12        44\n",
      "          LW       0.04      0.04      0.04        27\n",
      "         LWB       0.17      0.05      0.08        20\n",
      "          RB       0.57      0.79      0.66        96\n",
      "         RCB       0.46      0.74      0.56       121\n",
      "         RCM       0.37      0.40      0.38       103\n",
      "         RDM       0.17      0.10      0.13        39\n",
      "          RF       0.00      0.00      0.00         8\n",
      "          RM       0.25      0.23      0.24        75\n",
      "          RS       0.08      0.03      0.04        36\n",
      "          RW       0.25      0.14      0.18        37\n",
      "         RWB       0.33      0.13      0.19        23\n",
      "          ST       0.50      0.81      0.62        95\n",
      "\n",
      "    accuracy                           0.46      1379\n",
      "   macro avg       0.29      0.29      0.28      1379\n",
      "weighted avg       0.40      0.46      0.42      1379\n",
      "\n"
     ]
    }
   ],
   "source": [
    "from sklearn.pipeline import Pipeline\n",
    "warnings.filterwarnings(\"ignore\", category=FutureWarning)\n",
    "\n",
    "# Split data into training and validation sets\n",
    "X = df_train.drop(columns=['id', 'position'])\n",
    "y = df_train['position']\n",
    "X_train, X_val, y_train, y_val = train_test_split(X, y, test_size=0.2, random_state=42)\n",
    "\n",
    "# Build a pipeline to handle imputation, scaling, and modeling\n",
    "pipeline = Pipeline([\n",
    "    ('imputer', SimpleImputer(strategy='median')),  # Replace NaNs with column median\n",
    "    ('scaler', StandardScaler()),  # Standardize features\n",
    "    ('log_reg', LogisticRegression(random_state=42, max_iter=1000, multi_class='multinomial', solver='lbfgs'))\n",
    "])\n",
    "\n",
    "# Train the pipeline on the training data\n",
    "pipeline.fit(X_train, y_train)\n",
    "\n",
    "# Predict on the validation set\n",
    "y_val_pred = pipeline.predict(X_val)\n",
    "\n",
    "# Evaluate the model\n",
    "val_accuracy = accuracy_score(y_val, y_val_pred)\n",
    "print(f\"Validation Accuracy: {val_accuracy}\\n\")\n",
    "\n",
    "print(\"Classification Report:\")\n",
    "print(classification_report(y_val, y_val_pred))"
   ]
  },
  {
   "cell_type": "code",
   "execution_count": 32,
   "metadata": {},
   "outputs": [],
   "source": [
    "# Build a pipeline for Random Forest\n",
    "rf_pipeline = Pipeline([\n",
    "    ('imputer', SimpleImputer(strategy='median')),  # Replace NaNs with column median\n",
    "    ('scaler', StandardScaler()),  # Standardize features\n",
    "    ('rf', RandomForestClassifier(random_state=42, n_estimators=100, max_depth=10, class_weight='balanced'))\n",
    "])\n",
    "\n",
    "# Train the Random Forest pipeline on the training data\n",
    "rf_pipeline.fit(X_train, y_train)\n",
    "\n",
    "# Predict probabilities on the validation set\n",
    "rf_val_probs = rf_pipeline.predict_proba(X_val)"
   ]
  },
  {
   "cell_type": "code",
   "execution_count": 33,
   "metadata": {},
   "outputs": [
    {
     "name": "stdout",
     "output_type": "stream",
     "text": [
      "Validation Accuracy (Combined): 0.4619289340101523\n",
      "\n",
      "Classification Report (Combined):\n",
      "              precision    recall  f1-score   support\n",
      "\n",
      "         CAM       0.34      0.38      0.36        56\n",
      "          CB       0.00      0.00      0.00        41\n",
      "         CDM       0.29      0.17      0.21        35\n",
      "          CM       0.00      0.00      0.00        18\n",
      "          GK       1.00      1.00      1.00       122\n",
      "          LB       0.62      0.76      0.68        83\n",
      "         LCB       0.53      0.38      0.45       102\n",
      "         LCM       0.30      0.35      0.32        82\n",
      "         LDM       0.17      0.10      0.12        41\n",
      "          LF       0.00      0.00      0.00         6\n",
      "          LM       0.31      0.32      0.32        69\n",
      "          LS       0.21      0.07      0.10        44\n",
      "          LW       0.07      0.07      0.07        27\n",
      "         LWB       0.33      0.10      0.15        20\n",
      "          RB       0.57      0.80      0.66        96\n",
      "         RCB       0.46      0.78      0.57       121\n",
      "         RCM       0.35      0.38      0.37       103\n",
      "         RDM       0.17      0.13      0.15        39\n",
      "          RF       0.00      0.00      0.00         8\n",
      "          RM       0.26      0.23      0.24        75\n",
      "          RS       0.00      0.00      0.00        36\n",
      "          RW       0.22      0.14      0.17        37\n",
      "         RWB       0.40      0.17      0.24        23\n",
      "          ST       0.51      0.87      0.64        95\n",
      "\n",
      "    accuracy                           0.46      1379\n",
      "   macro avg       0.30      0.30      0.29      1379\n",
      "weighted avg       0.41      0.46      0.42      1379\n",
      "\n"
     ]
    }
   ],
   "source": [
    "# Get probabilities from Logistic Regression\n",
    "log_reg_val_probs = pipeline.predict_proba(X_val)\n",
    "\n",
    "# Average the probabilities from both models\n",
    "combined_val_probs = (log_reg_val_probs + rf_val_probs) / 2\n",
    "\n",
    "# Convert probabilities to final predictions\n",
    "combined_val_preds = [pipeline.classes_[i] for i in combined_val_probs.argmax(axis=1)]\n",
    "\n",
    "# Evaluate the combined predictions\n",
    "val_accuracy = accuracy_score(y_val, combined_val_preds)\n",
    "print(f\"Validation Accuracy (Combined): {val_accuracy}\\n\")\n",
    "\n",
    "print(\"Classification Report (Combined):\")\n",
    "print(classification_report(y_val, combined_val_preds))\n"
   ]
  },
  {
   "cell_type": "markdown",
   "metadata": {},
   "source": [
    "## c. Gradient Boosting"
   ]
  },
  {
   "cell_type": "markdown",
   "metadata": {},
   "source": [
    "## d. Light GBM"
   ]
  },
  {
   "cell_type": "markdown",
   "metadata": {},
   "source": [
    "# 6) Ensemble Modeling"
   ]
  },
  {
   "cell_type": "markdown",
   "metadata": {},
   "source": [
    "Demonstrate advanced expertise by creating an ensemble model that amalgamates predictions from multiple base models, leveraging the strengths of individual models for improved accuracy and robustness."
   ]
  },
  {
   "cell_type": "markdown",
   "metadata": {},
   "source": [
    "# 7) Performance Evaluation"
   ]
  },
  {
   "cell_type": "markdown",
   "metadata": {},
   "source": [
    "Utilize appropriate evaluation metrics such as accuracy, precision, recall, and F1-score to comprehensively assess the models' classification performance."
   ]
  },
  {
   "cell_type": "markdown",
   "metadata": {},
   "source": [
    "# 8) Export"
   ]
  },
  {
   "cell_type": "code",
   "execution_count": null,
   "metadata": {},
   "outputs": [],
   "source": [
    "# Use df_test without modifying the 'id' column\n",
    "df_test_features = df_test.drop(columns=['id'])  # Exclude 'id' only for prediction\n",
    "\n",
    "# Predict positions for df_test\n",
    "df_test['position'] = rf_clf.predict(df_test_features)\n",
    "\n",
    "# Prepare the submission file with 'id' and 'position'\n",
    "submission = df_test[['id', 'position']]\n",
    "submission.to_csv('submission.csv', index=False)\n",
    "\n",
    "print(\"Submission file created: submission.csv\")"
   ]
  },
  {
   "cell_type": "code",
   "execution_count": null,
   "metadata": {},
   "outputs": [],
   "source": [
    "# Recalculate aggregated scores for df_test\n",
    "df_test['attacking_score'] = df_test[attacking_attributes].mean(axis=1)\n",
    "df_test['midfield_score'] = df_test[midfield_attributes].mean(axis=1)\n",
    "df_test['defensive_score'] = df_test[defensive_attributes].mean(axis=1)\n",
    "df_test['goalkeeping_score'] = df_test[goalkeeping_attributes].mean(axis=1)\n",
    "\n",
    "# Select only the aggregated features for df_test\n",
    "X_test_final = df_test[['attacking_score', 'midfield_score', 'defensive_score', 'goalkeeping_score']]\n",
    "\n",
    "# Predict on df_test\n",
    "df_test['position'] = gb_clf.predict(X_test_final)\n",
    "\n",
    "# Prepare submission file\n",
    "submission = df_test[['id', 'position']]  # Assuming 'id' is the unique identifier in df_test\n",
    "submission.to_csv('kaggle_submission.csv', index=False)\n",
    "\n",
    "print(\"Submission file 'gradient_submission.csv' created!\")"
   ]
  }
 ],
 "metadata": {
  "kernelspec": {
   "display_name": "brushup_env",
   "language": "python",
   "name": "python3"
  },
  "language_info": {
   "codemirror_mode": {
    "name": "ipython",
    "version": 3
   },
   "file_extension": ".py",
   "mimetype": "text/x-python",
   "name": "python",
   "nbconvert_exporter": "python",
   "pygments_lexer": "ipython3",
   "version": "3.12.4"
  }
 },
 "nbformat": 4,
 "nbformat_minor": 2
}
