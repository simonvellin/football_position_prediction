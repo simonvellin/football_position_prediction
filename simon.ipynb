{
 "cells": [
  {
   "cell_type": "code",
   "execution_count": 1,
   "metadata": {},
   "outputs": [],
   "source": [
    "import pandas as pd\n",
    "import numpy as np\n",
    "import matplotlib.pyplot as plt\n",
    "import seaborn as sns\n",
    "\n",
    "df_train = pd.read_csv('DATA/train.csv')\n",
    "df_test = pd.read_csv('DATA/test.csv')"
   ]
  },
  {
   "cell_type": "markdown",
   "metadata": {},
   "source": [
    "# 0) Understand the dataset"
   ]
  },
  {
   "cell_type": "code",
   "execution_count": 2,
   "metadata": {},
   "outputs": [
    {
     "data": {
      "text/plain": [
       "id                           int64\n",
       "short_name                  object\n",
       "overall                      int64\n",
       "potential                    int64\n",
       "value_eur                  float64\n",
       "                            ...   \n",
       "goalkeeping_kicking          int64\n",
       "goalkeeping_positioning      int64\n",
       "goalkeeping_reflexes         int64\n",
       "goalkeeping_speed          float64\n",
       "position                    object\n",
       "Length: 70, dtype: object"
      ]
     },
     "execution_count": 2,
     "metadata": {},
     "output_type": "execute_result"
    }
   ],
   "source": [
    "df_train.dtypes"
   ]
  },
  {
   "cell_type": "code",
   "execution_count": 3,
   "metadata": {},
   "outputs": [
    {
     "data": {
      "text/plain": [
       "(6895, 70)"
      ]
     },
     "execution_count": 3,
     "metadata": {},
     "output_type": "execute_result"
    }
   ],
   "source": [
    "df_train.shape"
   ]
  },
  {
   "cell_type": "code",
   "execution_count": 4,
   "metadata": {},
   "outputs": [
    {
     "data": {
      "text/html": [
       "<div>\n",
       "<style scoped>\n",
       "    .dataframe tbody tr th:only-of-type {\n",
       "        vertical-align: middle;\n",
       "    }\n",
       "\n",
       "    .dataframe tbody tr th {\n",
       "        vertical-align: top;\n",
       "    }\n",
       "\n",
       "    .dataframe thead th {\n",
       "        text-align: right;\n",
       "    }\n",
       "</style>\n",
       "<table border=\"1\" class=\"dataframe\">\n",
       "  <thead>\n",
       "    <tr style=\"text-align: right;\">\n",
       "      <th></th>\n",
       "      <th>id</th>\n",
       "      <th>short_name</th>\n",
       "      <th>overall</th>\n",
       "      <th>potential</th>\n",
       "      <th>value_eur</th>\n",
       "      <th>wage_eur</th>\n",
       "      <th>birthday_date</th>\n",
       "      <th>height_cm</th>\n",
       "      <th>weight_kg</th>\n",
       "      <th>club_name</th>\n",
       "      <th>...</th>\n",
       "      <th>defending_marking_awareness</th>\n",
       "      <th>defending_standing_tackle</th>\n",
       "      <th>defending_sliding_tackle</th>\n",
       "      <th>goalkeeping_diving</th>\n",
       "      <th>goalkeeping_handling</th>\n",
       "      <th>goalkeeping_kicking</th>\n",
       "      <th>goalkeeping_positioning</th>\n",
       "      <th>goalkeeping_reflexes</th>\n",
       "      <th>goalkeeping_speed</th>\n",
       "      <th>position</th>\n",
       "    </tr>\n",
       "  </thead>\n",
       "  <tbody>\n",
       "    <tr>\n",
       "      <th>0</th>\n",
       "      <td>216302</td>\n",
       "      <td>E. García</td>\n",
       "      <td>71</td>\n",
       "      <td>71</td>\n",
       "      <td>1400000.0</td>\n",
       "      <td>10000</td>\n",
       "      <td>1989-12-28</td>\n",
       "      <td>176</td>\n",
       "      <td>73</td>\n",
       "      <td>Club Atlético de San Luis</td>\n",
       "      <td>...</td>\n",
       "      <td>65</td>\n",
       "      <td>66</td>\n",
       "      <td>65</td>\n",
       "      <td>14</td>\n",
       "      <td>11</td>\n",
       "      <td>12</td>\n",
       "      <td>12</td>\n",
       "      <td>12</td>\n",
       "      <td>NaN</td>\n",
       "      <td>LB</td>\n",
       "    </tr>\n",
       "    <tr>\n",
       "      <th>1</th>\n",
       "      <td>237867</td>\n",
       "      <td>D. Cancola</td>\n",
       "      <td>65</td>\n",
       "      <td>71</td>\n",
       "      <td>1000000.0</td>\n",
       "      <td>2000</td>\n",
       "      <td>1996-10-23</td>\n",
       "      <td>183</td>\n",
       "      <td>73</td>\n",
       "      <td>Ross County FC</td>\n",
       "      <td>...</td>\n",
       "      <td>65</td>\n",
       "      <td>61</td>\n",
       "      <td>58</td>\n",
       "      <td>10</td>\n",
       "      <td>13</td>\n",
       "      <td>7</td>\n",
       "      <td>6</td>\n",
       "      <td>11</td>\n",
       "      <td>NaN</td>\n",
       "      <td>LDM</td>\n",
       "    </tr>\n",
       "    <tr>\n",
       "      <th>2</th>\n",
       "      <td>253472</td>\n",
       "      <td>E. Kahl</td>\n",
       "      <td>65</td>\n",
       "      <td>77</td>\n",
       "      <td>1600000.0</td>\n",
       "      <td>2000</td>\n",
       "      <td>2001-09-27</td>\n",
       "      <td>178</td>\n",
       "      <td>69</td>\n",
       "      <td>Aarhus GF</td>\n",
       "      <td>...</td>\n",
       "      <td>60</td>\n",
       "      <td>58</td>\n",
       "      <td>59</td>\n",
       "      <td>10</td>\n",
       "      <td>10</td>\n",
       "      <td>8</td>\n",
       "      <td>10</td>\n",
       "      <td>11</td>\n",
       "      <td>NaN</td>\n",
       "      <td>LWB</td>\n",
       "    </tr>\n",
       "    <tr>\n",
       "      <th>3</th>\n",
       "      <td>223994</td>\n",
       "      <td>S. Mugoša</td>\n",
       "      <td>72</td>\n",
       "      <td>72</td>\n",
       "      <td>2300000.0</td>\n",
       "      <td>5000</td>\n",
       "      <td>1992-02-26</td>\n",
       "      <td>188</td>\n",
       "      <td>81</td>\n",
       "      <td>Incheon United FC</td>\n",
       "      <td>...</td>\n",
       "      <td>16</td>\n",
       "      <td>22</td>\n",
       "      <td>19</td>\n",
       "      <td>16</td>\n",
       "      <td>15</td>\n",
       "      <td>13</td>\n",
       "      <td>8</td>\n",
       "      <td>9</td>\n",
       "      <td>NaN</td>\n",
       "      <td>LS</td>\n",
       "    </tr>\n",
       "    <tr>\n",
       "      <th>4</th>\n",
       "      <td>251635</td>\n",
       "      <td>A. Țigănașu</td>\n",
       "      <td>65</td>\n",
       "      <td>65</td>\n",
       "      <td>525000.0</td>\n",
       "      <td>3000</td>\n",
       "      <td>1990-06-12</td>\n",
       "      <td>179</td>\n",
       "      <td>74</td>\n",
       "      <td>FC Botoşani</td>\n",
       "      <td>...</td>\n",
       "      <td>64</td>\n",
       "      <td>61</td>\n",
       "      <td>58</td>\n",
       "      <td>12</td>\n",
       "      <td>5</td>\n",
       "      <td>11</td>\n",
       "      <td>12</td>\n",
       "      <td>15</td>\n",
       "      <td>NaN</td>\n",
       "      <td>LB</td>\n",
       "    </tr>\n",
       "  </tbody>\n",
       "</table>\n",
       "<p>5 rows × 70 columns</p>\n",
       "</div>"
      ],
      "text/plain": [
       "       id   short_name  overall  potential  value_eur  wage_eur birthday_date  \\\n",
       "0  216302    E. García       71         71  1400000.0     10000    1989-12-28   \n",
       "1  237867   D. Cancola       65         71  1000000.0      2000    1996-10-23   \n",
       "2  253472      E. Kahl       65         77  1600000.0      2000    2001-09-27   \n",
       "3  223994    S. Mugoša       72         72  2300000.0      5000    1992-02-26   \n",
       "4  251635  A. Țigănașu       65         65   525000.0      3000    1990-06-12   \n",
       "\n",
       "   height_cm  weight_kg                  club_name  ...  \\\n",
       "0        176         73  Club Atlético de San Luis  ...   \n",
       "1        183         73             Ross County FC  ...   \n",
       "2        178         69                  Aarhus GF  ...   \n",
       "3        188         81          Incheon United FC  ...   \n",
       "4        179         74                FC Botoşani  ...   \n",
       "\n",
       "  defending_marking_awareness  defending_standing_tackle  \\\n",
       "0                          65                         66   \n",
       "1                          65                         61   \n",
       "2                          60                         58   \n",
       "3                          16                         22   \n",
       "4                          64                         61   \n",
       "\n",
       "   defending_sliding_tackle goalkeeping_diving goalkeeping_handling  \\\n",
       "0                        65                 14                   11   \n",
       "1                        58                 10                   13   \n",
       "2                        59                 10                   10   \n",
       "3                        19                 16                   15   \n",
       "4                        58                 12                    5   \n",
       "\n",
       "   goalkeeping_kicking goalkeeping_positioning  goalkeeping_reflexes  \\\n",
       "0                   12                      12                    12   \n",
       "1                    7                       6                    11   \n",
       "2                    8                      10                    11   \n",
       "3                   13                       8                     9   \n",
       "4                   11                      12                    15   \n",
       "\n",
       "  goalkeeping_speed  position  \n",
       "0               NaN        LB  \n",
       "1               NaN       LDM  \n",
       "2               NaN       LWB  \n",
       "3               NaN        LS  \n",
       "4               NaN        LB  \n",
       "\n",
       "[5 rows x 70 columns]"
      ]
     },
     "execution_count": 4,
     "metadata": {},
     "output_type": "execute_result"
    }
   ],
   "source": [
    "df_train.head()"
   ]
  },
  {
   "cell_type": "markdown",
   "metadata": {},
   "source": [
    "# 1) Data Preprocessing"
   ]
  },
  {
   "cell_type": "markdown",
   "metadata": {},
   "source": [
    "Thoroughly clean the FIFA 2022 player dataset, addressing missing values, outliers, and inconsistencies to ensure the accuracy and reliability of subsequent analyses."
   ]
  },
  {
   "cell_type": "markdown",
   "metadata": {},
   "source": [
    "## a. Missing Values"
   ]
  },
  {
   "cell_type": "code",
   "execution_count": 18,
   "metadata": {},
   "outputs": [
    {
     "name": "stdout",
     "output_type": "stream",
     "text": [
      "Columns with missing values:\n",
      "value_eur                  2\n",
      "club_loaned_from        6544\n",
      "club_joined              351\n",
      "nation_jersey_number    6482\n",
      "release_clause_eur       353\n",
      "player_tags             6124\n",
      "player_traits           2589\n",
      "pace                     631\n",
      "shooting                 631\n",
      "passing                  631\n",
      "dribbling                631\n",
      "defending                631\n",
      "physic                   631\n",
      "goalkeeping_speed       6264\n",
      "dtype: int64\n"
     ]
    }
   ],
   "source": [
    "train_na_cell = df_train.isnull().sum()\n",
    "missing_values = train_na_cell[train_na_cell > 0]\n",
    "print(\"Columns with missing values:\")\n",
    "print(missing_values)"
   ]
  },
  {
   "cell_type": "markdown",
   "metadata": {},
   "source": [
    "## b. Outliers"
   ]
  },
  {
   "cell_type": "code",
   "execution_count": null,
   "metadata": {},
   "outputs": [],
   "source": [
    "# Function to detect outliers based on IQR\n",
    "def detect_outliers_iqr(df_train, threshold=1.5):\n",
    "    outlier_columns = []\n",
    "    for column in df_train.select_dtypes(include=['float64', 'int64']).columns:\n",
    "        Q1 = df_train[column].quantile(0.25)\n",
    "        Q3 = df_train[column].quantile(0.75)\n",
    "        IQR = Q3 - Q1\n",
    "        lower_bound = Q1 - threshold * IQR\n",
    "        upper_bound = Q3 + threshold * IQR\n",
    "        if ((df_train[column] < lower_bound) | (df_train[column] > upper_bound)).any():\n",
    "            outlier_columns.append(column)\n",
    "    return outlier_columns\n",
    "\n",
    "# Detect columns with outliers\n",
    "outlier_columns = detect_outliers_iqr(df_train)\n",
    "\n",
    "# Plot histograms for columns with outliers\n",
    "for column in outlier_columns:\n",
    "   if column != 'id':\n",
    "    sns.histplot(data=df_train, x=column, kde=True)\n",
    "    plt.title(f'Density Histogram for {column}')\n",
    "    plt.show()\n"
   ]
  },
  {
   "cell_type": "markdown",
   "metadata": {},
   "source": [
    "## c) Inconsistencies"
   ]
  },
  {
   "cell_type": "markdown",
   "metadata": {},
   "source": [
    "# 2) Feature Engineering"
   ]
  },
  {
   "cell_type": "markdown",
   "metadata": {},
   "source": [
    "Utilize domain knowledge to craft meaningful new features from the existing dataset, amplifying the predictive power of the model and capturing nuanced player attributes."
   ]
  },
  {
   "cell_type": "markdown",
   "metadata": {},
   "source": [
    "## a. Create New Features"
   ]
  },
  {
   "cell_type": "markdown",
   "metadata": {},
   "source": [
    "## b. Apply New Features in test.csv"
   ]
  },
  {
   "cell_type": "markdown",
   "metadata": {},
   "source": [
    "# 3) Exploratory Data Analysis"
   ]
  },
  {
   "cell_type": "markdown",
   "metadata": {},
   "source": [
    "Conduct an in-depth analysis of the most influential features, unveiling correlations between physical attributes and playing positions, guiding feature selection and model development."
   ]
  },
  {
   "cell_type": "markdown",
   "metadata": {},
   "source": [
    "## a. Feature Selection"
   ]
  },
  {
   "cell_type": "markdown",
   "metadata": {},
   "source": [
    "#### i. Numerical Variables"
   ]
  },
  {
   "cell_type": "code",
   "execution_count": 82,
   "metadata": {},
   "outputs": [
    {
     "data": {
      "image/png": "[encoded data removed]",
      "text/plain": [
       "<Figure size 640x480 with 1 Axes>"
      ]
     },
     "metadata": {},
     "output_type": "display_data"
    }
   ],
   "source": [
    "plt.scatter(df_train['square_meters'], df_train['price'])\n",
    "plt.xlabel('square meters')\n",
    "plt.ylabel('appartement price')\n",
    "plt.show()"
   ]
  },
  {
   "cell_type": "markdown",
   "metadata": {},
   "source": [
    "square_meters vs Price: There is a positive correlation between square_meters and Price, with larger properties generally having higher prices. However, there are some negative values for square_meters, which are likely outliers or data entry errors."
   ]
  },
  {
   "cell_type": "markdown",
   "metadata": {},
   "source": [
    "#### ii. Categorical Variables"
   ]
  },
  {
   "cell_type": "code",
   "execution_count": 86,
   "metadata": {},
   "outputs": [
    {
     "data": {
      "image/png": "[encoded data removed]",
      "text/plain": [
       "<Figure size 640x480 with 1 Axes>"
      ]
     },
     "metadata": {},
     "output_type": "display_data"
    }
   ],
   "source": [
    "sns.boxplot(data=df_train, x='is_furnished', y='price')\n",
    "plt.xlabel('Furnished')\n",
    "plt.ylabel('Appartement Price')\n",
    "plt.show()"
   ]
  },
  {
   "cell_type": "markdown",
   "metadata": {},
   "source": [
    "Furnished vs Apartment Price: Median prices are slightly higher for furnished apartments. Both groups have outliers, but there are fewer high-price outliers for furnished apartments."
   ]
  },
  {
   "cell_type": "markdown",
   "metadata": {},
   "source": [
    "## b. Insights on Feature Selection"
   ]
  },
  {
   "cell_type": "markdown",
   "metadata": {},
   "source": [
    "# 4) Cross-Validation Strategy"
   ]
  },
  {
   "cell_type": "markdown",
   "metadata": {},
   "source": [
    "Implement robust cross-validation techniques to mitigate overfitting and optimize model generalization performance."
   ]
  },
  {
   "cell_type": "markdown",
   "metadata": {},
   "source": [
    "# 5) Model Justification"
   ]
  },
  {
   "cell_type": "markdown",
   "metadata": {},
   "source": [
    "Deploy a minimum of two machine learning models, such as Random Forest and Gradient Boosting, seen in class. Elaborate on the rationale behind each model choice, considering their ability to handle non-linearity, feature interactions, and overall performance."
   ]
  },
  {
   "cell_type": "markdown",
   "metadata": {},
   "source": [
    "# 6) Ensemble Modeling"
   ]
  },
  {
   "cell_type": "markdown",
   "metadata": {},
   "source": [
    "Demonstrate advanced expertise by creating an ensemble model that amalgamates predictions from multiple base models, leveraging the strengths of individual models for improved accuracy and robustness."
   ]
  },
  {
   "cell_type": "markdown",
   "metadata": {},
   "source": [
    "# 7) Performance Evaluation"
   ]
  },
  {
   "cell_type": "markdown",
   "metadata": {},
   "source": [
    "Utilize appropriate evaluation metrics such as accuracy, precision, recall, and F1-score to comprehensively assess the models' classification performance."
   ]
  },
  {
   "cell_type": "markdown",
   "metadata": {},
   "source": [
    "# 8) Export"
   ]
  }
 ],
 "metadata": {
  "kernelspec": {
   "display_name": "brushup_env",
   "language": "python",
   "name": "python3"
  },
  "language_info": {
   "codemirror_mode": {
    "name": "ipython",
    "version": 3
   },
   "file_extension": ".py",
   "mimetype": "text/x-python",
   "name": "python",
   "nbconvert_exporter": "python",
   "pygments_lexer": "ipython3",
   "version": "3.12.4"
  }
 },
 "nbformat": 4,
 "nbformat_minor": 2
}
