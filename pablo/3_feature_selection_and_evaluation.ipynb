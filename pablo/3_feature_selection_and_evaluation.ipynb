{
 "cells": [
  {
   "cell_type": "markdown",
   "id": "5426eafa",
   "metadata": {},
   "source": [
    "# 0. Libraries and importing the data\n",
    "In this case, we will only import the training data, as this step in the machine learning pipeline involves feature selection and hyperparameter tuning."
   ]
  },
  {
   "cell_type": "code",
   "execution_count": null,
   "id": "495b7128",
   "metadata": {},
   "outputs": [],
   "source": [
    "import pandas as pd\n",
    "import numpy as np\n",
    "import plotly.express as px\n",
    "\n",
    "# Hyperparameter tuning and cross-validation\n",
    "from sklearn.model_selection import RandomizedSearchCV\n",
    "\n",
    "# For creating a pipeline\n",
    "from sklearn.pipeline import Pipeline\n",
    "from sklearn.compose import ColumnTransformer\n",
    "\n",
    "# For preprocessing\n",
    "from sklearn.impute import SimpleImputer\n",
    "from sklearn.impute import KNNImputer\n",
    "from sklearn.preprocessing import StandardScaler\n",
    "\n",
    "# Models\n",
    "from sklearn.multiclass import OneVsRestClassifier\n",
    "from sklearn.linear_model import LogisticRegression\n",
    "from sklearn.neighbors import KNeighborsClassifier\n",
    "from sklearn.tree import DecisionTreeClassifier\n",
    "\n",
    "# Extracting scores for all classes\n",
    "from sklearn.metrics import classification_report\n",
    "\n",
    "# Utilities\n",
    "from scipy.stats import uniform\n",
    "from scipy.stats import randint\n",
    "\n",
    "# We filter out FutureWarnings\n",
    "import warnings\n",
    "warnings.filterwarnings(\"ignore\", category=FutureWarning, module=\"sklearn\")"
   ]
  },
  {
   "cell_type": "markdown",
   "id": "e8327963",
   "metadata": {},
   "source": [
    "## Preprocessing version 1"
   ]
  },
  {
   "cell_type": "code",
   "execution_count": 4,
   "id": "bb6db920",
   "metadata": {},
   "outputs": [
    {
     "data": {
      "text/html": [
       "<div>\n",
       "<style scoped>\n",
       "    .dataframe tbody tr th:only-of-type {\n",
       "        vertical-align: middle;\n",
       "    }\n",
       "\n",
       "    .dataframe tbody tr th {\n",
       "        vertical-align: top;\n",
       "    }\n",
       "\n",
       "    .dataframe thead th {\n",
       "        text-align: right;\n",
       "    }\n",
       "</style>\n",
       "<table border=\"1\" class=\"dataframe\">\n",
       "  <thead>\n",
       "    <tr style=\"text-align: right;\">\n",
       "      <th></th>\n",
       "      <th>id</th>\n",
       "      <th>short_name</th>\n",
       "      <th>overall</th>\n",
       "      <th>potential</th>\n",
       "      <th>value_eur</th>\n",
       "      <th>wage_eur</th>\n",
       "      <th>height_cm</th>\n",
       "      <th>weight_kg</th>\n",
       "      <th>club_name</th>\n",
       "      <th>league_level</th>\n",
       "      <th>...</th>\n",
       "      <th>real_face_Yes</th>\n",
       "      <th>work_rate_High/High</th>\n",
       "      <th>work_rate_High/Low</th>\n",
       "      <th>work_rate_High/Medium</th>\n",
       "      <th>work_rate_Low/High</th>\n",
       "      <th>work_rate_Low/Low</th>\n",
       "      <th>work_rate_Low/Medium</th>\n",
       "      <th>work_rate_Medium/High</th>\n",
       "      <th>work_rate_Medium/Low</th>\n",
       "      <th>work_rate_Medium/Medium</th>\n",
       "    </tr>\n",
       "  </thead>\n",
       "  <tbody>\n",
       "    <tr>\n",
       "      <th>0</th>\n",
       "      <td>216302</td>\n",
       "      <td>E. García</td>\n",
       "      <td>71</td>\n",
       "      <td>71</td>\n",
       "      <td>1400000.0</td>\n",
       "      <td>10000</td>\n",
       "      <td>176</td>\n",
       "      <td>73</td>\n",
       "      <td>Club Atlético de San Luis</td>\n",
       "      <td>1</td>\n",
       "      <td>...</td>\n",
       "      <td>False</td>\n",
       "      <td>False</td>\n",
       "      <td>False</td>\n",
       "      <td>False</td>\n",
       "      <td>False</td>\n",
       "      <td>False</td>\n",
       "      <td>False</td>\n",
       "      <td>True</td>\n",
       "      <td>False</td>\n",
       "      <td>False</td>\n",
       "    </tr>\n",
       "    <tr>\n",
       "      <th>1</th>\n",
       "      <td>237867</td>\n",
       "      <td>D. Cancola</td>\n",
       "      <td>65</td>\n",
       "      <td>71</td>\n",
       "      <td>1000000.0</td>\n",
       "      <td>2000</td>\n",
       "      <td>183</td>\n",
       "      <td>73</td>\n",
       "      <td>Ross County FC</td>\n",
       "      <td>1</td>\n",
       "      <td>...</td>\n",
       "      <td>False</td>\n",
       "      <td>False</td>\n",
       "      <td>False</td>\n",
       "      <td>False</td>\n",
       "      <td>False</td>\n",
       "      <td>False</td>\n",
       "      <td>False</td>\n",
       "      <td>False</td>\n",
       "      <td>False</td>\n",
       "      <td>True</td>\n",
       "    </tr>\n",
       "    <tr>\n",
       "      <th>2</th>\n",
       "      <td>253472</td>\n",
       "      <td>E. Kahl</td>\n",
       "      <td>65</td>\n",
       "      <td>77</td>\n",
       "      <td>1600000.0</td>\n",
       "      <td>2000</td>\n",
       "      <td>178</td>\n",
       "      <td>69</td>\n",
       "      <td>Aarhus GF</td>\n",
       "      <td>1</td>\n",
       "      <td>...</td>\n",
       "      <td>False</td>\n",
       "      <td>False</td>\n",
       "      <td>False</td>\n",
       "      <td>True</td>\n",
       "      <td>False</td>\n",
       "      <td>False</td>\n",
       "      <td>False</td>\n",
       "      <td>False</td>\n",
       "      <td>False</td>\n",
       "      <td>False</td>\n",
       "    </tr>\n",
       "    <tr>\n",
       "      <th>3</th>\n",
       "      <td>223994</td>\n",
       "      <td>S. Mugoša</td>\n",
       "      <td>72</td>\n",
       "      <td>72</td>\n",
       "      <td>2300000.0</td>\n",
       "      <td>5000</td>\n",
       "      <td>188</td>\n",
       "      <td>81</td>\n",
       "      <td>Incheon United FC</td>\n",
       "      <td>1</td>\n",
       "      <td>...</td>\n",
       "      <td>False</td>\n",
       "      <td>False</td>\n",
       "      <td>False</td>\n",
       "      <td>True</td>\n",
       "      <td>False</td>\n",
       "      <td>False</td>\n",
       "      <td>False</td>\n",
       "      <td>False</td>\n",
       "      <td>False</td>\n",
       "      <td>False</td>\n",
       "    </tr>\n",
       "    <tr>\n",
       "      <th>4</th>\n",
       "      <td>251635</td>\n",
       "      <td>A. Țigănașu</td>\n",
       "      <td>65</td>\n",
       "      <td>65</td>\n",
       "      <td>525000.0</td>\n",
       "      <td>3000</td>\n",
       "      <td>179</td>\n",
       "      <td>74</td>\n",
       "      <td>FC Botoşani</td>\n",
       "      <td>1</td>\n",
       "      <td>...</td>\n",
       "      <td>False</td>\n",
       "      <td>False</td>\n",
       "      <td>False</td>\n",
       "      <td>False</td>\n",
       "      <td>False</td>\n",
       "      <td>False</td>\n",
       "      <td>False</td>\n",
       "      <td>True</td>\n",
       "      <td>False</td>\n",
       "      <td>False</td>\n",
       "    </tr>\n",
       "    <tr>\n",
       "      <th>...</th>\n",
       "      <td>...</td>\n",
       "      <td>...</td>\n",
       "      <td>...</td>\n",
       "      <td>...</td>\n",
       "      <td>...</td>\n",
       "      <td>...</td>\n",
       "      <td>...</td>\n",
       "      <td>...</td>\n",
       "      <td>...</td>\n",
       "      <td>...</td>\n",
       "      <td>...</td>\n",
       "      <td>...</td>\n",
       "      <td>...</td>\n",
       "      <td>...</td>\n",
       "      <td>...</td>\n",
       "      <td>...</td>\n",
       "      <td>...</td>\n",
       "      <td>...</td>\n",
       "      <td>...</td>\n",
       "      <td>...</td>\n",
       "      <td>...</td>\n",
       "    </tr>\n",
       "    <tr>\n",
       "      <th>6890</th>\n",
       "      <td>242007</td>\n",
       "      <td>C. Whelan</td>\n",
       "      <td>59</td>\n",
       "      <td>66</td>\n",
       "      <td>425000.0</td>\n",
       "      <td>2000</td>\n",
       "      <td>180</td>\n",
       "      <td>65</td>\n",
       "      <td>Carlisle United</td>\n",
       "      <td>4</td>\n",
       "      <td>...</td>\n",
       "      <td>False</td>\n",
       "      <td>False</td>\n",
       "      <td>False</td>\n",
       "      <td>False</td>\n",
       "      <td>False</td>\n",
       "      <td>False</td>\n",
       "      <td>False</td>\n",
       "      <td>False</td>\n",
       "      <td>False</td>\n",
       "      <td>True</td>\n",
       "    </tr>\n",
       "    <tr>\n",
       "      <th>6891</th>\n",
       "      <td>187961</td>\n",
       "      <td>Paulinho</td>\n",
       "      <td>83</td>\n",
       "      <td>83</td>\n",
       "      <td>28500000.0</td>\n",
       "      <td>61000</td>\n",
       "      <td>183</td>\n",
       "      <td>80</td>\n",
       "      <td>Al Ahli</td>\n",
       "      <td>1</td>\n",
       "      <td>...</td>\n",
       "      <td>True</td>\n",
       "      <td>True</td>\n",
       "      <td>False</td>\n",
       "      <td>False</td>\n",
       "      <td>False</td>\n",
       "      <td>False</td>\n",
       "      <td>False</td>\n",
       "      <td>False</td>\n",
       "      <td>False</td>\n",
       "      <td>False</td>\n",
       "    </tr>\n",
       "    <tr>\n",
       "      <th>6892</th>\n",
       "      <td>257234</td>\n",
       "      <td>Y. Hamache</td>\n",
       "      <td>70</td>\n",
       "      <td>80</td>\n",
       "      <td>3400000.0</td>\n",
       "      <td>6000</td>\n",
       "      <td>177</td>\n",
       "      <td>73</td>\n",
       "      <td>Boavista FC</td>\n",
       "      <td>1</td>\n",
       "      <td>...</td>\n",
       "      <td>False</td>\n",
       "      <td>False</td>\n",
       "      <td>False</td>\n",
       "      <td>True</td>\n",
       "      <td>False</td>\n",
       "      <td>False</td>\n",
       "      <td>False</td>\n",
       "      <td>False</td>\n",
       "      <td>False</td>\n",
       "      <td>False</td>\n",
       "    </tr>\n",
       "    <tr>\n",
       "      <th>6893</th>\n",
       "      <td>232511</td>\n",
       "      <td>S. Sasaki</td>\n",
       "      <td>71</td>\n",
       "      <td>71</td>\n",
       "      <td>1300000.0</td>\n",
       "      <td>7000</td>\n",
       "      <td>176</td>\n",
       "      <td>70</td>\n",
       "      <td>Sanfrecce Hiroshima</td>\n",
       "      <td>1</td>\n",
       "      <td>...</td>\n",
       "      <td>False</td>\n",
       "      <td>False</td>\n",
       "      <td>False</td>\n",
       "      <td>False</td>\n",
       "      <td>False</td>\n",
       "      <td>False</td>\n",
       "      <td>False</td>\n",
       "      <td>True</td>\n",
       "      <td>False</td>\n",
       "      <td>False</td>\n",
       "    </tr>\n",
       "    <tr>\n",
       "      <th>6894</th>\n",
       "      <td>246750</td>\n",
       "      <td>S. Haudum</td>\n",
       "      <td>66</td>\n",
       "      <td>70</td>\n",
       "      <td>1100000.0</td>\n",
       "      <td>4000</td>\n",
       "      <td>188</td>\n",
       "      <td>74</td>\n",
       "      <td>SC Rheindorf Altach</td>\n",
       "      <td>1</td>\n",
       "      <td>...</td>\n",
       "      <td>False</td>\n",
       "      <td>False</td>\n",
       "      <td>False</td>\n",
       "      <td>False</td>\n",
       "      <td>False</td>\n",
       "      <td>False</td>\n",
       "      <td>False</td>\n",
       "      <td>False</td>\n",
       "      <td>False</td>\n",
       "      <td>True</td>\n",
       "    </tr>\n",
       "  </tbody>\n",
       "</table>\n",
       "<p>6895 rows × 70 columns</p>\n",
       "</div>"
      ],
      "text/plain": [
       "          id   short_name  overall  potential   value_eur  wage_eur  \\\n",
       "0     216302    E. García       71         71   1400000.0     10000   \n",
       "1     237867   D. Cancola       65         71   1000000.0      2000   \n",
       "2     253472      E. Kahl       65         77   1600000.0      2000   \n",
       "3     223994    S. Mugoša       72         72   2300000.0      5000   \n",
       "4     251635  A. Țigănașu       65         65    525000.0      3000   \n",
       "...      ...          ...      ...        ...         ...       ...   \n",
       "6890  242007    C. Whelan       59         66    425000.0      2000   \n",
       "6891  187961     Paulinho       83         83  28500000.0     61000   \n",
       "6892  257234   Y. Hamache       70         80   3400000.0      6000   \n",
       "6893  232511    S. Sasaki       71         71   1300000.0      7000   \n",
       "6894  246750    S. Haudum       66         70   1100000.0      4000   \n",
       "\n",
       "      height_cm  weight_kg                  club_name  league_level  ...  \\\n",
       "0           176         73  Club Atlético de San Luis             1  ...   \n",
       "1           183         73             Ross County FC             1  ...   \n",
       "2           178         69                  Aarhus GF             1  ...   \n",
       "3           188         81          Incheon United FC             1  ...   \n",
       "4           179         74                FC Botoşani             1  ...   \n",
       "...         ...        ...                        ...           ...  ...   \n",
       "6890        180         65            Carlisle United             4  ...   \n",
       "6891        183         80                    Al Ahli             1  ...   \n",
       "6892        177         73                Boavista FC             1  ...   \n",
       "6893        176         70        Sanfrecce Hiroshima             1  ...   \n",
       "6894        188         74        SC Rheindorf Altach             1  ...   \n",
       "\n",
       "      real_face_Yes  work_rate_High/High work_rate_High/Low  \\\n",
       "0             False                False              False   \n",
       "1             False                False              False   \n",
       "2             False                False              False   \n",
       "3             False                False              False   \n",
       "4             False                False              False   \n",
       "...             ...                  ...                ...   \n",
       "6890          False                False              False   \n",
       "6891           True                 True              False   \n",
       "6892          False                False              False   \n",
       "6893          False                False              False   \n",
       "6894          False                False              False   \n",
       "\n",
       "      work_rate_High/Medium  work_rate_Low/High  work_rate_Low/Low  \\\n",
       "0                     False               False              False   \n",
       "1                     False               False              False   \n",
       "2                      True               False              False   \n",
       "3                      True               False              False   \n",
       "4                     False               False              False   \n",
       "...                     ...                 ...                ...   \n",
       "6890                  False               False              False   \n",
       "6891                  False               False              False   \n",
       "6892                   True               False              False   \n",
       "6893                  False               False              False   \n",
       "6894                  False               False              False   \n",
       "\n",
       "      work_rate_Low/Medium  work_rate_Medium/High  work_rate_Medium/Low  \\\n",
       "0                    False                   True                 False   \n",
       "1                    False                  False                 False   \n",
       "2                    False                  False                 False   \n",
       "3                    False                  False                 False   \n",
       "4                    False                   True                 False   \n",
       "...                    ...                    ...                   ...   \n",
       "6890                 False                  False                 False   \n",
       "6891                 False                  False                 False   \n",
       "6892                 False                  False                 False   \n",
       "6893                 False                   True                 False   \n",
       "6894                 False                  False                 False   \n",
       "\n",
       "      work_rate_Medium/Medium  \n",
       "0                       False  \n",
       "1                        True  \n",
       "2                       False  \n",
       "3                       False  \n",
       "4                       False  \n",
       "...                       ...  \n",
       "6890                     True  \n",
       "6891                    False  \n",
       "6892                    False  \n",
       "6893                    False  \n",
       "6894                     True  \n",
       "\n",
       "[6895 rows x 70 columns]"
      ]
     },
     "execution_count": 4,
     "metadata": {},
     "output_type": "execute_result"
    }
   ],
   "source": [
    "dfv1 = pd.read_csv('2_preprocessed_datasets/v1_train.csv')\n",
    "dfv1"
   ]
  },
  {
   "cell_type": "code",
   "execution_count": 8,
   "id": "ad64511a",
   "metadata": {},
   "outputs": [
    {
     "name": "stdout",
     "output_type": "stream",
     "text": [
      "<class 'pandas.core.frame.DataFrame'>\n",
      "RangeIndex: 6895 entries, 0 to 6894\n",
      "Data columns (total 70 columns):\n",
      " #   Column                       Non-Null Count  Dtype  \n",
      "---  ------                       --------------  -----  \n",
      " 0   id                           6895 non-null   int64  \n",
      " 1   short_name                   6895 non-null   object \n",
      " 2   overall                      6895 non-null   int64  \n",
      " 3   potential                    6895 non-null   int64  \n",
      " 4   value_eur                    6893 non-null   float64\n",
      " 5   wage_eur                     6895 non-null   int64  \n",
      " 6   height_cm                    6895 non-null   int64  \n",
      " 7   weight_kg                    6895 non-null   int64  \n",
      " 8   club_name                    6895 non-null   object \n",
      " 9   league_level                 6895 non-null   int64  \n",
      " 10  club_jersey_number           6895 non-null   int64  \n",
      " 11  club_contract_valid_until    6895 non-null   int64  \n",
      " 12  nationality_name             6895 non-null   object \n",
      " 13  weak_foot                    6895 non-null   int64  \n",
      " 14  skill_moves                  6895 non-null   int64  \n",
      " 15  international_reputation     6895 non-null   int64  \n",
      " 16  release_clause_eur           6542 non-null   float64\n",
      " 17  pace                         6264 non-null   float64\n",
      " 18  shooting                     6264 non-null   float64\n",
      " 19  passing                      6264 non-null   float64\n",
      " 20  dribbling                    6264 non-null   float64\n",
      " 21  defending                    6264 non-null   float64\n",
      " 22  physic                       6264 non-null   float64\n",
      " 23  attacking_crossing           6895 non-null   int64  \n",
      " 24  attacking_finishing          6895 non-null   int64  \n",
      " 25  attacking_heading_accuracy   6895 non-null   int64  \n",
      " 26  attacking_short_passing      6895 non-null   int64  \n",
      " 27  attacking_volleys            6895 non-null   int64  \n",
      " 28  skill_dribbling              6895 non-null   int64  \n",
      " 29  skill_curve                  6895 non-null   int64  \n",
      " 30  skill_fk_accuracy            6895 non-null   int64  \n",
      " 31  skill_long_passing           6895 non-null   int64  \n",
      " 32  skill_ball_control           6895 non-null   int64  \n",
      " 33  movement_acceleration        6895 non-null   int64  \n",
      " 34  movement_sprint_speed        6895 non-null   int64  \n",
      " 35  movement_agility             6895 non-null   int64  \n",
      " 36  movement_reactions           6895 non-null   int64  \n",
      " 37  movement_balance             6895 non-null   int64  \n",
      " 38  power_shot_power             6895 non-null   int64  \n",
      " 39  power_jumping                6895 non-null   int64  \n",
      " 40  power_stamina                6895 non-null   int64  \n",
      " 41  power_strength               6895 non-null   int64  \n",
      " 42  power_long_shots             6895 non-null   int64  \n",
      " 43  mentality_aggression         6895 non-null   int64  \n",
      " 44  mentality_interceptions      6895 non-null   int64  \n",
      " 45  mentality_positioning        6895 non-null   int64  \n",
      " 46  mentality_vision             6895 non-null   int64  \n",
      " 47  mentality_penalties          6895 non-null   int64  \n",
      " 48  mentality_composure          6895 non-null   int64  \n",
      " 49  defending_marking_awareness  6895 non-null   int64  \n",
      " 50  defending_standing_tackle    6895 non-null   int64  \n",
      " 51  defending_sliding_tackle     6895 non-null   int64  \n",
      " 52  position                     6895 non-null   object \n",
      " 53  position_grouped             6895 non-null   object \n",
      " 54  league_country               6895 non-null   object \n",
      " 55  height_weight_ratio          6895 non-null   float64\n",
      " 56  age                          6895 non-null   int64  \n",
      " 57  preferred_foot_Left          6895 non-null   bool   \n",
      " 58  preferred_foot_Right         6895 non-null   bool   \n",
      " 59  real_face_No                 6895 non-null   bool   \n",
      " 60  real_face_Yes                6895 non-null   bool   \n",
      " 61  work_rate_High/High          6895 non-null   bool   \n",
      " 62  work_rate_High/Low           6895 non-null   bool   \n",
      " 63  work_rate_High/Medium        6895 non-null   bool   \n",
      " 64  work_rate_Low/High           6895 non-null   bool   \n",
      " 65  work_rate_Low/Low            6895 non-null   bool   \n",
      " 66  work_rate_Low/Medium         6895 non-null   bool   \n",
      " 67  work_rate_Medium/High        6895 non-null   bool   \n",
      " 68  work_rate_Medium/Low         6895 non-null   bool   \n",
      " 69  work_rate_Medium/Medium      6895 non-null   bool   \n",
      "dtypes: bool(13), float64(9), int64(42), object(6)\n",
      "memory usage: 3.1+ MB\n"
     ]
    }
   ],
   "source": [
    "dfv1.info()"
   ]
  },
  {
   "cell_type": "code",
   "execution_count": 9,
   "id": "8b5919e8",
   "metadata": {},
   "outputs": [
    {
     "name": "stdout",
     "output_type": "stream",
     "text": [
      "Columns with missing values:\n",
      "value_eur               2\n",
      "release_clause_eur    353\n",
      "pace                  631\n",
      "shooting              631\n",
      "passing               631\n",
      "dribbling             631\n",
      "defending             631\n",
      "physic                631\n",
      "dtype: int64\n",
      "\n",
      "Percentage of missing values:\n",
      "value_eur             0.029007\n",
      "release_clause_eur    5.119652\n",
      "pace                  9.151559\n",
      "shooting              9.151559\n",
      "passing               9.151559\n",
      "dribbling             9.151559\n",
      "defending             9.151559\n",
      "physic                9.151559\n",
      "dtype: float64\n"
     ]
    }
   ],
   "source": [
    "# Count of null values per column\n",
    "dfv1_na = dfv1.isnull().sum()\n",
    "\n",
    "# Filter only columns with missing values\n",
    "missing_values_tr = dfv1_na[dfv1_na > 0]\n",
    "\n",
    "# Compute percentage of missing values\n",
    "missing_values_percentage = (missing_values_tr / len(dfv1)) * 100\n",
    "\n",
    "# Display the result\n",
    "print(\"Columns with missing values:\")\n",
    "print(missing_values_tr)\n",
    "print(\"\\nPercentage of missing values:\")\n",
    "print(missing_values_percentage)"
   ]
  },
  {
   "cell_type": "markdown",
   "id": "994f79b6",
   "metadata": {},
   "source": [
    "## Preliminary considerations: class imbalance\n",
    "First of all, for evaluating the model it is worth noticing, again, that the dataset is highly imbalanced. The plots below show this characteristic of the dataset, where the first plot shows the relative frequencies of the positions (labels) with all of the possible positions and the second one shows the relative frequencies once we take out from the dataset goalkeepers (which will not be included in the model training, as it is possible to make a perfect prediction for that class *GK* with any of the variables *pace, shooting, passing, dribbling, defending* or *physic*, where missing values here correspond to goalkeepers)."
   ]
  },
  {
   "cell_type": "markdown",
   "id": "917281ac",
   "metadata": {},
   "source": [
    "### Imbalancing in the training dataset"
   ]
  },
  {
   "cell_type": "code",
   "execution_count": 20,
   "id": "b5ec2f70",
   "metadata": {},
   "outputs": [
    {
     "data": {
      "application/vnd.plotly.v1+json": {
       "config": {
        "plotlyServerURL": "https://plot.ly"
       },
       "data": [
        {
         "alignmentgroup": "True",
         "hovertemplate": "Position=%{x}<br>Relative Frequency=%{y}<extra></extra>",
         "legendgroup": "",
         "marker": {
          "color": "#636efa",
          "pattern": {
           "shape": ""
          }
         },
         "name": "",
         "offsetgroup": "",
         "orientation": "v",
         "showlegend": false,
         "textposition": "auto",
         "type": "bar",
         "x": [
          "G_GK",
          "D_LCB",
          "D_RCB",
          "D_LB",
          "D_RB",
          "A_ST",
          "M_LCM",
          "M_RCM",
          "M_RM",
          "M_LM",
          "M_CAM",
          "M_LDM",
          "A_RS",
          "M_RDM",
          "A_LS",
          "D_CB",
          "A_LW",
          "A_RW",
          "M_CDM",
          "D_LWB",
          "D_RWB",
          "M_CM",
          "A_LF",
          "A_RF"
         ],
         "xaxis": "x",
         "y": [
          0.0915155910079768,
          0.0915155910079768,
          0.0915155910079768,
          0.06715010877447426,
          0.06715010877447426,
          0.06207396664249456,
          0.06134880348078318,
          0.06134880348078318,
          0.05351704133430022,
          0.05351704133430022,
          0.03814358230601885,
          0.02915155910079768,
          0.02915155910079768,
          0.02915155910079768,
          0.02915155910079768,
          0.024220449601160262,
          0.024075416968817983,
          0.024075416968817983,
          0.02189992748368383,
          0.01508339376359681,
          0.01508339376359681,
          0.010877447425670777,
          0.004641044234952864,
          0.004641044234952864
         ],
         "yaxis": "y"
        }
       ],
       "layout": {
        "barmode": "relative",
        "legend": {
         "tracegroupgap": 0
        },
        "template": {
         "data": {
          "bar": [
           {
            "error_x": {
             "color": "#2a3f5f"
            },
            "error_y": {
             "color": "#2a3f5f"
            },
            "marker": {
             "line": {
              "color": "#E5ECF6",
              "width": 0.5
             },
             "pattern": {
              "fillmode": "overlay",
              "size": 10,
              "solidity": 0.2
             }
            },
            "type": "bar"
           }
          ],
          "barpolar": [
           {
            "marker": {
             "line": {
              "color": "#E5ECF6",
              "width": 0.5
             },
             "pattern": {
              "fillmode": "overlay",
              "size": 10,
              "solidity": 0.2
             }
            },
            "type": "barpolar"
           }
          ],
          "carpet": [
           {
            "aaxis": {
             "endlinecolor": "#2a3f5f",
             "gridcolor": "white",
             "linecolor": "white",
             "minorgridcolor": "white",
             "startlinecolor": "#2a3f5f"
            },
            "baxis": {
             "endlinecolor": "#2a3f5f",
             "gridcolor": "white",
             "linecolor": "white",
             "minorgridcolor": "white",
             "startlinecolor": "#2a3f5f"
            },
            "type": "carpet"
           }
          ],
          "choropleth": [
           {
            "colorbar": {
             "outlinewidth": 0,
             "ticks": ""
            },
            "type": "choropleth"
           }
          ],
          "contour": [
           {
            "colorbar": {
             "outlinewidth": 0,
             "ticks": ""
            },
            "colorscale": [
             [
              0,
              "#0d0887"
             ],
             [
              0.1111111111111111,
              "#46039f"
             ],
             [
              0.2222222222222222,
              "#7201a8"
             ],
             [
              0.3333333333333333,
              "#9c179e"
             ],
             [
              0.4444444444444444,
              "#bd3786"
             ],
             [
              0.5555555555555556,
              "#d8576b"
             ],
             [
              0.6666666666666666,
              "#ed7953"
             ],
             [
              0.7777777777777778,
              "#fb9f3a"
             ],
             [
              0.8888888888888888,
              "#fdca26"
             ],
             [
              1,
              "#f0f921"
             ]
            ],
            "type": "contour"
           }
          ],
          "contourcarpet": [
           {
            "colorbar": {
             "outlinewidth": 0,
             "ticks": ""
            },
            "type": "contourcarpet"
           }
          ],
          "heatmap": [
           {
            "colorbar": {
             "outlinewidth": 0,
             "ticks": ""
            },
            "colorscale": [
             [
              0,
              "#0d0887"
             ],
             [
              0.1111111111111111,
              "#46039f"
             ],
             [
              0.2222222222222222,
              "#7201a8"
             ],
             [
              0.3333333333333333,
              "#9c179e"
             ],
             [
              0.4444444444444444,
              "#bd3786"
             ],
             [
              0.5555555555555556,
              "#d8576b"
             ],
             [
              0.6666666666666666,
              "#ed7953"
             ],
             [
              0.7777777777777778,
              "#fb9f3a"
             ],
             [
              0.8888888888888888,
              "#fdca26"
             ],
             [
              1,
              "#f0f921"
             ]
            ],
            "type": "heatmap"
           }
          ],
          "heatmapgl": [
           {
            "colorbar": {
             "outlinewidth": 0,
             "ticks": ""
            },
            "colorscale": [
             [
              0,
              "#0d0887"
             ],
             [
              0.1111111111111111,
              "#46039f"
             ],
             [
              0.2222222222222222,
              "#7201a8"
             ],
             [
              0.3333333333333333,
              "#9c179e"
             ],
             [
              0.4444444444444444,
              "#bd3786"
             ],
             [
              0.5555555555555556,
              "#d8576b"
             ],
             [
              0.6666666666666666,
              "#ed7953"
             ],
             [
              0.7777777777777778,
              "#fb9f3a"
             ],
             [
              0.8888888888888888,
              "#fdca26"
             ],
             [
              1,
              "#f0f921"
             ]
            ],
            "type": "heatmapgl"
           }
          ],
          "histogram": [
           {
            "marker": {
             "pattern": {
              "fillmode": "overlay",
              "size": 10,
              "solidity": 0.2
             }
            },
            "type": "histogram"
           }
          ],
          "histogram2d": [
           {
            "colorbar": {
             "outlinewidth": 0,
             "ticks": ""
            },
            "colorscale": [
             [
              0,
              "#0d0887"
             ],
             [
              0.1111111111111111,
              "#46039f"
             ],
             [
              0.2222222222222222,
              "#7201a8"
             ],
             [
              0.3333333333333333,
              "#9c179e"
             ],
             [
              0.4444444444444444,
              "#bd3786"
             ],
             [
              0.5555555555555556,
              "#d8576b"
             ],
             [
              0.6666666666666666,
              "#ed7953"
             ],
             [
              0.7777777777777778,
              "#fb9f3a"
             ],
             [
              0.8888888888888888,
              "#fdca26"
             ],
             [
              1,
              "#f0f921"
             ]
            ],
            "type": "histogram2d"
           }
          ],
          "histogram2dcontour": [
           {
            "colorbar": {
             "outlinewidth": 0,
             "ticks": ""
            },
            "colorscale": [
             [
              0,
              "#0d0887"
             ],
             [
              0.1111111111111111,
              "#46039f"
             ],
             [
              0.2222222222222222,
              "#7201a8"
             ],
             [
              0.3333333333333333,
              "#9c179e"
             ],
             [
              0.4444444444444444,
              "#bd3786"
             ],
             [
              0.5555555555555556,
              "#d8576b"
             ],
             [
              0.6666666666666666,
              "#ed7953"
             ],
             [
              0.7777777777777778,
              "#fb9f3a"
             ],
             [
              0.8888888888888888,
              "#fdca26"
             ],
             [
              1,
              "#f0f921"
             ]
            ],
            "type": "histogram2dcontour"
           }
          ],
          "mesh3d": [
           {
            "colorbar": {
             "outlinewidth": 0,
             "ticks": ""
            },
            "type": "mesh3d"
           }
          ],
          "parcoords": [
           {
            "line": {
             "colorbar": {
              "outlinewidth": 0,
              "ticks": ""
             }
            },
            "type": "parcoords"
           }
          ],
          "pie": [
           {
            "automargin": true,
            "type": "pie"
           }
          ],
          "scatter": [
           {
            "fillpattern": {
             "fillmode": "overlay",
             "size": 10,
             "solidity": 0.2
            },
            "type": "scatter"
           }
          ],
          "scatter3d": [
           {
            "line": {
             "colorbar": {
              "outlinewidth": 0,
              "ticks": ""
             }
            },
            "marker": {
             "colorbar": {
              "outlinewidth": 0,
              "ticks": ""
             }
            },
            "type": "scatter3d"
           }
          ],
          "scattercarpet": [
           {
            "marker": {
             "colorbar": {
              "outlinewidth": 0,
              "ticks": ""
             }
            },
            "type": "scattercarpet"
           }
          ],
          "scattergeo": [
           {
            "marker": {
             "colorbar": {
              "outlinewidth": 0,
              "ticks": ""
             }
            },
            "type": "scattergeo"
           }
          ],
          "scattergl": [
           {
            "marker": {
             "colorbar": {
              "outlinewidth": 0,
              "ticks": ""
             }
            },
            "type": "scattergl"
           }
          ],
          "scattermapbox": [
           {
            "marker": {
             "colorbar": {
              "outlinewidth": 0,
              "ticks": ""
             }
            },
            "type": "scattermapbox"
           }
          ],
          "scatterpolar": [
           {
            "marker": {
             "colorbar": {
              "outlinewidth": 0,
              "ticks": ""
             }
            },
            "type": "scatterpolar"
           }
          ],
          "scatterpolargl": [
           {
            "marker": {
             "colorbar": {
              "outlinewidth": 0,
              "ticks": ""
             }
            },
            "type": "scatterpolargl"
           }
          ],
          "scatterternary": [
           {
            "marker": {
             "colorbar": {
              "outlinewidth": 0,
              "ticks": ""
             }
            },
            "type": "scatterternary"
           }
          ],
          "surface": [
           {
            "colorbar": {
             "outlinewidth": 0,
             "ticks": ""
            },
            "colorscale": [
             [
              0,
              "#0d0887"
             ],
             [
              0.1111111111111111,
              "#46039f"
             ],
             [
              0.2222222222222222,
              "#7201a8"
             ],
             [
              0.3333333333333333,
              "#9c179e"
             ],
             [
              0.4444444444444444,
              "#bd3786"
             ],
             [
              0.5555555555555556,
              "#d8576b"
             ],
             [
              0.6666666666666666,
              "#ed7953"
             ],
             [
              0.7777777777777778,
              "#fb9f3a"
             ],
             [
              0.8888888888888888,
              "#fdca26"
             ],
             [
              1,
              "#f0f921"
             ]
            ],
            "type": "surface"
           }
          ],
          "table": [
           {
            "cells": {
             "fill": {
              "color": "#EBF0F8"
             },
             "line": {
              "color": "white"
             }
            },
            "header": {
             "fill": {
              "color": "#C8D4E3"
             },
             "line": {
              "color": "white"
             }
            },
            "type": "table"
           }
          ]
         },
         "layout": {
          "annotationdefaults": {
           "arrowcolor": "#2a3f5f",
           "arrowhead": 0,
           "arrowwidth": 1
          },
          "autotypenumbers": "strict",
          "coloraxis": {
           "colorbar": {
            "outlinewidth": 0,
            "ticks": ""
           }
          },
          "colorscale": {
           "diverging": [
            [
             0,
             "#8e0152"
            ],
            [
             0.1,
             "#c51b7d"
            ],
            [
             0.2,
             "#de77ae"
            ],
            [
             0.3,
             "#f1b6da"
            ],
            [
             0.4,
             "#fde0ef"
            ],
            [
             0.5,
             "#f7f7f7"
            ],
            [
             0.6,
             "#e6f5d0"
            ],
            [
             0.7,
             "#b8e186"
            ],
            [
             0.8,
             "#7fbc41"
            ],
            [
             0.9,
             "#4d9221"
            ],
            [
             1,
             "#276419"
            ]
           ],
           "sequential": [
            [
             0,
             "#0d0887"
            ],
            [
             0.1111111111111111,
             "#46039f"
            ],
            [
             0.2222222222222222,
             "#7201a8"
            ],
            [
             0.3333333333333333,
             "#9c179e"
            ],
            [
             0.4444444444444444,
             "#bd3786"
            ],
            [
             0.5555555555555556,
             "#d8576b"
            ],
            [
             0.6666666666666666,
             "#ed7953"
            ],
            [
             0.7777777777777778,
             "#fb9f3a"
            ],
            [
             0.8888888888888888,
             "#fdca26"
            ],
            [
             1,
             "#f0f921"
            ]
           ],
           "sequentialminus": [
            [
             0,
             "#0d0887"
            ],
            [
             0.1111111111111111,
             "#46039f"
            ],
            [
             0.2222222222222222,
             "#7201a8"
            ],
            [
             0.3333333333333333,
             "#9c179e"
            ],
            [
             0.4444444444444444,
             "#bd3786"
            ],
            [
             0.5555555555555556,
             "#d8576b"
            ],
            [
             0.6666666666666666,
             "#ed7953"
            ],
            [
             0.7777777777777778,
             "#fb9f3a"
            ],
            [
             0.8888888888888888,
             "#fdca26"
            ],
            [
             1,
             "#f0f921"
            ]
           ]
          },
          "colorway": [
           "#636efa",
           "#EF553B",
           "#00cc96",
           "#ab63fa",
           "#FFA15A",
           "#19d3f3",
           "#FF6692",
           "#B6E880",
           "#FF97FF",
           "#FECB52"
          ],
          "font": {
           "color": "#2a3f5f"
          },
          "geo": {
           "bgcolor": "white",
           "lakecolor": "white",
           "landcolor": "#E5ECF6",
           "showlakes": true,
           "showland": true,
           "subunitcolor": "white"
          },
          "hoverlabel": {
           "align": "left"
          },
          "hovermode": "closest",
          "mapbox": {
           "style": "light"
          },
          "paper_bgcolor": "white",
          "plot_bgcolor": "#E5ECF6",
          "polar": {
           "angularaxis": {
            "gridcolor": "white",
            "linecolor": "white",
            "ticks": ""
           },
           "bgcolor": "#E5ECF6",
           "radialaxis": {
            "gridcolor": "white",
            "linecolor": "white",
            "ticks": ""
           }
          },
          "scene": {
           "xaxis": {
            "backgroundcolor": "#E5ECF6",
            "gridcolor": "white",
            "gridwidth": 2,
            "linecolor": "white",
            "showbackground": true,
            "ticks": "",
            "zerolinecolor": "white"
           },
           "yaxis": {
            "backgroundcolor": "#E5ECF6",
            "gridcolor": "white",
            "gridwidth": 2,
            "linecolor": "white",
            "showbackground": true,
            "ticks": "",
            "zerolinecolor": "white"
           },
           "zaxis": {
            "backgroundcolor": "#E5ECF6",
            "gridcolor": "white",
            "gridwidth": 2,
            "linecolor": "white",
            "showbackground": true,
            "ticks": "",
            "zerolinecolor": "white"
           }
          },
          "shapedefaults": {
           "line": {
            "color": "#2a3f5f"
           }
          },
          "ternary": {
           "aaxis": {
            "gridcolor": "white",
            "linecolor": "white",
            "ticks": ""
           },
           "baxis": {
            "gridcolor": "white",
            "linecolor": "white",
            "ticks": ""
           },
           "bgcolor": "#E5ECF6",
           "caxis": {
            "gridcolor": "white",
            "linecolor": "white",
            "ticks": ""
           }
          },
          "title": {
           "x": 0.05
          },
          "xaxis": {
           "automargin": true,
           "gridcolor": "white",
           "linecolor": "white",
           "ticks": "",
           "title": {
            "standoff": 15
           },
           "zerolinecolor": "white",
           "zerolinewidth": 2
          },
          "yaxis": {
           "automargin": true,
           "gridcolor": "white",
           "linecolor": "white",
           "ticks": "",
           "title": {
            "standoff": 15
           },
           "zerolinecolor": "white",
           "zerolinewidth": 2
          }
         }
        },
        "title": {
         "text": "Relative Frequency Barplot of the variable Position"
        },
        "xaxis": {
         "anchor": "y",
         "domain": [
          0,
          1
         ],
         "title": {
          "text": "Position"
         }
        },
        "yaxis": {
         "anchor": "x",
         "domain": [
          0,
          1
         ],
         "title": {
          "text": "Relative Frequency"
         }
        }
       }
      }
     },
     "metadata": {},
     "output_type": "display_data"
    }
   ],
   "source": [
    "# We save the relative frequencies of the 'position_grouped' column\n",
    "relative_freq = dfv1['position_grouped'].value_counts(normalize=True).reset_index()\n",
    "\n",
    "# We change the naming of the columns\n",
    "relative_freq.columns = ['Position', 'Relative Frequency']\n",
    "\n",
    "# Create a bar plot with Plotly\n",
    "fig = px.bar(relative_freq, x='Position', y='Relative Frequency',\n",
    "                title=f'Relative Frequency Barplot of the variable Position')\n",
    "\n",
    "# Show the plot\n",
    "fig.show()"
   ]
  },
  {
   "cell_type": "code",
   "execution_count": 21,
   "id": "bd5c7b89",
   "metadata": {},
   "outputs": [
    {
     "data": {
      "application/vnd.plotly.v1+json": {
       "config": {
        "plotlyServerURL": "https://plot.ly"
       },
       "data": [
        {
         "alignmentgroup": "True",
         "hovertemplate": "Position=%{x}<br>Relative Frequency=%{y}<extra></extra>",
         "legendgroup": "",
         "marker": {
          "color": "#636efa",
          "pattern": {
           "shape": ""
          }
         },
         "name": "",
         "offsetgroup": "",
         "orientation": "v",
         "showlegend": false,
         "textposition": "auto",
         "type": "bar",
         "x": [
          "D_LCB",
          "D_RCB",
          "D_LB",
          "D_RB",
          "A_ST",
          "M_LCM",
          "M_RCM",
          "M_RM",
          "M_LM",
          "M_CAM",
          "A_LS",
          "A_RS",
          "M_RDM",
          "M_LDM",
          "D_CB",
          "A_LW",
          "A_RW",
          "M_CDM",
          "D_LWB",
          "D_RWB",
          "M_CM",
          "A_LF",
          "A_RF"
         ],
         "xaxis": "x",
         "y": [
          0.10073435504469987,
          0.10073435504469987,
          0.07391443167305237,
          0.07391443167305237,
          0.06832694763729247,
          0.06752873563218391,
          0.06752873563218391,
          0.05890804597701149,
          0.05890804597701149,
          0.04198595146871009,
          0.032088122605363985,
          0.032088122605363985,
          0.032088122605363985,
          0.032088122605363985,
          0.026660280970625796,
          0.026500638569604086,
          0.026500638569604086,
          0.024106002554278416,
          0.016602809706257982,
          0.016602809706257982,
          0.011973180076628353,
          0.005108556832694764,
          0.005108556832694764
         ],
         "yaxis": "y"
        }
       ],
       "layout": {
        "barmode": "relative",
        "legend": {
         "tracegroupgap": 0
        },
        "template": {
         "data": {
          "bar": [
           {
            "error_x": {
             "color": "#2a3f5f"
            },
            "error_y": {
             "color": "#2a3f5f"
            },
            "marker": {
             "line": {
              "color": "#E5ECF6",
              "width": 0.5
             },
             "pattern": {
              "fillmode": "overlay",
              "size": 10,
              "solidity": 0.2
             }
            },
            "type": "bar"
           }
          ],
          "barpolar": [
           {
            "marker": {
             "line": {
              "color": "#E5ECF6",
              "width": 0.5
             },
             "pattern": {
              "fillmode": "overlay",
              "size": 10,
              "solidity": 0.2
             }
            },
            "type": "barpolar"
           }
          ],
          "carpet": [
           {
            "aaxis": {
             "endlinecolor": "#2a3f5f",
             "gridcolor": "white",
             "linecolor": "white",
             "minorgridcolor": "white",
             "startlinecolor": "#2a3f5f"
            },
            "baxis": {
             "endlinecolor": "#2a3f5f",
             "gridcolor": "white",
             "linecolor": "white",
             "minorgridcolor": "white",
             "startlinecolor": "#2a3f5f"
            },
            "type": "carpet"
           }
          ],
          "choropleth": [
           {
            "colorbar": {
             "outlinewidth": 0,
             "ticks": ""
            },
            "type": "choropleth"
           }
          ],
          "contour": [
           {
            "colorbar": {
             "outlinewidth": 0,
             "ticks": ""
            },
            "colorscale": [
             [
              0,
              "#0d0887"
             ],
             [
              0.1111111111111111,
              "#46039f"
             ],
             [
              0.2222222222222222,
              "#7201a8"
             ],
             [
              0.3333333333333333,
              "#9c179e"
             ],
             [
              0.4444444444444444,
              "#bd3786"
             ],
             [
              0.5555555555555556,
              "#d8576b"
             ],
             [
              0.6666666666666666,
              "#ed7953"
             ],
             [
              0.7777777777777778,
              "#fb9f3a"
             ],
             [
              0.8888888888888888,
              "#fdca26"
             ],
             [
              1,
              "#f0f921"
             ]
            ],
            "type": "contour"
           }
          ],
          "contourcarpet": [
           {
            "colorbar": {
             "outlinewidth": 0,
             "ticks": ""
            },
            "type": "contourcarpet"
           }
          ],
          "heatmap": [
           {
            "colorbar": {
             "outlinewidth": 0,
             "ticks": ""
            },
            "colorscale": [
             [
              0,
              "#0d0887"
             ],
             [
              0.1111111111111111,
              "#46039f"
             ],
             [
              0.2222222222222222,
              "#7201a8"
             ],
             [
              0.3333333333333333,
              "#9c179e"
             ],
             [
              0.4444444444444444,
              "#bd3786"
             ],
             [
              0.5555555555555556,
              "#d8576b"
             ],
             [
              0.6666666666666666,
              "#ed7953"
             ],
             [
              0.7777777777777778,
              "#fb9f3a"
             ],
             [
              0.8888888888888888,
              "#fdca26"
             ],
             [
              1,
              "#f0f921"
             ]
            ],
            "type": "heatmap"
           }
          ],
          "heatmapgl": [
           {
            "colorbar": {
             "outlinewidth": 0,
             "ticks": ""
            },
            "colorscale": [
             [
              0,
              "#0d0887"
             ],
             [
              0.1111111111111111,
              "#46039f"
             ],
             [
              0.2222222222222222,
              "#7201a8"
             ],
             [
              0.3333333333333333,
              "#9c179e"
             ],
             [
              0.4444444444444444,
              "#bd3786"
             ],
             [
              0.5555555555555556,
              "#d8576b"
             ],
             [
              0.6666666666666666,
              "#ed7953"
             ],
             [
              0.7777777777777778,
              "#fb9f3a"
             ],
             [
              0.8888888888888888,
              "#fdca26"
             ],
             [
              1,
              "#f0f921"
             ]
            ],
            "type": "heatmapgl"
           }
          ],
          "histogram": [
           {
            "marker": {
             "pattern": {
              "fillmode": "overlay",
              "size": 10,
              "solidity": 0.2
             }
            },
            "type": "histogram"
           }
          ],
          "histogram2d": [
           {
            "colorbar": {
             "outlinewidth": 0,
             "ticks": ""
            },
            "colorscale": [
             [
              0,
              "#0d0887"
             ],
             [
              0.1111111111111111,
              "#46039f"
             ],
             [
              0.2222222222222222,
              "#7201a8"
             ],
             [
              0.3333333333333333,
              "#9c179e"
             ],
             [
              0.4444444444444444,
              "#bd3786"
             ],
             [
              0.5555555555555556,
              "#d8576b"
             ],
             [
              0.6666666666666666,
              "#ed7953"
             ],
             [
              0.7777777777777778,
              "#fb9f3a"
             ],
             [
              0.8888888888888888,
              "#fdca26"
             ],
             [
              1,
              "#f0f921"
             ]
            ],
            "type": "histogram2d"
           }
          ],
          "histogram2dcontour": [
           {
            "colorbar": {
             "outlinewidth": 0,
             "ticks": ""
            },
            "colorscale": [
             [
              0,
              "#0d0887"
             ],
             [
              0.1111111111111111,
              "#46039f"
             ],
             [
              0.2222222222222222,
              "#7201a8"
             ],
             [
              0.3333333333333333,
              "#9c179e"
             ],
             [
              0.4444444444444444,
              "#bd3786"
             ],
             [
              0.5555555555555556,
              "#d8576b"
             ],
             [
              0.6666666666666666,
              "#ed7953"
             ],
             [
              0.7777777777777778,
              "#fb9f3a"
             ],
             [
              0.8888888888888888,
              "#fdca26"
             ],
             [
              1,
              "#f0f921"
             ]
            ],
            "type": "histogram2dcontour"
           }
          ],
          "mesh3d": [
           {
            "colorbar": {
             "outlinewidth": 0,
             "ticks": ""
            },
            "type": "mesh3d"
           }
          ],
          "parcoords": [
           {
            "line": {
             "colorbar": {
              "outlinewidth": 0,
              "ticks": ""
             }
            },
            "type": "parcoords"
           }
          ],
          "pie": [
           {
            "automargin": true,
            "type": "pie"
           }
          ],
          "scatter": [
           {
            "fillpattern": {
             "fillmode": "overlay",
             "size": 10,
             "solidity": 0.2
            },
            "type": "scatter"
           }
          ],
          "scatter3d": [
           {
            "line": {
             "colorbar": {
              "outlinewidth": 0,
              "ticks": ""
             }
            },
            "marker": {
             "colorbar": {
              "outlinewidth": 0,
              "ticks": ""
             }
            },
            "type": "scatter3d"
           }
          ],
          "scattercarpet": [
           {
            "marker": {
             "colorbar": {
              "outlinewidth": 0,
              "ticks": ""
             }
            },
            "type": "scattercarpet"
           }
          ],
          "scattergeo": [
           {
            "marker": {
             "colorbar": {
              "outlinewidth": 0,
              "ticks": ""
             }
            },
            "type": "scattergeo"
           }
          ],
          "scattergl": [
           {
            "marker": {
             "colorbar": {
              "outlinewidth": 0,
              "ticks": ""
             }
            },
            "type": "scattergl"
           }
          ],
          "scattermapbox": [
           {
            "marker": {
             "colorbar": {
              "outlinewidth": 0,
              "ticks": ""
             }
            },
            "type": "scattermapbox"
           }
          ],
          "scatterpolar": [
           {
            "marker": {
             "colorbar": {
              "outlinewidth": 0,
              "ticks": ""
             }
            },
            "type": "scatterpolar"
           }
          ],
          "scatterpolargl": [
           {
            "marker": {
             "colorbar": {
              "outlinewidth": 0,
              "ticks": ""
             }
            },
            "type": "scatterpolargl"
           }
          ],
          "scatterternary": [
           {
            "marker": {
             "colorbar": {
              "outlinewidth": 0,
              "ticks": ""
             }
            },
            "type": "scatterternary"
           }
          ],
          "surface": [
           {
            "colorbar": {
             "outlinewidth": 0,
             "ticks": ""
            },
            "colorscale": [
             [
              0,
              "#0d0887"
             ],
             [
              0.1111111111111111,
              "#46039f"
             ],
             [
              0.2222222222222222,
              "#7201a8"
             ],
             [
              0.3333333333333333,
              "#9c179e"
             ],
             [
              0.4444444444444444,
              "#bd3786"
             ],
             [
              0.5555555555555556,
              "#d8576b"
             ],
             [
              0.6666666666666666,
              "#ed7953"
             ],
             [
              0.7777777777777778,
              "#fb9f3a"
             ],
             [
              0.8888888888888888,
              "#fdca26"
             ],
             [
              1,
              "#f0f921"
             ]
            ],
            "type": "surface"
           }
          ],
          "table": [
           {
            "cells": {
             "fill": {
              "color": "#EBF0F8"
             },
             "line": {
              "color": "white"
             }
            },
            "header": {
             "fill": {
              "color": "#C8D4E3"
             },
             "line": {
              "color": "white"
             }
            },
            "type": "table"
           }
          ]
         },
         "layout": {
          "annotationdefaults": {
           "arrowcolor": "#2a3f5f",
           "arrowhead": 0,
           "arrowwidth": 1
          },
          "autotypenumbers": "strict",
          "coloraxis": {
           "colorbar": {
            "outlinewidth": 0,
            "ticks": ""
           }
          },
          "colorscale": {
           "diverging": [
            [
             0,
             "#8e0152"
            ],
            [
             0.1,
             "#c51b7d"
            ],
            [
             0.2,
             "#de77ae"
            ],
            [
             0.3,
             "#f1b6da"
            ],
            [
             0.4,
             "#fde0ef"
            ],
            [
             0.5,
             "#f7f7f7"
            ],
            [
             0.6,
             "#e6f5d0"
            ],
            [
             0.7,
             "#b8e186"
            ],
            [
             0.8,
             "#7fbc41"
            ],
            [
             0.9,
             "#4d9221"
            ],
            [
             1,
             "#276419"
            ]
           ],
           "sequential": [
            [
             0,
             "#0d0887"
            ],
            [
             0.1111111111111111,
             "#46039f"
            ],
            [
             0.2222222222222222,
             "#7201a8"
            ],
            [
             0.3333333333333333,
             "#9c179e"
            ],
            [
             0.4444444444444444,
             "#bd3786"
            ],
            [
             0.5555555555555556,
             "#d8576b"
            ],
            [
             0.6666666666666666,
             "#ed7953"
            ],
            [
             0.7777777777777778,
             "#fb9f3a"
            ],
            [
             0.8888888888888888,
             "#fdca26"
            ],
            [
             1,
             "#f0f921"
            ]
           ],
           "sequentialminus": [
            [
             0,
             "#0d0887"
            ],
            [
             0.1111111111111111,
             "#46039f"
            ],
            [
             0.2222222222222222,
             "#7201a8"
            ],
            [
             0.3333333333333333,
             "#9c179e"
            ],
            [
             0.4444444444444444,
             "#bd3786"
            ],
            [
             0.5555555555555556,
             "#d8576b"
            ],
            [
             0.6666666666666666,
             "#ed7953"
            ],
            [
             0.7777777777777778,
             "#fb9f3a"
            ],
            [
             0.8888888888888888,
             "#fdca26"
            ],
            [
             1,
             "#f0f921"
            ]
           ]
          },
          "colorway": [
           "#636efa",
           "#EF553B",
           "#00cc96",
           "#ab63fa",
           "#FFA15A",
           "#19d3f3",
           "#FF6692",
           "#B6E880",
           "#FF97FF",
           "#FECB52"
          ],
          "font": {
           "color": "#2a3f5f"
          },
          "geo": {
           "bgcolor": "white",
           "lakecolor": "white",
           "landcolor": "#E5ECF6",
           "showlakes": true,
           "showland": true,
           "subunitcolor": "white"
          },
          "hoverlabel": {
           "align": "left"
          },
          "hovermode": "closest",
          "mapbox": {
           "style": "light"
          },
          "paper_bgcolor": "white",
          "plot_bgcolor": "#E5ECF6",
          "polar": {
           "angularaxis": {
            "gridcolor": "white",
            "linecolor": "white",
            "ticks": ""
           },
           "bgcolor": "#E5ECF6",
           "radialaxis": {
            "gridcolor": "white",
            "linecolor": "white",
            "ticks": ""
           }
          },
          "scene": {
           "xaxis": {
            "backgroundcolor": "#E5ECF6",
            "gridcolor": "white",
            "gridwidth": 2,
            "linecolor": "white",
            "showbackground": true,
            "ticks": "",
            "zerolinecolor": "white"
           },
           "yaxis": {
            "backgroundcolor": "#E5ECF6",
            "gridcolor": "white",
            "gridwidth": 2,
            "linecolor": "white",
            "showbackground": true,
            "ticks": "",
            "zerolinecolor": "white"
           },
           "zaxis": {
            "backgroundcolor": "#E5ECF6",
            "gridcolor": "white",
            "gridwidth": 2,
            "linecolor": "white",
            "showbackground": true,
            "ticks": "",
            "zerolinecolor": "white"
           }
          },
          "shapedefaults": {
           "line": {
            "color": "#2a3f5f"
           }
          },
          "ternary": {
           "aaxis": {
            "gridcolor": "white",
            "linecolor": "white",
            "ticks": ""
           },
           "baxis": {
            "gridcolor": "white",
            "linecolor": "white",
            "ticks": ""
           },
           "bgcolor": "#E5ECF6",
           "caxis": {
            "gridcolor": "white",
            "linecolor": "white",
            "ticks": ""
           }
          },
          "title": {
           "x": 0.05
          },
          "xaxis": {
           "automargin": true,
           "gridcolor": "white",
           "linecolor": "white",
           "ticks": "",
           "title": {
            "standoff": 15
           },
           "zerolinecolor": "white",
           "zerolinewidth": 2
          },
          "yaxis": {
           "automargin": true,
           "gridcolor": "white",
           "linecolor": "white",
           "ticks": "",
           "title": {
            "standoff": 15
           },
           "zerolinecolor": "white",
           "zerolinewidth": 2
          }
         }
        },
        "title": {
         "text": "Relative Frequency Barplot of the variable Position (leaving out goalkeepers)"
        },
        "xaxis": {
         "anchor": "y",
         "domain": [
          0,
          1
         ],
         "title": {
          "text": "Position"
         }
        },
        "yaxis": {
         "anchor": "x",
         "domain": [
          0,
          1
         ],
         "title": {
          "text": "Relative Frequency"
         }
        }
       }
      }
     },
     "metadata": {},
     "output_type": "display_data"
    }
   ],
   "source": [
    "# Now, we leave out the goalkeeper class\n",
    "dfv1_nogk = dfv1[dfv1['position'] != 'GK']\n",
    "\n",
    "# We save the relative frequencies of the 'position_grouped' column\n",
    "relative_freq = dfv1_nogk['position_grouped'].value_counts(normalize=True).reset_index()\n",
    "\n",
    "# We change the naming of the columns\n",
    "relative_freq.columns = ['Position', 'Relative Frequency']\n",
    "\n",
    "# Create a bar plot with Plotly\n",
    "fig = px.bar(relative_freq, x='Position', y='Relative Frequency',\n",
    "                title=f'Relative Frequency Barplot of the variable Position (leaving out goalkeepers)')\n",
    "\n",
    "# Show the plot\n",
    "fig.show()"
   ]
  },
  {
   "cell_type": "code",
   "execution_count": 34,
   "id": "d1db17a6",
   "metadata": {},
   "outputs": [
    {
     "name": "stdout",
     "output_type": "stream",
     "text": [
      "Columns with missing values:\n",
      "value_eur               2\n",
      "release_clause_eur    320\n",
      "dtype: int64\n",
      "\n",
      "Percentage of missing values:\n",
      "value_eur             0.031928\n",
      "release_clause_eur    5.108557\n",
      "dtype: float64\n"
     ]
    }
   ],
   "source": [
    "# Count of null values per column\n",
    "dfv1_nogk_na = dfv1_nogk.isnull().sum()\n",
    "\n",
    "# Filter only columns with missing values\n",
    "missing_values_tr = dfv1_nogk_na[dfv1_nogk_na > 0]\n",
    "\n",
    "# Compute percentage of missing values\n",
    "missing_values_percentage = (missing_values_tr / len(dfv1_nogk)) * 100\n",
    "\n",
    "# Display the result\n",
    "print(\"Columns with missing values:\")\n",
    "print(missing_values_tr)\n",
    "print(\"\\nPercentage of missing values:\")\n",
    "print(missing_values_percentage)"
   ]
  },
  {
   "cell_type": "markdown",
   "id": "22cdc2c0",
   "metadata": {},
   "source": [
    "### Insights"
   ]
  },
  {
   "cell_type": "markdown",
   "id": "fb5abb19",
   "metadata": {},
   "source": [
    "It can be observed that there are some classes that are highly overrepresented (especially LCB and RCB, which add up to 20% of the observations in the training dataset). In this context, then, some considerations must be made for the training, evaluation and prediction with this type of dataset:\n",
    "- **Metric trap**: \"Relying on simplistic metrics like accuracy_score can lead to misleading results. In datasets where classes are highly imbalanced, if a classifier consistently predicts the most prevalent class without considering any feature analysis, it can achieve a high accuracy rate [or any other performance measure] that is clearly deceptive.\"\n",
    "- **Solutions for addressing the problem of imbalanced datasets**:\n",
    "    - *Possible solution to metric trap: confusion matrix*. Given that we have to predict for different classes, maybe it would also be possible to compute the performance metric (such as the F1-score) for each position (or groups of positions), in order to have a more complete picture of the predictive power of the model.\n",
    "    - *Resampling methodologies*. Mainly, oversampling the underrepresented classes and/or undersampling the majority classes through random resampling (\"often with replacement\"). See application in notebook 9 from class. Limitations:\n",
    "        - \"Over-sampling, for instance, can lead to overfitting when the minority class is duplicated indiscriminately.\"\n",
    "        - \"Under-sampling, which involves randomly removing records from the majority class, can result in information loss.\"\n",
    "        - Alternative: SMOTE (Synthetic Minority Over-Sampling Technique). \"It helps balance class distribution and reduce the impact of class imbalance on classification models.\" The limitation, of course, is that synthetic observations may not be accurate representations of their real counterparts. See section 1.3.2. of the notebook 9 from class.\n",
    "- Finally, the models that are implemented below should apply **multiclass algorithms** (as, in this case, we do not have a binary classification problem). "
   ]
  },
  {
   "cell_type": "markdown",
   "id": "6361e1ee",
   "metadata": {},
   "source": [
    "# 3. Feature selection and evaluation\n",
    "Things to do in this section:\n",
    "1. **Split** the data.\n",
    "2. Impute **missing values** (if there is no listwise deletion).\n",
    "3. Clean **outliers** (imputation or deletion).\n",
    "4. **Standardization** of numerical variables (needed by KNN and for feature selection with logistic regression). Apply same standardization to validation data. No further transformations will be needed if categorical variables have been OHE or encoded in some other way.\n",
    "5. Deal with **class imbalancing** for the training data (from `imblearn` - `over_sampling`, `under_sampling`, import `RandomUnderSampler`, `RandomOverSampler` and `SMOTE`).\n",
    "6. **Hyperparameter tuning** (grid search or randomized search - `RandomizedSearchCV`).\n",
    "7. Evaluate model through **cross-validation** (considering class imbalancing, stratified cross-validation is probably the best option).\n",
    "8. Rank models with **evaluation metrics** (mainly: precision, recall, F1-score and AUC).\n",
    "9. After finding the best-performing model (in this case, guided by the best F1-score), train the best model with the whole training dataset and the optimal hyperparameters.\n",
    "\n",
    "How and when to apply resampling methodologies:\n",
    "- Resampling methodologies should be applied after the train-validation split.\n",
    "- Explanation:\n",
    "    - Avoid information leakage: Resampling before splitting can cause synthetic data (oversampling) or missing data (undersampling) from the same original observations to appear in both train and validation sets. This results in overly optimistic validation performance.\n",
    "    - True model evaluation: Resampling alters the class distribution, which should only affect the training data. The validation set should reflect the original distribution for an accurate evaluation of how the model would perform in the real world.\n",
    "- Process:\n",
    "    - Split the data into training and validation sets.\n",
    "    - Preprocessing and feature engineering (so cleaning missing values, outliers and standardizing come BEFORE the application of resampling techniques, which can be affected if these transformations are not applied before). Concretely, the application of SMOTE would be biased if numerical features are not scaled beforehand.\n",
    "    - Apply resampling techniques (oversampling, undersampling, or SMOTE) only on the training set.\n",
    "    - Train the model on the resampled training set.\n",
    "    - Evaluate the model on the original, untouched validation set.\n",
    "\n",
    "Stratified cross-validation and resampling. Does it make sense to apply both of them?\n",
    "- Without Resampling: Stratified cross-validation is ideal for imbalanced datasets because it ensures that each fold maintains the same class distribution as the original dataset.\n",
    "- With Resampling: Stratification is less relevant because the class distribution in the training folds will be altered by resampling. However, you can still use stratified cross-validation on the unresampled validation set to evaluate the model. The goal here is to maintain the real-world class distribution in the validation set while resampling the training data within each fold.\n",
    "- Suggested Strategy:\n",
    "    - Use stratified splits for train-validation splitting.\n",
    "    - Apply resampling within the training folds during each iteration of cross-validation."
   ]
  },
  {
   "cell_type": "markdown",
   "id": "f54e48ee",
   "metadata": {},
   "source": [
    "## Baseline models\n",
    "Below, we train and evaluate some baseline models, with and without resampling methodologies, in order to get an initial grasp of which model may have a higher predictive power and whether dealing with class imbalancing is worth the effort or not considering the performance metric that matters the most in this case (the F1-score).\n",
    "\n",
    "In the models below, we:\n",
    "1. **Split** the data.\n",
    "2. Impute **missing values** with a simple imputer (median).\n",
    "3. Don't do anything to **outliers**.\n",
    "4. **Standardization** numerical variables for KNN and logistic regression. Apply same standardization to validation data.\n",
    "5. (Not applied for the first baseline models, applied in the second) Deal with **class imbalancing** for the training data (from `imblearn` - `over_sampling`, `under_sampling`, import `RandomUnderSampler`, `RandomOverSampler` and `SMOTE`).\n",
    "6. **Hyperparameter tuning** (randomized search - `RandomizedSearchCV`).\n",
    "7. Evaluate model through **stratified cross-validation**.\n",
    "8. Rank models with **evaluation metrics** (mainly: F1-score).\n",
    "\n",
    "All of the models below have been trained with the same features, where we discard those which we have seen that do not have much predictive power or that are highly correlated with other features (so that they are not expected to add much predictive power). The main reasons for this choice are the correlation matrix from the EDA, the boxplots from EDA and preprocessing and the heatmaps of deviations for categorical variables, which have been used here as **filtering methods**. Specifically, we have excluded:"
   ]
  },
  {
   "cell_type": "markdown",
   "id": "081651ca",
   "metadata": {},
   "source": [
    "### Feature selection (lists of features)\n",
    "**NUMERICAL VARIABLES**:\n",
    "- *overall, potential*, as they do not have much predictive power.\n",
    "- *wage_eur* is not expected to have a high predictive power. On the other hand, *release_clause_eur* has a linear correlation of 1 with *value_eur*, so the first is discarded.\n",
    "- Attacking variables (2/5 removed):\n",
    "    - *attacking_short_passing* is highly correlated with *attacking_crossing* (0.78), and the former has less predictive power than the latter. Thus, the first will not be included.\n",
    "    - By the same reason, *attacking_volleys* (with a correlation of 0.89 with *attacking_finishing*) won't be included either.\n",
    "- Skill variables (3/5 removed):\n",
    "    - *skill_dribbling, skill_fk_accuracy* and *skill_ball_control* are removed due to their high correlation with *skill_curve* and because they have similar variability across positions.\n",
    "    - *skill_long_passing* shows different variability, so it is kept.\n",
    "- Movement variables (4/5 removed):\n",
    "    - *movement_sprint_speed*, *movement_agility* and *movement_balance* are removed, due to their very high correlation with *movement_acceleration* and similar variability (though *movement_balance* has a correlation of \"only\" 0.71).\n",
    "    - *movement_reactions* is also removed due to an apparently low predictive power.\n",
    "- Power variables (3/5 removed):\n",
    "    - *power_shot_power* is removed, due to the high correlation (0.8) and similar variability to *power_long_shots* (which seems to have higher variability).\n",
    "    - *power_stamina* is also removed, since it does not have significant variability across non-GK positions.\n",
    "    - *power_jumping* exhibits very similar variability across positions to *power_strenght*, but the latter seems more discriminatory. Therefore, the former is dropped.\n",
    "- Mentality variables (3/5 removed):\n",
    "    - *mentality_aggression* is highly correlated with *mentality_interceptions* and shows similar variability across positions (but with less apparent discriminatory power), so the first is dropped. \n",
    "    - *mentality_positioning* and *mentality_vision* are highly correlated with *mentality_penalties* and have similar variability across positions, so the first two are removed.\n",
    "    - *mentality_composture* does not exhibit significant variability, so it is removed.\n",
    "- Defending features (2/3 removed): all defending features are very highly correlated (> 0.9), so we only keep the one with the highest apparent discriminatory power, *defending_marking_awareness*.\n",
    "- *pace*, *shooting*, *passing*, *dribbling* and *defending* are all kept.\n",
    "\n",
    "**CATEGORICAL VARIABLES**:\n",
    "- Excluded all features which are not expected to have a high predictive power: *club_contract_valid_until*, *league_level*, *club_jersey_number*, *short_name*, *club_name*, *nationality_name*, *league_country*, *real_face*.\n",
    "- It is also important to remember to drop one dummy for KNN and logistic regression (but it is better to keep it for the decision tree)."
   ]
  },
  {
   "cell_type": "code",
   "execution_count": 17,
   "id": "0c22b964",
   "metadata": {},
   "outputs": [],
   "source": [
    "# List of numerical features (22 in total)\n",
    "numerical_features = [\n",
    "    'height_cm', 'weight_kg',\n",
    "    'attacking_crossing', 'attacking_finishing', 'attacking_heading_accuracy',\n",
    "    'skill_curve', 'skill_long_passing','movement_acceleration', 'power_strength', 'power_long_shots',\n",
    "    'mentality_interceptions', 'mentality_penalties', 'defending_marking_awareness', \n",
    "    'value_eur', 'pace', 'shooting', 'passing', 'dribbling', 'defending', \n",
    "    'physic', 'age', 'height_weight_ratio'\n",
    "]\n",
    "\n",
    "# List of categorical ordinal features (3 in total)\n",
    "categorical_ordinal_features = [\n",
    "    'weak_foot', 'skill_moves', 'international_reputation'\n",
    "]\n",
    "\n",
    "# List of categorical nominal features (11 in total)\n",
    "categorical_nominal_features_all_dummies = [\n",
    "    'preferred_foot_Right',\t\n",
    "    'preferred_foot_Left', 'work_rate_High/High', 'work_rate_High/Low', 'work_rate_High/Medium',\n",
    "    'work_rate_Low/High', 'work_rate_Low/Low', 'work_rate_Low/Medium',\n",
    "    'work_rate_Medium/High', 'work_rate_Medium/Low',\n",
    "    'work_rate_Medium/Medium'\n",
    "]\n",
    "\n",
    "# List of categorical nominal features (9 in total)\n",
    "categorical_nominal_features = [\n",
    "    'preferred_foot_Right',\t'work_rate_High/Low', 'work_rate_High/Medium',\n",
    "    'work_rate_Low/High', 'work_rate_Low/Low', 'work_rate_Low/Medium',\n",
    "    'work_rate_Medium/High', 'work_rate_Medium/Low',\n",
    "    'work_rate_Medium/Medium'\n",
    "]\n",
    "\n",
    "# Complete list of categorical features (with all dummies, for decision trees) (36 features)\n",
    "categorical_features_all_dummies = categorical_nominal_features_all_dummies + categorical_ordinal_features\n",
    "\n",
    "# Complete list of categorical features (with k-1 dummies, for KNN and logistic regresion) (34 features)\n",
    "categorical_features = categorical_nominal_features + categorical_ordinal_features"
   ]
  },
  {
   "cell_type": "markdown",
   "id": "c54c81d4",
   "metadata": {},
   "source": [
    "### General training function"
   ]
  },
  {
   "cell_type": "code",
   "execution_count": 15,
   "id": "f2f77f77",
   "metadata": {},
   "outputs": [],
   "source": [
    "def baseline_models(\n",
    "        df: pd.DataFrame, numerical_features: list[str], categorical_features: list[str], \n",
    "        model, target: str, n_hyper_comb: int = 10, n_folds: int = 5, num_imputer: str = \"median\",\n",
    "        goalkeeper_label: str = \"GK\"\n",
    "):\n",
    "    \n",
    "    \"\"\"\n",
    "    Function to evaluate baseline machine learning models (Logistic Regression, K-Nearest Neighbors, \n",
    "    Decision Trees) for a classification task, with hyperparameter tuning using RandomizedSearchCV. \n",
    "    It preprocesses numerical and categorical features, performs model fitting, and evaluates \n",
    "    performance on the entire dataset. Goalkeeper (GK) players are handled separately with special \n",
    "    assumptions based on the missing 'pace' feature.\n",
    "\n",
    "    Parameters:\n",
    "    -----------\n",
    "    df : pd.DataFrame\n",
    "        The input dataset containing both numerical and categorical features as well as the target variable.\n",
    "        \n",
    "    numerical_features : list[str]\n",
    "        List of column names representing numerical features in the dataset.\n",
    "\n",
    "    categorical_features : list[str]\n",
    "        List of column names representing categorical features in the dataset.\n",
    "        \n",
    "    model : class\n",
    "        The model class to be used for training and evaluation (LogisticRegression, KNeighborsClassifier, \n",
    "        or DecisionTreeClassifier).\n",
    "        \n",
    "    target : str\n",
    "        The name of the target variable (i.e., the variable to be predicted).\n",
    "        \n",
    "    n_hyper_comb : int, default=10\n",
    "        The number of hyperparameter combinations to sample for RandomizedSearchCV.\n",
    "\n",
    "    n_folds : int, default=5\n",
    "        The number of folds to use in cross-validation for RandomizedSearchCV.\n",
    "        \n",
    "    num_imputer : str, default=\"median\"\n",
    "        The strategy to use for imputing missing values in numerical features (e.g., \"mean\", \"median\").\n",
    "        \n",
    "    goalkeeper_label : str, default=\"GK\"\n",
    "        The label to assign to goalkeepers (assumed to have missing 'pace' feature values).\n",
    "\n",
    "    Returns:\n",
    "    --------\n",
    "    df_combined_report : pd.DataFrame\n",
    "        DataFrame containing the classification report with metrics for all classes, including goalkeepers.\n",
    "        \n",
    "    optimal_hyperparameters : dict\n",
    "        A dictionary of the optimal hyperparameters found by RandomizedSearchCV.\n",
    "    \"\"\"\n",
    "\n",
    "    # We check if the model is one of the allowed model classes\n",
    "    allowed_models = (LogisticRegression, KNeighborsClassifier, DecisionTreeClassifier)\n",
    "    \n",
    "    if model not in allowed_models:\n",
    "        raise ValueError(f\"Invalid model type. Allowed models are: {allowed_models}\")\n",
    "\n",
    "    ###########################################################################\n",
    "\n",
    "    # First, we create the pipeline for preprocessing numerical and categorical transformers\n",
    "\n",
    "    # For numerical variables, we do median imputation\n",
    "    num_prepr = [\n",
    "        (\"imputer\", SimpleImputer(strategy = num_imputer))\n",
    "    ]\n",
    "\n",
    "    # We add standardization for certain models that benefit from it\n",
    "    if model == LogisticRegression or model == KNeighborsClassifier:\n",
    "        num_prepr.append((\"standardize\", StandardScaler()))\n",
    "\n",
    "    # For categorical variables, for now, we don't do anything (pass through)\n",
    "    cat_prepr = [\n",
    "        (\"passthrough\", \"passthrough\")\n",
    "    ]\n",
    "\n",
    "    # Create the ColumnTransformer to apply different transformations to numerical\n",
    "    # and categorical variables\n",
    "    preprocessor = ColumnTransformer(\n",
    "        transformers=[\n",
    "            ('num', Pipeline(num_prepr), numerical_features),\n",
    "            ('cat', Pipeline(cat_prepr), categorical_features),\n",
    "        ]\n",
    "    )\n",
    "\n",
    "    # Create steps of the pipeline, which begins with the preprocessor. \n",
    "    steps = [('preprocessor', preprocessor)]\n",
    "\n",
    "    ###########################################################################\n",
    "\n",
    "    # Second, depending on the model that has been chosen, we append one model\n",
    "    # or another, and define the set of hyperparameters accordingly\n",
    "\n",
    "    if model == LogisticRegression:\n",
    "        steps.append(('logreg', \n",
    "                                OneVsRestClassifier(model( # With OVR, we make each class a binary problem (one-versus-the-rest)\n",
    "                                fit_intercept = True,\n",
    "                                max_iter = 1000,\n",
    "                                penalty = 'l2', # Ridge regularization\n",
    "                                ))))\n",
    "        distributions = {\n",
    "        'logreg__estimator__C': uniform(loc=0.01, scale=10),\n",
    "        'logreg__estimator__class_weight': [None, 'balanced']\n",
    "        }\n",
    "\n",
    "    elif model == KNeighborsClassifier:\n",
    "        steps.append(('knn', model()))\n",
    "        distributions = {\n",
    "        'knn__n_neighbors': randint(low = 1, high = 25),\n",
    "        'knn__weights': ['uniform', 'distance']\n",
    "        }\n",
    "    \n",
    "    elif model == DecisionTreeClassifier:\n",
    "        steps.append(('dtc', \n",
    "                                model(\n",
    "                                random_state = 17, # Ridge regularization\n",
    "                                )))\n",
    "        distributions = {\n",
    "        'dtc__max_depth': randint(low = 1, high = 100),\n",
    "        'dtc__max_features': randint(low = 1, high = (len(df[numerical_features + categorical_features].columns))),\n",
    "        'dtc__max_leaf_nodes': randint(low = 1, high = 5000),\n",
    "        'dtc__min_samples_split': uniform(loc=0.001, scale=0.199),\n",
    "        'dtc__min_samples_leaf': uniform(loc=0.001, scale=0.199),\n",
    "        'dtc__class_weight': [None, 'balanced']\n",
    "        }\n",
    "    \n",
    "    ###########################################################################\n",
    "\n",
    "    # Third, we create the pipeline with the preprocessing and the model\n",
    "    pipeline = Pipeline(steps)\n",
    "\n",
    "    ###########################################################################\n",
    "\n",
    "    # Fourth, we split the dataset into goalkeepers and non-goalkeepers: those\n",
    "    # with missing values in the \"pace\" variable are assumed to be GKs (which\n",
    "    # is true according to what was found in the EDA)\n",
    "\n",
    "    df_gk = df[df['pace'].isna()].copy()\n",
    "    df_nongk = df[~df['pace'].isna()].copy()\n",
    "\n",
    "    # We divide the data frames depending on the variables\n",
    "\n",
    "    X_nongk = df_nongk[numerical_features + categorical_features]\n",
    "    y_nongk = df_nongk[target]\n",
    "\n",
    "    y_gk = df_gk[target]\n",
    "\n",
    "    ###########################################################################\n",
    "\n",
    "    # Fifth, we do the randomized search with the model (only with the data w/o GK)\n",
    "    \n",
    "    clf = RandomizedSearchCV(\n",
    "        estimator = pipeline, \n",
    "        param_distributions = distributions,\n",
    "        n_iter = n_hyper_comb, # Default is 10\n",
    "        scoring = ['f1_weighted', 'roc_auc_ovr_weighted'],\n",
    "        n_jobs = -1, # We use all available processors\n",
    "        cv = n_folds, # We use stratified cross-validation with 5 folds\n",
    "        verbose = 1,\n",
    "        refit = 'f1_weighted', # Refit an estimator using the best found parameters on the whole dataset with the best 'f1_weighted' found\n",
    "        random_state = 17, \n",
    "        error_score = np.nan, \n",
    "        return_train_score = False)\n",
    "\n",
    "    search = clf.fit(X_nongk, y_nongk)\n",
    "\n",
    "    ###########################################################################\n",
    "\n",
    "    # Sixth, we save the main results from the search\n",
    "\n",
    "    # Best f1_weighted score from the search\n",
    "    best_f1_weighted_score = search.best_score_\n",
    "\n",
    "    # Best hyperparameters from the search\n",
    "    optimal_hyperparameters = search.best_params_\n",
    "\n",
    "    ###########################################################################\n",
    "\n",
    "    # Seventh, we run the predictions training with the optimal hyperparameters \n",
    "    # the whole dataset (note that this can lead to misleading results with higher\n",
    "    # evaluation metrics than what we would get with the test set, as the\n",
    "    # prediction is made with the same training dataset; in any case it can be useful\n",
    "    # for indicating the labels which are missclassified more often)\n",
    "\n",
    "    # Predictions for non-goalkeepers\n",
    "    y_pred_nongk = search.best_estimator_.predict(X_nongk)\n",
    "\n",
    "    # Predictions for goalkeepers: all observations here are predicted as GK\n",
    "    y_pred_gk = [goalkeeper_label] * len(df_gk)\n",
    "\n",
    "    # Combine predictions into a single dataframe\n",
    "    y_combined = pd.concat([y_nongk, y_gk], axis=0)\n",
    "    y_pred_combined = pd.concat([pd.Series(y_pred_nongk), pd.Series(y_pred_gk)], axis=0, ignore_index = True)\n",
    "\n",
    "    ###########################################################################\n",
    "\n",
    "    # Eigth, we evaluate combined metrics (note that we set that metrics with warnings\n",
    "    # will be set to 0, for instance if we get a precision = 0 for some class)\n",
    "    combined_report_dict = classification_report(y_combined, y_pred_combined, output_dict = True, zero_division = 0)\n",
    "    df_combined_report = pd.DataFrame(combined_report_dict)\n",
    "\n",
    "    ###########################################################################\n",
    "\n",
    "    # Ninth, we return the results (metrics for classes computed for the training\n",
    "    # set), including the best hyperparameters found - note that the results from \n",
    "    # KNN in df_combined_report will be entirely misleading, as the prediction \n",
    "    # is made with the same training data (so in that case, we just consider the \n",
    "    # best parameters and best score from the randomized search)\n",
    "\n",
    "    if model == KNeighborsClassifier:\n",
    "        return optimal_hyperparameters, best_f1_weighted_score\n",
    "    else:\n",
    "        return df_combined_report, optimal_hyperparameters, best_f1_weighted_score"
   ]
  },
  {
   "cell_type": "markdown",
   "id": "cf092587",
   "metadata": {},
   "source": [
    "Useful documentation:\n",
    "- Randomized Search: https://scikit-learn.org/1.5/modules/generated/sklearn.model_selection.RandomizedSearchCV.html\n",
    "- Scoring: https://scikit-learn.org/1.5/modules/model_evaluation.html#scoring-parameter\n",
    "- Pipeline: https://scikit-learn.org/1.5/modules/generated/sklearn.pipeline.Pipeline.html#sklearn.pipeline.Pipeline\n",
    "- Models:\n",
    "    - One vs rest classifier (for multiclass classification): https://scikit-learn.org/1.5/modules/generated/sklearn.multiclass.OneVsRestClassifier.html\n",
    "    - Logistic Regression: https://scikit-learn.org/1.5/modules/generated/sklearn.linear_model.LogisticRegression.html#sklearn.linear_model.LogisticRegression\n",
    "    - Decision trees in sklearn can handle directly multiclass classification: \"DecisionTreeClassifier is capable of both binary (where the labels are [-1, 1]) classification and multiclass (where the labels are [0, …, K-1]) classification.\" (https://scikit-learn.org/1.5/modules/tree.html). Also, see https://scikit-learn.org/1.5/modules/generated/sklearn.tree.DecisionTreeClassifier.html\n",
    "    - KNN Classifier: https://scikit-learn.org/1.5/modules/generated/sklearn.neighbors.KNeighborsClassifier.html"
   ]
  },
  {
   "cell_type": "markdown",
   "id": "66eee077",
   "metadata": {},
   "source": [
    "### Without considering class imbalancing"
   ]
  },
  {
   "cell_type": "markdown",
   "id": "d9b3d6b6",
   "metadata": {},
   "source": [
    "#### Logistic regression"
   ]
  },
  {
   "cell_type": "code",
   "execution_count": 100,
   "id": "a3b25dc5",
   "metadata": {},
   "outputs": [
    {
     "name": "stdout",
     "output_type": "stream",
     "text": [
      "Fitting 5 folds for each of 20 candidates, totalling 100 fits\n"
     ]
    }
   ],
   "source": [
    "df_report_logreg, best_params_logreg, f1_w_logreg = baseline_models(\n",
    "    df = dfv1, numerical_features = numerical_features, categorical_features = categorical_features, \n",
    "    model = LogisticRegression, target = 'position_grouped', n_hyper_comb = 20, n_folds = 5, num_imputer = \"median\",\n",
    "    goalkeeper_label = \"G_GK\"\n",
    "    )"
   ]
  },
  {
   "cell_type": "code",
   "execution_count": 101,
   "id": "25c91740",
   "metadata": {},
   "outputs": [
    {
     "data": {
      "text/html": [
       "<div>\n",
       "<style scoped>\n",
       "    .dataframe tbody tr th:only-of-type {\n",
       "        vertical-align: middle;\n",
       "    }\n",
       "\n",
       "    .dataframe tbody tr th {\n",
       "        vertical-align: top;\n",
       "    }\n",
       "\n",
       "    .dataframe thead th {\n",
       "        text-align: right;\n",
       "    }\n",
       "</style>\n",
       "<table border=\"1\" class=\"dataframe\">\n",
       "  <thead>\n",
       "    <tr style=\"text-align: right;\">\n",
       "      <th></th>\n",
       "      <th>A_LF</th>\n",
       "      <th>A_LS</th>\n",
       "      <th>A_LW</th>\n",
       "      <th>A_RF</th>\n",
       "      <th>A_RS</th>\n",
       "      <th>A_RW</th>\n",
       "      <th>A_ST</th>\n",
       "      <th>D_CB</th>\n",
       "      <th>D_LB</th>\n",
       "      <th>D_LCB</th>\n",
       "      <th>...</th>\n",
       "      <th>M_CM</th>\n",
       "      <th>M_LCM</th>\n",
       "      <th>M_LDM</th>\n",
       "      <th>M_LM</th>\n",
       "      <th>M_RCM</th>\n",
       "      <th>M_RDM</th>\n",
       "      <th>M_RM</th>\n",
       "      <th>accuracy</th>\n",
       "      <th>macro avg</th>\n",
       "      <th>weighted avg</th>\n",
       "    </tr>\n",
       "  </thead>\n",
       "  <tbody>\n",
       "    <tr>\n",
       "      <th>precision</th>\n",
       "      <td>0.500000</td>\n",
       "      <td>0.238095</td>\n",
       "      <td>0.342105</td>\n",
       "      <td>0.0</td>\n",
       "      <td>0.142857</td>\n",
       "      <td>0.486486</td>\n",
       "      <td>0.482846</td>\n",
       "      <td>1.000000</td>\n",
       "      <td>0.596273</td>\n",
       "      <td>0.660622</td>\n",
       "      <td>...</td>\n",
       "      <td>0.0</td>\n",
       "      <td>0.291971</td>\n",
       "      <td>0.285714</td>\n",
       "      <td>0.282878</td>\n",
       "      <td>0.292035</td>\n",
       "      <td>0.340000</td>\n",
       "      <td>0.288177</td>\n",
       "      <td>0.48702</td>\n",
       "      <td>0.394028</td>\n",
       "      <td>0.472567</td>\n",
       "    </tr>\n",
       "    <tr>\n",
       "      <th>recall</th>\n",
       "      <td>0.031250</td>\n",
       "      <td>0.049751</td>\n",
       "      <td>0.078313</td>\n",
       "      <td>0.0</td>\n",
       "      <td>0.009950</td>\n",
       "      <td>0.108434</td>\n",
       "      <td>0.887850</td>\n",
       "      <td>0.011976</td>\n",
       "      <td>0.829374</td>\n",
       "      <td>0.404120</td>\n",
       "      <td>...</td>\n",
       "      <td>0.0</td>\n",
       "      <td>0.378251</td>\n",
       "      <td>0.079602</td>\n",
       "      <td>0.308943</td>\n",
       "      <td>0.468085</td>\n",
       "      <td>0.084577</td>\n",
       "      <td>0.317073</td>\n",
       "      <td>0.48702</td>\n",
       "      <td>0.300556</td>\n",
       "      <td>0.487020</td>\n",
       "    </tr>\n",
       "    <tr>\n",
       "      <th>f1-score</th>\n",
       "      <td>0.058824</td>\n",
       "      <td>0.082305</td>\n",
       "      <td>0.127451</td>\n",
       "      <td>0.0</td>\n",
       "      <td>0.018605</td>\n",
       "      <td>0.177340</td>\n",
       "      <td>0.625514</td>\n",
       "      <td>0.023669</td>\n",
       "      <td>0.693767</td>\n",
       "      <td>0.501475</td>\n",
       "      <td>...</td>\n",
       "      <td>0.0</td>\n",
       "      <td>0.329557</td>\n",
       "      <td>0.124514</td>\n",
       "      <td>0.295337</td>\n",
       "      <td>0.359673</td>\n",
       "      <td>0.135458</td>\n",
       "      <td>0.301935</td>\n",
       "      <td>0.48702</td>\n",
       "      <td>0.276898</td>\n",
       "      <td>0.432640</td>\n",
       "    </tr>\n",
       "    <tr>\n",
       "      <th>support</th>\n",
       "      <td>32.000000</td>\n",
       "      <td>201.000000</td>\n",
       "      <td>166.000000</td>\n",
       "      <td>32.0</td>\n",
       "      <td>201.000000</td>\n",
       "      <td>166.000000</td>\n",
       "      <td>428.000000</td>\n",
       "      <td>167.000000</td>\n",
       "      <td>463.000000</td>\n",
       "      <td>631.000000</td>\n",
       "      <td>...</td>\n",
       "      <td>75.0</td>\n",
       "      <td>423.000000</td>\n",
       "      <td>201.000000</td>\n",
       "      <td>369.000000</td>\n",
       "      <td>423.000000</td>\n",
       "      <td>201.000000</td>\n",
       "      <td>369.000000</td>\n",
       "      <td>0.48702</td>\n",
       "      <td>6895.000000</td>\n",
       "      <td>6895.000000</td>\n",
       "    </tr>\n",
       "  </tbody>\n",
       "</table>\n",
       "<p>4 rows × 27 columns</p>\n",
       "</div>"
      ],
      "text/plain": [
       "                A_LF        A_LS        A_LW  A_RF        A_RS        A_RW  \\\n",
       "precision   0.500000    0.238095    0.342105   0.0    0.142857    0.486486   \n",
       "recall      0.031250    0.049751    0.078313   0.0    0.009950    0.108434   \n",
       "f1-score    0.058824    0.082305    0.127451   0.0    0.018605    0.177340   \n",
       "support    32.000000  201.000000  166.000000  32.0  201.000000  166.000000   \n",
       "\n",
       "                 A_ST        D_CB        D_LB       D_LCB  ...  M_CM  \\\n",
       "precision    0.482846    1.000000    0.596273    0.660622  ...   0.0   \n",
       "recall       0.887850    0.011976    0.829374    0.404120  ...   0.0   \n",
       "f1-score     0.625514    0.023669    0.693767    0.501475  ...   0.0   \n",
       "support    428.000000  167.000000  463.000000  631.000000  ...  75.0   \n",
       "\n",
       "                M_LCM       M_LDM        M_LM       M_RCM       M_RDM  \\\n",
       "precision    0.291971    0.285714    0.282878    0.292035    0.340000   \n",
       "recall       0.378251    0.079602    0.308943    0.468085    0.084577   \n",
       "f1-score     0.329557    0.124514    0.295337    0.359673    0.135458   \n",
       "support    423.000000  201.000000  369.000000  423.000000  201.000000   \n",
       "\n",
       "                 M_RM  accuracy    macro avg  weighted avg  \n",
       "precision    0.288177   0.48702     0.394028      0.472567  \n",
       "recall       0.317073   0.48702     0.300556      0.487020  \n",
       "f1-score     0.301935   0.48702     0.276898      0.432640  \n",
       "support    369.000000   0.48702  6895.000000   6895.000000  \n",
       "\n",
       "[4 rows x 27 columns]"
      ]
     },
     "execution_count": 101,
     "metadata": {},
     "output_type": "execute_result"
    }
   ],
   "source": [
    "df_report_logreg"
   ]
  },
  {
   "cell_type": "code",
   "execution_count": 102,
   "id": "e61d165b",
   "metadata": {},
   "outputs": [
    {
     "data": {
      "text/plain": [
       "{'logreg__estimator__C': 6.534186154656548,\n",
       " 'logreg__estimator__class_weight': None}"
      ]
     },
     "execution_count": 102,
     "metadata": {},
     "output_type": "execute_result"
    }
   ],
   "source": [
    "best_params_logreg"
   ]
  },
  {
   "cell_type": "code",
   "execution_count": 103,
   "id": "39d33598",
   "metadata": {},
   "outputs": [
    {
     "data": {
      "text/plain": [
       "0.3493697288467855"
      ]
     },
     "execution_count": 103,
     "metadata": {},
     "output_type": "execute_result"
    }
   ],
   "source": [
    "f1_w_logreg"
   ]
  },
  {
   "cell_type": "markdown",
   "id": "a5343f4f",
   "metadata": {},
   "source": [
    "#### K-Nearest Neighbors"
   ]
  },
  {
   "cell_type": "code",
   "execution_count": 18,
   "id": "ef1f6164",
   "metadata": {},
   "outputs": [
    {
     "name": "stdout",
     "output_type": "stream",
     "text": [
      "Fitting 5 folds for each of 20 candidates, totalling 100 fits\n"
     ]
    }
   ],
   "source": [
    "best_params_knn, f1_w_knn = baseline_models(\n",
    "    df = dfv1, numerical_features = numerical_features, categorical_features = categorical_features, \n",
    "    model = KNeighborsClassifier, target = 'position_grouped', n_hyper_comb = 20, n_folds = 5, num_imputer = \"median\",\n",
    "    goalkeeper_label = \"G_GK\"\n",
    "    )"
   ]
  },
  {
   "cell_type": "code",
   "execution_count": 19,
   "id": "51d440be",
   "metadata": {},
   "outputs": [
    {
     "data": {
      "text/plain": [
       "{'knn__n_neighbors': 17, 'knn__weights': 'distance'}"
      ]
     },
     "execution_count": 19,
     "metadata": {},
     "output_type": "execute_result"
    }
   ],
   "source": [
    "best_params_knn"
   ]
  },
  {
   "cell_type": "code",
   "execution_count": 20,
   "id": "19183185",
   "metadata": {},
   "outputs": [
    {
     "data": {
      "text/plain": [
       "0.30547197916462554"
      ]
     },
     "execution_count": 20,
     "metadata": {},
     "output_type": "execute_result"
    }
   ],
   "source": [
    "f1_w_knn"
   ]
  },
  {
   "cell_type": "markdown",
   "id": "0b2d76cf",
   "metadata": {},
   "source": [
    "#### Decision Tree"
   ]
  },
  {
   "cell_type": "code",
   "execution_count": 21,
   "id": "8273c640",
   "metadata": {},
   "outputs": [
    {
     "name": "stdout",
     "output_type": "stream",
     "text": [
      "Fitting 5 folds for each of 100 candidates, totalling 500 fits\n"
     ]
    }
   ],
   "source": [
    "df_report_dt, best_params_dt, f1_w_dt = baseline_models(\n",
    "    df = dfv1, numerical_features = numerical_features, categorical_features = categorical_features_all_dummies, \n",
    "    model = DecisionTreeClassifier, target = 'position_grouped', n_hyper_comb = 100, n_folds = 5, num_imputer = \"median\",\n",
    "    goalkeeper_label = \"G_GK\"\n",
    "    )"
   ]
  },
  {
   "cell_type": "code",
   "execution_count": 108,
   "id": "dc2ddb8a",
   "metadata": {},
   "outputs": [
    {
     "data": {
      "text/html": [
       "<div>\n",
       "<style scoped>\n",
       "    .dataframe tbody tr th:only-of-type {\n",
       "        vertical-align: middle;\n",
       "    }\n",
       "\n",
       "    .dataframe tbody tr th {\n",
       "        vertical-align: top;\n",
       "    }\n",
       "\n",
       "    .dataframe thead th {\n",
       "        text-align: right;\n",
       "    }\n",
       "</style>\n",
       "<table border=\"1\" class=\"dataframe\">\n",
       "  <thead>\n",
       "    <tr style=\"text-align: right;\">\n",
       "      <th></th>\n",
       "      <th>A_LF</th>\n",
       "      <th>A_LS</th>\n",
       "      <th>A_LW</th>\n",
       "      <th>A_RF</th>\n",
       "      <th>A_RS</th>\n",
       "      <th>A_RW</th>\n",
       "      <th>A_ST</th>\n",
       "      <th>D_CB</th>\n",
       "      <th>D_LB</th>\n",
       "      <th>D_LCB</th>\n",
       "      <th>...</th>\n",
       "      <th>M_CM</th>\n",
       "      <th>M_LCM</th>\n",
       "      <th>M_LDM</th>\n",
       "      <th>M_LM</th>\n",
       "      <th>M_RCM</th>\n",
       "      <th>M_RDM</th>\n",
       "      <th>M_RM</th>\n",
       "      <th>accuracy</th>\n",
       "      <th>macro avg</th>\n",
       "      <th>weighted avg</th>\n",
       "    </tr>\n",
       "  </thead>\n",
       "  <tbody>\n",
       "    <tr>\n",
       "      <th>precision</th>\n",
       "      <td>0.0</td>\n",
       "      <td>0.363095</td>\n",
       "      <td>0.275862</td>\n",
       "      <td>0.0</td>\n",
       "      <td>0.343750</td>\n",
       "      <td>0.212500</td>\n",
       "      <td>0.542714</td>\n",
       "      <td>0.0</td>\n",
       "      <td>0.570552</td>\n",
       "      <td>0.560060</td>\n",
       "      <td>...</td>\n",
       "      <td>0.0</td>\n",
       "      <td>0.337545</td>\n",
       "      <td>0.235669</td>\n",
       "      <td>0.327014</td>\n",
       "      <td>0.353635</td>\n",
       "      <td>0.245455</td>\n",
       "      <td>0.386423</td>\n",
       "      <td>0.498912</td>\n",
       "      <td>0.298748</td>\n",
       "      <td>0.439437</td>\n",
       "    </tr>\n",
       "    <tr>\n",
       "      <th>recall</th>\n",
       "      <td>0.0</td>\n",
       "      <td>0.303483</td>\n",
       "      <td>0.144578</td>\n",
       "      <td>0.0</td>\n",
       "      <td>0.164179</td>\n",
       "      <td>0.102410</td>\n",
       "      <td>0.757009</td>\n",
       "      <td>0.0</td>\n",
       "      <td>0.803456</td>\n",
       "      <td>0.591125</td>\n",
       "      <td>...</td>\n",
       "      <td>0.0</td>\n",
       "      <td>0.442080</td>\n",
       "      <td>0.184080</td>\n",
       "      <td>0.373984</td>\n",
       "      <td>0.425532</td>\n",
       "      <td>0.134328</td>\n",
       "      <td>0.401084</td>\n",
       "      <td>0.498912</td>\n",
       "      <td>0.317802</td>\n",
       "      <td>0.498912</td>\n",
       "    </tr>\n",
       "    <tr>\n",
       "      <th>f1-score</th>\n",
       "      <td>0.0</td>\n",
       "      <td>0.330623</td>\n",
       "      <td>0.189723</td>\n",
       "      <td>0.0</td>\n",
       "      <td>0.222222</td>\n",
       "      <td>0.138211</td>\n",
       "      <td>0.632195</td>\n",
       "      <td>0.0</td>\n",
       "      <td>0.667265</td>\n",
       "      <td>0.575173</td>\n",
       "      <td>...</td>\n",
       "      <td>0.0</td>\n",
       "      <td>0.382805</td>\n",
       "      <td>0.206704</td>\n",
       "      <td>0.348925</td>\n",
       "      <td>0.386266</td>\n",
       "      <td>0.173633</td>\n",
       "      <td>0.393617</td>\n",
       "      <td>0.498912</td>\n",
       "      <td>0.299714</td>\n",
       "      <td>0.459349</td>\n",
       "    </tr>\n",
       "    <tr>\n",
       "      <th>support</th>\n",
       "      <td>32.0</td>\n",
       "      <td>201.000000</td>\n",
       "      <td>166.000000</td>\n",
       "      <td>32.0</td>\n",
       "      <td>201.000000</td>\n",
       "      <td>166.000000</td>\n",
       "      <td>428.000000</td>\n",
       "      <td>167.0</td>\n",
       "      <td>463.000000</td>\n",
       "      <td>631.000000</td>\n",
       "      <td>...</td>\n",
       "      <td>75.0</td>\n",
       "      <td>423.000000</td>\n",
       "      <td>201.000000</td>\n",
       "      <td>369.000000</td>\n",
       "      <td>423.000000</td>\n",
       "      <td>201.000000</td>\n",
       "      <td>369.000000</td>\n",
       "      <td>0.498912</td>\n",
       "      <td>6895.000000</td>\n",
       "      <td>6895.000000</td>\n",
       "    </tr>\n",
       "  </tbody>\n",
       "</table>\n",
       "<p>4 rows × 27 columns</p>\n",
       "</div>"
      ],
      "text/plain": [
       "           A_LF        A_LS        A_LW  A_RF        A_RS        A_RW  \\\n",
       "precision   0.0    0.363095    0.275862   0.0    0.343750    0.212500   \n",
       "recall      0.0    0.303483    0.144578   0.0    0.164179    0.102410   \n",
       "f1-score    0.0    0.330623    0.189723   0.0    0.222222    0.138211   \n",
       "support    32.0  201.000000  166.000000  32.0  201.000000  166.000000   \n",
       "\n",
       "                 A_ST   D_CB        D_LB       D_LCB  ...  M_CM       M_LCM  \\\n",
       "precision    0.542714    0.0    0.570552    0.560060  ...   0.0    0.337545   \n",
       "recall       0.757009    0.0    0.803456    0.591125  ...   0.0    0.442080   \n",
       "f1-score     0.632195    0.0    0.667265    0.575173  ...   0.0    0.382805   \n",
       "support    428.000000  167.0  463.000000  631.000000  ...  75.0  423.000000   \n",
       "\n",
       "                M_LDM        M_LM       M_RCM       M_RDM        M_RM  \\\n",
       "precision    0.235669    0.327014    0.353635    0.245455    0.386423   \n",
       "recall       0.184080    0.373984    0.425532    0.134328    0.401084   \n",
       "f1-score     0.206704    0.348925    0.386266    0.173633    0.393617   \n",
       "support    201.000000  369.000000  423.000000  201.000000  369.000000   \n",
       "\n",
       "           accuracy    macro avg  weighted avg  \n",
       "precision  0.498912     0.298748      0.439437  \n",
       "recall     0.498912     0.317802      0.498912  \n",
       "f1-score   0.498912     0.299714      0.459349  \n",
       "support    0.498912  6895.000000   6895.000000  \n",
       "\n",
       "[4 rows x 27 columns]"
      ]
     },
     "execution_count": 108,
     "metadata": {},
     "output_type": "execute_result"
    }
   ],
   "source": [
    "df_report_dt"
   ]
  },
  {
   "cell_type": "code",
   "execution_count": 22,
   "id": "1c88ba63",
   "metadata": {},
   "outputs": [
    {
     "data": {
      "text/plain": [
       "{'dtc__class_weight': None,\n",
       " 'dtc__max_depth': 40,\n",
       " 'dtc__max_features': 24,\n",
       " 'dtc__max_leaf_nodes': 1244,\n",
       " 'dtc__min_samples_leaf': 0.0013015285199047416,\n",
       " 'dtc__min_samples_split': 0.010912693744184222}"
      ]
     },
     "execution_count": 22,
     "metadata": {},
     "output_type": "execute_result"
    }
   ],
   "source": [
    "best_params_dt"
   ]
  },
  {
   "cell_type": "code",
   "execution_count": 23,
   "id": "6ab8058a",
   "metadata": {},
   "outputs": [
    {
     "data": {
      "text/plain": [
       "0.3014515619237356"
      ]
     },
     "execution_count": 23,
     "metadata": {},
     "output_type": "execute_result"
    }
   ],
   "source": [
    "f1_w_dt"
   ]
  },
  {
   "cell_type": "markdown",
   "id": "544ad76f",
   "metadata": {},
   "source": [
    "#### Insights\n",
    "Overall, *logistic regression* is the best performer in this case, while a single decision tree and KNN exhibit a similar predictive power."
   ]
  },
  {
   "cell_type": "markdown",
   "id": "c78e0100",
   "metadata": {},
   "source": [
    "### Considering class imbalancing"
   ]
  },
  {
   "cell_type": "markdown",
   "id": "1d959ef9",
   "metadata": {},
   "source": [
    "### Extending the number of features (without considering class imbalancing)\n",
    "Now, we keep all of the available features (except those that have not been preprocessed yet). Below, we only exclude:\n",
    "- Excluded all features which are not expected to have a high predictive power: *club_contract_valid_until*, *short_name*, *club_name*, *nationality_name*, *league_country*, *real_face*.\n",
    "- It is also important to remember to drop one dummy for KNN and logistic regression (but it is better to keep it for the decision tree)."
   ]
  },
  {
   "cell_type": "code",
   "execution_count": 6,
   "id": "4690d84a",
   "metadata": {},
   "outputs": [],
   "source": [
    "# List of numerical features\n",
    "numerical_features_ext = [\n",
    "    'overall', 'potential', 'wage_eur', 'height_cm', 'weight_kg',\n",
    "    'attacking_crossing', 'attacking_finishing', 'attacking_heading_accuracy', 'attacking_short_passing', 'attacking_volleys',\n",
    "    'skill_dribbling', 'skill_curve', 'skill_fk_accuracy', 'skill_long_passing', 'skill_ball_control',\n",
    "    'movement_acceleration', 'movement_sprint_speed', 'movement_agility', 'movement_reactions', 'movement_balance',\n",
    "    'power_shot_power', 'power_jumping', 'power_stamina', 'power_strength', 'power_long_shots',\n",
    "    'mentality_aggression', 'mentality_interceptions', 'mentality_positioning', 'mentality_vision', 'mentality_penalties', 'mentality_composure',\n",
    "    'defending_marking_awareness', 'defending_standing_tackle', 'defending_sliding_tackle',\n",
    "    'value_eur', 'release_clause_eur', 'pace', 'shooting', 'passing', 'dribbling', 'defending', \n",
    "    'physic', 'age', 'height_weight_ratio'\n",
    "]\n",
    "\n",
    "# List of categorical ordinal features \n",
    "categorical_ordinal_features_ext = [\n",
    "    'league_level', 'weak_foot', 'skill_moves', 'international_reputation'\n",
    "]\n",
    "\n",
    "# List of categorical nominal features\n",
    "categorical_nominal_features_ext_all_dummies = [\n",
    "    'club_jersey_number', 'preferred_foot_Right',\t\n",
    "    'preferred_foot_Left',\n",
    "    'work_rate_High/High', 'work_rate_High/Low', 'work_rate_High/Medium',\n",
    "    'work_rate_Low/High', 'work_rate_Low/Low', 'work_rate_Low/Medium',\n",
    "    'work_rate_Medium/High', 'work_rate_Medium/Low',\n",
    "    'work_rate_Medium/Medium',\n",
    "]\n",
    "\n",
    "categorical_nominal_features_ext = [\n",
    "    'club_jersey_number',\n",
    "    'preferred_foot_Left',\n",
    "    'work_rate_High/Low', 'work_rate_High/Medium',\n",
    "    'work_rate_Low/High', 'work_rate_Low/Low', 'work_rate_Low/Medium',\n",
    "    'work_rate_Medium/High', 'work_rate_Medium/Low',\n",
    "    'work_rate_Medium/Medium',\n",
    "]\n",
    "\n",
    "\n",
    "# Complete list of categorical features\n",
    "categorical_features_all_dummies_ext = categorical_nominal_features_ext_all_dummies + categorical_ordinal_features_ext\n",
    "categorical_features_ext = categorical_nominal_features_ext + categorical_ordinal_features_ext"
   ]
  },
  {
   "cell_type": "markdown",
   "id": "4e2cbc33",
   "metadata": {},
   "source": [
    "#### Logistic regression"
   ]
  },
  {
   "cell_type": "code",
   "execution_count": 7,
   "id": "82905299",
   "metadata": {},
   "outputs": [
    {
     "name": "stdout",
     "output_type": "stream",
     "text": [
      "Fitting 5 folds for each of 20 candidates, totalling 100 fits\n"
     ]
    },
    {
     "name": "stderr",
     "output_type": "stream",
     "text": [
      "/home/pablo/miniconda3/envs/py312/lib/python3.12/site-packages/sklearn/linear_model/_logistic.py:469: ConvergenceWarning: lbfgs failed to converge (status=1):\n",
      "STOP: TOTAL NO. of ITERATIONS REACHED LIMIT.\n",
      "\n",
      "Increase the number of iterations (max_iter) or scale the data as shown in:\n",
      "    https://scikit-learn.org/stable/modules/preprocessing.html\n",
      "Please also refer to the documentation for alternative solver options:\n",
      "    https://scikit-learn.org/stable/modules/linear_model.html#logistic-regression\n",
      "  n_iter_i = _check_optimize_result(\n",
      "/home/pablo/miniconda3/envs/py312/lib/python3.12/site-packages/sklearn/linear_model/_logistic.py:469: ConvergenceWarning: lbfgs failed to converge (status=1):\n",
      "STOP: TOTAL NO. of ITERATIONS REACHED LIMIT.\n",
      "\n",
      "Increase the number of iterations (max_iter) or scale the data as shown in:\n",
      "    https://scikit-learn.org/stable/modules/preprocessing.html\n",
      "Please also refer to the documentation for alternative solver options:\n",
      "    https://scikit-learn.org/stable/modules/linear_model.html#logistic-regression\n",
      "  n_iter_i = _check_optimize_result(\n"
     ]
    }
   ],
   "source": [
    "df_report_logreg_ext, best_params_logreg_ext, f1_w_logreg_ext = baseline_models(\n",
    "    df = dfv1, numerical_features = numerical_features_ext, categorical_features = categorical_features_ext, \n",
    "    model = LogisticRegression, target = 'position_grouped', n_hyper_comb = 20, n_folds = 5, num_imputer = \"median\",\n",
    "    goalkeeper_label = \"G_GK\"\n",
    "    )"
   ]
  },
  {
   "cell_type": "code",
   "execution_count": 8,
   "id": "f7f15d1c",
   "metadata": {},
   "outputs": [
    {
     "data": {
      "text/html": [
       "<div>\n",
       "<style scoped>\n",
       "    .dataframe tbody tr th:only-of-type {\n",
       "        vertical-align: middle;\n",
       "    }\n",
       "\n",
       "    .dataframe tbody tr th {\n",
       "        vertical-align: top;\n",
       "    }\n",
       "\n",
       "    .dataframe thead th {\n",
       "        text-align: right;\n",
       "    }\n",
       "</style>\n",
       "<table border=\"1\" class=\"dataframe\">\n",
       "  <thead>\n",
       "    <tr style=\"text-align: right;\">\n",
       "      <th></th>\n",
       "      <th>A_LF</th>\n",
       "      <th>A_LS</th>\n",
       "      <th>A_LW</th>\n",
       "      <th>A_RF</th>\n",
       "      <th>A_RS</th>\n",
       "      <th>A_RW</th>\n",
       "      <th>A_ST</th>\n",
       "      <th>D_CB</th>\n",
       "      <th>D_LB</th>\n",
       "      <th>D_LCB</th>\n",
       "      <th>...</th>\n",
       "      <th>M_CM</th>\n",
       "      <th>M_LCM</th>\n",
       "      <th>M_LDM</th>\n",
       "      <th>M_LM</th>\n",
       "      <th>M_RCM</th>\n",
       "      <th>M_RDM</th>\n",
       "      <th>M_RM</th>\n",
       "      <th>accuracy</th>\n",
       "      <th>macro avg</th>\n",
       "      <th>weighted avg</th>\n",
       "    </tr>\n",
       "  </thead>\n",
       "  <tbody>\n",
       "    <tr>\n",
       "      <th>precision</th>\n",
       "      <td>0.500000</td>\n",
       "      <td>0.325301</td>\n",
       "      <td>0.339286</td>\n",
       "      <td>1.000000</td>\n",
       "      <td>0.379310</td>\n",
       "      <td>0.397059</td>\n",
       "      <td>0.508844</td>\n",
       "      <td>0.500000</td>\n",
       "      <td>0.642738</td>\n",
       "      <td>0.655012</td>\n",
       "      <td>...</td>\n",
       "      <td>0.200000</td>\n",
       "      <td>0.323017</td>\n",
       "      <td>0.386667</td>\n",
       "      <td>0.319149</td>\n",
       "      <td>0.327181</td>\n",
       "      <td>0.306667</td>\n",
       "      <td>0.335150</td>\n",
       "      <td>0.5095</td>\n",
       "      <td>0.461432</td>\n",
       "      <td>0.497698</td>\n",
       "    </tr>\n",
       "    <tr>\n",
       "      <th>recall</th>\n",
       "      <td>0.093750</td>\n",
       "      <td>0.134328</td>\n",
       "      <td>0.114458</td>\n",
       "      <td>0.031250</td>\n",
       "      <td>0.109453</td>\n",
       "      <td>0.162651</td>\n",
       "      <td>0.873832</td>\n",
       "      <td>0.017964</td>\n",
       "      <td>0.831533</td>\n",
       "      <td>0.445325</td>\n",
       "      <td>...</td>\n",
       "      <td>0.013333</td>\n",
       "      <td>0.394799</td>\n",
       "      <td>0.144279</td>\n",
       "      <td>0.325203</td>\n",
       "      <td>0.460993</td>\n",
       "      <td>0.114428</td>\n",
       "      <td>0.333333</td>\n",
       "      <td>0.5095</td>\n",
       "      <td>0.334228</td>\n",
       "      <td>0.509500</td>\n",
       "    </tr>\n",
       "    <tr>\n",
       "      <th>f1-score</th>\n",
       "      <td>0.157895</td>\n",
       "      <td>0.190141</td>\n",
       "      <td>0.171171</td>\n",
       "      <td>0.060606</td>\n",
       "      <td>0.169884</td>\n",
       "      <td>0.230769</td>\n",
       "      <td>0.643164</td>\n",
       "      <td>0.034682</td>\n",
       "      <td>0.725047</td>\n",
       "      <td>0.530189</td>\n",
       "      <td>...</td>\n",
       "      <td>0.025000</td>\n",
       "      <td>0.355319</td>\n",
       "      <td>0.210145</td>\n",
       "      <td>0.322148</td>\n",
       "      <td>0.382728</td>\n",
       "      <td>0.166667</td>\n",
       "      <td>0.334239</td>\n",
       "      <td>0.5095</td>\n",
       "      <td>0.326442</td>\n",
       "      <td>0.467600</td>\n",
       "    </tr>\n",
       "    <tr>\n",
       "      <th>support</th>\n",
       "      <td>32.000000</td>\n",
       "      <td>201.000000</td>\n",
       "      <td>166.000000</td>\n",
       "      <td>32.000000</td>\n",
       "      <td>201.000000</td>\n",
       "      <td>166.000000</td>\n",
       "      <td>428.000000</td>\n",
       "      <td>167.000000</td>\n",
       "      <td>463.000000</td>\n",
       "      <td>631.000000</td>\n",
       "      <td>...</td>\n",
       "      <td>75.000000</td>\n",
       "      <td>423.000000</td>\n",
       "      <td>201.000000</td>\n",
       "      <td>369.000000</td>\n",
       "      <td>423.000000</td>\n",
       "      <td>201.000000</td>\n",
       "      <td>369.000000</td>\n",
       "      <td>0.5095</td>\n",
       "      <td>6895.000000</td>\n",
       "      <td>6895.000000</td>\n",
       "    </tr>\n",
       "  </tbody>\n",
       "</table>\n",
       "<p>4 rows × 27 columns</p>\n",
       "</div>"
      ],
      "text/plain": [
       "                A_LF        A_LS        A_LW       A_RF        A_RS  \\\n",
       "precision   0.500000    0.325301    0.339286   1.000000    0.379310   \n",
       "recall      0.093750    0.134328    0.114458   0.031250    0.109453   \n",
       "f1-score    0.157895    0.190141    0.171171   0.060606    0.169884   \n",
       "support    32.000000  201.000000  166.000000  32.000000  201.000000   \n",
       "\n",
       "                 A_RW        A_ST        D_CB        D_LB       D_LCB  ...  \\\n",
       "precision    0.397059    0.508844    0.500000    0.642738    0.655012  ...   \n",
       "recall       0.162651    0.873832    0.017964    0.831533    0.445325  ...   \n",
       "f1-score     0.230769    0.643164    0.034682    0.725047    0.530189  ...   \n",
       "support    166.000000  428.000000  167.000000  463.000000  631.000000  ...   \n",
       "\n",
       "                M_CM       M_LCM       M_LDM        M_LM       M_RCM  \\\n",
       "precision   0.200000    0.323017    0.386667    0.319149    0.327181   \n",
       "recall      0.013333    0.394799    0.144279    0.325203    0.460993   \n",
       "f1-score    0.025000    0.355319    0.210145    0.322148    0.382728   \n",
       "support    75.000000  423.000000  201.000000  369.000000  423.000000   \n",
       "\n",
       "                M_RDM        M_RM  accuracy    macro avg  weighted avg  \n",
       "precision    0.306667    0.335150    0.5095     0.461432      0.497698  \n",
       "recall       0.114428    0.333333    0.5095     0.334228      0.509500  \n",
       "f1-score     0.166667    0.334239    0.5095     0.326442      0.467600  \n",
       "support    201.000000  369.000000    0.5095  6895.000000   6895.000000  \n",
       "\n",
       "[4 rows x 27 columns]"
      ]
     },
     "execution_count": 8,
     "metadata": {},
     "output_type": "execute_result"
    }
   ],
   "source": [
    "df_report_logreg_ext"
   ]
  },
  {
   "cell_type": "code",
   "execution_count": 10,
   "id": "e20bb723",
   "metadata": {},
   "outputs": [
    {
     "data": {
      "text/plain": [
       "{'logreg__estimator__C': 8.65042103546211,\n",
       " 'logreg__estimator__class_weight': None}"
      ]
     },
     "execution_count": 10,
     "metadata": {},
     "output_type": "execute_result"
    }
   ],
   "source": [
    "best_params_logreg_ext"
   ]
  },
  {
   "cell_type": "code",
   "execution_count": 9,
   "id": "2c2204f1",
   "metadata": {},
   "outputs": [
    {
     "data": {
      "text/plain": [
       "0.36366735083524143"
      ]
     },
     "execution_count": 9,
     "metadata": {},
     "output_type": "execute_result"
    }
   ],
   "source": [
    "f1_w_logreg_ext"
   ]
  },
  {
   "cell_type": "markdown",
   "id": "a2ba79fc",
   "metadata": {},
   "source": [
    "Logistic regression has performed better with all of the features."
   ]
  },
  {
   "cell_type": "markdown",
   "id": "cfe171bc",
   "metadata": {},
   "source": [
    "#### Decision Tree"
   ]
  },
  {
   "cell_type": "code",
   "execution_count": 11,
   "id": "2c08488e",
   "metadata": {},
   "outputs": [
    {
     "name": "stdout",
     "output_type": "stream",
     "text": [
      "Fitting 5 folds for each of 100 candidates, totalling 500 fits\n"
     ]
    }
   ],
   "source": [
    "df_report_dt_ext, best_params_dt_ext, f1_w_dt_ext = baseline_models(\n",
    "    df = dfv1, numerical_features = numerical_features_ext, categorical_features = categorical_features_ext, \n",
    "    model = DecisionTreeClassifier, target = 'position_grouped', n_hyper_comb = 100, n_folds = 5, num_imputer = \"median\",\n",
    "    goalkeeper_label = \"G_GK\"\n",
    "    )"
   ]
  },
  {
   "cell_type": "code",
   "execution_count": 12,
   "id": "0e1478a8",
   "metadata": {},
   "outputs": [
    {
     "data": {
      "text/html": [
       "<div>\n",
       "<style scoped>\n",
       "    .dataframe tbody tr th:only-of-type {\n",
       "        vertical-align: middle;\n",
       "    }\n",
       "\n",
       "    .dataframe tbody tr th {\n",
       "        vertical-align: top;\n",
       "    }\n",
       "\n",
       "    .dataframe thead th {\n",
       "        text-align: right;\n",
       "    }\n",
       "</style>\n",
       "<table border=\"1\" class=\"dataframe\">\n",
       "  <thead>\n",
       "    <tr style=\"text-align: right;\">\n",
       "      <th></th>\n",
       "      <th>A_LF</th>\n",
       "      <th>A_LS</th>\n",
       "      <th>A_LW</th>\n",
       "      <th>A_RF</th>\n",
       "      <th>A_RS</th>\n",
       "      <th>A_RW</th>\n",
       "      <th>A_ST</th>\n",
       "      <th>D_CB</th>\n",
       "      <th>D_LB</th>\n",
       "      <th>D_LCB</th>\n",
       "      <th>...</th>\n",
       "      <th>M_CM</th>\n",
       "      <th>M_LCM</th>\n",
       "      <th>M_LDM</th>\n",
       "      <th>M_LM</th>\n",
       "      <th>M_RCM</th>\n",
       "      <th>M_RDM</th>\n",
       "      <th>M_RM</th>\n",
       "      <th>accuracy</th>\n",
       "      <th>macro avg</th>\n",
       "      <th>weighted avg</th>\n",
       "    </tr>\n",
       "  </thead>\n",
       "  <tbody>\n",
       "    <tr>\n",
       "      <th>precision</th>\n",
       "      <td>0.0</td>\n",
       "      <td>0.0</td>\n",
       "      <td>0.0</td>\n",
       "      <td>0.0</td>\n",
       "      <td>0.0</td>\n",
       "      <td>0.0</td>\n",
       "      <td>0.497674</td>\n",
       "      <td>0.0</td>\n",
       "      <td>0.407972</td>\n",
       "      <td>0.572254</td>\n",
       "      <td>...</td>\n",
       "      <td>0.0</td>\n",
       "      <td>0.236559</td>\n",
       "      <td>0.0</td>\n",
       "      <td>0.230263</td>\n",
       "      <td>0.226607</td>\n",
       "      <td>0.0</td>\n",
       "      <td>0.188259</td>\n",
       "      <td>0.406091</td>\n",
       "      <td>0.181915</td>\n",
       "      <td>0.326516</td>\n",
       "    </tr>\n",
       "    <tr>\n",
       "      <th>recall</th>\n",
       "      <td>0.0</td>\n",
       "      <td>0.0</td>\n",
       "      <td>0.0</td>\n",
       "      <td>0.0</td>\n",
       "      <td>0.0</td>\n",
       "      <td>0.0</td>\n",
       "      <td>0.750000</td>\n",
       "      <td>0.0</td>\n",
       "      <td>0.751620</td>\n",
       "      <td>0.313788</td>\n",
       "      <td>...</td>\n",
       "      <td>0.0</td>\n",
       "      <td>0.104019</td>\n",
       "      <td>0.0</td>\n",
       "      <td>0.284553</td>\n",
       "      <td>0.475177</td>\n",
       "      <td>0.0</td>\n",
       "      <td>0.252033</td>\n",
       "      <td>0.406091</td>\n",
       "      <td>0.234804</td>\n",
       "      <td>0.406091</td>\n",
       "    </tr>\n",
       "    <tr>\n",
       "      <th>f1-score</th>\n",
       "      <td>0.0</td>\n",
       "      <td>0.0</td>\n",
       "      <td>0.0</td>\n",
       "      <td>0.0</td>\n",
       "      <td>0.0</td>\n",
       "      <td>0.0</td>\n",
       "      <td>0.598322</td>\n",
       "      <td>0.0</td>\n",
       "      <td>0.528875</td>\n",
       "      <td>0.405322</td>\n",
       "      <td>...</td>\n",
       "      <td>0.0</td>\n",
       "      <td>0.144499</td>\n",
       "      <td>0.0</td>\n",
       "      <td>0.254545</td>\n",
       "      <td>0.306870</td>\n",
       "      <td>0.0</td>\n",
       "      <td>0.215527</td>\n",
       "      <td>0.406091</td>\n",
       "      <td>0.194631</td>\n",
       "      <td>0.343600</td>\n",
       "    </tr>\n",
       "    <tr>\n",
       "      <th>support</th>\n",
       "      <td>32.0</td>\n",
       "      <td>201.0</td>\n",
       "      <td>166.0</td>\n",
       "      <td>32.0</td>\n",
       "      <td>201.0</td>\n",
       "      <td>166.0</td>\n",
       "      <td>428.000000</td>\n",
       "      <td>167.0</td>\n",
       "      <td>463.000000</td>\n",
       "      <td>631.000000</td>\n",
       "      <td>...</td>\n",
       "      <td>75.0</td>\n",
       "      <td>423.000000</td>\n",
       "      <td>201.0</td>\n",
       "      <td>369.000000</td>\n",
       "      <td>423.000000</td>\n",
       "      <td>201.0</td>\n",
       "      <td>369.000000</td>\n",
       "      <td>0.406091</td>\n",
       "      <td>6895.000000</td>\n",
       "      <td>6895.000000</td>\n",
       "    </tr>\n",
       "  </tbody>\n",
       "</table>\n",
       "<p>4 rows × 27 columns</p>\n",
       "</div>"
      ],
      "text/plain": [
       "           A_LF   A_LS   A_LW  A_RF   A_RS   A_RW        A_ST   D_CB  \\\n",
       "precision   0.0    0.0    0.0   0.0    0.0    0.0    0.497674    0.0   \n",
       "recall      0.0    0.0    0.0   0.0    0.0    0.0    0.750000    0.0   \n",
       "f1-score    0.0    0.0    0.0   0.0    0.0    0.0    0.598322    0.0   \n",
       "support    32.0  201.0  166.0  32.0  201.0  166.0  428.000000  167.0   \n",
       "\n",
       "                 D_LB       D_LCB  ...  M_CM       M_LCM  M_LDM        M_LM  \\\n",
       "precision    0.407972    0.572254  ...   0.0    0.236559    0.0    0.230263   \n",
       "recall       0.751620    0.313788  ...   0.0    0.104019    0.0    0.284553   \n",
       "f1-score     0.528875    0.405322  ...   0.0    0.144499    0.0    0.254545   \n",
       "support    463.000000  631.000000  ...  75.0  423.000000  201.0  369.000000   \n",
       "\n",
       "                M_RCM  M_RDM        M_RM  accuracy    macro avg  weighted avg  \n",
       "precision    0.226607    0.0    0.188259  0.406091     0.181915      0.326516  \n",
       "recall       0.475177    0.0    0.252033  0.406091     0.234804      0.406091  \n",
       "f1-score     0.306870    0.0    0.215527  0.406091     0.194631      0.343600  \n",
       "support    423.000000  201.0  369.000000  0.406091  6895.000000   6895.000000  \n",
       "\n",
       "[4 rows x 27 columns]"
      ]
     },
     "execution_count": 12,
     "metadata": {},
     "output_type": "execute_result"
    }
   ],
   "source": [
    "df_report_dt_ext"
   ]
  },
  {
   "cell_type": "code",
   "execution_count": 13,
   "id": "6475fe8f",
   "metadata": {},
   "outputs": [
    {
     "data": {
      "text/plain": [
       "{'dtc__class_weight': None,\n",
       " 'dtc__max_depth': 13,\n",
       " 'dtc__max_features': 55,\n",
       " 'dtc__max_leaf_nodes': 1000,\n",
       " 'dtc__min_samples_leaf': 0.027908784118733383,\n",
       " 'dtc__min_samples_split': 0.05608362352155855}"
      ]
     },
     "execution_count": 13,
     "metadata": {},
     "output_type": "execute_result"
    }
   ],
   "source": [
    "best_params_dt_ext"
   ]
  },
  {
   "cell_type": "code",
   "execution_count": 14,
   "id": "a86b8f38",
   "metadata": {},
   "outputs": [
    {
     "data": {
      "text/plain": [
       "0.2651632261081637"
      ]
     },
     "execution_count": 14,
     "metadata": {},
     "output_type": "execute_result"
    }
   ],
   "source": [
    "f1_w_dt_ext"
   ]
  }
 ],
 "metadata": {
  "colab": {
   "provenance": []
  },
  "kernelspec": {
   "display_name": "py312",
   "language": "python",
   "name": "python3"
  },
  "language_info": {
   "codemirror_mode": {
    "name": "ipython",
    "version": 3
   },
   "file_extension": ".py",
   "mimetype": "text/x-python",
   "name": "python",
   "nbconvert_exporter": "python",
   "pygments_lexer": "ipython3",
   "version": "3.12.2"
  }
 },
 "nbformat": 4,
 "nbformat_minor": 5
}
