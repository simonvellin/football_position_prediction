{
 "cells": [
  {
   "cell_type": "markdown",
   "id": "5426eafa",
   "metadata": {},
   "source": [
    "# 0. Libraries and importing the data\n",
    "In this case, we will only import the training data, as this step in the machine learning pipeline involves feature selection and hyperparameter tuning."
   ]
  },
  {
   "cell_type": "code",
   "execution_count": 6,
   "id": "495b7128",
   "metadata": {},
   "outputs": [],
   "source": [
    "import pandas as pd\n",
    "import numpy as np\n",
    "\n",
    "# Graphical tools\n",
    "import plotly.graph_objects as go\n",
    "import plotly.express as px\n",
    "import matplotlib.pyplot as plt\n",
    "\n",
    "# Hyperparameter tuning and cross-validation\n",
    "from sklearn.model_selection import RandomizedSearchCV\n",
    "\n",
    "# For creating a pipeline\n",
    "from sklearn.pipeline import Pipeline\n",
    "from sklearn.compose import ColumnTransformer\n",
    "from imblearn.pipeline import Pipeline as ImbPipeline\n",
    "\n",
    "# For preprocessing\n",
    "from sklearn.impute import SimpleImputer\n",
    "from sklearn.impute import KNNImputer\n",
    "from sklearn.preprocessing import StandardScaler\n",
    "\n",
    "# Models\n",
    "from sklearn.multiclass import OneVsRestClassifier\n",
    "from sklearn.linear_model import LogisticRegression\n",
    "from sklearn.neighbors import KNeighborsClassifier\n",
    "from sklearn.tree import DecisionTreeClassifier\n",
    "from sklearn.ensemble import RandomForestClassifier\n",
    "from sklearn.ensemble import AdaBoostClassifier\n",
    "from sklearn.ensemble import GradientBoostingClassifier\n",
    "from lightgbm import LGBMClassifier\n",
    "\n",
    "# Classes for dealing with imbalanced datasets\n",
    "from imblearn.under_sampling import RandomUnderSampler\n",
    "from imblearn.over_sampling import RandomOverSampler\n",
    "from imblearn.over_sampling import SMOTE\n",
    "\n",
    "# Extracting scores for all classes\n",
    "from sklearn.metrics import classification_report\n",
    "\n",
    "# Utilities\n",
    "from scipy.stats import uniform\n",
    "from scipy.stats import randint"
   ]
  },
  {
   "cell_type": "markdown",
   "id": "e8327963",
   "metadata": {},
   "source": [
    "## Preprocessed dataset version 1"
   ]
  },
  {
   "cell_type": "code",
   "execution_count": 7,
   "id": "bb6db920",
   "metadata": {},
   "outputs": [
    {
     "data": {
      "text/html": [
       "<div>\n",
       "<style scoped>\n",
       "    .dataframe tbody tr th:only-of-type {\n",
       "        vertical-align: middle;\n",
       "    }\n",
       "\n",
       "    .dataframe tbody tr th {\n",
       "        vertical-align: top;\n",
       "    }\n",
       "\n",
       "    .dataframe thead th {\n",
       "        text-align: right;\n",
       "    }\n",
       "</style>\n",
       "<table border=\"1\" class=\"dataframe\">\n",
       "  <thead>\n",
       "    <tr style=\"text-align: right;\">\n",
       "      <th></th>\n",
       "      <th>id</th>\n",
       "      <th>short_name</th>\n",
       "      <th>overall</th>\n",
       "      <th>potential</th>\n",
       "      <th>value_eur</th>\n",
       "      <th>wage_eur</th>\n",
       "      <th>height_cm</th>\n",
       "      <th>weight_kg</th>\n",
       "      <th>club_name</th>\n",
       "      <th>league_level</th>\n",
       "      <th>...</th>\n",
       "      <th>real_face_Yes</th>\n",
       "      <th>work_rate_High/High</th>\n",
       "      <th>work_rate_High/Low</th>\n",
       "      <th>work_rate_High/Medium</th>\n",
       "      <th>work_rate_Low/High</th>\n",
       "      <th>work_rate_Low/Low</th>\n",
       "      <th>work_rate_Low/Medium</th>\n",
       "      <th>work_rate_Medium/High</th>\n",
       "      <th>work_rate_Medium/Low</th>\n",
       "      <th>work_rate_Medium/Medium</th>\n",
       "    </tr>\n",
       "  </thead>\n",
       "  <tbody>\n",
       "    <tr>\n",
       "      <th>0</th>\n",
       "      <td>216302</td>\n",
       "      <td>E. García</td>\n",
       "      <td>71</td>\n",
       "      <td>71</td>\n",
       "      <td>1400000.0</td>\n",
       "      <td>10000</td>\n",
       "      <td>176</td>\n",
       "      <td>73</td>\n",
       "      <td>Club Atlético de San Luis</td>\n",
       "      <td>1</td>\n",
       "      <td>...</td>\n",
       "      <td>False</td>\n",
       "      <td>False</td>\n",
       "      <td>False</td>\n",
       "      <td>False</td>\n",
       "      <td>False</td>\n",
       "      <td>False</td>\n",
       "      <td>False</td>\n",
       "      <td>True</td>\n",
       "      <td>False</td>\n",
       "      <td>False</td>\n",
       "    </tr>\n",
       "    <tr>\n",
       "      <th>1</th>\n",
       "      <td>237867</td>\n",
       "      <td>D. Cancola</td>\n",
       "      <td>65</td>\n",
       "      <td>71</td>\n",
       "      <td>1000000.0</td>\n",
       "      <td>2000</td>\n",
       "      <td>183</td>\n",
       "      <td>73</td>\n",
       "      <td>Ross County FC</td>\n",
       "      <td>1</td>\n",
       "      <td>...</td>\n",
       "      <td>False</td>\n",
       "      <td>False</td>\n",
       "      <td>False</td>\n",
       "      <td>False</td>\n",
       "      <td>False</td>\n",
       "      <td>False</td>\n",
       "      <td>False</td>\n",
       "      <td>False</td>\n",
       "      <td>False</td>\n",
       "      <td>True</td>\n",
       "    </tr>\n",
       "    <tr>\n",
       "      <th>2</th>\n",
       "      <td>253472</td>\n",
       "      <td>E. Kahl</td>\n",
       "      <td>65</td>\n",
       "      <td>77</td>\n",
       "      <td>1600000.0</td>\n",
       "      <td>2000</td>\n",
       "      <td>178</td>\n",
       "      <td>69</td>\n",
       "      <td>Aarhus GF</td>\n",
       "      <td>1</td>\n",
       "      <td>...</td>\n",
       "      <td>False</td>\n",
       "      <td>False</td>\n",
       "      <td>False</td>\n",
       "      <td>True</td>\n",
       "      <td>False</td>\n",
       "      <td>False</td>\n",
       "      <td>False</td>\n",
       "      <td>False</td>\n",
       "      <td>False</td>\n",
       "      <td>False</td>\n",
       "    </tr>\n",
       "    <tr>\n",
       "      <th>3</th>\n",
       "      <td>223994</td>\n",
       "      <td>S. Mugoša</td>\n",
       "      <td>72</td>\n",
       "      <td>72</td>\n",
       "      <td>2300000.0</td>\n",
       "      <td>5000</td>\n",
       "      <td>188</td>\n",
       "      <td>81</td>\n",
       "      <td>Incheon United FC</td>\n",
       "      <td>1</td>\n",
       "      <td>...</td>\n",
       "      <td>False</td>\n",
       "      <td>False</td>\n",
       "      <td>False</td>\n",
       "      <td>True</td>\n",
       "      <td>False</td>\n",
       "      <td>False</td>\n",
       "      <td>False</td>\n",
       "      <td>False</td>\n",
       "      <td>False</td>\n",
       "      <td>False</td>\n",
       "    </tr>\n",
       "    <tr>\n",
       "      <th>4</th>\n",
       "      <td>251635</td>\n",
       "      <td>A. Țigănașu</td>\n",
       "      <td>65</td>\n",
       "      <td>65</td>\n",
       "      <td>525000.0</td>\n",
       "      <td>3000</td>\n",
       "      <td>179</td>\n",
       "      <td>74</td>\n",
       "      <td>FC Botoşani</td>\n",
       "      <td>1</td>\n",
       "      <td>...</td>\n",
       "      <td>False</td>\n",
       "      <td>False</td>\n",
       "      <td>False</td>\n",
       "      <td>False</td>\n",
       "      <td>False</td>\n",
       "      <td>False</td>\n",
       "      <td>False</td>\n",
       "      <td>True</td>\n",
       "      <td>False</td>\n",
       "      <td>False</td>\n",
       "    </tr>\n",
       "    <tr>\n",
       "      <th>...</th>\n",
       "      <td>...</td>\n",
       "      <td>...</td>\n",
       "      <td>...</td>\n",
       "      <td>...</td>\n",
       "      <td>...</td>\n",
       "      <td>...</td>\n",
       "      <td>...</td>\n",
       "      <td>...</td>\n",
       "      <td>...</td>\n",
       "      <td>...</td>\n",
       "      <td>...</td>\n",
       "      <td>...</td>\n",
       "      <td>...</td>\n",
       "      <td>...</td>\n",
       "      <td>...</td>\n",
       "      <td>...</td>\n",
       "      <td>...</td>\n",
       "      <td>...</td>\n",
       "      <td>...</td>\n",
       "      <td>...</td>\n",
       "      <td>...</td>\n",
       "    </tr>\n",
       "    <tr>\n",
       "      <th>6890</th>\n",
       "      <td>242007</td>\n",
       "      <td>C. Whelan</td>\n",
       "      <td>59</td>\n",
       "      <td>66</td>\n",
       "      <td>425000.0</td>\n",
       "      <td>2000</td>\n",
       "      <td>180</td>\n",
       "      <td>65</td>\n",
       "      <td>Carlisle United</td>\n",
       "      <td>4</td>\n",
       "      <td>...</td>\n",
       "      <td>False</td>\n",
       "      <td>False</td>\n",
       "      <td>False</td>\n",
       "      <td>False</td>\n",
       "      <td>False</td>\n",
       "      <td>False</td>\n",
       "      <td>False</td>\n",
       "      <td>False</td>\n",
       "      <td>False</td>\n",
       "      <td>True</td>\n",
       "    </tr>\n",
       "    <tr>\n",
       "      <th>6891</th>\n",
       "      <td>187961</td>\n",
       "      <td>Paulinho</td>\n",
       "      <td>83</td>\n",
       "      <td>83</td>\n",
       "      <td>28500000.0</td>\n",
       "      <td>61000</td>\n",
       "      <td>183</td>\n",
       "      <td>80</td>\n",
       "      <td>Al Ahli</td>\n",
       "      <td>1</td>\n",
       "      <td>...</td>\n",
       "      <td>True</td>\n",
       "      <td>True</td>\n",
       "      <td>False</td>\n",
       "      <td>False</td>\n",
       "      <td>False</td>\n",
       "      <td>False</td>\n",
       "      <td>False</td>\n",
       "      <td>False</td>\n",
       "      <td>False</td>\n",
       "      <td>False</td>\n",
       "    </tr>\n",
       "    <tr>\n",
       "      <th>6892</th>\n",
       "      <td>257234</td>\n",
       "      <td>Y. Hamache</td>\n",
       "      <td>70</td>\n",
       "      <td>80</td>\n",
       "      <td>3400000.0</td>\n",
       "      <td>6000</td>\n",
       "      <td>177</td>\n",
       "      <td>73</td>\n",
       "      <td>Boavista FC</td>\n",
       "      <td>1</td>\n",
       "      <td>...</td>\n",
       "      <td>False</td>\n",
       "      <td>False</td>\n",
       "      <td>False</td>\n",
       "      <td>True</td>\n",
       "      <td>False</td>\n",
       "      <td>False</td>\n",
       "      <td>False</td>\n",
       "      <td>False</td>\n",
       "      <td>False</td>\n",
       "      <td>False</td>\n",
       "    </tr>\n",
       "    <tr>\n",
       "      <th>6893</th>\n",
       "      <td>232511</td>\n",
       "      <td>S. Sasaki</td>\n",
       "      <td>71</td>\n",
       "      <td>71</td>\n",
       "      <td>1300000.0</td>\n",
       "      <td>7000</td>\n",
       "      <td>176</td>\n",
       "      <td>70</td>\n",
       "      <td>Sanfrecce Hiroshima</td>\n",
       "      <td>1</td>\n",
       "      <td>...</td>\n",
       "      <td>False</td>\n",
       "      <td>False</td>\n",
       "      <td>False</td>\n",
       "      <td>False</td>\n",
       "      <td>False</td>\n",
       "      <td>False</td>\n",
       "      <td>False</td>\n",
       "      <td>True</td>\n",
       "      <td>False</td>\n",
       "      <td>False</td>\n",
       "    </tr>\n",
       "    <tr>\n",
       "      <th>6894</th>\n",
       "      <td>246750</td>\n",
       "      <td>S. Haudum</td>\n",
       "      <td>66</td>\n",
       "      <td>70</td>\n",
       "      <td>1100000.0</td>\n",
       "      <td>4000</td>\n",
       "      <td>188</td>\n",
       "      <td>74</td>\n",
       "      <td>SC Rheindorf Altach</td>\n",
       "      <td>1</td>\n",
       "      <td>...</td>\n",
       "      <td>False</td>\n",
       "      <td>False</td>\n",
       "      <td>False</td>\n",
       "      <td>False</td>\n",
       "      <td>False</td>\n",
       "      <td>False</td>\n",
       "      <td>False</td>\n",
       "      <td>False</td>\n",
       "      <td>False</td>\n",
       "      <td>True</td>\n",
       "    </tr>\n",
       "  </tbody>\n",
       "</table>\n",
       "<p>6895 rows × 70 columns</p>\n",
       "</div>"
      ],
      "text/plain": [
       "          id   short_name  overall  potential   value_eur  wage_eur  \\\n",
       "0     216302    E. García       71         71   1400000.0     10000   \n",
       "1     237867   D. Cancola       65         71   1000000.0      2000   \n",
       "2     253472      E. Kahl       65         77   1600000.0      2000   \n",
       "3     223994    S. Mugoša       72         72   2300000.0      5000   \n",
       "4     251635  A. Țigănașu       65         65    525000.0      3000   \n",
       "...      ...          ...      ...        ...         ...       ...   \n",
       "6890  242007    C. Whelan       59         66    425000.0      2000   \n",
       "6891  187961     Paulinho       83         83  28500000.0     61000   \n",
       "6892  257234   Y. Hamache       70         80   3400000.0      6000   \n",
       "6893  232511    S. Sasaki       71         71   1300000.0      7000   \n",
       "6894  246750    S. Haudum       66         70   1100000.0      4000   \n",
       "\n",
       "      height_cm  weight_kg                  club_name  league_level  ...  \\\n",
       "0           176         73  Club Atlético de San Luis             1  ...   \n",
       "1           183         73             Ross County FC             1  ...   \n",
       "2           178         69                  Aarhus GF             1  ...   \n",
       "3           188         81          Incheon United FC             1  ...   \n",
       "4           179         74                FC Botoşani             1  ...   \n",
       "...         ...        ...                        ...           ...  ...   \n",
       "6890        180         65            Carlisle United             4  ...   \n",
       "6891        183         80                    Al Ahli             1  ...   \n",
       "6892        177         73                Boavista FC             1  ...   \n",
       "6893        176         70        Sanfrecce Hiroshima             1  ...   \n",
       "6894        188         74        SC Rheindorf Altach             1  ...   \n",
       "\n",
       "      real_face_Yes  work_rate_High/High work_rate_High/Low  \\\n",
       "0             False                False              False   \n",
       "1             False                False              False   \n",
       "2             False                False              False   \n",
       "3             False                False              False   \n",
       "4             False                False              False   \n",
       "...             ...                  ...                ...   \n",
       "6890          False                False              False   \n",
       "6891           True                 True              False   \n",
       "6892          False                False              False   \n",
       "6893          False                False              False   \n",
       "6894          False                False              False   \n",
       "\n",
       "      work_rate_High/Medium  work_rate_Low/High  work_rate_Low/Low  \\\n",
       "0                     False               False              False   \n",
       "1                     False               False              False   \n",
       "2                      True               False              False   \n",
       "3                      True               False              False   \n",
       "4                     False               False              False   \n",
       "...                     ...                 ...                ...   \n",
       "6890                  False               False              False   \n",
       "6891                  False               False              False   \n",
       "6892                   True               False              False   \n",
       "6893                  False               False              False   \n",
       "6894                  False               False              False   \n",
       "\n",
       "      work_rate_Low/Medium  work_rate_Medium/High  work_rate_Medium/Low  \\\n",
       "0                    False                   True                 False   \n",
       "1                    False                  False                 False   \n",
       "2                    False                  False                 False   \n",
       "3                    False                  False                 False   \n",
       "4                    False                   True                 False   \n",
       "...                    ...                    ...                   ...   \n",
       "6890                 False                  False                 False   \n",
       "6891                 False                  False                 False   \n",
       "6892                 False                  False                 False   \n",
       "6893                 False                   True                 False   \n",
       "6894                 False                  False                 False   \n",
       "\n",
       "      work_rate_Medium/Medium  \n",
       "0                       False  \n",
       "1                        True  \n",
       "2                       False  \n",
       "3                       False  \n",
       "4                       False  \n",
       "...                       ...  \n",
       "6890                     True  \n",
       "6891                    False  \n",
       "6892                    False  \n",
       "6893                    False  \n",
       "6894                     True  \n",
       "\n",
       "[6895 rows x 70 columns]"
      ]
     },
     "execution_count": 7,
     "metadata": {},
     "output_type": "execute_result"
    }
   ],
   "source": [
    "dfv1 = pd.read_csv('2_preprocessed_datasets/v1_train.csv')\n",
    "dfv1"
   ]
  },
  {
   "cell_type": "code",
   "execution_count": 8,
   "id": "ad64511a",
   "metadata": {},
   "outputs": [
    {
     "name": "stdout",
     "output_type": "stream",
     "text": [
      "<class 'pandas.core.frame.DataFrame'>\n",
      "RangeIndex: 6895 entries, 0 to 6894\n",
      "Data columns (total 70 columns):\n",
      " #   Column                       Non-Null Count  Dtype  \n",
      "---  ------                       --------------  -----  \n",
      " 0   id                           6895 non-null   int64  \n",
      " 1   short_name                   6895 non-null   object \n",
      " 2   overall                      6895 non-null   int64  \n",
      " 3   potential                    6895 non-null   int64  \n",
      " 4   value_eur                    6893 non-null   float64\n",
      " 5   wage_eur                     6895 non-null   int64  \n",
      " 6   height_cm                    6895 non-null   int64  \n",
      " 7   weight_kg                    6895 non-null   int64  \n",
      " 8   club_name                    6895 non-null   object \n",
      " 9   league_level                 6895 non-null   int64  \n",
      " 10  club_jersey_number           6895 non-null   int64  \n",
      " 11  club_contract_valid_until    6895 non-null   int64  \n",
      " 12  nationality_name             6895 non-null   object \n",
      " 13  weak_foot                    6895 non-null   int64  \n",
      " 14  skill_moves                  6895 non-null   int64  \n",
      " 15  international_reputation     6895 non-null   int64  \n",
      " 16  release_clause_eur           6542 non-null   float64\n",
      " 17  pace                         6264 non-null   float64\n",
      " 18  shooting                     6264 non-null   float64\n",
      " 19  passing                      6264 non-null   float64\n",
      " 20  dribbling                    6264 non-null   float64\n",
      " 21  defending                    6264 non-null   float64\n",
      " 22  physic                       6264 non-null   float64\n",
      " 23  attacking_crossing           6895 non-null   int64  \n",
      " 24  attacking_finishing          6895 non-null   int64  \n",
      " 25  attacking_heading_accuracy   6895 non-null   int64  \n",
      " 26  attacking_short_passing      6895 non-null   int64  \n",
      " 27  attacking_volleys            6895 non-null   int64  \n",
      " 28  skill_dribbling              6895 non-null   int64  \n",
      " 29  skill_curve                  6895 non-null   int64  \n",
      " 30  skill_fk_accuracy            6895 non-null   int64  \n",
      " 31  skill_long_passing           6895 non-null   int64  \n",
      " 32  skill_ball_control           6895 non-null   int64  \n",
      " 33  movement_acceleration        6895 non-null   int64  \n",
      " 34  movement_sprint_speed        6895 non-null   int64  \n",
      " 35  movement_agility             6895 non-null   int64  \n",
      " 36  movement_reactions           6895 non-null   int64  \n",
      " 37  movement_balance             6895 non-null   int64  \n",
      " 38  power_shot_power             6895 non-null   int64  \n",
      " 39  power_jumping                6895 non-null   int64  \n",
      " 40  power_stamina                6895 non-null   int64  \n",
      " 41  power_strength               6895 non-null   int64  \n",
      " 42  power_long_shots             6895 non-null   int64  \n",
      " 43  mentality_aggression         6895 non-null   int64  \n",
      " 44  mentality_interceptions      6895 non-null   int64  \n",
      " 45  mentality_positioning        6895 non-null   int64  \n",
      " 46  mentality_vision             6895 non-null   int64  \n",
      " 47  mentality_penalties          6895 non-null   int64  \n",
      " 48  mentality_composure          6895 non-null   int64  \n",
      " 49  defending_marking_awareness  6895 non-null   int64  \n",
      " 50  defending_standing_tackle    6895 non-null   int64  \n",
      " 51  defending_sliding_tackle     6895 non-null   int64  \n",
      " 52  position                     6895 non-null   object \n",
      " 53  position_grouped             6895 non-null   object \n",
      " 54  league_country               6895 non-null   object \n",
      " 55  height_weight_ratio          6895 non-null   float64\n",
      " 56  age                          6895 non-null   int64  \n",
      " 57  preferred_foot_Left          6895 non-null   bool   \n",
      " 58  preferred_foot_Right         6895 non-null   bool   \n",
      " 59  real_face_No                 6895 non-null   bool   \n",
      " 60  real_face_Yes                6895 non-null   bool   \n",
      " 61  work_rate_High/High          6895 non-null   bool   \n",
      " 62  work_rate_High/Low           6895 non-null   bool   \n",
      " 63  work_rate_High/Medium        6895 non-null   bool   \n",
      " 64  work_rate_Low/High           6895 non-null   bool   \n",
      " 65  work_rate_Low/Low            6895 non-null   bool   \n",
      " 66  work_rate_Low/Medium         6895 non-null   bool   \n",
      " 67  work_rate_Medium/High        6895 non-null   bool   \n",
      " 68  work_rate_Medium/Low         6895 non-null   bool   \n",
      " 69  work_rate_Medium/Medium      6895 non-null   bool   \n",
      "dtypes: bool(13), float64(9), int64(42), object(6)\n",
      "memory usage: 3.1+ MB\n"
     ]
    }
   ],
   "source": [
    "dfv1.info()"
   ]
  },
  {
   "cell_type": "code",
   "execution_count": 5,
   "id": "8b5919e8",
   "metadata": {},
   "outputs": [
    {
     "name": "stdout",
     "output_type": "stream",
     "text": [
      "Columns with missing values:\n",
      "value_eur               2\n",
      "release_clause_eur    353\n",
      "pace                  631\n",
      "shooting              631\n",
      "passing               631\n",
      "dribbling             631\n",
      "defending             631\n",
      "physic                631\n",
      "dtype: int64\n",
      "\n",
      "Percentage of missing values:\n",
      "value_eur             0.029007\n",
      "release_clause_eur    5.119652\n",
      "pace                  9.151559\n",
      "shooting              9.151559\n",
      "passing               9.151559\n",
      "dribbling             9.151559\n",
      "defending             9.151559\n",
      "physic                9.151559\n",
      "dtype: float64\n"
     ]
    }
   ],
   "source": [
    "# Count of null values per column\n",
    "dfv1_na = dfv1.isnull().sum()\n",
    "\n",
    "# Filter only columns with missing values\n",
    "missing_values_tr = dfv1_na[dfv1_na > 0]\n",
    "\n",
    "# Compute percentage of missing values\n",
    "missing_values_percentage = (missing_values_tr / len(dfv1)) * 100\n",
    "\n",
    "# Display the result\n",
    "print(\"Columns with missing values:\")\n",
    "print(missing_values_tr)\n",
    "print(\"\\nPercentage of missing values:\")\n",
    "print(missing_values_percentage)"
   ]
  },
  {
   "cell_type": "markdown",
   "id": "9073489f",
   "metadata": {},
   "source": [
    "## Lists of features"
   ]
  },
  {
   "cell_type": "markdown",
   "id": "49a5c7e1",
   "metadata": {},
   "source": [
    "### Limited - feature selection based on EDA and preprocessing"
   ]
  },
  {
   "cell_type": "markdown",
   "id": "9dfbcea0",
   "metadata": {},
   "source": [
    "All of the models below have been trained with the same features, where we discard those which we have seen that do not have much predictive power or that are highly correlated with other features (so that they are not expected to add much predictive power). The main reasons for this choice are the correlation matrix from the EDA, the boxplots from EDA and preprocessing and the heatmaps of deviations for categorical variables, which have been used here as **filtering methods**. Specifically, we have excluded:\n",
    "\n",
    "**NUMERICAL VARIABLES**:\n",
    "- *overall, potential*, as they do not have much predictive power.\n",
    "- *wage_eur* is not expected to have a high predictive power. On the other hand, *release_clause_eur* has a linear correlation of 1 with *value_eur*, so the first is discarded.\n",
    "- Attacking variables (2/5 removed):\n",
    "    - *attacking_short_passing* is highly correlated with *attacking_crossing* (0.78), and the former has less predictive power than the latter. Thus, the first will not be included.\n",
    "    - By the same reason, *attacking_volleys* (with a correlation of 0.89 with *attacking_finishing*) won't be included either.\n",
    "- Skill variables (3/5 removed):\n",
    "    - *skill_dribbling, skill_fk_accuracy* and *skill_ball_control* are removed due to their high correlation with *skill_curve* and because they have similar variability across positions.\n",
    "    - *skill_long_passing* shows different variability, so it is kept.\n",
    "- Movement variables (4/5 removed):\n",
    "    - *movement_sprint_speed*, *movement_agility* and *movement_balance* are removed, due to their very high correlation with *movement_acceleration* and similar variability (though *movement_balance* has a correlation of \"only\" 0.71).\n",
    "    - *movement_reactions* is also removed due to an apparently low predictive power.\n",
    "- Power variables (3/5 removed):\n",
    "    - *power_shot_power* is removed, due to the high correlation (0.8) and similar variability to *power_long_shots* (which seems to have higher variability).\n",
    "    - *power_stamina* is also removed, since it does not have significant variability across non-GK positions.\n",
    "    - *power_jumping* exhibits very similar variability across positions to *power_strenght*, but the latter seems more discriminatory. Therefore, the former is dropped.\n",
    "- Mentality variables (3/5 removed):\n",
    "    - *mentality_aggression* is highly correlated with *mentality_interceptions* and shows similar variability across positions (but with less apparent discriminatory power), so the first is dropped. \n",
    "    - *mentality_positioning* and *mentality_vision* are highly correlated with *mentality_penalties* and have similar variability across positions, so the first two are removed.\n",
    "    - *mentality_composture* does not exhibit significant variability, so it is removed.\n",
    "- Defending features (2/3 removed): all defending features are very highly correlated (> 0.9), so we only keep the one with the highest apparent discriminatory power, *defending_marking_awareness*.\n",
    "- *pace*, *shooting*, *passing*, *dribbling* and *defending* are all kept.\n",
    "\n",
    "**CATEGORICAL VARIABLES**:\n",
    "- Excluded all features which are not expected to have a high predictive power: *club_contract_valid_until*, *league_level*, *club_jersey_number*, *short_name*, *club_name*, *nationality_name*, *league_country*, *real_face*.\n",
    "- It is also important to remember to drop one dummy for KNN and logistic regression (but it is better to keep it for the decision tree)."
   ]
  },
  {
   "cell_type": "code",
   "execution_count": 9,
   "id": "cc0a3acc",
   "metadata": {},
   "outputs": [],
   "source": [
    "# List of numerical features (22 in total)\n",
    "numerical_features = [\n",
    "    'height_cm', 'weight_kg',\n",
    "    'attacking_crossing', 'attacking_finishing', 'attacking_heading_accuracy',\n",
    "    'skill_curve', 'skill_long_passing','movement_acceleration', 'power_strength', 'power_long_shots',\n",
    "    'mentality_interceptions', 'mentality_penalties', 'defending_marking_awareness', \n",
    "    'value_eur', 'pace', 'shooting', 'passing', 'dribbling', 'defending', \n",
    "    'physic', 'age', 'height_weight_ratio'\n",
    "]\n",
    "\n",
    "# List of categorical ordinal features (3 in total)\n",
    "categorical_ordinal_features = [\n",
    "    'weak_foot', 'skill_moves', 'international_reputation'\n",
    "]\n",
    "\n",
    "# List of categorical nominal features (11 in total)\n",
    "categorical_nominal_features_all_dummies = [\n",
    "    'preferred_foot_Right',\t\n",
    "    'preferred_foot_Left', 'work_rate_High/High', 'work_rate_High/Low', 'work_rate_High/Medium',\n",
    "    'work_rate_Low/High', 'work_rate_Low/Low', 'work_rate_Low/Medium',\n",
    "    'work_rate_Medium/High', 'work_rate_Medium/Low',\n",
    "    'work_rate_Medium/Medium'\n",
    "]\n",
    "\n",
    "# List of categorical nominal features (9 in total)\n",
    "categorical_nominal_features = [\n",
    "    'preferred_foot_Right',\t'work_rate_High/Low', 'work_rate_High/Medium',\n",
    "    'work_rate_Low/High', 'work_rate_Low/Low', 'work_rate_Low/Medium',\n",
    "    'work_rate_Medium/High', 'work_rate_Medium/Low',\n",
    "    'work_rate_Medium/Medium'\n",
    "]\n",
    "\n",
    "# Complete list of categorical features (with all dummies, for decision trees) (36 features)\n",
    "categorical_features_all_dummies = categorical_nominal_features_all_dummies + categorical_ordinal_features\n",
    "\n",
    "# Complete list of categorical features (with k-1 dummies, for KNN and logistic regresion) (34 features)\n",
    "categorical_features = categorical_nominal_features + categorical_ordinal_features"
   ]
  },
  {
   "cell_type": "markdown",
   "id": "8cea62d1",
   "metadata": {},
   "source": [
    "### Extended\n",
    "Now, we keep all of the available features (except those that have not been preprocessed yet). Below, we only exclude:\n",
    "- Excluded all features which are not expected to have a high predictive power: *club_contract_valid_until*, *short_name*, *club_name*, *nationality_name*, *league_country*, *real_face*.\n",
    "- It is also important to remember to drop one dummy for KNN and logistic regression (but it is better to keep it for the decision tree)."
   ]
  },
  {
   "cell_type": "code",
   "execution_count": 10,
   "id": "d252e76d",
   "metadata": {},
   "outputs": [],
   "source": [
    "# List of numerical features\n",
    "numerical_features_ext = [\n",
    "    'overall', 'potential', 'wage_eur', 'height_cm', 'weight_kg',\n",
    "    'attacking_crossing', 'attacking_finishing', 'attacking_heading_accuracy', 'attacking_short_passing', 'attacking_volleys',\n",
    "    'skill_dribbling', 'skill_curve', 'skill_fk_accuracy', 'skill_long_passing', 'skill_ball_control',\n",
    "    'movement_acceleration', 'movement_sprint_speed', 'movement_agility', 'movement_reactions', 'movement_balance',\n",
    "    'power_shot_power', 'power_jumping', 'power_stamina', 'power_strength', 'power_long_shots',\n",
    "    'mentality_aggression', 'mentality_interceptions', 'mentality_positioning', 'mentality_vision', 'mentality_penalties', 'mentality_composure',\n",
    "    'defending_marking_awareness', 'defending_standing_tackle', 'defending_sliding_tackle',\n",
    "    'value_eur', 'release_clause_eur', 'pace', 'shooting', 'passing', 'dribbling', 'defending', \n",
    "    'physic', 'age', 'height_weight_ratio'\n",
    "]\n",
    "\n",
    "# List of categorical ordinal features \n",
    "categorical_ordinal_features_ext = [\n",
    "    'league_level', 'weak_foot', 'skill_moves', 'international_reputation'\n",
    "]\n",
    "\n",
    "# List of categorical nominal features\n",
    "categorical_nominal_features_ext_all_dummies = [\n",
    "    'club_jersey_number', 'preferred_foot_Right',\t\n",
    "    'preferred_foot_Left',\n",
    "    'work_rate_High/High', 'work_rate_High/Low', 'work_rate_High/Medium',\n",
    "    'work_rate_Low/High', 'work_rate_Low/Low', 'work_rate_Low/Medium',\n",
    "    'work_rate_Medium/High', 'work_rate_Medium/Low',\n",
    "    'work_rate_Medium/Medium',\n",
    "]\n",
    "\n",
    "categorical_nominal_features_ext = [\n",
    "    'club_jersey_number',\n",
    "    'preferred_foot_Left',\n",
    "    'work_rate_High/Low', 'work_rate_High/Medium',\n",
    "    'work_rate_Low/High', 'work_rate_Low/Low', 'work_rate_Low/Medium',\n",
    "    'work_rate_Medium/High', 'work_rate_Medium/Low',\n",
    "    'work_rate_Medium/Medium',\n",
    "]\n",
    "\n",
    "\n",
    "# Complete list of categorical features\n",
    "categorical_features_all_dummies_ext = categorical_nominal_features_ext_all_dummies + categorical_ordinal_features_ext\n",
    "categorical_features_ext = categorical_nominal_features_ext + categorical_ordinal_features_ext"
   ]
  },
  {
   "cell_type": "markdown",
   "id": "994f79b6",
   "metadata": {},
   "source": [
    "## Preliminary considerations: class imbalance\n",
    "First of all, for evaluating the model it is worth noticing, again, that the dataset is highly imbalanced. The plots below show this characteristic of the dataset, where the first plot shows the relative frequencies of the positions (labels) with all of the possible positions and the second one shows the relative frequencies once we take out from the dataset goalkeepers (which will not be included in the model training, as it is possible to make a perfect prediction for that class *GK* with any of the variables *pace, shooting, passing, dribbling, defending* or *physic*, where missing values here correspond to goalkeepers)."
   ]
  },
  {
   "cell_type": "markdown",
   "id": "917281ac",
   "metadata": {},
   "source": [
    "### Imbalancing in the training dataset"
   ]
  },
  {
   "cell_type": "code",
   "execution_count": 20,
   "id": "b5ec2f70",
   "metadata": {},
   "outputs": [
    {
     "data": {
      "application/vnd.plotly.v1+json": {
       "config": {
        "plotlyServerURL": "https://plot.ly"
       },
       "data": [
        {
         "alignmentgroup": "True",
         "hovertemplate": "Position=%{x}<br>Relative Frequency=%{y}<extra></extra>",
         "legendgroup": "",
         "marker": {
          "color": "#636efa",
          "pattern": {
           "shape": ""
          }
         },
         "name": "",
         "offsetgroup": "",
         "orientation": "v",
         "showlegend": false,
         "textposition": "auto",
         "type": "bar",
         "x": [
          "G_GK",
          "D_LCB",
          "D_RCB",
          "D_LB",
          "D_RB",
          "A_ST",
          "M_LCM",
          "M_RCM",
          "M_RM",
          "M_LM",
          "M_CAM",
          "M_LDM",
          "A_RS",
          "M_RDM",
          "A_LS",
          "D_CB",
          "A_LW",
          "A_RW",
          "M_CDM",
          "D_LWB",
          "D_RWB",
          "M_CM",
          "A_LF",
          "A_RF"
         ],
         "xaxis": "x",
         "y": [
          0.0915155910079768,
          0.0915155910079768,
          0.0915155910079768,
          0.06715010877447426,
          0.06715010877447426,
          0.06207396664249456,
          0.06134880348078318,
          0.06134880348078318,
          0.05351704133430022,
          0.05351704133430022,
          0.03814358230601885,
          0.02915155910079768,
          0.02915155910079768,
          0.02915155910079768,
          0.02915155910079768,
          0.024220449601160262,
          0.024075416968817983,
          0.024075416968817983,
          0.02189992748368383,
          0.01508339376359681,
          0.01508339376359681,
          0.010877447425670777,
          0.004641044234952864,
          0.004641044234952864
         ],
         "yaxis": "y"
        }
       ],
       "layout": {
        "barmode": "relative",
        "legend": {
         "tracegroupgap": 0
        },
        "template": {
         "data": {
          "bar": [
           {
            "error_x": {
             "color": "#2a3f5f"
            },
            "error_y": {
             "color": "#2a3f5f"
            },
            "marker": {
             "line": {
              "color": "#E5ECF6",
              "width": 0.5
             },
             "pattern": {
              "fillmode": "overlay",
              "size": 10,
              "solidity": 0.2
             }
            },
            "type": "bar"
           }
          ],
          "barpolar": [
           {
            "marker": {
             "line": {
              "color": "#E5ECF6",
              "width": 0.5
             },
             "pattern": {
              "fillmode": "overlay",
              "size": 10,
              "solidity": 0.2
             }
            },
            "type": "barpolar"
           }
          ],
          "carpet": [
           {
            "aaxis": {
             "endlinecolor": "#2a3f5f",
             "gridcolor": "white",
             "linecolor": "white",
             "minorgridcolor": "white",
             "startlinecolor": "#2a3f5f"
            },
            "baxis": {
             "endlinecolor": "#2a3f5f",
             "gridcolor": "white",
             "linecolor": "white",
             "minorgridcolor": "white",
             "startlinecolor": "#2a3f5f"
            },
            "type": "carpet"
           }
          ],
          "choropleth": [
           {
            "colorbar": {
             "outlinewidth": 0,
             "ticks": ""
            },
            "type": "choropleth"
           }
          ],
          "contour": [
           {
            "colorbar": {
             "outlinewidth": 0,
             "ticks": ""
            },
            "colorscale": [
             [
              0,
              "#0d0887"
             ],
             [
              0.1111111111111111,
              "#46039f"
             ],
             [
              0.2222222222222222,
              "#7201a8"
             ],
             [
              0.3333333333333333,
              "#9c179e"
             ],
             [
              0.4444444444444444,
              "#bd3786"
             ],
             [
              0.5555555555555556,
              "#d8576b"
             ],
             [
              0.6666666666666666,
              "#ed7953"
             ],
             [
              0.7777777777777778,
              "#fb9f3a"
             ],
             [
              0.8888888888888888,
              "#fdca26"
             ],
             [
              1,
              "#f0f921"
             ]
            ],
            "type": "contour"
           }
          ],
          "contourcarpet": [
           {
            "colorbar": {
             "outlinewidth": 0,
             "ticks": ""
            },
            "type": "contourcarpet"
           }
          ],
          "heatmap": [
           {
            "colorbar": {
             "outlinewidth": 0,
             "ticks": ""
            },
            "colorscale": [
             [
              0,
              "#0d0887"
             ],
             [
              0.1111111111111111,
              "#46039f"
             ],
             [
              0.2222222222222222,
              "#7201a8"
             ],
             [
              0.3333333333333333,
              "#9c179e"
             ],
             [
              0.4444444444444444,
              "#bd3786"
             ],
             [
              0.5555555555555556,
              "#d8576b"
             ],
             [
              0.6666666666666666,
              "#ed7953"
             ],
             [
              0.7777777777777778,
              "#fb9f3a"
             ],
             [
              0.8888888888888888,
              "#fdca26"
             ],
             [
              1,
              "#f0f921"
             ]
            ],
            "type": "heatmap"
           }
          ],
          "heatmapgl": [
           {
            "colorbar": {
             "outlinewidth": 0,
             "ticks": ""
            },
            "colorscale": [
             [
              0,
              "#0d0887"
             ],
             [
              0.1111111111111111,
              "#46039f"
             ],
             [
              0.2222222222222222,
              "#7201a8"
             ],
             [
              0.3333333333333333,
              "#9c179e"
             ],
             [
              0.4444444444444444,
              "#bd3786"
             ],
             [
              0.5555555555555556,
              "#d8576b"
             ],
             [
              0.6666666666666666,
              "#ed7953"
             ],
             [
              0.7777777777777778,
              "#fb9f3a"
             ],
             [
              0.8888888888888888,
              "#fdca26"
             ],
             [
              1,
              "#f0f921"
             ]
            ],
            "type": "heatmapgl"
           }
          ],
          "histogram": [
           {
            "marker": {
             "pattern": {
              "fillmode": "overlay",
              "size": 10,
              "solidity": 0.2
             }
            },
            "type": "histogram"
           }
          ],
          "histogram2d": [
           {
            "colorbar": {
             "outlinewidth": 0,
             "ticks": ""
            },
            "colorscale": [
             [
              0,
              "#0d0887"
             ],
             [
              0.1111111111111111,
              "#46039f"
             ],
             [
              0.2222222222222222,
              "#7201a8"
             ],
             [
              0.3333333333333333,
              "#9c179e"
             ],
             [
              0.4444444444444444,
              "#bd3786"
             ],
             [
              0.5555555555555556,
              "#d8576b"
             ],
             [
              0.6666666666666666,
              "#ed7953"
             ],
             [
              0.7777777777777778,
              "#fb9f3a"
             ],
             [
              0.8888888888888888,
              "#fdca26"
             ],
             [
              1,
              "#f0f921"
             ]
            ],
            "type": "histogram2d"
           }
          ],
          "histogram2dcontour": [
           {
            "colorbar": {
             "outlinewidth": 0,
             "ticks": ""
            },
            "colorscale": [
             [
              0,
              "#0d0887"
             ],
             [
              0.1111111111111111,
              "#46039f"
             ],
             [
              0.2222222222222222,
              "#7201a8"
             ],
             [
              0.3333333333333333,
              "#9c179e"
             ],
             [
              0.4444444444444444,
              "#bd3786"
             ],
             [
              0.5555555555555556,
              "#d8576b"
             ],
             [
              0.6666666666666666,
              "#ed7953"
             ],
             [
              0.7777777777777778,
              "#fb9f3a"
             ],
             [
              0.8888888888888888,
              "#fdca26"
             ],
             [
              1,
              "#f0f921"
             ]
            ],
            "type": "histogram2dcontour"
           }
          ],
          "mesh3d": [
           {
            "colorbar": {
             "outlinewidth": 0,
             "ticks": ""
            },
            "type": "mesh3d"
           }
          ],
          "parcoords": [
           {
            "line": {
             "colorbar": {
              "outlinewidth": 0,
              "ticks": ""
             }
            },
            "type": "parcoords"
           }
          ],
          "pie": [
           {
            "automargin": true,
            "type": "pie"
           }
          ],
          "scatter": [
           {
            "fillpattern": {
             "fillmode": "overlay",
             "size": 10,
             "solidity": 0.2
            },
            "type": "scatter"
           }
          ],
          "scatter3d": [
           {
            "line": {
             "colorbar": {
              "outlinewidth": 0,
              "ticks": ""
             }
            },
            "marker": {
             "colorbar": {
              "outlinewidth": 0,
              "ticks": ""
             }
            },
            "type": "scatter3d"
           }
          ],
          "scattercarpet": [
           {
            "marker": {
             "colorbar": {
              "outlinewidth": 0,
              "ticks": ""
             }
            },
            "type": "scattercarpet"
           }
          ],
          "scattergeo": [
           {
            "marker": {
             "colorbar": {
              "outlinewidth": 0,
              "ticks": ""
             }
            },
            "type": "scattergeo"
           }
          ],
          "scattergl": [
           {
            "marker": {
             "colorbar": {
              "outlinewidth": 0,
              "ticks": ""
             }
            },
            "type": "scattergl"
           }
          ],
          "scattermapbox": [
           {
            "marker": {
             "colorbar": {
              "outlinewidth": 0,
              "ticks": ""
             }
            },
            "type": "scattermapbox"
           }
          ],
          "scatterpolar": [
           {
            "marker": {
             "colorbar": {
              "outlinewidth": 0,
              "ticks": ""
             }
            },
            "type": "scatterpolar"
           }
          ],
          "scatterpolargl": [
           {
            "marker": {
             "colorbar": {
              "outlinewidth": 0,
              "ticks": ""
             }
            },
            "type": "scatterpolargl"
           }
          ],
          "scatterternary": [
           {
            "marker": {
             "colorbar": {
              "outlinewidth": 0,
              "ticks": ""
             }
            },
            "type": "scatterternary"
           }
          ],
          "surface": [
           {
            "colorbar": {
             "outlinewidth": 0,
             "ticks": ""
            },
            "colorscale": [
             [
              0,
              "#0d0887"
             ],
             [
              0.1111111111111111,
              "#46039f"
             ],
             [
              0.2222222222222222,
              "#7201a8"
             ],
             [
              0.3333333333333333,
              "#9c179e"
             ],
             [
              0.4444444444444444,
              "#bd3786"
             ],
             [
              0.5555555555555556,
              "#d8576b"
             ],
             [
              0.6666666666666666,
              "#ed7953"
             ],
             [
              0.7777777777777778,
              "#fb9f3a"
             ],
             [
              0.8888888888888888,
              "#fdca26"
             ],
             [
              1,
              "#f0f921"
             ]
            ],
            "type": "surface"
           }
          ],
          "table": [
           {
            "cells": {
             "fill": {
              "color": "#EBF0F8"
             },
             "line": {
              "color": "white"
             }
            },
            "header": {
             "fill": {
              "color": "#C8D4E3"
             },
             "line": {
              "color": "white"
             }
            },
            "type": "table"
           }
          ]
         },
         "layout": {
          "annotationdefaults": {
           "arrowcolor": "#2a3f5f",
           "arrowhead": 0,
           "arrowwidth": 1
          },
          "autotypenumbers": "strict",
          "coloraxis": {
           "colorbar": {
            "outlinewidth": 0,
            "ticks": ""
           }
          },
          "colorscale": {
           "diverging": [
            [
             0,
             "#8e0152"
            ],
            [
             0.1,
             "#c51b7d"
            ],
            [
             0.2,
             "#de77ae"
            ],
            [
             0.3,
             "#f1b6da"
            ],
            [
             0.4,
             "#fde0ef"
            ],
            [
             0.5,
             "#f7f7f7"
            ],
            [
             0.6,
             "#e6f5d0"
            ],
            [
             0.7,
             "#b8e186"
            ],
            [
             0.8,
             "#7fbc41"
            ],
            [
             0.9,
             "#4d9221"
            ],
            [
             1,
             "#276419"
            ]
           ],
           "sequential": [
            [
             0,
             "#0d0887"
            ],
            [
             0.1111111111111111,
             "#46039f"
            ],
            [
             0.2222222222222222,
             "#7201a8"
            ],
            [
             0.3333333333333333,
             "#9c179e"
            ],
            [
             0.4444444444444444,
             "#bd3786"
            ],
            [
             0.5555555555555556,
             "#d8576b"
            ],
            [
             0.6666666666666666,
             "#ed7953"
            ],
            [
             0.7777777777777778,
             "#fb9f3a"
            ],
            [
             0.8888888888888888,
             "#fdca26"
            ],
            [
             1,
             "#f0f921"
            ]
           ],
           "sequentialminus": [
            [
             0,
             "#0d0887"
            ],
            [
             0.1111111111111111,
             "#46039f"
            ],
            [
             0.2222222222222222,
             "#7201a8"
            ],
            [
             0.3333333333333333,
             "#9c179e"
            ],
            [
             0.4444444444444444,
             "#bd3786"
            ],
            [
             0.5555555555555556,
             "#d8576b"
            ],
            [
             0.6666666666666666,
             "#ed7953"
            ],
            [
             0.7777777777777778,
             "#fb9f3a"
            ],
            [
             0.8888888888888888,
             "#fdca26"
            ],
            [
             1,
             "#f0f921"
            ]
           ]
          },
          "colorway": [
           "#636efa",
           "#EF553B",
           "#00cc96",
           "#ab63fa",
           "#FFA15A",
           "#19d3f3",
           "#FF6692",
           "#B6E880",
           "#FF97FF",
           "#FECB52"
          ],
          "font": {
           "color": "#2a3f5f"
          },
          "geo": {
           "bgcolor": "white",
           "lakecolor": "white",
           "landcolor": "#E5ECF6",
           "showlakes": true,
           "showland": true,
           "subunitcolor": "white"
          },
          "hoverlabel": {
           "align": "left"
          },
          "hovermode": "closest",
          "mapbox": {
           "style": "light"
          },
          "paper_bgcolor": "white",
          "plot_bgcolor": "#E5ECF6",
          "polar": {
           "angularaxis": {
            "gridcolor": "white",
            "linecolor": "white",
            "ticks": ""
           },
           "bgcolor": "#E5ECF6",
           "radialaxis": {
            "gridcolor": "white",
            "linecolor": "white",
            "ticks": ""
           }
          },
          "scene": {
           "xaxis": {
            "backgroundcolor": "#E5ECF6",
            "gridcolor": "white",
            "gridwidth": 2,
            "linecolor": "white",
            "showbackground": true,
            "ticks": "",
            "zerolinecolor": "white"
           },
           "yaxis": {
            "backgroundcolor": "#E5ECF6",
            "gridcolor": "white",
            "gridwidth": 2,
            "linecolor": "white",
            "showbackground": true,
            "ticks": "",
            "zerolinecolor": "white"
           },
           "zaxis": {
            "backgroundcolor": "#E5ECF6",
            "gridcolor": "white",
            "gridwidth": 2,
            "linecolor": "white",
            "showbackground": true,
            "ticks": "",
            "zerolinecolor": "white"
           }
          },
          "shapedefaults": {
           "line": {
            "color": "#2a3f5f"
           }
          },
          "ternary": {
           "aaxis": {
            "gridcolor": "white",
            "linecolor": "white",
            "ticks": ""
           },
           "baxis": {
            "gridcolor": "white",
            "linecolor": "white",
            "ticks": ""
           },
           "bgcolor": "#E5ECF6",
           "caxis": {
            "gridcolor": "white",
            "linecolor": "white",
            "ticks": ""
           }
          },
          "title": {
           "x": 0.05
          },
          "xaxis": {
           "automargin": true,
           "gridcolor": "white",
           "linecolor": "white",
           "ticks": "",
           "title": {
            "standoff": 15
           },
           "zerolinecolor": "white",
           "zerolinewidth": 2
          },
          "yaxis": {
           "automargin": true,
           "gridcolor": "white",
           "linecolor": "white",
           "ticks": "",
           "title": {
            "standoff": 15
           },
           "zerolinecolor": "white",
           "zerolinewidth": 2
          }
         }
        },
        "title": {
         "text": "Relative Frequency Barplot of the variable Position"
        },
        "xaxis": {
         "anchor": "y",
         "domain": [
          0,
          1
         ],
         "title": {
          "text": "Position"
         }
        },
        "yaxis": {
         "anchor": "x",
         "domain": [
          0,
          1
         ],
         "title": {
          "text": "Relative Frequency"
         }
        }
       }
      }
     },
     "metadata": {},
     "output_type": "display_data"
    }
   ],
   "source": [
    "# We save the relative frequencies of the 'position_grouped' column\n",
    "relative_freq = dfv1['position_grouped'].value_counts(normalize=True).reset_index()\n",
    "\n",
    "# We change the naming of the columns\n",
    "relative_freq.columns = ['Position', 'Relative Frequency']\n",
    "\n",
    "# Create a bar plot with Plotly\n",
    "fig = px.bar(relative_freq, x='Position', y='Relative Frequency',\n",
    "                title=f'Relative Frequency Barplot of the variable Position')\n",
    "\n",
    "# Show the plot\n",
    "fig.show()"
   ]
  },
  {
   "cell_type": "code",
   "execution_count": 21,
   "id": "bd5c7b89",
   "metadata": {},
   "outputs": [
    {
     "data": {
      "application/vnd.plotly.v1+json": {
       "config": {
        "plotlyServerURL": "https://plot.ly"
       },
       "data": [
        {
         "alignmentgroup": "True",
         "hovertemplate": "Position=%{x}<br>Relative Frequency=%{y}<extra></extra>",
         "legendgroup": "",
         "marker": {
          "color": "#636efa",
          "pattern": {
           "shape": ""
          }
         },
         "name": "",
         "offsetgroup": "",
         "orientation": "v",
         "showlegend": false,
         "textposition": "auto",
         "type": "bar",
         "x": [
          "D_LCB",
          "D_RCB",
          "D_LB",
          "D_RB",
          "A_ST",
          "M_LCM",
          "M_RCM",
          "M_RM",
          "M_LM",
          "M_CAM",
          "A_LS",
          "A_RS",
          "M_RDM",
          "M_LDM",
          "D_CB",
          "A_LW",
          "A_RW",
          "M_CDM",
          "D_LWB",
          "D_RWB",
          "M_CM",
          "A_LF",
          "A_RF"
         ],
         "xaxis": "x",
         "y": [
          0.10073435504469987,
          0.10073435504469987,
          0.07391443167305237,
          0.07391443167305237,
          0.06832694763729247,
          0.06752873563218391,
          0.06752873563218391,
          0.05890804597701149,
          0.05890804597701149,
          0.04198595146871009,
          0.032088122605363985,
          0.032088122605363985,
          0.032088122605363985,
          0.032088122605363985,
          0.026660280970625796,
          0.026500638569604086,
          0.026500638569604086,
          0.024106002554278416,
          0.016602809706257982,
          0.016602809706257982,
          0.011973180076628353,
          0.005108556832694764,
          0.005108556832694764
         ],
         "yaxis": "y"
        }
       ],
       "layout": {
        "barmode": "relative",
        "legend": {
         "tracegroupgap": 0
        },
        "template": {
         "data": {
          "bar": [
           {
            "error_x": {
             "color": "#2a3f5f"
            },
            "error_y": {
             "color": "#2a3f5f"
            },
            "marker": {
             "line": {
              "color": "#E5ECF6",
              "width": 0.5
             },
             "pattern": {
              "fillmode": "overlay",
              "size": 10,
              "solidity": 0.2
             }
            },
            "type": "bar"
           }
          ],
          "barpolar": [
           {
            "marker": {
             "line": {
              "color": "#E5ECF6",
              "width": 0.5
             },
             "pattern": {
              "fillmode": "overlay",
              "size": 10,
              "solidity": 0.2
             }
            },
            "type": "barpolar"
           }
          ],
          "carpet": [
           {
            "aaxis": {
             "endlinecolor": "#2a3f5f",
             "gridcolor": "white",
             "linecolor": "white",
             "minorgridcolor": "white",
             "startlinecolor": "#2a3f5f"
            },
            "baxis": {
             "endlinecolor": "#2a3f5f",
             "gridcolor": "white",
             "linecolor": "white",
             "minorgridcolor": "white",
             "startlinecolor": "#2a3f5f"
            },
            "type": "carpet"
           }
          ],
          "choropleth": [
           {
            "colorbar": {
             "outlinewidth": 0,
             "ticks": ""
            },
            "type": "choropleth"
           }
          ],
          "contour": [
           {
            "colorbar": {
             "outlinewidth": 0,
             "ticks": ""
            },
            "colorscale": [
             [
              0,
              "#0d0887"
             ],
             [
              0.1111111111111111,
              "#46039f"
             ],
             [
              0.2222222222222222,
              "#7201a8"
             ],
             [
              0.3333333333333333,
              "#9c179e"
             ],
             [
              0.4444444444444444,
              "#bd3786"
             ],
             [
              0.5555555555555556,
              "#d8576b"
             ],
             [
              0.6666666666666666,
              "#ed7953"
             ],
             [
              0.7777777777777778,
              "#fb9f3a"
             ],
             [
              0.8888888888888888,
              "#fdca26"
             ],
             [
              1,
              "#f0f921"
             ]
            ],
            "type": "contour"
           }
          ],
          "contourcarpet": [
           {
            "colorbar": {
             "outlinewidth": 0,
             "ticks": ""
            },
            "type": "contourcarpet"
           }
          ],
          "heatmap": [
           {
            "colorbar": {
             "outlinewidth": 0,
             "ticks": ""
            },
            "colorscale": [
             [
              0,
              "#0d0887"
             ],
             [
              0.1111111111111111,
              "#46039f"
             ],
             [
              0.2222222222222222,
              "#7201a8"
             ],
             [
              0.3333333333333333,
              "#9c179e"
             ],
             [
              0.4444444444444444,
              "#bd3786"
             ],
             [
              0.5555555555555556,
              "#d8576b"
             ],
             [
              0.6666666666666666,
              "#ed7953"
             ],
             [
              0.7777777777777778,
              "#fb9f3a"
             ],
             [
              0.8888888888888888,
              "#fdca26"
             ],
             [
              1,
              "#f0f921"
             ]
            ],
            "type": "heatmap"
           }
          ],
          "heatmapgl": [
           {
            "colorbar": {
             "outlinewidth": 0,
             "ticks": ""
            },
            "colorscale": [
             [
              0,
              "#0d0887"
             ],
             [
              0.1111111111111111,
              "#46039f"
             ],
             [
              0.2222222222222222,
              "#7201a8"
             ],
             [
              0.3333333333333333,
              "#9c179e"
             ],
             [
              0.4444444444444444,
              "#bd3786"
             ],
             [
              0.5555555555555556,
              "#d8576b"
             ],
             [
              0.6666666666666666,
              "#ed7953"
             ],
             [
              0.7777777777777778,
              "#fb9f3a"
             ],
             [
              0.8888888888888888,
              "#fdca26"
             ],
             [
              1,
              "#f0f921"
             ]
            ],
            "type": "heatmapgl"
           }
          ],
          "histogram": [
           {
            "marker": {
             "pattern": {
              "fillmode": "overlay",
              "size": 10,
              "solidity": 0.2
             }
            },
            "type": "histogram"
           }
          ],
          "histogram2d": [
           {
            "colorbar": {
             "outlinewidth": 0,
             "ticks": ""
            },
            "colorscale": [
             [
              0,
              "#0d0887"
             ],
             [
              0.1111111111111111,
              "#46039f"
             ],
             [
              0.2222222222222222,
              "#7201a8"
             ],
             [
              0.3333333333333333,
              "#9c179e"
             ],
             [
              0.4444444444444444,
              "#bd3786"
             ],
             [
              0.5555555555555556,
              "#d8576b"
             ],
             [
              0.6666666666666666,
              "#ed7953"
             ],
             [
              0.7777777777777778,
              "#fb9f3a"
             ],
             [
              0.8888888888888888,
              "#fdca26"
             ],
             [
              1,
              "#f0f921"
             ]
            ],
            "type": "histogram2d"
           }
          ],
          "histogram2dcontour": [
           {
            "colorbar": {
             "outlinewidth": 0,
             "ticks": ""
            },
            "colorscale": [
             [
              0,
              "#0d0887"
             ],
             [
              0.1111111111111111,
              "#46039f"
             ],
             [
              0.2222222222222222,
              "#7201a8"
             ],
             [
              0.3333333333333333,
              "#9c179e"
             ],
             [
              0.4444444444444444,
              "#bd3786"
             ],
             [
              0.5555555555555556,
              "#d8576b"
             ],
             [
              0.6666666666666666,
              "#ed7953"
             ],
             [
              0.7777777777777778,
              "#fb9f3a"
             ],
             [
              0.8888888888888888,
              "#fdca26"
             ],
             [
              1,
              "#f0f921"
             ]
            ],
            "type": "histogram2dcontour"
           }
          ],
          "mesh3d": [
           {
            "colorbar": {
             "outlinewidth": 0,
             "ticks": ""
            },
            "type": "mesh3d"
           }
          ],
          "parcoords": [
           {
            "line": {
             "colorbar": {
              "outlinewidth": 0,
              "ticks": ""
             }
            },
            "type": "parcoords"
           }
          ],
          "pie": [
           {
            "automargin": true,
            "type": "pie"
           }
          ],
          "scatter": [
           {
            "fillpattern": {
             "fillmode": "overlay",
             "size": 10,
             "solidity": 0.2
            },
            "type": "scatter"
           }
          ],
          "scatter3d": [
           {
            "line": {
             "colorbar": {
              "outlinewidth": 0,
              "ticks": ""
             }
            },
            "marker": {
             "colorbar": {
              "outlinewidth": 0,
              "ticks": ""
             }
            },
            "type": "scatter3d"
           }
          ],
          "scattercarpet": [
           {
            "marker": {
             "colorbar": {
              "outlinewidth": 0,
              "ticks": ""
             }
            },
            "type": "scattercarpet"
           }
          ],
          "scattergeo": [
           {
            "marker": {
             "colorbar": {
              "outlinewidth": 0,
              "ticks": ""
             }
            },
            "type": "scattergeo"
           }
          ],
          "scattergl": [
           {
            "marker": {
             "colorbar": {
              "outlinewidth": 0,
              "ticks": ""
             }
            },
            "type": "scattergl"
           }
          ],
          "scattermapbox": [
           {
            "marker": {
             "colorbar": {
              "outlinewidth": 0,
              "ticks": ""
             }
            },
            "type": "scattermapbox"
           }
          ],
          "scatterpolar": [
           {
            "marker": {
             "colorbar": {
              "outlinewidth": 0,
              "ticks": ""
             }
            },
            "type": "scatterpolar"
           }
          ],
          "scatterpolargl": [
           {
            "marker": {
             "colorbar": {
              "outlinewidth": 0,
              "ticks": ""
             }
            },
            "type": "scatterpolargl"
           }
          ],
          "scatterternary": [
           {
            "marker": {
             "colorbar": {
              "outlinewidth": 0,
              "ticks": ""
             }
            },
            "type": "scatterternary"
           }
          ],
          "surface": [
           {
            "colorbar": {
             "outlinewidth": 0,
             "ticks": ""
            },
            "colorscale": [
             [
              0,
              "#0d0887"
             ],
             [
              0.1111111111111111,
              "#46039f"
             ],
             [
              0.2222222222222222,
              "#7201a8"
             ],
             [
              0.3333333333333333,
              "#9c179e"
             ],
             [
              0.4444444444444444,
              "#bd3786"
             ],
             [
              0.5555555555555556,
              "#d8576b"
             ],
             [
              0.6666666666666666,
              "#ed7953"
             ],
             [
              0.7777777777777778,
              "#fb9f3a"
             ],
             [
              0.8888888888888888,
              "#fdca26"
             ],
             [
              1,
              "#f0f921"
             ]
            ],
            "type": "surface"
           }
          ],
          "table": [
           {
            "cells": {
             "fill": {
              "color": "#EBF0F8"
             },
             "line": {
              "color": "white"
             }
            },
            "header": {
             "fill": {
              "color": "#C8D4E3"
             },
             "line": {
              "color": "white"
             }
            },
            "type": "table"
           }
          ]
         },
         "layout": {
          "annotationdefaults": {
           "arrowcolor": "#2a3f5f",
           "arrowhead": 0,
           "arrowwidth": 1
          },
          "autotypenumbers": "strict",
          "coloraxis": {
           "colorbar": {
            "outlinewidth": 0,
            "ticks": ""
           }
          },
          "colorscale": {
           "diverging": [
            [
             0,
             "#8e0152"
            ],
            [
             0.1,
             "#c51b7d"
            ],
            [
             0.2,
             "#de77ae"
            ],
            [
             0.3,
             "#f1b6da"
            ],
            [
             0.4,
             "#fde0ef"
            ],
            [
             0.5,
             "#f7f7f7"
            ],
            [
             0.6,
             "#e6f5d0"
            ],
            [
             0.7,
             "#b8e186"
            ],
            [
             0.8,
             "#7fbc41"
            ],
            [
             0.9,
             "#4d9221"
            ],
            [
             1,
             "#276419"
            ]
           ],
           "sequential": [
            [
             0,
             "#0d0887"
            ],
            [
             0.1111111111111111,
             "#46039f"
            ],
            [
             0.2222222222222222,
             "#7201a8"
            ],
            [
             0.3333333333333333,
             "#9c179e"
            ],
            [
             0.4444444444444444,
             "#bd3786"
            ],
            [
             0.5555555555555556,
             "#d8576b"
            ],
            [
             0.6666666666666666,
             "#ed7953"
            ],
            [
             0.7777777777777778,
             "#fb9f3a"
            ],
            [
             0.8888888888888888,
             "#fdca26"
            ],
            [
             1,
             "#f0f921"
            ]
           ],
           "sequentialminus": [
            [
             0,
             "#0d0887"
            ],
            [
             0.1111111111111111,
             "#46039f"
            ],
            [
             0.2222222222222222,
             "#7201a8"
            ],
            [
             0.3333333333333333,
             "#9c179e"
            ],
            [
             0.4444444444444444,
             "#bd3786"
            ],
            [
             0.5555555555555556,
             "#d8576b"
            ],
            [
             0.6666666666666666,
             "#ed7953"
            ],
            [
             0.7777777777777778,
             "#fb9f3a"
            ],
            [
             0.8888888888888888,
             "#fdca26"
            ],
            [
             1,
             "#f0f921"
            ]
           ]
          },
          "colorway": [
           "#636efa",
           "#EF553B",
           "#00cc96",
           "#ab63fa",
           "#FFA15A",
           "#19d3f3",
           "#FF6692",
           "#B6E880",
           "#FF97FF",
           "#FECB52"
          ],
          "font": {
           "color": "#2a3f5f"
          },
          "geo": {
           "bgcolor": "white",
           "lakecolor": "white",
           "landcolor": "#E5ECF6",
           "showlakes": true,
           "showland": true,
           "subunitcolor": "white"
          },
          "hoverlabel": {
           "align": "left"
          },
          "hovermode": "closest",
          "mapbox": {
           "style": "light"
          },
          "paper_bgcolor": "white",
          "plot_bgcolor": "#E5ECF6",
          "polar": {
           "angularaxis": {
            "gridcolor": "white",
            "linecolor": "white",
            "ticks": ""
           },
           "bgcolor": "#E5ECF6",
           "radialaxis": {
            "gridcolor": "white",
            "linecolor": "white",
            "ticks": ""
           }
          },
          "scene": {
           "xaxis": {
            "backgroundcolor": "#E5ECF6",
            "gridcolor": "white",
            "gridwidth": 2,
            "linecolor": "white",
            "showbackground": true,
            "ticks": "",
            "zerolinecolor": "white"
           },
           "yaxis": {
            "backgroundcolor": "#E5ECF6",
            "gridcolor": "white",
            "gridwidth": 2,
            "linecolor": "white",
            "showbackground": true,
            "ticks": "",
            "zerolinecolor": "white"
           },
           "zaxis": {
            "backgroundcolor": "#E5ECF6",
            "gridcolor": "white",
            "gridwidth": 2,
            "linecolor": "white",
            "showbackground": true,
            "ticks": "",
            "zerolinecolor": "white"
           }
          },
          "shapedefaults": {
           "line": {
            "color": "#2a3f5f"
           }
          },
          "ternary": {
           "aaxis": {
            "gridcolor": "white",
            "linecolor": "white",
            "ticks": ""
           },
           "baxis": {
            "gridcolor": "white",
            "linecolor": "white",
            "ticks": ""
           },
           "bgcolor": "#E5ECF6",
           "caxis": {
            "gridcolor": "white",
            "linecolor": "white",
            "ticks": ""
           }
          },
          "title": {
           "x": 0.05
          },
          "xaxis": {
           "automargin": true,
           "gridcolor": "white",
           "linecolor": "white",
           "ticks": "",
           "title": {
            "standoff": 15
           },
           "zerolinecolor": "white",
           "zerolinewidth": 2
          },
          "yaxis": {
           "automargin": true,
           "gridcolor": "white",
           "linecolor": "white",
           "ticks": "",
           "title": {
            "standoff": 15
           },
           "zerolinecolor": "white",
           "zerolinewidth": 2
          }
         }
        },
        "title": {
         "text": "Relative Frequency Barplot of the variable Position (leaving out goalkeepers)"
        },
        "xaxis": {
         "anchor": "y",
         "domain": [
          0,
          1
         ],
         "title": {
          "text": "Position"
         }
        },
        "yaxis": {
         "anchor": "x",
         "domain": [
          0,
          1
         ],
         "title": {
          "text": "Relative Frequency"
         }
        }
       }
      }
     },
     "metadata": {},
     "output_type": "display_data"
    }
   ],
   "source": [
    "# Now, we leave out the goalkeeper class\n",
    "dfv1_nogk = dfv1[dfv1['position'] != 'GK']\n",
    "\n",
    "# We save the relative frequencies of the 'position_grouped' column\n",
    "relative_freq = dfv1_nogk['position_grouped'].value_counts(normalize=True).reset_index()\n",
    "\n",
    "# We change the naming of the columns\n",
    "relative_freq.columns = ['Position', 'Relative Frequency']\n",
    "\n",
    "# Create a bar plot with Plotly\n",
    "fig = px.bar(relative_freq, x='Position', y='Relative Frequency',\n",
    "                title=f'Relative Frequency Barplot of the variable Position (leaving out goalkeepers)')\n",
    "\n",
    "# Show the plot\n",
    "fig.show()"
   ]
  },
  {
   "cell_type": "code",
   "execution_count": 34,
   "id": "d1db17a6",
   "metadata": {},
   "outputs": [
    {
     "name": "stdout",
     "output_type": "stream",
     "text": [
      "Columns with missing values:\n",
      "value_eur               2\n",
      "release_clause_eur    320\n",
      "dtype: int64\n",
      "\n",
      "Percentage of missing values:\n",
      "value_eur             0.031928\n",
      "release_clause_eur    5.108557\n",
      "dtype: float64\n"
     ]
    }
   ],
   "source": [
    "# Count of null values per column\n",
    "dfv1_nogk_na = dfv1_nogk.isnull().sum()\n",
    "\n",
    "# Filter only columns with missing values\n",
    "missing_values_tr = dfv1_nogk_na[dfv1_nogk_na > 0]\n",
    "\n",
    "# Compute percentage of missing values\n",
    "missing_values_percentage = (missing_values_tr / len(dfv1_nogk)) * 100\n",
    "\n",
    "# Display the result\n",
    "print(\"Columns with missing values:\")\n",
    "print(missing_values_tr)\n",
    "print(\"\\nPercentage of missing values:\")\n",
    "print(missing_values_percentage)"
   ]
  },
  {
   "cell_type": "markdown",
   "id": "22cdc2c0",
   "metadata": {},
   "source": [
    "### Insights"
   ]
  },
  {
   "cell_type": "markdown",
   "id": "fb5abb19",
   "metadata": {},
   "source": [
    "It can be observed that there are some classes that are highly overrepresented (especially LCB and RCB, which add up to 20% of the observations in the training dataset). In this context, then, some considerations must be made for the training, evaluation and prediction with this type of dataset:\n",
    "- **Metric trap**: \"Relying on simplistic metrics like accuracy_score can lead to misleading results. In datasets where classes are highly imbalanced, if a classifier consistently predicts the most prevalent class without considering any feature analysis, it can achieve a high accuracy rate [or any other performance measure] that is clearly deceptive.\"\n",
    "- **Solutions for addressing the problem of imbalanced datasets**:\n",
    "    - *Possible solution to metric trap: confusion matrix*. Given that we have to predict for different classes, maybe it would also be possible to compute the performance metric (such as the F1-score) for each position (or groups of positions), in order to have a more complete picture of the predictive power of the model.\n",
    "    - *Resampling methodologies*. Mainly, oversampling the underrepresented classes and/or undersampling the majority classes through random resampling (\"often with replacement\"). See application in notebook 9 from class. Limitations:\n",
    "        - \"Over-sampling, for instance, can lead to overfitting when the minority class is duplicated indiscriminately.\"\n",
    "        - \"Under-sampling, which involves randomly removing records from the majority class, can result in information loss.\"\n",
    "        - Alternative: SMOTE (Synthetic Minority Over-Sampling Technique). \"It helps balance class distribution and reduce the impact of class imbalance on classification models.\" The limitation, of course, is that synthetic observations may not be accurate representations of their real counterparts. See section 1.3.2. of the notebook 9 from class.\n",
    "- Finally, the models that are implemented below should apply **multiclass algorithms** (as, in this case, we do not have a binary classification problem). "
   ]
  },
  {
   "cell_type": "markdown",
   "id": "7be984dd",
   "metadata": {},
   "source": [
    "## Utilities"
   ]
  },
  {
   "cell_type": "markdown",
   "id": "f8c7ea4c",
   "metadata": {},
   "source": [
    "Below, we create a function which graphs the relative frequency of each position together with the F1-score obtained for each position with the best hyperparameters, which is found in the output of the \"General training function\" `df_combined_report`."
   ]
  },
  {
   "cell_type": "code",
   "execution_count": 5,
   "id": "7f1f74c4",
   "metadata": {},
   "outputs": [],
   "source": [
    "def graph_f1_per_position(df_train: pd.DataFrame, df_report: pd.DataFrame):\n",
    "\n",
    "    # Relative frequencies\n",
    "    ## We save the relative frequencies of the 'position_grouped' column\n",
    "    relative_freq = df_train['position_grouped'].value_counts(normalize=True).reset_index()\n",
    "    ## We change the naming of the columns\n",
    "    relative_freq.columns = ['Position', 'Relative Frequency']\n",
    "\n",
    "    # We save the f1-scores for the different positions\n",
    "    ## We transpose the data frame and keep only the position indexes\n",
    "    scores_per_position = df_report.T.iloc[0:-3]\n",
    "    ## Extract positions (index) and F1-scores\n",
    "    extracted_scores_position = scores_per_position.reset_index()[['index', 'f1-score']]\n",
    "    ## Rename columns for clarity\n",
    "    extracted_scores_position.columns = ['Position', 'F1 Score']\n",
    "\n",
    "    # We join the relative frequency column on the extracted_scores data frame\n",
    "    freq_scores = pd.merge(relative_freq, extracted_scores_position, on = 'Position')\n",
    "\n",
    "    # Data for plotting\n",
    "    positions = freq_scores['Position']\n",
    "    f1_scores = freq_scores['F1 Score']\n",
    "    relative_freqs = freq_scores['Relative Frequency']\n",
    "\n",
    "    # Bar width and position\n",
    "    bar_width = 0.4\n",
    "    x = np.arange(len(positions))  # the label locations\n",
    "\n",
    "    # Create the figure and axes\n",
    "    fig, ax1 = plt.subplots(figsize=(20, 6))\n",
    "\n",
    "    # Plot F1 Scores (left y-axis)\n",
    "    bars1 = ax1.bar(x - bar_width / 2, f1_scores, bar_width, label='F1 Score', color='darkred')\n",
    "    ax1.set_xlabel('Position')\n",
    "    ax1.set_ylabel('F1 Score', color='darkred')\n",
    "    ax1.tick_params(axis='y', labelcolor='darkred')\n",
    "    ax1.set_xticks(x)\n",
    "    ax1.set_xticklabels(positions, rotation=45, ha='right')\n",
    "\n",
    "    # Create a secondary y-axis for Relative Frequency\n",
    "    ax2 = ax1.twinx()\n",
    "    bars2 = ax2.bar(x + bar_width / 2, relative_freqs, bar_width, label='Relative Frequency', color='steelblue')\n",
    "    ax2.set_ylabel('Relative Frequency', color='steelblue')\n",
    "    ax2.tick_params(axis='y', labelcolor='steelblue')\n",
    "\n",
    "    # Add legend\n",
    "    fig.legend(loc=\"upper center\", bbox_to_anchor=(0.5, 1.05), ncol=2)\n",
    "\n",
    "    # Adjust layout\n",
    "    plt.title('F1 Scores and Relative Frequencies by Position')\n",
    "    fig.tight_layout()\n",
    "\n",
    "    # Show plot\n",
    "    plt.show()"
   ]
  },
  {
   "cell_type": "markdown",
   "id": "6361e1ee",
   "metadata": {},
   "source": [
    "# 3. Feature and model selection and evaluation\n",
    "Things to do in this section:\n",
    "1. **Split** the data.\n",
    "2. Impute **missing values** (if there is no listwise deletion).\n",
    "3. Clean **outliers** (imputation or deletion).\n",
    "4. **Standardization** of numerical variables (needed by KNN and for feature selection with logistic regression). Apply same standardization to validation data. No further transformations will be needed if categorical variables have been OHE or encoded in some other way.\n",
    "5. Deal with **class imbalancing** for the training data (from `imblearn` - `over_sampling`, `under_sampling`, import `RandomUnderSampler`, `RandomOverSampler` and `SMOTE`).\n",
    "6. **Hyperparameter tuning** (grid search or randomized search - `RandomizedSearchCV`).\n",
    "7. Evaluate model through **cross-validation** (considering class imbalancing, stratified cross-validation is probably the best option).\n",
    "8. Rank models with **evaluation metrics** (mainly: precision, recall, F1-score and AUC).\n",
    "9. After finding the best-performing model (in this case, guided by the best F1-score), train the best model with the whole training dataset and the optimal hyperparameters.\n",
    "\n",
    "How and when to apply resampling methodologies:\n",
    "- Resampling methodologies should be applied after the train-validation split.\n",
    "- Explanation:\n",
    "    - Avoid information leakage: Resampling before splitting can cause synthetic data (oversampling) or missing data (undersampling) from the same original observations to appear in both train and validation sets. This results in overly optimistic validation performance.\n",
    "    - True model evaluation: Resampling alters the class distribution, which should only affect the training data. The validation set should reflect the original distribution for an accurate evaluation of how the model would perform in the real world.\n",
    "- Process:\n",
    "    - Split the data into training and validation sets.\n",
    "    - Preprocessing and feature engineering (so cleaning missing values, outliers and standardizing come BEFORE the application of resampling techniques, which can be affected if these transformations are not applied before). Concretely, the application of SMOTE would be biased if numerical features are not scaled beforehand.\n",
    "    - Apply resampling techniques (oversampling, undersampling, or SMOTE) only on the training set (as a reference, see https://imbalanced-learn.org/stable/common_pitfalls.html).\n",
    "    - Train the model on the resampled training set.\n",
    "    - Evaluate the model on the original, untouched validation set.\n",
    "\n",
    "Stratified cross-validation and resampling. Does it make sense to apply both of them?\n",
    "- Without Resampling: Stratified cross-validation is ideal for imbalanced datasets because it ensures that each fold maintains the same class distribution as the original dataset.\n",
    "- With Resampling: Stratification is less relevant because the class distribution in the training folds will be altered by resampling. However, you can still use stratified cross-validation on the unresampled validation set to evaluate the model. The goal here is to maintain the real-world class distribution in the validation set while resampling the training data within each fold.\n",
    "- Suggested Strategy:\n",
    "    - Use stratified splits for train-validation splitting.\n",
    "    - Apply resampling within the training folds during each iteration of cross-validation."
   ]
  },
  {
   "cell_type": "markdown",
   "id": "f54e48ee",
   "metadata": {},
   "source": [
    "## Baseline models\n",
    "Below, we train and evaluate some baseline models, with and without resampling methodologies, in order to get an initial grasp of which model may have a higher predictive power and whether dealing with class imbalancing is worth the effort or not considering the performance metric that matters the most in this case (the F1-score).\n",
    "\n",
    "In the models below, we:\n",
    "1. **Split** the data.\n",
    "2. Impute **missing values** with a simple imputer (median).\n",
    "3. Don't do anything to **outliers**.\n",
    "4. **Standardization** numerical variables for KNN and logistic regression. Apply same standardization to validation data.\n",
    "5. (Not applied for the first baseline models, applied in the second) Deal with **class imbalancing** for the training data (from `imblearn` - `over_sampling`, `under_sampling`, import `RandomUnderSampler`, `RandomOverSampler` and `SMOTE`).\n",
    "6. **Hyperparameter tuning** (randomized search - `RandomizedSearchCV`).\n",
    "7. Evaluate model through **stratified cross-validation**.\n",
    "8. Rank models with **evaluation metrics** (mainly: F1-score)."
   ]
  },
  {
   "cell_type": "markdown",
   "id": "c54c81d4",
   "metadata": {},
   "source": [
    "### General training function"
   ]
  },
  {
   "cell_type": "code",
   "execution_count": null,
   "id": "f2f77f77",
   "metadata": {},
   "outputs": [],
   "source": [
    "def baseline_models(\n",
    "        df: pd.DataFrame, numerical_features: list[str], categorical_features: list[str], \n",
    "        target: str, model, ada_boost: bool = False, n_hyper_comb: int = 10, num_imputer: str = \"median\",\n",
    "        goalkeeper_label: str = \"GK\", refit_score: str = 'f1_micro', resampling_method: str = 'none'\n",
    "):\n",
    "    \n",
    "    \"\"\"\n",
    "    Function to evaluate baseline machine learning models for a classification task, \n",
    "    with hyperparameter tuning using RandomizedSearchCV. It preprocesses numerical and \n",
    "    categorical features, performs model fitting, and evaluates performance on the entire \n",
    "    dataset. Goalkeeper (GK) players are handled separately with special assumptions based \n",
    "    on the missing 'pace' feature. Additionally, it supports handling of class imbalance \n",
    "    through various resampling methods (oversampling, undersampling, SMOTE).\n",
    "\n",
    "    Parameters:\n",
    "    -----------\n",
    "    df : pd.DataFrame\n",
    "        The input dataset containing both numerical and categorical features as well as the target variable.\n",
    "        \n",
    "    numerical_features : list[str]\n",
    "        List of column names representing numerical features in the dataset.\n",
    "\n",
    "    categorical_features : list[str]\n",
    "        List of column names representing categorical features in the dataset.\n",
    "        \n",
    "    target : str\n",
    "        The name of the target variable (i.e., the variable to be predicted).\n",
    "    \n",
    "    model : class\n",
    "        The model class to be used for training and evaluation (LogisticRegression, KNeighborsClassifier,\n",
    "        DecisionTreeClassifier, RandomForestClassifier, GradientBoostingClassifier, LGBMClassifier).\n",
    "    \n",
    "    ada_boost : bool, default = False\n",
    "        Implement adaptive boosting (can only be applied to decision trees).  \n",
    "\n",
    "    n_hyper_comb : int, default=10\n",
    "        The number of hyperparameter combinations to sample for RandomizedSearchCV.\n",
    "        \n",
    "    num_imputer : str, default=\"median\"\n",
    "        The strategy to use for imputing missing values in numerical features (e.g., \"mean\", \"median\").\n",
    "        \n",
    "    goalkeeper_label : str, default=\"GK\"\n",
    "        The label to assign to goalkeepers (assumed to have missing 'pace' feature values).\n",
    "    \n",
    "    refit_score : str, default=\"f1_micro\"\n",
    "        Score based on which the RandomizedSearchCV selects the optimal hyperparameters.\n",
    "        Allowed scores are: ('f1_weighted', 'f1_micro', 'f1_macro', 'roc_auc_ovr_weighted').\n",
    "        \n",
    "    resampling_method : str, default='none'\n",
    "        Method used to address class imbalance:\n",
    "        - 'oversample' for RandomOverSampler\n",
    "        - 'undersample' for RandomUnderSampler\n",
    "        - 'smote' for SMOTE (Synthetic Minority Over-sampling Technique)\n",
    "        - 'none' for no resampling.\n",
    "\n",
    "    Returns:\n",
    "    --------\n",
    "    df_combined_report : pd.DataFrame\n",
    "        DataFrame containing the classification report with metrics for all classes, including goalkeepers.\n",
    "        Metrics include F1 scores (weighted, micro, and macro), and ROC AUC score for each class.\n",
    "\n",
    "    optimal_hyperparameters : dict\n",
    "        A dictionary of the optimal hyperparameters found by RandomizedSearchCV.\n",
    "\n",
    "    cv_best_scores : dict\n",
    "        A dictionary of best cross-validation scores for the model. Includes:\n",
    "        - 'f1_weighted': Weighted F1 score\n",
    "        - 'f1_micro': Micro-average F1 score\n",
    "        - 'f1_macro': Macro-average F1 score\n",
    "        - 'roc_auc_weighted': Weighted ROC AUC score\n",
    "    \"\"\"\n",
    "\n",
    "    ###########################################################################\n",
    "\n",
    "    # First, we create the pipeline for preprocessing numerical and categorical transformers\n",
    "\n",
    "    # For numerical variables, we do median imputation\n",
    "    num_prepr = [\n",
    "        (\"imputer\", SimpleImputer(strategy = num_imputer))\n",
    "    ]\n",
    "\n",
    "    # We add standardization for certain models that benefit from it\n",
    "    if model == LogisticRegression or model == KNeighborsClassifier or resampling_method == 'smote':\n",
    "        num_prepr.append((\"standardize\", StandardScaler()))\n",
    "\n",
    "    # For categorical variables, for now, we don't do anything (pass through)\n",
    "    cat_prepr = [\n",
    "        (\"passthrough\", \"passthrough\")\n",
    "    ]\n",
    "\n",
    "    # Create the ColumnTransformer to apply different transformations to numerical\n",
    "    # and categorical variables\n",
    "    preprocessor = ColumnTransformer(\n",
    "        transformers=[\n",
    "            ('num', Pipeline(num_prepr), numerical_features),\n",
    "            ('cat', Pipeline(cat_prepr), categorical_features),\n",
    "        ]\n",
    "    )\n",
    "\n",
    "    # Create steps of the pipeline, which begins with the preprocessor. \n",
    "    steps = [('preprocessor', preprocessor)]\n",
    "\n",
    "    ###########################################################################\n",
    "\n",
    "    # Second, we add the resampling step based on the chosen method (resampling after \n",
    "    # preprocessing and feature engineering)\n",
    "    if resampling_method == 'oversample':\n",
    "        resampling = RandomOverSampler(sampling_strategy = 'auto', random_state=17)\n",
    "    elif resampling_method == 'undersample':\n",
    "        resampling = RandomUnderSampler(sampling_strategy = 'auto', random_state=17)\n",
    "    elif resampling_method == 'smote':\n",
    "        resampling = SMOTE(sampling_strategy = 'auto', random_state=17)\n",
    "    elif resampling_method == 'none':\n",
    "        resampling = None  # No resampling\n",
    "    else:\n",
    "        raise ValueError('Invalid resampling type. Insert resampling method \"oversample\", \"undersample\", \"smote\" or \"none\" for no resampling.')\n",
    "\n",
    "    if resampling:\n",
    "        steps.append(('resampling', resampling))\n",
    "\n",
    "    ###########################################################################\n",
    "\n",
    "    # Third, depending on the model that has been chosen, we append one model\n",
    "    # or another, and define the set of hyperparameters accordingly\n",
    "\n",
    "    # We check if the model is one of the allowed model classes\n",
    "    allowed_models = (LogisticRegression, KNeighborsClassifier, DecisionTreeClassifier,\n",
    "                      RandomForestClassifier, GradientBoostingClassifier, LGBMClassifier)\n",
    "\n",
    "    # We consider the possibility of applying adaptive boosting to the chosen model\n",
    "\n",
    "    if ada_boost == False:\n",
    "\n",
    "        if model == LogisticRegression:\n",
    "            steps.append(('logreg', \n",
    "                                    OneVsRestClassifier(model( # With OVR, we make each class a binary problem (one-versus-the-rest)\n",
    "                                    fit_intercept = True,\n",
    "                                    max_iter = 2000,\n",
    "                                    penalty = 'l2', # Ridge regularization\n",
    "                                    class_weight = None\n",
    "                                    ))))\n",
    "            distributions = {\n",
    "            'logreg__estimator__C': uniform(loc=0.01, scale=10)\n",
    "            }\n",
    "\n",
    "        elif model == KNeighborsClassifier:\n",
    "            steps.append(('knn', model()))\n",
    "            distributions = {\n",
    "            'knn__n_neighbors': randint(low = 1, high = 25),\n",
    "            'knn__weights': ['uniform', 'distance']\n",
    "            }\n",
    "        \n",
    "        elif model == DecisionTreeClassifier:\n",
    "            steps.append(('dtc', \n",
    "                                    model(\n",
    "                                    random_state = 17,\n",
    "                                    class_weight = None\n",
    "                                    )))\n",
    "            distributions = {\n",
    "            'dtc__max_depth': randint(low = 1, high = 100),\n",
    "            'dtc__max_features': randint(low = 1, high = (len(df[numerical_features + categorical_features].columns))),\n",
    "            'dtc__max_leaf_nodes': randint(low = 1, high = 5000),\n",
    "            'dtc__min_samples_leaf': uniform(loc=0.001, scale=0.199),\n",
    "            'dtc__min_samples_split': uniform(loc=0.001, scale=0.199),            \n",
    "            }\n",
    "        \n",
    "        elif model == RandomForestClassifier:\n",
    "            steps.append(('rfc', \n",
    "                                    model(\n",
    "                                    n_estimators = 1000,\n",
    "                                    random_state = 17,\n",
    "                                    oob_score = False,\n",
    "                                    class_weight = None,\n",
    "                                    n_jobs = -1\n",
    "                                    )))\n",
    "            distributions = {\n",
    "            'rfc__max_depth': randint(low = 1, high = 300),\n",
    "            'rfc__max_features': randint(low = 1, high = (len(df[numerical_features + categorical_features].columns))),\n",
    "            'rfc__max_leaf_nodes': randint(low = 1, high = 5000),\n",
    "            'rfc__min_samples_leaf': uniform(loc=0.001, scale=0.199),\n",
    "            'rfc__min_samples_split': uniform(loc=0.001, scale=0.199),\n",
    "            }\n",
    "        \n",
    "        elif model == GradientBoostingClassifier:\n",
    "            steps.append(('gbc', \n",
    "                        model(\n",
    "                            loss = 'log_loss',\n",
    "                            random_state=17\n",
    "                        )))\n",
    "            distributions = {\n",
    "                'gbc__learning_rate': [0.1, 0.5, 1.0],\n",
    "                'gbc__max_depth': randint(low = 1, high = 300),\n",
    "                'gbc__max_features': randint(low = 1, high = (len(df[numerical_features + categorical_features].columns))),\n",
    "                'gbc__max_leaf_nodes': randint(low = 1, high = 5000),\n",
    "                'gbc__min_samples_leaf': uniform(loc=0.001, scale=0.199),\n",
    "                'gbc__min_samples_split': uniform(loc=0.001, scale=0.199),\n",
    "                'gbc__n_estimators': [50, 100, 500],\n",
    "                'gbc__subsample': uniform(loc=0.7, scale=0.3) # Subsample ratio (proportion of training samples to be used for training each estimator)\n",
    "            }\n",
    "\n",
    "        elif model == LGBMClassifier:\n",
    "            steps.append(('lgb',\n",
    "                        model(\n",
    "                            objective = 'multiclass',\n",
    "                            n_estimators = 100, # Number of boosting iterations (since LightGBM uses decision trees as the learners, this can also be thought of as “number of trees”. Same as n_estimators)\n",
    "                            max_depth = -1, # No limit max_depth (default), set to this value as LightGBM focuses on leaf-wise tree growth algorithm\n",
    "                            subsample = 1.0,  # In each iteration, train with all the training instances (since we already do CV)\n",
    "                            device_type = 'cpu', # Change this parameter if prefer CPU to run the algorithm over GPU (though, since the dataset is small, in this case CPU might perform better)\n",
    "                            verbosity = -1 # We disable all the information except for fatal messages\n",
    "                    )))\n",
    "            distributions = {\n",
    "                'lgb__boosting_type': ['gbdt', 'rf'], # 'gbdt': Gradient Boosting Decision Tree. For boosting with Random Forests: 'rf' instead.\n",
    "                'lgb__feature_fraction': uniform(loc = 0.5, scale = 0.5), # LightGBM will randomly select a subset of features on each iteration (tree) if feature_fraction is smaller than 1.0. Speeds up training and deals with overfitting\n",
    "                'lgb__learning_rate': [0.01, 0.15, 0.3], # Lower values (e.g., 0.01) often yield better performance but require more iterations.\n",
    "                'lgb__min_child_samples': randint(low = 5, high = 30), # Higher values prevent overfitting by ensuring leaves have enough data.\n",
    "                'lgb__min_split_gain': uniform(loc = 0.0, scale = 0.1), # Minimum loss reduction required to make a further partition on a leaf node of the tree.\n",
    "                'lgb__num_leaves': [15, 31, 63, 127], # Larger values increase model complexity and the risk of overfitting.\n",
    "                'lgb__reg_lambda': uniform(loc = 0.0, scale = 1.0) # Ridge regularization parameter (alpha, default is 0)\n",
    "            }\n",
    "\n",
    "        else:\n",
    "            raise ValueError(f\"Invalid model type. Allowed models are: {allowed_models}\")\n",
    "    \n",
    "    else:\n",
    "\n",
    "        if model == DecisionTreeClassifier:\n",
    "            base_estimator = model(\n",
    "                random_state = 17,\n",
    "                class_weight = None\n",
    "            )\n",
    "            ada_boost = AdaBoostClassifier(\n",
    "                estimator = base_estimator,\n",
    "                algorithm = 'SAMME',\n",
    "                random_state = 17\n",
    "            )\n",
    "            steps.append(('adaboost', ada_boost))\n",
    "            distributions = {\n",
    "            'adaboost__estimator__max_depth': randint(low = 1, high = 100),\n",
    "            'adaboost__estimator__max_features': randint(low = 1, high = (len(df[numerical_features + categorical_features].columns))),\n",
    "            'adaboost__estimator__max_leaf_nodes': randint(low = 1, high = 5000),\n",
    "            'adaboost__estimator__min_samples_leaf': uniform(loc=0.001, scale=0.199),\n",
    "            'adaboost__estimator__min_samples_split': uniform(loc=0.001, scale=0.199),\n",
    "            'adaboost__learning_rate': [0.1, 0.5, 1.0],\n",
    "            'adaboost__n_estimators': [50, 100, 500]\n",
    "            }\n",
    "\n",
    "        else:\n",
    "            raise ValueError(\"Only Decision Trees are allowed for AdaBoost (Random Forests are not due to use of computing resources).\")\n",
    "    \n",
    "    ###########################################################################\n",
    "\n",
    "    # Fourth, we create the pipeline with the preprocessing, resampling and the model\n",
    "    pipeline = ImbPipeline(steps) # We use Pipeline from imblearn instead of sklearn's\n",
    "\n",
    "    ###########################################################################\n",
    "\n",
    "    # Fifth, we split the dataset into goalkeepers and non-goalkeepers: those\n",
    "    # with missing values in the \"pace\" variable are assumed to be GKs (which\n",
    "    # is true according to what was found in the EDA)\n",
    "\n",
    "    df_gk = df[df['pace'].isna()].copy()\n",
    "    df_nongk = df[~df['pace'].isna()].copy()\n",
    "\n",
    "    # We divide the data frames depending on the variables\n",
    "\n",
    "    X_nongk = df_nongk[numerical_features + categorical_features]\n",
    "    y_nongk = df_nongk[target]\n",
    "\n",
    "    y_gk = df_gk[target]\n",
    "\n",
    "    ###########################################################################\n",
    "\n",
    "    # Sixth, we do the randomized search with the model (only with the data w/o GK)\n",
    "    \n",
    "    scoring_metrics = ['f1_weighted', 'f1_micro', 'f1_macro', 'roc_auc_ovr_weighted']\n",
    "\n",
    "    # Raise an exception if the refit_score is not one of the scoring_metrics\n",
    "    if refit_score not in scoring_metrics:\n",
    "        raise ValueError(f\"Invalid score for finding optimal hyperparameters. Allowed scores are: {scoring_metrics}\")\n",
    "\n",
    "    clf = RandomizedSearchCV(\n",
    "        estimator = pipeline, \n",
    "        param_distributions = distributions,\n",
    "        n_iter = n_hyper_comb, # Default is 10\n",
    "        scoring = scoring_metrics,\n",
    "        n_jobs = -1, # We use all available processors\n",
    "        cv = 5, # Use 5 stratified cross-validation folds\n",
    "        verbose = 1,\n",
    "        refit = refit_score, # Refit an estimator using the best found parameters on the whole dataset with the best score found (by default, f1_weighted)\n",
    "        random_state = 17, \n",
    "        error_score = np.nan, \n",
    "        return_train_score = False)\n",
    "\n",
    "    search = clf.fit(X_nongk, y_nongk)\n",
    "\n",
    "    ###########################################################################\n",
    "\n",
    "    # Seventh, we save the main results from the search\n",
    "\n",
    "    # Best scores obtained with best hyperparameters through stratified cross-val\n",
    "    cv_best_scores = {\n",
    "        'f1_weighted': search.cv_results_['mean_test_f1_weighted'][search.best_index_], # Like f1_macro, but weights the metrics by the number of instances in each class\n",
    "        'f1_micro': search.cv_results_['mean_test_f1_micro'][search.best_index_], # Calculates metrics globally by counting total true positives, false negatives, and false positives\n",
    "        'f1_macro': search.cv_results_['mean_test_f1_macro'][search.best_index_], # Calculates metrics for each class independently and averages them without considering class imbalance\n",
    "        'roc_auc_ovr_weighted': search.cv_results_['mean_test_roc_auc_ovr_weighted'][search.best_index_]\n",
    "    }\n",
    "\n",
    "    # Best hyperparameters from the search\n",
    "    optimal_hyperparameters = search.best_params_\n",
    "\n",
    "    ###########################################################################\n",
    "\n",
    "    # Eigth, we run the predictions training with the optimal hyperparameters \n",
    "    # the whole dataset (note that this can lead to misleading results with higher\n",
    "    # evaluation metrics than what we would get with the test set, as the\n",
    "    # prediction is made with the same training dataset; in any case it can be useful\n",
    "    # for indicating the labels which are missclassified more often)\n",
    "\n",
    "    # Predictions for non-goalkeepers\n",
    "    y_pred_nongk = search.best_estimator_.predict(X_nongk)\n",
    "\n",
    "    # Predictions for goalkeepers: all observations here are predicted as GK\n",
    "    y_pred_gk = [goalkeeper_label] * len(df_gk)\n",
    "\n",
    "    # Combine predictions into a single dataframe\n",
    "    y_combined = pd.concat([y_nongk, y_gk], axis=0)\n",
    "    y_pred_combined = pd.concat([pd.Series(y_pred_nongk), pd.Series(y_pred_gk)], axis=0, ignore_index = True)\n",
    "\n",
    "    ###########################################################################\n",
    "\n",
    "    # Ninth, we evaluate combined metrics (note that we set that metrics with warnings\n",
    "    # will be set to 0, for instance if we get a precision = 0 for some class)\n",
    "    combined_report_dict = classification_report(y_combined, y_pred_combined, output_dict = True, zero_division = 0)\n",
    "    df_combined_report = pd.DataFrame(combined_report_dict)\n",
    "\n",
    "    ###########################################################################\n",
    "\n",
    "    # Tenth, we return the results (metrics for classes computed for the training\n",
    "    # set), including the best hyperparameters found - note that the results from \n",
    "    # KNN in df_combined_report will be entirely misleading, as the prediction \n",
    "    # is made with the same training data (so in that case, we just consider the \n",
    "    # best parameters and best score from the randomized search)\n",
    "\n",
    "    if model == KNeighborsClassifier:\n",
    "        return optimal_hyperparameters, cv_best_scores\n",
    "    else:\n",
    "        return df_combined_report, optimal_hyperparameters, cv_best_scores"
   ]
  },
  {
   "cell_type": "markdown",
   "id": "cf092587",
   "metadata": {},
   "source": [
    "Useful documentation:\n",
    "- Randomized Search: https://scikit-learn.org/1.5/modules/generated/sklearn.model_selection.RandomizedSearchCV.html\n",
    "- Scoring: https://scikit-learn.org/1.5/modules/model_evaluation.html#scoring-parameter. See also different types of f1 scores in: https://scikit-learn.org/1.5/modules/generated/sklearn.metrics.f1_score.html#sklearn.metrics.f1_score\n",
    "- Pipeline: \n",
    "    - sklearn pipeline: https://scikit-learn.org/1.5/modules/generated/sklearn.pipeline.Pipeline.html#sklearn.pipeline.Pipeline\n",
    "    - imblearn pipeline: https://imbalanced-learn.org/stable/references/generated/imblearn.pipeline.Pipeline.html#imblearn.pipeline.Pipeline. This is the pipeline that has been used to integrate the preprocessing with the imbalancing classes from imblearn and the model fitting of sklearn, to guarantee compatibility and correct application of resampling techniques. In the function above:\n",
    "        1. Resampling is applied to the training data (before fitting the model).\n",
    "        2. Preprocessing (imputation, scaling, etc.) comes after resampling, and it should be applied to the training data after resampling and to the test data without resampling.\n",
    "        3. Model fitting occurs after the data is both resampled and preprocessed.\n",
    "- Models:\n",
    "    - One vs rest classifier (for multiclass classification): https://scikit-learn.org/1.5/modules/generated/sklearn.multiclass.OneVsRestClassifier.html\n",
    "    - Logistic Regression: https://scikit-learn.org/1.5/modules/generated/sklearn.linear_model.LogisticRegression.html#sklearn.linear_model.LogisticRegression\n",
    "    - Decision trees in sklearn can handle directly multiclass classification: \"DecisionTreeClassifier is capable of both binary (where the labels are [-1, 1]) classification and multiclass (where the labels are [0, …, K-1]) classification.\" (https://scikit-learn.org/1.5/modules/tree.html). Also, see https://scikit-learn.org/1.5/modules/generated/sklearn.tree.DecisionTreeClassifier.html\n",
    "    - KNN Classifier: https://scikit-learn.org/1.5/modules/generated/sklearn.neighbors.KNeighborsClassifier.html\n",
    "    - Boosting:\n",
    "        - AdaBoostClassifier: https://scikit-learn.org/stable/modules/generated/sklearn.ensemble.AdaBoostClassifier.html\n",
    "        - GradientBoostingClassifier: https://scikit-learn.org/stable/modules/generated/sklearn.ensemble.GradientBoostingClassifier.html#sklearn.ensemble.GradientBoostingClassifier. No need for standardization as it is based on decision trees.\n",
    "        - LightGBM: https://lightgbm.readthedocs.io/en/stable/. No need for standardization as it is based on decision trees. Some interesting features:\n",
    "            - It can work directly with categorical features w/o OHE (higher speed of training).\n",
    "            - Parameters for LGBMClassifier: https://lightgbm.readthedocs.io/en/stable/pythonapi/lightgbm.LGBMClassifier.html#lightgbm.LGBMClassifier\n",
    "            - Additional parameters: https://lightgbm.readthedocs.io/en/stable/Parameters.html\n",
    "            - Tips for parameter-tuning: https://lightgbm.readthedocs.io/en/stable/Parameters-Tuning.html\n",
    "- Dealing with class imbalancing: https://imbalanced-learn.org/stable/index.html. See [RandomOverSampler](https://imbalanced-learn.org/stable/references/generated/imblearn.over_sampling.RandomOverSampler.html), [RandomUnderSampler](https://imbalanced-learn.org/stable/references/generated/imblearn.under_sampling.RandomUnderSampler.html#randomundersampler) and [SMOTE](https://imbalanced-learn.org/stable/references/generated/imblearn.over_sampling.SMOTE.html)."
   ]
  },
  {
   "cell_type": "markdown",
   "id": "d9b3d6b6",
   "metadata": {},
   "source": [
    "### Logistic regression"
   ]
  },
  {
   "cell_type": "markdown",
   "id": "1190773d",
   "metadata": {},
   "source": [
    "#### A. No resampling (without considering class imbalance)"
   ]
  },
  {
   "cell_type": "code",
   "execution_count": 112,
   "id": "a3b25dc5",
   "metadata": {},
   "outputs": [
    {
     "name": "stdout",
     "output_type": "stream",
     "text": [
      "Fitting 5 folds for each of 100 candidates, totalling 500 fits\n"
     ]
    }
   ],
   "source": [
    "df_report_logreg, best_params_logreg, best_scores_logreg = baseline_models(\n",
    "    df = dfv1, numerical_features = numerical_features, categorical_features = categorical_features, \n",
    "    model = LogisticRegression, target = 'position_grouped', n_hyper_comb = 100, num_imputer = \"median\",\n",
    "    goalkeeper_label = \"G_GK\", refit_score = 'f1_weighted', resampling_method = 'none'\n",
    "    )"
   ]
  },
  {
   "cell_type": "code",
   "execution_count": 113,
   "id": "25c91740",
   "metadata": {},
   "outputs": [
    {
     "data": {
      "text/html": [
       "<div>\n",
       "<style scoped>\n",
       "    .dataframe tbody tr th:only-of-type {\n",
       "        vertical-align: middle;\n",
       "    }\n",
       "\n",
       "    .dataframe tbody tr th {\n",
       "        vertical-align: top;\n",
       "    }\n",
       "\n",
       "    .dataframe thead th {\n",
       "        text-align: right;\n",
       "    }\n",
       "</style>\n",
       "<table border=\"1\" class=\"dataframe\">\n",
       "  <thead>\n",
       "    <tr style=\"text-align: right;\">\n",
       "      <th></th>\n",
       "      <th>A_LF</th>\n",
       "      <th>A_LS</th>\n",
       "      <th>A_LW</th>\n",
       "      <th>A_RF</th>\n",
       "      <th>A_RS</th>\n",
       "      <th>A_RW</th>\n",
       "      <th>A_ST</th>\n",
       "      <th>D_CB</th>\n",
       "      <th>D_LB</th>\n",
       "      <th>D_LCB</th>\n",
       "      <th>...</th>\n",
       "      <th>M_CM</th>\n",
       "      <th>M_LCM</th>\n",
       "      <th>M_LDM</th>\n",
       "      <th>M_LM</th>\n",
       "      <th>M_RCM</th>\n",
       "      <th>M_RDM</th>\n",
       "      <th>M_RM</th>\n",
       "      <th>accuracy</th>\n",
       "      <th>macro avg</th>\n",
       "      <th>weighted avg</th>\n",
       "    </tr>\n",
       "  </thead>\n",
       "  <tbody>\n",
       "    <tr>\n",
       "      <th>precision</th>\n",
       "      <td>0.500000</td>\n",
       "      <td>0.255814</td>\n",
       "      <td>0.342105</td>\n",
       "      <td>0.0</td>\n",
       "      <td>0.153846</td>\n",
       "      <td>0.486486</td>\n",
       "      <td>0.482890</td>\n",
       "      <td>1.000000</td>\n",
       "      <td>0.595645</td>\n",
       "      <td>0.654731</td>\n",
       "      <td>...</td>\n",
       "      <td>0.0</td>\n",
       "      <td>0.290146</td>\n",
       "      <td>0.280702</td>\n",
       "      <td>0.281013</td>\n",
       "      <td>0.291605</td>\n",
       "      <td>0.340000</td>\n",
       "      <td>0.286064</td>\n",
       "      <td>0.486584</td>\n",
       "      <td>0.394506</td>\n",
       "      <td>0.472359</td>\n",
       "    </tr>\n",
       "    <tr>\n",
       "      <th>recall</th>\n",
       "      <td>0.031250</td>\n",
       "      <td>0.054726</td>\n",
       "      <td>0.078313</td>\n",
       "      <td>0.0</td>\n",
       "      <td>0.009950</td>\n",
       "      <td>0.108434</td>\n",
       "      <td>0.890187</td>\n",
       "      <td>0.011976</td>\n",
       "      <td>0.827214</td>\n",
       "      <td>0.405705</td>\n",
       "      <td>...</td>\n",
       "      <td>0.0</td>\n",
       "      <td>0.375887</td>\n",
       "      <td>0.079602</td>\n",
       "      <td>0.300813</td>\n",
       "      <td>0.468085</td>\n",
       "      <td>0.084577</td>\n",
       "      <td>0.317073</td>\n",
       "      <td>0.486584</td>\n",
       "      <td>0.300357</td>\n",
       "      <td>0.486584</td>\n",
       "    </tr>\n",
       "    <tr>\n",
       "      <th>f1-score</th>\n",
       "      <td>0.058824</td>\n",
       "      <td>0.090164</td>\n",
       "      <td>0.127451</td>\n",
       "      <td>0.0</td>\n",
       "      <td>0.018692</td>\n",
       "      <td>0.177340</td>\n",
       "      <td>0.626130</td>\n",
       "      <td>0.023669</td>\n",
       "      <td>0.692586</td>\n",
       "      <td>0.500978</td>\n",
       "      <td>...</td>\n",
       "      <td>0.0</td>\n",
       "      <td>0.327497</td>\n",
       "      <td>0.124031</td>\n",
       "      <td>0.290576</td>\n",
       "      <td>0.359347</td>\n",
       "      <td>0.135458</td>\n",
       "      <td>0.300771</td>\n",
       "      <td>0.486584</td>\n",
       "      <td>0.276826</td>\n",
       "      <td>0.432296</td>\n",
       "    </tr>\n",
       "    <tr>\n",
       "      <th>support</th>\n",
       "      <td>32.000000</td>\n",
       "      <td>201.000000</td>\n",
       "      <td>166.000000</td>\n",
       "      <td>32.0</td>\n",
       "      <td>201.000000</td>\n",
       "      <td>166.000000</td>\n",
       "      <td>428.000000</td>\n",
       "      <td>167.000000</td>\n",
       "      <td>463.000000</td>\n",
       "      <td>631.000000</td>\n",
       "      <td>...</td>\n",
       "      <td>75.0</td>\n",
       "      <td>423.000000</td>\n",
       "      <td>201.000000</td>\n",
       "      <td>369.000000</td>\n",
       "      <td>423.000000</td>\n",
       "      <td>201.000000</td>\n",
       "      <td>369.000000</td>\n",
       "      <td>0.486584</td>\n",
       "      <td>6895.000000</td>\n",
       "      <td>6895.000000</td>\n",
       "    </tr>\n",
       "  </tbody>\n",
       "</table>\n",
       "<p>4 rows × 27 columns</p>\n",
       "</div>"
      ],
      "text/plain": [
       "                A_LF        A_LS        A_LW  A_RF        A_RS        A_RW  \\\n",
       "precision   0.500000    0.255814    0.342105   0.0    0.153846    0.486486   \n",
       "recall      0.031250    0.054726    0.078313   0.0    0.009950    0.108434   \n",
       "f1-score    0.058824    0.090164    0.127451   0.0    0.018692    0.177340   \n",
       "support    32.000000  201.000000  166.000000  32.0  201.000000  166.000000   \n",
       "\n",
       "                 A_ST        D_CB        D_LB       D_LCB  ...  M_CM  \\\n",
       "precision    0.482890    1.000000    0.595645    0.654731  ...   0.0   \n",
       "recall       0.890187    0.011976    0.827214    0.405705  ...   0.0   \n",
       "f1-score     0.626130    0.023669    0.692586    0.500978  ...   0.0   \n",
       "support    428.000000  167.000000  463.000000  631.000000  ...  75.0   \n",
       "\n",
       "                M_LCM       M_LDM        M_LM       M_RCM       M_RDM  \\\n",
       "precision    0.290146    0.280702    0.281013    0.291605    0.340000   \n",
       "recall       0.375887    0.079602    0.300813    0.468085    0.084577   \n",
       "f1-score     0.327497    0.124031    0.290576    0.359347    0.135458   \n",
       "support    423.000000  201.000000  369.000000  423.000000  201.000000   \n",
       "\n",
       "                 M_RM  accuracy    macro avg  weighted avg  \n",
       "precision    0.286064  0.486584     0.394506      0.472359  \n",
       "recall       0.317073  0.486584     0.300357      0.486584  \n",
       "f1-score     0.300771  0.486584     0.276826      0.432296  \n",
       "support    369.000000  0.486584  6895.000000   6895.000000  \n",
       "\n",
       "[4 rows x 27 columns]"
      ]
     },
     "execution_count": 113,
     "metadata": {},
     "output_type": "execute_result"
    }
   ],
   "source": [
    "df_report_logreg"
   ]
  },
  {
   "cell_type": "markdown",
   "id": "81e336c6",
   "metadata": {},
   "source": [
    "Graphical representation of the f1 scores for each position:"
   ]
  },
  {
   "cell_type": "code",
   "execution_count": 114,
   "id": "732eca2a",
   "metadata": {},
   "outputs": [
    {
     "data": {
      "image/png": "[encoded data removed]",
      "text/plain": [
       "<Figure size 2000x600 with 2 Axes>"
      ]
     },
     "metadata": {},
     "output_type": "display_data"
    }
   ],
   "source": [
    "graph_f1_per_position(df_train = dfv1, df_report = df_report_logreg)"
   ]
  },
  {
   "cell_type": "markdown",
   "id": "b48eadaf",
   "metadata": {},
   "source": [
    "Insights from the graph:\n",
    "- Clearly, the lower the representation of a position in the dataset, the worse the prediction! (in terms of the F1-score)\n",
    "- Also, it can be noted that some positions with similar representation to others are much better predicted, for instance LB and RB are better predicted than LCB and RCB."
   ]
  },
  {
   "cell_type": "code",
   "execution_count": 115,
   "id": "e61d165b",
   "metadata": {},
   "outputs": [
    {
     "data": {
      "text/plain": [
       "{'logreg__estimator__C': 8.88982434157199}"
      ]
     },
     "execution_count": 115,
     "metadata": {},
     "output_type": "execute_result"
    }
   ],
   "source": [
    "best_params_logreg"
   ]
  },
  {
   "cell_type": "code",
   "execution_count": 116,
   "id": "39d33598",
   "metadata": {},
   "outputs": [
    {
     "data": {
      "text/plain": [
       "{'f1_weighted': 0.3504338731270982,\n",
       " 'f1_micro': 0.4085252263577,\n",
       " 'f1_macro': 0.2209693029464408,\n",
       " 'roc_auc_weighted': 0.9021076393679908}"
      ]
     },
     "execution_count": 116,
     "metadata": {},
     "output_type": "execute_result"
    }
   ],
   "source": [
    "best_scores_logreg"
   ]
  },
  {
   "cell_type": "markdown",
   "id": "21013571",
   "metadata": {},
   "source": [
    "#### B. Oversampling"
   ]
  },
  {
   "cell_type": "code",
   "execution_count": null,
   "id": "9ca30d94",
   "metadata": {},
   "outputs": [
    {
     "name": "stdout",
     "output_type": "stream",
     "text": [
      "Fitting 5 folds for each of 20 candidates, totalling 100 fits\n"
     ]
    }
   ],
   "source": [
    "df_report_logreg_overs, best_params_logreg_overs, best_scores_logreg_overs = baseline_models(\n",
    "    df = dfv1, numerical_features = numerical_features, categorical_features = categorical_features, \n",
    "    model = LogisticRegression, target = 'position_grouped', n_hyper_comb = 20, num_imputer = \"median\",\n",
    "    goalkeeper_label = \"G_GK\", refit_score = 'f1_weighted', resampling_method = 'oversample'\n",
    "    )"
   ]
  },
  {
   "cell_type": "code",
   "execution_count": null,
   "id": "74d52bc9",
   "metadata": {},
   "outputs": [
    {
     "data": {
      "text/html": [
       "<div>\n",
       "<style scoped>\n",
       "    .dataframe tbody tr th:only-of-type {\n",
       "        vertical-align: middle;\n",
       "    }\n",
       "\n",
       "    .dataframe tbody tr th {\n",
       "        vertical-align: top;\n",
       "    }\n",
       "\n",
       "    .dataframe thead th {\n",
       "        text-align: right;\n",
       "    }\n",
       "</style>\n",
       "<table border=\"1\" class=\"dataframe\">\n",
       "  <thead>\n",
       "    <tr style=\"text-align: right;\">\n",
       "      <th></th>\n",
       "      <th>A_LF</th>\n",
       "      <th>A_LS</th>\n",
       "      <th>A_LW</th>\n",
       "      <th>A_RF</th>\n",
       "      <th>A_RS</th>\n",
       "      <th>A_RW</th>\n",
       "      <th>A_ST</th>\n",
       "      <th>D_CB</th>\n",
       "      <th>D_LB</th>\n",
       "      <th>D_LCB</th>\n",
       "      <th>...</th>\n",
       "      <th>M_CM</th>\n",
       "      <th>M_LCM</th>\n",
       "      <th>M_LDM</th>\n",
       "      <th>M_LM</th>\n",
       "      <th>M_RCM</th>\n",
       "      <th>M_RDM</th>\n",
       "      <th>M_RM</th>\n",
       "      <th>accuracy</th>\n",
       "      <th>macro avg</th>\n",
       "      <th>weighted avg</th>\n",
       "    </tr>\n",
       "  </thead>\n",
       "  <tbody>\n",
       "    <tr>\n",
       "      <th>precision</th>\n",
       "      <td>0.075949</td>\n",
       "      <td>0.251121</td>\n",
       "      <td>0.190722</td>\n",
       "      <td>0.042553</td>\n",
       "      <td>0.209184</td>\n",
       "      <td>0.241706</td>\n",
       "      <td>0.600575</td>\n",
       "      <td>0.190601</td>\n",
       "      <td>0.674938</td>\n",
       "      <td>0.733553</td>\n",
       "      <td>...</td>\n",
       "      <td>0.081633</td>\n",
       "      <td>0.288043</td>\n",
       "      <td>0.227723</td>\n",
       "      <td>0.355140</td>\n",
       "      <td>0.289474</td>\n",
       "      <td>0.198675</td>\n",
       "      <td>0.379562</td>\n",
       "      <td>0.402611</td>\n",
       "      <td>0.332255</td>\n",
       "      <td>0.468256</td>\n",
       "    </tr>\n",
       "    <tr>\n",
       "      <th>recall</th>\n",
       "      <td>0.562500</td>\n",
       "      <td>0.278607</td>\n",
       "      <td>0.222892</td>\n",
       "      <td>0.250000</td>\n",
       "      <td>0.203980</td>\n",
       "      <td>0.307229</td>\n",
       "      <td>0.488318</td>\n",
       "      <td>0.437126</td>\n",
       "      <td>0.587473</td>\n",
       "      <td>0.353407</td>\n",
       "      <td>...</td>\n",
       "      <td>0.320000</td>\n",
       "      <td>0.125296</td>\n",
       "      <td>0.114428</td>\n",
       "      <td>0.102981</td>\n",
       "      <td>0.130024</td>\n",
       "      <td>0.298507</td>\n",
       "      <td>0.140921</td>\n",
       "      <td>0.402611</td>\n",
       "      <td>0.362419</td>\n",
       "      <td>0.402611</td>\n",
       "    </tr>\n",
       "    <tr>\n",
       "      <th>f1-score</th>\n",
       "      <td>0.133829</td>\n",
       "      <td>0.264151</td>\n",
       "      <td>0.205556</td>\n",
       "      <td>0.072727</td>\n",
       "      <td>0.206549</td>\n",
       "      <td>0.270557</td>\n",
       "      <td>0.538660</td>\n",
       "      <td>0.265455</td>\n",
       "      <td>0.628176</td>\n",
       "      <td>0.477005</td>\n",
       "      <td>...</td>\n",
       "      <td>0.130081</td>\n",
       "      <td>0.174629</td>\n",
       "      <td>0.152318</td>\n",
       "      <td>0.159664</td>\n",
       "      <td>0.179445</td>\n",
       "      <td>0.238569</td>\n",
       "      <td>0.205534</td>\n",
       "      <td>0.402611</td>\n",
       "      <td>0.311338</td>\n",
       "      <td>0.411192</td>\n",
       "    </tr>\n",
       "    <tr>\n",
       "      <th>support</th>\n",
       "      <td>32.000000</td>\n",
       "      <td>201.000000</td>\n",
       "      <td>166.000000</td>\n",
       "      <td>32.000000</td>\n",
       "      <td>201.000000</td>\n",
       "      <td>166.000000</td>\n",
       "      <td>428.000000</td>\n",
       "      <td>167.000000</td>\n",
       "      <td>463.000000</td>\n",
       "      <td>631.000000</td>\n",
       "      <td>...</td>\n",
       "      <td>75.000000</td>\n",
       "      <td>423.000000</td>\n",
       "      <td>201.000000</td>\n",
       "      <td>369.000000</td>\n",
       "      <td>423.000000</td>\n",
       "      <td>201.000000</td>\n",
       "      <td>369.000000</td>\n",
       "      <td>0.402611</td>\n",
       "      <td>6895.000000</td>\n",
       "      <td>6895.000000</td>\n",
       "    </tr>\n",
       "  </tbody>\n",
       "</table>\n",
       "<p>4 rows × 27 columns</p>\n",
       "</div>"
      ],
      "text/plain": [
       "                A_LF        A_LS        A_LW       A_RF        A_RS  \\\n",
       "precision   0.075949    0.251121    0.190722   0.042553    0.209184   \n",
       "recall      0.562500    0.278607    0.222892   0.250000    0.203980   \n",
       "f1-score    0.133829    0.264151    0.205556   0.072727    0.206549   \n",
       "support    32.000000  201.000000  166.000000  32.000000  201.000000   \n",
       "\n",
       "                 A_RW        A_ST        D_CB        D_LB       D_LCB  ...  \\\n",
       "precision    0.241706    0.600575    0.190601    0.674938    0.733553  ...   \n",
       "recall       0.307229    0.488318    0.437126    0.587473    0.353407  ...   \n",
       "f1-score     0.270557    0.538660    0.265455    0.628176    0.477005  ...   \n",
       "support    166.000000  428.000000  167.000000  463.000000  631.000000  ...   \n",
       "\n",
       "                M_CM       M_LCM       M_LDM        M_LM       M_RCM  \\\n",
       "precision   0.081633    0.288043    0.227723    0.355140    0.289474   \n",
       "recall      0.320000    0.125296    0.114428    0.102981    0.130024   \n",
       "f1-score    0.130081    0.174629    0.152318    0.159664    0.179445   \n",
       "support    75.000000  423.000000  201.000000  369.000000  423.000000   \n",
       "\n",
       "                M_RDM        M_RM  accuracy    macro avg  weighted avg  \n",
       "precision    0.198675    0.379562  0.402611     0.332255      0.468256  \n",
       "recall       0.298507    0.140921  0.402611     0.362419      0.402611  \n",
       "f1-score     0.238569    0.205534  0.402611     0.311338      0.411192  \n",
       "support    201.000000  369.000000  0.402611  6895.000000   6895.000000  \n",
       "\n",
       "[4 rows x 27 columns]"
      ]
     },
     "metadata": {},
     "output_type": "display_data"
    }
   ],
   "source": [
    "df_report_logreg_overs"
   ]
  },
  {
   "cell_type": "code",
   "execution_count": null,
   "id": "0e50013d",
   "metadata": {},
   "outputs": [
    {
     "data": {
      "image/png": "[encoded data removed]",
      "text/plain": [
       "<Figure size 2000x600 with 2 Axes>"
      ]
     },
     "metadata": {},
     "output_type": "display_data"
    }
   ],
   "source": [
    "graph_f1_per_position(df_train = dfv1, df_report = df_report_logreg_overs)"
   ]
  },
  {
   "cell_type": "markdown",
   "id": "ad81f032",
   "metadata": {},
   "source": [
    "Note how, in comparison with the F1-scores without considering class imbalancing, the minority classes now have a (significantly, in some cases) better F1-score!"
   ]
  },
  {
   "cell_type": "code",
   "execution_count": null,
   "id": "debfc428",
   "metadata": {},
   "outputs": [
    {
     "data": {
      "text/plain": [
       "{'logreg__estimator__C': 0.4006291618886648}"
      ]
     },
     "metadata": {},
     "output_type": "display_data"
    }
   ],
   "source": [
    "best_params_logreg_overs"
   ]
  },
  {
   "cell_type": "code",
   "execution_count": null,
   "id": "8fb8672c",
   "metadata": {},
   "outputs": [
    {
     "data": {
      "text/plain": [
       "{'f1_weighted': 0.31506418164412275,\n",
       " 'f1_micro': 0.301086338474562,\n",
       " 'f1_macro': 0.23455711581287977,\n",
       " 'roc_auc_weighted': 0.8987488011113788}"
      ]
     },
     "metadata": {},
     "output_type": "display_data"
    }
   ],
   "source": [
    "best_scores_logreg_overs"
   ]
  },
  {
   "cell_type": "markdown",
   "id": "2811969e",
   "metadata": {},
   "source": [
    "#### C. SMOTE"
   ]
  },
  {
   "cell_type": "markdown",
   "id": "bdecbb89",
   "metadata": {},
   "source": [
    "#### D. Undersampling"
   ]
  },
  {
   "cell_type": "code",
   "execution_count": null,
   "id": "7d92d0b9",
   "metadata": {},
   "outputs": [
    {
     "name": "stdout",
     "output_type": "stream",
     "text": [
      "Fitting 5 folds for each of 20 candidates, totalling 100 fits\n"
     ]
    }
   ],
   "source": [
    "df_report_logreg_under, best_params_logreg_under, best_scores_logreg_under = baseline_models(\n",
    "    df = dfv1, numerical_features = numerical_features, categorical_features = categorical_features, \n",
    "    model = LogisticRegression, target = 'position_grouped', n_hyper_comb = 20, num_imputer = \"median\",\n",
    "    goalkeeper_label = \"G_GK\", refit_score = 'f1_weighted', resampling_method = 'undersample'\n",
    "    )"
   ]
  },
  {
   "cell_type": "code",
   "execution_count": null,
   "id": "8e8a6093",
   "metadata": {},
   "outputs": [
    {
     "data": {
      "text/html": [
       "<div>\n",
       "<style scoped>\n",
       "    .dataframe tbody tr th:only-of-type {\n",
       "        vertical-align: middle;\n",
       "    }\n",
       "\n",
       "    .dataframe tbody tr th {\n",
       "        vertical-align: top;\n",
       "    }\n",
       "\n",
       "    .dataframe thead th {\n",
       "        text-align: right;\n",
       "    }\n",
       "</style>\n",
       "<table border=\"1\" class=\"dataframe\">\n",
       "  <thead>\n",
       "    <tr style=\"text-align: right;\">\n",
       "      <th></th>\n",
       "      <th>A_LF</th>\n",
       "      <th>A_LS</th>\n",
       "      <th>A_LW</th>\n",
       "      <th>A_RF</th>\n",
       "      <th>A_RS</th>\n",
       "      <th>A_RW</th>\n",
       "      <th>A_ST</th>\n",
       "      <th>D_CB</th>\n",
       "      <th>D_LB</th>\n",
       "      <th>D_LCB</th>\n",
       "      <th>...</th>\n",
       "      <th>M_CM</th>\n",
       "      <th>M_LCM</th>\n",
       "      <th>M_LDM</th>\n",
       "      <th>M_LM</th>\n",
       "      <th>M_RCM</th>\n",
       "      <th>M_RDM</th>\n",
       "      <th>M_RM</th>\n",
       "      <th>accuracy</th>\n",
       "      <th>macro avg</th>\n",
       "      <th>weighted avg</th>\n",
       "    </tr>\n",
       "  </thead>\n",
       "  <tbody>\n",
       "    <tr>\n",
       "      <th>precision</th>\n",
       "      <td>0.103030</td>\n",
       "      <td>0.169811</td>\n",
       "      <td>0.155914</td>\n",
       "      <td>0.025862</td>\n",
       "      <td>0.191729</td>\n",
       "      <td>0.166090</td>\n",
       "      <td>0.575472</td>\n",
       "      <td>0.133094</td>\n",
       "      <td>0.597701</td>\n",
       "      <td>0.551181</td>\n",
       "      <td>...</td>\n",
       "      <td>0.083770</td>\n",
       "      <td>0.198980</td>\n",
       "      <td>0.135266</td>\n",
       "      <td>0.348624</td>\n",
       "      <td>0.218750</td>\n",
       "      <td>0.186813</td>\n",
       "      <td>0.235602</td>\n",
       "      <td>0.340682</td>\n",
       "      <td>0.281852</td>\n",
       "      <td>0.405740</td>\n",
       "    </tr>\n",
       "    <tr>\n",
       "      <th>recall</th>\n",
       "      <td>0.531250</td>\n",
       "      <td>0.179104</td>\n",
       "      <td>0.174699</td>\n",
       "      <td>0.093750</td>\n",
       "      <td>0.253731</td>\n",
       "      <td>0.289157</td>\n",
       "      <td>0.427570</td>\n",
       "      <td>0.443114</td>\n",
       "      <td>0.449244</td>\n",
       "      <td>0.332805</td>\n",
       "      <td>...</td>\n",
       "      <td>0.213333</td>\n",
       "      <td>0.092199</td>\n",
       "      <td>0.139303</td>\n",
       "      <td>0.102981</td>\n",
       "      <td>0.132388</td>\n",
       "      <td>0.169154</td>\n",
       "      <td>0.121951</td>\n",
       "      <td>0.340682</td>\n",
       "      <td>0.307335</td>\n",
       "      <td>0.340682</td>\n",
       "    </tr>\n",
       "    <tr>\n",
       "      <th>f1-score</th>\n",
       "      <td>0.172589</td>\n",
       "      <td>0.174334</td>\n",
       "      <td>0.164773</td>\n",
       "      <td>0.040541</td>\n",
       "      <td>0.218415</td>\n",
       "      <td>0.210989</td>\n",
       "      <td>0.490617</td>\n",
       "      <td>0.204703</td>\n",
       "      <td>0.512947</td>\n",
       "      <td>0.415020</td>\n",
       "      <td>...</td>\n",
       "      <td>0.120301</td>\n",
       "      <td>0.126010</td>\n",
       "      <td>0.137255</td>\n",
       "      <td>0.158996</td>\n",
       "      <td>0.164948</td>\n",
       "      <td>0.177546</td>\n",
       "      <td>0.160714</td>\n",
       "      <td>0.340682</td>\n",
       "      <td>0.264644</td>\n",
       "      <td>0.353448</td>\n",
       "    </tr>\n",
       "    <tr>\n",
       "      <th>support</th>\n",
       "      <td>32.000000</td>\n",
       "      <td>201.000000</td>\n",
       "      <td>166.000000</td>\n",
       "      <td>32.000000</td>\n",
       "      <td>201.000000</td>\n",
       "      <td>166.000000</td>\n",
       "      <td>428.000000</td>\n",
       "      <td>167.000000</td>\n",
       "      <td>463.000000</td>\n",
       "      <td>631.000000</td>\n",
       "      <td>...</td>\n",
       "      <td>75.000000</td>\n",
       "      <td>423.000000</td>\n",
       "      <td>201.000000</td>\n",
       "      <td>369.000000</td>\n",
       "      <td>423.000000</td>\n",
       "      <td>201.000000</td>\n",
       "      <td>369.000000</td>\n",
       "      <td>0.340682</td>\n",
       "      <td>6895.000000</td>\n",
       "      <td>6895.000000</td>\n",
       "    </tr>\n",
       "  </tbody>\n",
       "</table>\n",
       "<p>4 rows × 27 columns</p>\n",
       "</div>"
      ],
      "text/plain": [
       "                A_LF        A_LS        A_LW       A_RF        A_RS  \\\n",
       "precision   0.103030    0.169811    0.155914   0.025862    0.191729   \n",
       "recall      0.531250    0.179104    0.174699   0.093750    0.253731   \n",
       "f1-score    0.172589    0.174334    0.164773   0.040541    0.218415   \n",
       "support    32.000000  201.000000  166.000000  32.000000  201.000000   \n",
       "\n",
       "                 A_RW        A_ST        D_CB        D_LB       D_LCB  ...  \\\n",
       "precision    0.166090    0.575472    0.133094    0.597701    0.551181  ...   \n",
       "recall       0.289157    0.427570    0.443114    0.449244    0.332805  ...   \n",
       "f1-score     0.210989    0.490617    0.204703    0.512947    0.415020  ...   \n",
       "support    166.000000  428.000000  167.000000  463.000000  631.000000  ...   \n",
       "\n",
       "                M_CM       M_LCM       M_LDM        M_LM       M_RCM  \\\n",
       "precision   0.083770    0.198980    0.135266    0.348624    0.218750   \n",
       "recall      0.213333    0.092199    0.139303    0.102981    0.132388   \n",
       "f1-score    0.120301    0.126010    0.137255    0.158996    0.164948   \n",
       "support    75.000000  423.000000  201.000000  369.000000  423.000000   \n",
       "\n",
       "                M_RDM        M_RM  accuracy    macro avg  weighted avg  \n",
       "precision    0.186813    0.235602  0.340682     0.281852      0.405740  \n",
       "recall       0.169154    0.121951  0.340682     0.307335      0.340682  \n",
       "f1-score     0.177546    0.160714  0.340682     0.264644      0.353448  \n",
       "support    201.000000  369.000000  0.340682  6895.000000   6895.000000  \n",
       "\n",
       "[4 rows x 27 columns]"
      ]
     },
     "metadata": {},
     "output_type": "display_data"
    }
   ],
   "source": [
    "df_report_logreg_under"
   ]
  },
  {
   "cell_type": "code",
   "execution_count": null,
   "id": "af8149df",
   "metadata": {},
   "outputs": [
    {
     "data": {
      "text/plain": [
       "{'logreg__estimator__C': 0.6890035819129137}"
      ]
     },
     "metadata": {},
     "output_type": "display_data"
    }
   ],
   "source": [
    "best_params_logreg_under"
   ]
  },
  {
   "cell_type": "code",
   "execution_count": null,
   "id": "dd65dff1",
   "metadata": {},
   "outputs": [
    {
     "data": {
      "text/plain": [
       "{'f1_weighted': 0.2841787762316953,\n",
       " 'f1_micro': 0.2705932598823526,\n",
       " 'f1_macro': 0.2158155469629615,\n",
       " 'roc_auc_weighted': 0.8684332524412028}"
      ]
     },
     "metadata": {},
     "output_type": "display_data"
    }
   ],
   "source": [
    "best_scores_logreg_under"
   ]
  },
  {
   "cell_type": "markdown",
   "id": "96eabba0",
   "metadata": {},
   "source": [
    "#### E. Extended number of features, no resampling"
   ]
  },
  {
   "cell_type": "code",
   "execution_count": 12,
   "id": "c089002f",
   "metadata": {},
   "outputs": [
    {
     "name": "stdout",
     "output_type": "stream",
     "text": [
      "Fitting 5 folds for each of 100 candidates, totalling 500 fits\n"
     ]
    }
   ],
   "source": [
    "df_report_logreg_ext, best_params_logreg_ext, best_scores_logreg_ext = baseline_models(\n",
    "    df = dfv1, numerical_features = numerical_features_ext, categorical_features = categorical_features_ext, \n",
    "    model = LogisticRegression, target = 'position_grouped', n_hyper_comb = 100, num_imputer = \"median\",\n",
    "    goalkeeper_label = \"G_GK\", refit_score = 'f1_weighted', resampling_method = 'none'\n",
    "    )"
   ]
  },
  {
   "cell_type": "code",
   "execution_count": 13,
   "id": "99a6de9f",
   "metadata": {},
   "outputs": [
    {
     "data": {
      "text/html": [
       "<div>\n",
       "<style scoped>\n",
       "    .dataframe tbody tr th:only-of-type {\n",
       "        vertical-align: middle;\n",
       "    }\n",
       "\n",
       "    .dataframe tbody tr th {\n",
       "        vertical-align: top;\n",
       "    }\n",
       "\n",
       "    .dataframe thead th {\n",
       "        text-align: right;\n",
       "    }\n",
       "</style>\n",
       "<table border=\"1\" class=\"dataframe\">\n",
       "  <thead>\n",
       "    <tr style=\"text-align: right;\">\n",
       "      <th></th>\n",
       "      <th>A_LF</th>\n",
       "      <th>A_LS</th>\n",
       "      <th>A_LW</th>\n",
       "      <th>A_RF</th>\n",
       "      <th>A_RS</th>\n",
       "      <th>A_RW</th>\n",
       "      <th>A_ST</th>\n",
       "      <th>D_CB</th>\n",
       "      <th>D_LB</th>\n",
       "      <th>D_LCB</th>\n",
       "      <th>...</th>\n",
       "      <th>M_CM</th>\n",
       "      <th>M_LCM</th>\n",
       "      <th>M_LDM</th>\n",
       "      <th>M_LM</th>\n",
       "      <th>M_RCM</th>\n",
       "      <th>M_RDM</th>\n",
       "      <th>M_RM</th>\n",
       "      <th>accuracy</th>\n",
       "      <th>macro avg</th>\n",
       "      <th>weighted avg</th>\n",
       "    </tr>\n",
       "  </thead>\n",
       "  <tbody>\n",
       "    <tr>\n",
       "      <th>precision</th>\n",
       "      <td>0.428571</td>\n",
       "      <td>0.321429</td>\n",
       "      <td>0.351852</td>\n",
       "      <td>1.000000</td>\n",
       "      <td>0.366667</td>\n",
       "      <td>0.400000</td>\n",
       "      <td>0.509563</td>\n",
       "      <td>0.500000</td>\n",
       "      <td>0.640599</td>\n",
       "      <td>0.655738</td>\n",
       "      <td>...</td>\n",
       "      <td>0.166667</td>\n",
       "      <td>0.319066</td>\n",
       "      <td>0.416667</td>\n",
       "      <td>0.318302</td>\n",
       "      <td>0.328881</td>\n",
       "      <td>0.311688</td>\n",
       "      <td>0.338798</td>\n",
       "      <td>0.50979</td>\n",
       "      <td>0.460671</td>\n",
       "      <td>0.498719</td>\n",
       "    </tr>\n",
       "    <tr>\n",
       "      <th>recall</th>\n",
       "      <td>0.093750</td>\n",
       "      <td>0.134328</td>\n",
       "      <td>0.114458</td>\n",
       "      <td>0.031250</td>\n",
       "      <td>0.109453</td>\n",
       "      <td>0.168675</td>\n",
       "      <td>0.871495</td>\n",
       "      <td>0.017964</td>\n",
       "      <td>0.831533</td>\n",
       "      <td>0.443740</td>\n",
       "      <td>...</td>\n",
       "      <td>0.013333</td>\n",
       "      <td>0.387707</td>\n",
       "      <td>0.149254</td>\n",
       "      <td>0.325203</td>\n",
       "      <td>0.465721</td>\n",
       "      <td>0.119403</td>\n",
       "      <td>0.336043</td>\n",
       "      <td>0.50979</td>\n",
       "      <td>0.335287</td>\n",
       "      <td>0.509790</td>\n",
       "    </tr>\n",
       "    <tr>\n",
       "      <th>f1-score</th>\n",
       "      <td>0.153846</td>\n",
       "      <td>0.189474</td>\n",
       "      <td>0.172727</td>\n",
       "      <td>0.060606</td>\n",
       "      <td>0.168582</td>\n",
       "      <td>0.237288</td>\n",
       "      <td>0.643103</td>\n",
       "      <td>0.034682</td>\n",
       "      <td>0.723684</td>\n",
       "      <td>0.529301</td>\n",
       "      <td>...</td>\n",
       "      <td>0.024691</td>\n",
       "      <td>0.350053</td>\n",
       "      <td>0.219780</td>\n",
       "      <td>0.321716</td>\n",
       "      <td>0.385519</td>\n",
       "      <td>0.172662</td>\n",
       "      <td>0.337415</td>\n",
       "      <td>0.50979</td>\n",
       "      <td>0.328002</td>\n",
       "      <td>0.468332</td>\n",
       "    </tr>\n",
       "    <tr>\n",
       "      <th>support</th>\n",
       "      <td>32.000000</td>\n",
       "      <td>201.000000</td>\n",
       "      <td>166.000000</td>\n",
       "      <td>32.000000</td>\n",
       "      <td>201.000000</td>\n",
       "      <td>166.000000</td>\n",
       "      <td>428.000000</td>\n",
       "      <td>167.000000</td>\n",
       "      <td>463.000000</td>\n",
       "      <td>631.000000</td>\n",
       "      <td>...</td>\n",
       "      <td>75.000000</td>\n",
       "      <td>423.000000</td>\n",
       "      <td>201.000000</td>\n",
       "      <td>369.000000</td>\n",
       "      <td>423.000000</td>\n",
       "      <td>201.000000</td>\n",
       "      <td>369.000000</td>\n",
       "      <td>0.50979</td>\n",
       "      <td>6895.000000</td>\n",
       "      <td>6895.000000</td>\n",
       "    </tr>\n",
       "  </tbody>\n",
       "</table>\n",
       "<p>4 rows × 27 columns</p>\n",
       "</div>"
      ],
      "text/plain": [
       "                A_LF        A_LS        A_LW       A_RF        A_RS  \\\n",
       "precision   0.428571    0.321429    0.351852   1.000000    0.366667   \n",
       "recall      0.093750    0.134328    0.114458   0.031250    0.109453   \n",
       "f1-score    0.153846    0.189474    0.172727   0.060606    0.168582   \n",
       "support    32.000000  201.000000  166.000000  32.000000  201.000000   \n",
       "\n",
       "                 A_RW        A_ST        D_CB        D_LB       D_LCB  ...  \\\n",
       "precision    0.400000    0.509563    0.500000    0.640599    0.655738  ...   \n",
       "recall       0.168675    0.871495    0.017964    0.831533    0.443740  ...   \n",
       "f1-score     0.237288    0.643103    0.034682    0.723684    0.529301  ...   \n",
       "support    166.000000  428.000000  167.000000  463.000000  631.000000  ...   \n",
       "\n",
       "                M_CM       M_LCM       M_LDM        M_LM       M_RCM  \\\n",
       "precision   0.166667    0.319066    0.416667    0.318302    0.328881   \n",
       "recall      0.013333    0.387707    0.149254    0.325203    0.465721   \n",
       "f1-score    0.024691    0.350053    0.219780    0.321716    0.385519   \n",
       "support    75.000000  423.000000  201.000000  369.000000  423.000000   \n",
       "\n",
       "                M_RDM        M_RM  accuracy    macro avg  weighted avg  \n",
       "precision    0.311688    0.338798   0.50979     0.460671      0.498719  \n",
       "recall       0.119403    0.336043   0.50979     0.335287      0.509790  \n",
       "f1-score     0.172662    0.337415   0.50979     0.328002      0.468332  \n",
       "support    201.000000  369.000000   0.50979  6895.000000   6895.000000  \n",
       "\n",
       "[4 rows x 27 columns]"
      ]
     },
     "execution_count": 13,
     "metadata": {},
     "output_type": "execute_result"
    }
   ],
   "source": [
    "df_report_logreg_ext"
   ]
  },
  {
   "cell_type": "code",
   "execution_count": 14,
   "id": "74caeea2",
   "metadata": {},
   "outputs": [
    {
     "data": {
      "text/plain": [
       "{'logreg__estimator__C': 8.88736351885637}"
      ]
     },
     "execution_count": 14,
     "metadata": {},
     "output_type": "execute_result"
    }
   ],
   "source": [
    "best_params_logreg_ext"
   ]
  },
  {
   "cell_type": "code",
   "execution_count": 15,
   "id": "cbd0bb0a",
   "metadata": {},
   "outputs": [
    {
     "data": {
      "text/plain": [
       "{'f1_weighted': 0.3655801648317382,\n",
       " 'f1_micro': 0.4117182021933303,\n",
       " 'f1_macro': 0.24078356366424963,\n",
       " 'roc_auc_weighted': 0.9060559989617039}"
      ]
     },
     "execution_count": 15,
     "metadata": {},
     "output_type": "execute_result"
    }
   ],
   "source": [
    "best_scores_logreg_ext"
   ]
  },
  {
   "cell_type": "markdown",
   "id": "1d5f7a57",
   "metadata": {},
   "source": [
    "#### F. No resampling, finding best f1-micro\n",
    "It seems that the Kaggle competition is based on the F1-micro score instead of on the weighted F1-score, so we should optimize hyperparameters according to that."
   ]
  },
  {
   "cell_type": "code",
   "execution_count": 8,
   "id": "a3022d4b",
   "metadata": {},
   "outputs": [
    {
     "name": "stdout",
     "output_type": "stream",
     "text": [
      "Fitting 5 folds for each of 100 candidates, totalling 500 fits\n"
     ]
    }
   ],
   "source": [
    "df_report_logreg_v2, best_params_logreg_v2, best_scores_logreg_v2 = baseline_models(\n",
    "    df = dfv1, numerical_features = numerical_features, categorical_features = categorical_features, \n",
    "    model = LogisticRegression, target = 'position_grouped', n_hyper_comb = 100, num_imputer = \"median\",\n",
    "    goalkeeper_label = \"G_GK\", refit_score = 'f1_micro', resampling_method = 'none'\n",
    "    )"
   ]
  },
  {
   "cell_type": "code",
   "execution_count": 9,
   "id": "08051b90",
   "metadata": {},
   "outputs": [
    {
     "data": {
      "text/html": [
       "<div>\n",
       "<style scoped>\n",
       "    .dataframe tbody tr th:only-of-type {\n",
       "        vertical-align: middle;\n",
       "    }\n",
       "\n",
       "    .dataframe tbody tr th {\n",
       "        vertical-align: top;\n",
       "    }\n",
       "\n",
       "    .dataframe thead th {\n",
       "        text-align: right;\n",
       "    }\n",
       "</style>\n",
       "<table border=\"1\" class=\"dataframe\">\n",
       "  <thead>\n",
       "    <tr style=\"text-align: right;\">\n",
       "      <th></th>\n",
       "      <th>A_LF</th>\n",
       "      <th>A_LS</th>\n",
       "      <th>A_LW</th>\n",
       "      <th>A_RF</th>\n",
       "      <th>A_RS</th>\n",
       "      <th>A_RW</th>\n",
       "      <th>A_ST</th>\n",
       "      <th>D_CB</th>\n",
       "      <th>D_LB</th>\n",
       "      <th>D_LCB</th>\n",
       "      <th>...</th>\n",
       "      <th>M_CM</th>\n",
       "      <th>M_LCM</th>\n",
       "      <th>M_LDM</th>\n",
       "      <th>M_LM</th>\n",
       "      <th>M_RCM</th>\n",
       "      <th>M_RDM</th>\n",
       "      <th>M_RM</th>\n",
       "      <th>accuracy</th>\n",
       "      <th>macro avg</th>\n",
       "      <th>weighted avg</th>\n",
       "    </tr>\n",
       "  </thead>\n",
       "  <tbody>\n",
       "    <tr>\n",
       "      <th>precision</th>\n",
       "      <td>0.0</td>\n",
       "      <td>0.214286</td>\n",
       "      <td>0.227273</td>\n",
       "      <td>0.0</td>\n",
       "      <td>0.250000</td>\n",
       "      <td>0.416667</td>\n",
       "      <td>0.477301</td>\n",
       "      <td>1.000000</td>\n",
       "      <td>0.591185</td>\n",
       "      <td>0.662269</td>\n",
       "      <td>...</td>\n",
       "      <td>0.0</td>\n",
       "      <td>0.295539</td>\n",
       "      <td>0.272727</td>\n",
       "      <td>0.270396</td>\n",
       "      <td>0.269553</td>\n",
       "      <td>0.428571</td>\n",
       "      <td>0.282353</td>\n",
       "      <td>0.480783</td>\n",
       "      <td>0.348174</td>\n",
       "      <td>0.458541</td>\n",
       "    </tr>\n",
       "    <tr>\n",
       "      <th>recall</th>\n",
       "      <td>0.0</td>\n",
       "      <td>0.029851</td>\n",
       "      <td>0.030120</td>\n",
       "      <td>0.0</td>\n",
       "      <td>0.009950</td>\n",
       "      <td>0.030120</td>\n",
       "      <td>0.908879</td>\n",
       "      <td>0.005988</td>\n",
       "      <td>0.840173</td>\n",
       "      <td>0.397781</td>\n",
       "      <td>...</td>\n",
       "      <td>0.0</td>\n",
       "      <td>0.375887</td>\n",
       "      <td>0.044776</td>\n",
       "      <td>0.314363</td>\n",
       "      <td>0.456265</td>\n",
       "      <td>0.074627</td>\n",
       "      <td>0.325203</td>\n",
       "      <td>0.480783</td>\n",
       "      <td>0.288526</td>\n",
       "      <td>0.480783</td>\n",
       "    </tr>\n",
       "    <tr>\n",
       "      <th>f1-score</th>\n",
       "      <td>0.0</td>\n",
       "      <td>0.052402</td>\n",
       "      <td>0.053191</td>\n",
       "      <td>0.0</td>\n",
       "      <td>0.019139</td>\n",
       "      <td>0.056180</td>\n",
       "      <td>0.625905</td>\n",
       "      <td>0.011905</td>\n",
       "      <td>0.694023</td>\n",
       "      <td>0.497030</td>\n",
       "      <td>...</td>\n",
       "      <td>0.0</td>\n",
       "      <td>0.330905</td>\n",
       "      <td>0.076923</td>\n",
       "      <td>0.290727</td>\n",
       "      <td>0.338894</td>\n",
       "      <td>0.127119</td>\n",
       "      <td>0.302267</td>\n",
       "      <td>0.480783</td>\n",
       "      <td>0.255703</td>\n",
       "      <td>0.419533</td>\n",
       "    </tr>\n",
       "    <tr>\n",
       "      <th>support</th>\n",
       "      <td>32.0</td>\n",
       "      <td>201.000000</td>\n",
       "      <td>166.000000</td>\n",
       "      <td>32.0</td>\n",
       "      <td>201.000000</td>\n",
       "      <td>166.000000</td>\n",
       "      <td>428.000000</td>\n",
       "      <td>167.000000</td>\n",
       "      <td>463.000000</td>\n",
       "      <td>631.000000</td>\n",
       "      <td>...</td>\n",
       "      <td>75.0</td>\n",
       "      <td>423.000000</td>\n",
       "      <td>201.000000</td>\n",
       "      <td>369.000000</td>\n",
       "      <td>423.000000</td>\n",
       "      <td>201.000000</td>\n",
       "      <td>369.000000</td>\n",
       "      <td>0.480783</td>\n",
       "      <td>6895.000000</td>\n",
       "      <td>6895.000000</td>\n",
       "    </tr>\n",
       "  </tbody>\n",
       "</table>\n",
       "<p>4 rows × 27 columns</p>\n",
       "</div>"
      ],
      "text/plain": [
       "           A_LF        A_LS        A_LW  A_RF        A_RS        A_RW  \\\n",
       "precision   0.0    0.214286    0.227273   0.0    0.250000    0.416667   \n",
       "recall      0.0    0.029851    0.030120   0.0    0.009950    0.030120   \n",
       "f1-score    0.0    0.052402    0.053191   0.0    0.019139    0.056180   \n",
       "support    32.0  201.000000  166.000000  32.0  201.000000  166.000000   \n",
       "\n",
       "                 A_ST        D_CB        D_LB       D_LCB  ...  M_CM  \\\n",
       "precision    0.477301    1.000000    0.591185    0.662269  ...   0.0   \n",
       "recall       0.908879    0.005988    0.840173    0.397781  ...   0.0   \n",
       "f1-score     0.625905    0.011905    0.694023    0.497030  ...   0.0   \n",
       "support    428.000000  167.000000  463.000000  631.000000  ...  75.0   \n",
       "\n",
       "                M_LCM       M_LDM        M_LM       M_RCM       M_RDM  \\\n",
       "precision    0.295539    0.272727    0.270396    0.269553    0.428571   \n",
       "recall       0.375887    0.044776    0.314363    0.456265    0.074627   \n",
       "f1-score     0.330905    0.076923    0.290727    0.338894    0.127119   \n",
       "support    423.000000  201.000000  369.000000  423.000000  201.000000   \n",
       "\n",
       "                 M_RM  accuracy    macro avg  weighted avg  \n",
       "precision    0.282353  0.480783     0.348174      0.458541  \n",
       "recall       0.325203  0.480783     0.288526      0.480783  \n",
       "f1-score     0.302267  0.480783     0.255703      0.419533  \n",
       "support    369.000000  0.480783  6895.000000   6895.000000  \n",
       "\n",
       "[4 rows x 27 columns]"
      ]
     },
     "execution_count": 9,
     "metadata": {},
     "output_type": "execute_result"
    }
   ],
   "source": [
    "df_report_logreg_v2"
   ]
  },
  {
   "cell_type": "code",
   "execution_count": 10,
   "id": "15dacec1",
   "metadata": {},
   "outputs": [
    {
     "data": {
      "text/plain": [
       "{'logreg__estimator__C': 0.1669619295094371}"
      ]
     },
     "execution_count": 10,
     "metadata": {},
     "output_type": "execute_result"
    }
   ],
   "source": [
    "best_params_logreg_v2"
   ]
  },
  {
   "cell_type": "code",
   "execution_count": 11,
   "id": "3cf758ad",
   "metadata": {},
   "outputs": [
    {
     "data": {
      "text/plain": [
       "{'f1_weighted': 0.3422679441240949,\n",
       " 'f1_micro': 0.40900394962632813,\n",
       " 'f1_macro': 0.20608435142822876,\n",
       " 'roc_auc_weighted': 0.9049061544570997}"
      ]
     },
     "execution_count": 11,
     "metadata": {},
     "output_type": "execute_result"
    }
   ],
   "source": [
    "best_scores_logreg_v2"
   ]
  },
  {
   "cell_type": "markdown",
   "id": "a122485f",
   "metadata": {},
   "source": [
    "#### G. Oversampling, finding best F1-micro"
   ]
  },
  {
   "cell_type": "code",
   "execution_count": 33,
   "id": "c72a20c8",
   "metadata": {},
   "outputs": [
    {
     "name": "stdout",
     "output_type": "stream",
     "text": [
      "Fitting 5 folds for each of 100 candidates, totalling 500 fits\n"
     ]
    }
   ],
   "source": [
    "df_report_logreg_over2, best_params_logreg_over2, best_scores_logreg_over2 = baseline_models(\n",
    "    df = dfv1, numerical_features = numerical_features, categorical_features = categorical_features, \n",
    "    model = LogisticRegression, target = 'position_grouped', n_hyper_comb = 100, num_imputer = \"median\",\n",
    "    goalkeeper_label = \"G_GK\", refit_score = 'f1_micro', resampling_method = 'oversample'\n",
    "    )"
   ]
  },
  {
   "cell_type": "code",
   "execution_count": 34,
   "id": "1adbcc3b",
   "metadata": {},
   "outputs": [
    {
     "data": {
      "text/html": [
       "<div>\n",
       "<style scoped>\n",
       "    .dataframe tbody tr th:only-of-type {\n",
       "        vertical-align: middle;\n",
       "    }\n",
       "\n",
       "    .dataframe tbody tr th {\n",
       "        vertical-align: top;\n",
       "    }\n",
       "\n",
       "    .dataframe thead th {\n",
       "        text-align: right;\n",
       "    }\n",
       "</style>\n",
       "<table border=\"1\" class=\"dataframe\">\n",
       "  <thead>\n",
       "    <tr style=\"text-align: right;\">\n",
       "      <th></th>\n",
       "      <th>A_LF</th>\n",
       "      <th>A_LS</th>\n",
       "      <th>A_LW</th>\n",
       "      <th>A_RF</th>\n",
       "      <th>A_RS</th>\n",
       "      <th>A_RW</th>\n",
       "      <th>A_ST</th>\n",
       "      <th>D_CB</th>\n",
       "      <th>D_LB</th>\n",
       "      <th>D_LCB</th>\n",
       "      <th>...</th>\n",
       "      <th>M_CM</th>\n",
       "      <th>M_LCM</th>\n",
       "      <th>M_LDM</th>\n",
       "      <th>M_LM</th>\n",
       "      <th>M_RCM</th>\n",
       "      <th>M_RDM</th>\n",
       "      <th>M_RM</th>\n",
       "      <th>accuracy</th>\n",
       "      <th>macro avg</th>\n",
       "      <th>weighted avg</th>\n",
       "    </tr>\n",
       "  </thead>\n",
       "  <tbody>\n",
       "    <tr>\n",
       "      <th>precision</th>\n",
       "      <td>0.074689</td>\n",
       "      <td>0.252336</td>\n",
       "      <td>0.197970</td>\n",
       "      <td>0.038043</td>\n",
       "      <td>0.204188</td>\n",
       "      <td>0.224299</td>\n",
       "      <td>0.595628</td>\n",
       "      <td>0.192802</td>\n",
       "      <td>0.670823</td>\n",
       "      <td>0.733553</td>\n",
       "      <td>...</td>\n",
       "      <td>0.078767</td>\n",
       "      <td>0.293478</td>\n",
       "      <td>0.237113</td>\n",
       "      <td>0.340000</td>\n",
       "      <td>0.279570</td>\n",
       "      <td>0.192691</td>\n",
       "      <td>0.382353</td>\n",
       "      <td>0.402321</td>\n",
       "      <td>0.330835</td>\n",
       "      <td>0.466734</td>\n",
       "    </tr>\n",
       "    <tr>\n",
       "      <th>recall</th>\n",
       "      <td>0.562500</td>\n",
       "      <td>0.268657</td>\n",
       "      <td>0.234940</td>\n",
       "      <td>0.218750</td>\n",
       "      <td>0.194030</td>\n",
       "      <td>0.289157</td>\n",
       "      <td>0.509346</td>\n",
       "      <td>0.449102</td>\n",
       "      <td>0.580994</td>\n",
       "      <td>0.353407</td>\n",
       "      <td>...</td>\n",
       "      <td>0.306667</td>\n",
       "      <td>0.127660</td>\n",
       "      <td>0.114428</td>\n",
       "      <td>0.092141</td>\n",
       "      <td>0.122931</td>\n",
       "      <td>0.288557</td>\n",
       "      <td>0.140921</td>\n",
       "      <td>0.402321</td>\n",
       "      <td>0.360125</td>\n",
       "      <td>0.402321</td>\n",
       "    </tr>\n",
       "    <tr>\n",
       "      <th>f1-score</th>\n",
       "      <td>0.131868</td>\n",
       "      <td>0.260241</td>\n",
       "      <td>0.214876</td>\n",
       "      <td>0.064815</td>\n",
       "      <td>0.198980</td>\n",
       "      <td>0.252632</td>\n",
       "      <td>0.549118</td>\n",
       "      <td>0.269784</td>\n",
       "      <td>0.622685</td>\n",
       "      <td>0.477005</td>\n",
       "      <td>...</td>\n",
       "      <td>0.125341</td>\n",
       "      <td>0.177924</td>\n",
       "      <td>0.154362</td>\n",
       "      <td>0.144989</td>\n",
       "      <td>0.170772</td>\n",
       "      <td>0.231076</td>\n",
       "      <td>0.205941</td>\n",
       "      <td>0.402321</td>\n",
       "      <td>0.309803</td>\n",
       "      <td>0.410185</td>\n",
       "    </tr>\n",
       "    <tr>\n",
       "      <th>support</th>\n",
       "      <td>32.000000</td>\n",
       "      <td>201.000000</td>\n",
       "      <td>166.000000</td>\n",
       "      <td>32.000000</td>\n",
       "      <td>201.000000</td>\n",
       "      <td>166.000000</td>\n",
       "      <td>428.000000</td>\n",
       "      <td>167.000000</td>\n",
       "      <td>463.000000</td>\n",
       "      <td>631.000000</td>\n",
       "      <td>...</td>\n",
       "      <td>75.000000</td>\n",
       "      <td>423.000000</td>\n",
       "      <td>201.000000</td>\n",
       "      <td>369.000000</td>\n",
       "      <td>423.000000</td>\n",
       "      <td>201.000000</td>\n",
       "      <td>369.000000</td>\n",
       "      <td>0.402321</td>\n",
       "      <td>6895.000000</td>\n",
       "      <td>6895.000000</td>\n",
       "    </tr>\n",
       "  </tbody>\n",
       "</table>\n",
       "<p>4 rows × 27 columns</p>\n",
       "</div>"
      ],
      "text/plain": [
       "                A_LF        A_LS        A_LW       A_RF        A_RS  \\\n",
       "precision   0.074689    0.252336    0.197970   0.038043    0.204188   \n",
       "recall      0.562500    0.268657    0.234940   0.218750    0.194030   \n",
       "f1-score    0.131868    0.260241    0.214876   0.064815    0.198980   \n",
       "support    32.000000  201.000000  166.000000  32.000000  201.000000   \n",
       "\n",
       "                 A_RW        A_ST        D_CB        D_LB       D_LCB  ...  \\\n",
       "precision    0.224299    0.595628    0.192802    0.670823    0.733553  ...   \n",
       "recall       0.289157    0.509346    0.449102    0.580994    0.353407  ...   \n",
       "f1-score     0.252632    0.549118    0.269784    0.622685    0.477005  ...   \n",
       "support    166.000000  428.000000  167.000000  463.000000  631.000000  ...   \n",
       "\n",
       "                M_CM       M_LCM       M_LDM        M_LM       M_RCM  \\\n",
       "precision   0.078767    0.293478    0.237113    0.340000    0.279570   \n",
       "recall      0.306667    0.127660    0.114428    0.092141    0.122931   \n",
       "f1-score    0.125341    0.177924    0.154362    0.144989    0.170772   \n",
       "support    75.000000  423.000000  201.000000  369.000000  423.000000   \n",
       "\n",
       "                M_RDM        M_RM  accuracy    macro avg  weighted avg  \n",
       "precision    0.192691    0.382353  0.402321     0.330835      0.466734  \n",
       "recall       0.288557    0.140921  0.402321     0.360125      0.402321  \n",
       "f1-score     0.231076    0.205941  0.402321     0.309803      0.410185  \n",
       "support    201.000000  369.000000  0.402321  6895.000000   6895.000000  \n",
       "\n",
       "[4 rows x 27 columns]"
      ]
     },
     "execution_count": 34,
     "metadata": {},
     "output_type": "execute_result"
    }
   ],
   "source": [
    "df_report_logreg_over2"
   ]
  },
  {
   "cell_type": "code",
   "execution_count": 35,
   "id": "b4cb3045",
   "metadata": {},
   "outputs": [
    {
     "data": {
      "text/plain": [
       "{'logreg__estimator__C': 0.1669619295094371}"
      ]
     },
     "execution_count": 35,
     "metadata": {},
     "output_type": "execute_result"
    }
   ],
   "source": [
    "best_params_logreg_over2"
   ]
  },
  {
   "cell_type": "code",
   "execution_count": 36,
   "id": "9cd3e9f9",
   "metadata": {},
   "outputs": [
    {
     "data": {
      "text/plain": [
       "{'f1_weighted': 0.31661269322398333,\n",
       " 'f1_micro': 0.30364071914306623,\n",
       " 'f1_macro': 0.2352599215200819,\n",
       " 'roc_auc_weighted': 0.8996750927992945}"
      ]
     },
     "execution_count": 36,
     "metadata": {},
     "output_type": "execute_result"
    }
   ],
   "source": [
    "best_scores_logreg_over2"
   ]
  },
  {
   "cell_type": "markdown",
   "id": "838d8a76",
   "metadata": {},
   "source": [
    "#### H. Undersampling, finding best F1-micro"
   ]
  },
  {
   "cell_type": "code",
   "execution_count": 37,
   "id": "b20c57fa",
   "metadata": {},
   "outputs": [
    {
     "name": "stdout",
     "output_type": "stream",
     "text": [
      "Fitting 5 folds for each of 100 candidates, totalling 500 fits\n"
     ]
    }
   ],
   "source": [
    "df_report_logreg_under2, best_params_logreg_under2, best_scores_logreg_under2 = baseline_models(\n",
    "    df = dfv1, numerical_features = numerical_features, categorical_features = categorical_features, \n",
    "    model = LogisticRegression, target = 'position_grouped', n_hyper_comb = 100, num_imputer = \"median\",\n",
    "    goalkeeper_label = \"G_GK\", refit_score = 'f1_micro', resampling_method = 'undersample'\n",
    "    )"
   ]
  },
  {
   "cell_type": "code",
   "execution_count": 38,
   "id": "ad49b820",
   "metadata": {},
   "outputs": [
    {
     "data": {
      "text/html": [
       "<div>\n",
       "<style scoped>\n",
       "    .dataframe tbody tr th:only-of-type {\n",
       "        vertical-align: middle;\n",
       "    }\n",
       "\n",
       "    .dataframe tbody tr th {\n",
       "        vertical-align: top;\n",
       "    }\n",
       "\n",
       "    .dataframe thead th {\n",
       "        text-align: right;\n",
       "    }\n",
       "</style>\n",
       "<table border=\"1\" class=\"dataframe\">\n",
       "  <thead>\n",
       "    <tr style=\"text-align: right;\">\n",
       "      <th></th>\n",
       "      <th>A_LF</th>\n",
       "      <th>A_LS</th>\n",
       "      <th>A_LW</th>\n",
       "      <th>A_RF</th>\n",
       "      <th>A_RS</th>\n",
       "      <th>A_RW</th>\n",
       "      <th>A_ST</th>\n",
       "      <th>D_CB</th>\n",
       "      <th>D_LB</th>\n",
       "      <th>D_LCB</th>\n",
       "      <th>...</th>\n",
       "      <th>M_CM</th>\n",
       "      <th>M_LCM</th>\n",
       "      <th>M_LDM</th>\n",
       "      <th>M_LM</th>\n",
       "      <th>M_RCM</th>\n",
       "      <th>M_RDM</th>\n",
       "      <th>M_RM</th>\n",
       "      <th>accuracy</th>\n",
       "      <th>macro avg</th>\n",
       "      <th>weighted avg</th>\n",
       "    </tr>\n",
       "  </thead>\n",
       "  <tbody>\n",
       "    <tr>\n",
       "      <th>precision</th>\n",
       "      <td>0.098837</td>\n",
       "      <td>0.165746</td>\n",
       "      <td>0.142180</td>\n",
       "      <td>0.036697</td>\n",
       "      <td>0.182836</td>\n",
       "      <td>0.153025</td>\n",
       "      <td>0.572581</td>\n",
       "      <td>0.147458</td>\n",
       "      <td>0.604520</td>\n",
       "      <td>0.549072</td>\n",
       "      <td>...</td>\n",
       "      <td>0.082927</td>\n",
       "      <td>0.186667</td>\n",
       "      <td>0.137566</td>\n",
       "      <td>0.410256</td>\n",
       "      <td>0.248804</td>\n",
       "      <td>0.168675</td>\n",
       "      <td>0.246988</td>\n",
       "      <td>0.341987</td>\n",
       "      <td>0.284438</td>\n",
       "      <td>0.409985</td>\n",
       "    </tr>\n",
       "    <tr>\n",
       "      <th>recall</th>\n",
       "      <td>0.531250</td>\n",
       "      <td>0.149254</td>\n",
       "      <td>0.180723</td>\n",
       "      <td>0.125000</td>\n",
       "      <td>0.243781</td>\n",
       "      <td>0.259036</td>\n",
       "      <td>0.497664</td>\n",
       "      <td>0.520958</td>\n",
       "      <td>0.462203</td>\n",
       "      <td>0.328051</td>\n",
       "      <td>...</td>\n",
       "      <td>0.226667</td>\n",
       "      <td>0.099291</td>\n",
       "      <td>0.129353</td>\n",
       "      <td>0.086721</td>\n",
       "      <td>0.122931</td>\n",
       "      <td>0.139303</td>\n",
       "      <td>0.111111</td>\n",
       "      <td>0.341987</td>\n",
       "      <td>0.309001</td>\n",
       "      <td>0.341987</td>\n",
       "    </tr>\n",
       "    <tr>\n",
       "      <th>f1-score</th>\n",
       "      <td>0.166667</td>\n",
       "      <td>0.157068</td>\n",
       "      <td>0.159151</td>\n",
       "      <td>0.056738</td>\n",
       "      <td>0.208955</td>\n",
       "      <td>0.192394</td>\n",
       "      <td>0.532500</td>\n",
       "      <td>0.229855</td>\n",
       "      <td>0.523868</td>\n",
       "      <td>0.410714</td>\n",
       "      <td>...</td>\n",
       "      <td>0.121429</td>\n",
       "      <td>0.129630</td>\n",
       "      <td>0.133333</td>\n",
       "      <td>0.143177</td>\n",
       "      <td>0.164557</td>\n",
       "      <td>0.152589</td>\n",
       "      <td>0.153271</td>\n",
       "      <td>0.341987</td>\n",
       "      <td>0.263659</td>\n",
       "      <td>0.352898</td>\n",
       "    </tr>\n",
       "    <tr>\n",
       "      <th>support</th>\n",
       "      <td>32.000000</td>\n",
       "      <td>201.000000</td>\n",
       "      <td>166.000000</td>\n",
       "      <td>32.000000</td>\n",
       "      <td>201.000000</td>\n",
       "      <td>166.000000</td>\n",
       "      <td>428.000000</td>\n",
       "      <td>167.000000</td>\n",
       "      <td>463.000000</td>\n",
       "      <td>631.000000</td>\n",
       "      <td>...</td>\n",
       "      <td>75.000000</td>\n",
       "      <td>423.000000</td>\n",
       "      <td>201.000000</td>\n",
       "      <td>369.000000</td>\n",
       "      <td>423.000000</td>\n",
       "      <td>201.000000</td>\n",
       "      <td>369.000000</td>\n",
       "      <td>0.341987</td>\n",
       "      <td>6895.000000</td>\n",
       "      <td>6895.000000</td>\n",
       "    </tr>\n",
       "  </tbody>\n",
       "</table>\n",
       "<p>4 rows × 27 columns</p>\n",
       "</div>"
      ],
      "text/plain": [
       "                A_LF        A_LS        A_LW       A_RF        A_RS  \\\n",
       "precision   0.098837    0.165746    0.142180   0.036697    0.182836   \n",
       "recall      0.531250    0.149254    0.180723   0.125000    0.243781   \n",
       "f1-score    0.166667    0.157068    0.159151   0.056738    0.208955   \n",
       "support    32.000000  201.000000  166.000000  32.000000  201.000000   \n",
       "\n",
       "                 A_RW        A_ST        D_CB        D_LB       D_LCB  ...  \\\n",
       "precision    0.153025    0.572581    0.147458    0.604520    0.549072  ...   \n",
       "recall       0.259036    0.497664    0.520958    0.462203    0.328051  ...   \n",
       "f1-score     0.192394    0.532500    0.229855    0.523868    0.410714  ...   \n",
       "support    166.000000  428.000000  167.000000  463.000000  631.000000  ...   \n",
       "\n",
       "                M_CM       M_LCM       M_LDM        M_LM       M_RCM  \\\n",
       "precision   0.082927    0.186667    0.137566    0.410256    0.248804   \n",
       "recall      0.226667    0.099291    0.129353    0.086721    0.122931   \n",
       "f1-score    0.121429    0.129630    0.133333    0.143177    0.164557   \n",
       "support    75.000000  423.000000  201.000000  369.000000  423.000000   \n",
       "\n",
       "                M_RDM        M_RM  accuracy    macro avg  weighted avg  \n",
       "precision    0.168675    0.246988  0.341987     0.284438      0.409985  \n",
       "recall       0.139303    0.111111  0.341987     0.309001      0.341987  \n",
       "f1-score     0.152589    0.153271  0.341987     0.263659      0.352898  \n",
       "support    201.000000  369.000000  0.341987  6895.000000   6895.000000  \n",
       "\n",
       "[4 rows x 27 columns]"
      ]
     },
     "execution_count": 38,
     "metadata": {},
     "output_type": "execute_result"
    }
   ],
   "source": [
    "df_report_logreg_under2"
   ]
  },
  {
   "cell_type": "code",
   "execution_count": 39,
   "id": "c735a01b",
   "metadata": {},
   "outputs": [
    {
     "data": {
      "text/plain": [
       "{'logreg__estimator__C': 0.1669619295094371}"
      ]
     },
     "execution_count": 39,
     "metadata": {},
     "output_type": "execute_result"
    }
   ],
   "source": [
    "best_params_logreg_under2"
   ]
  },
  {
   "cell_type": "code",
   "execution_count": 40,
   "id": "ce76b9a0",
   "metadata": {},
   "outputs": [
    {
     "data": {
      "text/plain": [
       "{'f1_weighted': 0.2825348014096734,\n",
       " 'f1_micro': 0.2728266218583387,\n",
       " 'f1_macro': 0.21610356151945803,\n",
       " 'roc_auc_weighted': 0.8770631151239353}"
      ]
     },
     "execution_count": 40,
     "metadata": {},
     "output_type": "execute_result"
    }
   ],
   "source": [
    "best_scores_logreg_under2"
   ]
  },
  {
   "cell_type": "markdown",
   "id": "a5343f4f",
   "metadata": {},
   "source": [
    "### K-Nearest Neighbors"
   ]
  },
  {
   "cell_type": "markdown",
   "id": "151e35d0",
   "metadata": {},
   "source": [
    "#### A. No resampling (without considering class imbalance)"
   ]
  },
  {
   "cell_type": "code",
   "execution_count": 109,
   "id": "ef1f6164",
   "metadata": {},
   "outputs": [
    {
     "name": "stdout",
     "output_type": "stream",
     "text": [
      "Fitting 5 folds for each of 100 candidates, totalling 500 fits\n"
     ]
    }
   ],
   "source": [
    "best_params_knn, best_scores_knn = baseline_models(\n",
    "    df = dfv1, numerical_features = numerical_features, categorical_features = categorical_features, \n",
    "    model = KNeighborsClassifier, target = 'position_grouped', n_hyper_comb = 100, num_imputer = \"median\",\n",
    "    goalkeeper_label = \"G_GK\", refit_score = 'f1_weighted', resampling_method = 'none'\n",
    "    )"
   ]
  },
  {
   "cell_type": "code",
   "execution_count": 110,
   "id": "51d440be",
   "metadata": {},
   "outputs": [
    {
     "data": {
      "text/plain": [
       "{'knn__n_neighbors': 21, 'knn__weights': 'distance'}"
      ]
     },
     "execution_count": 110,
     "metadata": {},
     "output_type": "execute_result"
    }
   ],
   "source": [
    "best_params_knn"
   ]
  },
  {
   "cell_type": "code",
   "execution_count": 111,
   "id": "19183185",
   "metadata": {},
   "outputs": [
    {
     "data": {
      "text/plain": [
       "{'f1_weighted': 0.3063081511690249,\n",
       " 'f1_micro': 0.3502521743343133,\n",
       " 'f1_macro': 0.19344830596840346,\n",
       " 'roc_auc_weighted': 0.8553003669377753}"
      ]
     },
     "execution_count": 111,
     "metadata": {},
     "output_type": "execute_result"
    }
   ],
   "source": [
    "best_scores_knn"
   ]
  },
  {
   "cell_type": "markdown",
   "id": "0b2d76cf",
   "metadata": {},
   "source": [
    "### Decision Tree"
   ]
  },
  {
   "cell_type": "markdown",
   "id": "9276bec4",
   "metadata": {},
   "source": [
    "#### A. No resampling (without considering class imbalance)"
   ]
  },
  {
   "cell_type": "code",
   "execution_count": null,
   "id": "8273c640",
   "metadata": {},
   "outputs": [
    {
     "name": "stdout",
     "output_type": "stream",
     "text": [
      "Fitting 5 folds for each of 100 candidates, totalling 500 fits\n"
     ]
    }
   ],
   "source": [
    "df_report_dt, best_params_dt, best_scores_dt = baseline_models(\n",
    "    df = dfv1, numerical_features = numerical_features, categorical_features = categorical_features_all_dummies, \n",
    "    model = DecisionTreeClassifier, target = 'position_grouped', n_hyper_comb = 100, num_imputer = \"median\",\n",
    "    goalkeeper_label = \"G_GK\", refit_score = 'f1_weighted', resampling_method = 'none'\n",
    "    )"
   ]
  },
  {
   "cell_type": "code",
   "execution_count": 14,
   "id": "dc2ddb8a",
   "metadata": {},
   "outputs": [
    {
     "data": {
      "text/html": [
       "<div>\n",
       "<style scoped>\n",
       "    .dataframe tbody tr th:only-of-type {\n",
       "        vertical-align: middle;\n",
       "    }\n",
       "\n",
       "    .dataframe tbody tr th {\n",
       "        vertical-align: top;\n",
       "    }\n",
       "\n",
       "    .dataframe thead th {\n",
       "        text-align: right;\n",
       "    }\n",
       "</style>\n",
       "<table border=\"1\" class=\"dataframe\">\n",
       "  <thead>\n",
       "    <tr style=\"text-align: right;\">\n",
       "      <th></th>\n",
       "      <th>A_LF</th>\n",
       "      <th>A_LS</th>\n",
       "      <th>A_LW</th>\n",
       "      <th>A_RF</th>\n",
       "      <th>A_RS</th>\n",
       "      <th>A_RW</th>\n",
       "      <th>A_ST</th>\n",
       "      <th>D_CB</th>\n",
       "      <th>D_LB</th>\n",
       "      <th>D_LCB</th>\n",
       "      <th>...</th>\n",
       "      <th>M_CM</th>\n",
       "      <th>M_LCM</th>\n",
       "      <th>M_LDM</th>\n",
       "      <th>M_LM</th>\n",
       "      <th>M_RCM</th>\n",
       "      <th>M_RDM</th>\n",
       "      <th>M_RM</th>\n",
       "      <th>accuracy</th>\n",
       "      <th>macro avg</th>\n",
       "      <th>weighted avg</th>\n",
       "    </tr>\n",
       "  </thead>\n",
       "  <tbody>\n",
       "    <tr>\n",
       "      <th>precision</th>\n",
       "      <td>0.0</td>\n",
       "      <td>0.363095</td>\n",
       "      <td>0.275862</td>\n",
       "      <td>0.0</td>\n",
       "      <td>0.343750</td>\n",
       "      <td>0.212500</td>\n",
       "      <td>0.542714</td>\n",
       "      <td>0.0</td>\n",
       "      <td>0.570552</td>\n",
       "      <td>0.560060</td>\n",
       "      <td>...</td>\n",
       "      <td>0.0</td>\n",
       "      <td>0.337545</td>\n",
       "      <td>0.235669</td>\n",
       "      <td>0.327014</td>\n",
       "      <td>0.353635</td>\n",
       "      <td>0.245455</td>\n",
       "      <td>0.386423</td>\n",
       "      <td>0.498912</td>\n",
       "      <td>0.298748</td>\n",
       "      <td>0.439437</td>\n",
       "    </tr>\n",
       "    <tr>\n",
       "      <th>recall</th>\n",
       "      <td>0.0</td>\n",
       "      <td>0.303483</td>\n",
       "      <td>0.144578</td>\n",
       "      <td>0.0</td>\n",
       "      <td>0.164179</td>\n",
       "      <td>0.102410</td>\n",
       "      <td>0.757009</td>\n",
       "      <td>0.0</td>\n",
       "      <td>0.803456</td>\n",
       "      <td>0.591125</td>\n",
       "      <td>...</td>\n",
       "      <td>0.0</td>\n",
       "      <td>0.442080</td>\n",
       "      <td>0.184080</td>\n",
       "      <td>0.373984</td>\n",
       "      <td>0.425532</td>\n",
       "      <td>0.134328</td>\n",
       "      <td>0.401084</td>\n",
       "      <td>0.498912</td>\n",
       "      <td>0.317802</td>\n",
       "      <td>0.498912</td>\n",
       "    </tr>\n",
       "    <tr>\n",
       "      <th>f1-score</th>\n",
       "      <td>0.0</td>\n",
       "      <td>0.330623</td>\n",
       "      <td>0.189723</td>\n",
       "      <td>0.0</td>\n",
       "      <td>0.222222</td>\n",
       "      <td>0.138211</td>\n",
       "      <td>0.632195</td>\n",
       "      <td>0.0</td>\n",
       "      <td>0.667265</td>\n",
       "      <td>0.575173</td>\n",
       "      <td>...</td>\n",
       "      <td>0.0</td>\n",
       "      <td>0.382805</td>\n",
       "      <td>0.206704</td>\n",
       "      <td>0.348925</td>\n",
       "      <td>0.386266</td>\n",
       "      <td>0.173633</td>\n",
       "      <td>0.393617</td>\n",
       "      <td>0.498912</td>\n",
       "      <td>0.299714</td>\n",
       "      <td>0.459349</td>\n",
       "    </tr>\n",
       "    <tr>\n",
       "      <th>support</th>\n",
       "      <td>32.0</td>\n",
       "      <td>201.000000</td>\n",
       "      <td>166.000000</td>\n",
       "      <td>32.0</td>\n",
       "      <td>201.000000</td>\n",
       "      <td>166.000000</td>\n",
       "      <td>428.000000</td>\n",
       "      <td>167.0</td>\n",
       "      <td>463.000000</td>\n",
       "      <td>631.000000</td>\n",
       "      <td>...</td>\n",
       "      <td>75.0</td>\n",
       "      <td>423.000000</td>\n",
       "      <td>201.000000</td>\n",
       "      <td>369.000000</td>\n",
       "      <td>423.000000</td>\n",
       "      <td>201.000000</td>\n",
       "      <td>369.000000</td>\n",
       "      <td>0.498912</td>\n",
       "      <td>6895.000000</td>\n",
       "      <td>6895.000000</td>\n",
       "    </tr>\n",
       "  </tbody>\n",
       "</table>\n",
       "<p>4 rows × 27 columns</p>\n",
       "</div>"
      ],
      "text/plain": [
       "           A_LF        A_LS        A_LW  A_RF        A_RS        A_RW  \\\n",
       "precision   0.0    0.363095    0.275862   0.0    0.343750    0.212500   \n",
       "recall      0.0    0.303483    0.144578   0.0    0.164179    0.102410   \n",
       "f1-score    0.0    0.330623    0.189723   0.0    0.222222    0.138211   \n",
       "support    32.0  201.000000  166.000000  32.0  201.000000  166.000000   \n",
       "\n",
       "                 A_ST   D_CB        D_LB       D_LCB  ...  M_CM       M_LCM  \\\n",
       "precision    0.542714    0.0    0.570552    0.560060  ...   0.0    0.337545   \n",
       "recall       0.757009    0.0    0.803456    0.591125  ...   0.0    0.442080   \n",
       "f1-score     0.632195    0.0    0.667265    0.575173  ...   0.0    0.382805   \n",
       "support    428.000000  167.0  463.000000  631.000000  ...  75.0  423.000000   \n",
       "\n",
       "                M_LDM        M_LM       M_RCM       M_RDM        M_RM  \\\n",
       "precision    0.235669    0.327014    0.353635    0.245455    0.386423   \n",
       "recall       0.184080    0.373984    0.425532    0.134328    0.401084   \n",
       "f1-score     0.206704    0.348925    0.386266    0.173633    0.393617   \n",
       "support    201.000000  369.000000  423.000000  201.000000  369.000000   \n",
       "\n",
       "           accuracy    macro avg  weighted avg  \n",
       "precision  0.498912     0.298748      0.439437  \n",
       "recall     0.498912     0.317802      0.498912  \n",
       "f1-score   0.498912     0.299714      0.459349  \n",
       "support    0.498912  6895.000000   6895.000000  \n",
       "\n",
       "[4 rows x 27 columns]"
      ]
     },
     "execution_count": 14,
     "metadata": {},
     "output_type": "execute_result"
    }
   ],
   "source": [
    "df_report_dt"
   ]
  },
  {
   "cell_type": "code",
   "execution_count": 15,
   "id": "1c88ba63",
   "metadata": {},
   "outputs": [
    {
     "data": {
      "text/plain": [
       "{'dtc__class_weight': None,\n",
       " 'dtc__max_depth': 40,\n",
       " 'dtc__max_features': 24,\n",
       " 'dtc__max_leaf_nodes': 1244,\n",
       " 'dtc__min_samples_leaf': 0.0013015285199047416,\n",
       " 'dtc__min_samples_split': 0.010912693744184222}"
      ]
     },
     "execution_count": 15,
     "metadata": {},
     "output_type": "execute_result"
    }
   ],
   "source": [
    "best_params_dt"
   ]
  },
  {
   "cell_type": "code",
   "execution_count": 33,
   "id": "6ab8058a",
   "metadata": {},
   "outputs": [
    {
     "data": {
      "text/plain": [
       "{'f1_weighted': 0.3014515619237356,\n",
       " 'f1_micro': 0.33285444007863557,\n",
       " 'f1_macro': 0.19733507108989157,\n",
       " 'roc_auc_weighted': 0.8319108990985502}"
      ]
     },
     "execution_count": 33,
     "metadata": {},
     "output_type": "execute_result"
    }
   ],
   "source": [
    "best_scores_dt"
   ]
  },
  {
   "cell_type": "markdown",
   "id": "9f8ac938",
   "metadata": {},
   "source": [
    "#### B. Extended number of features (without resampling)"
   ]
  },
  {
   "cell_type": "code",
   "execution_count": null,
   "id": "d3e713da",
   "metadata": {},
   "outputs": [
    {
     "name": "stdout",
     "output_type": "stream",
     "text": [
      "Fitting 5 folds for each of 100 candidates, totalling 500 fits\n"
     ]
    }
   ],
   "source": [
    "df_report_dt_ext, best_params_dt_ext, best_scores_dt_ext = baseline_models(\n",
    "    df = dfv1, numerical_features = numerical_features_ext, categorical_features = categorical_features_ext, \n",
    "    model = DecisionTreeClassifier, target = 'position_grouped', n_hyper_comb = 100, num_imputer = \"median\",\n",
    "    goalkeeper_label = \"G_GK\", refit_score = 'f1_weighted', resampling_method = 'none'\n",
    "    )"
   ]
  },
  {
   "cell_type": "code",
   "execution_count": null,
   "id": "597fefc9",
   "metadata": {},
   "outputs": [
    {
     "data": {
      "text/html": [
       "<div>\n",
       "<style scoped>\n",
       "    .dataframe tbody tr th:only-of-type {\n",
       "        vertical-align: middle;\n",
       "    }\n",
       "\n",
       "    .dataframe tbody tr th {\n",
       "        vertical-align: top;\n",
       "    }\n",
       "\n",
       "    .dataframe thead th {\n",
       "        text-align: right;\n",
       "    }\n",
       "</style>\n",
       "<table border=\"1\" class=\"dataframe\">\n",
       "  <thead>\n",
       "    <tr style=\"text-align: right;\">\n",
       "      <th></th>\n",
       "      <th>A_LF</th>\n",
       "      <th>A_LS</th>\n",
       "      <th>A_LW</th>\n",
       "      <th>A_RF</th>\n",
       "      <th>A_RS</th>\n",
       "      <th>A_RW</th>\n",
       "      <th>A_ST</th>\n",
       "      <th>D_CB</th>\n",
       "      <th>D_LB</th>\n",
       "      <th>D_LCB</th>\n",
       "      <th>...</th>\n",
       "      <th>M_CM</th>\n",
       "      <th>M_LCM</th>\n",
       "      <th>M_LDM</th>\n",
       "      <th>M_LM</th>\n",
       "      <th>M_RCM</th>\n",
       "      <th>M_RDM</th>\n",
       "      <th>M_RM</th>\n",
       "      <th>accuracy</th>\n",
       "      <th>macro avg</th>\n",
       "      <th>weighted avg</th>\n",
       "    </tr>\n",
       "  </thead>\n",
       "  <tbody>\n",
       "    <tr>\n",
       "      <th>precision</th>\n",
       "      <td>0.0</td>\n",
       "      <td>0.0</td>\n",
       "      <td>0.0</td>\n",
       "      <td>0.0</td>\n",
       "      <td>0.0</td>\n",
       "      <td>0.0</td>\n",
       "      <td>0.497674</td>\n",
       "      <td>0.0</td>\n",
       "      <td>0.407972</td>\n",
       "      <td>0.572254</td>\n",
       "      <td>...</td>\n",
       "      <td>0.0</td>\n",
       "      <td>0.236559</td>\n",
       "      <td>0.0</td>\n",
       "      <td>0.230263</td>\n",
       "      <td>0.226607</td>\n",
       "      <td>0.0</td>\n",
       "      <td>0.188259</td>\n",
       "      <td>0.406091</td>\n",
       "      <td>0.181915</td>\n",
       "      <td>0.326516</td>\n",
       "    </tr>\n",
       "    <tr>\n",
       "      <th>recall</th>\n",
       "      <td>0.0</td>\n",
       "      <td>0.0</td>\n",
       "      <td>0.0</td>\n",
       "      <td>0.0</td>\n",
       "      <td>0.0</td>\n",
       "      <td>0.0</td>\n",
       "      <td>0.750000</td>\n",
       "      <td>0.0</td>\n",
       "      <td>0.751620</td>\n",
       "      <td>0.313788</td>\n",
       "      <td>...</td>\n",
       "      <td>0.0</td>\n",
       "      <td>0.104019</td>\n",
       "      <td>0.0</td>\n",
       "      <td>0.284553</td>\n",
       "      <td>0.475177</td>\n",
       "      <td>0.0</td>\n",
       "      <td>0.252033</td>\n",
       "      <td>0.406091</td>\n",
       "      <td>0.234804</td>\n",
       "      <td>0.406091</td>\n",
       "    </tr>\n",
       "    <tr>\n",
       "      <th>f1-score</th>\n",
       "      <td>0.0</td>\n",
       "      <td>0.0</td>\n",
       "      <td>0.0</td>\n",
       "      <td>0.0</td>\n",
       "      <td>0.0</td>\n",
       "      <td>0.0</td>\n",
       "      <td>0.598322</td>\n",
       "      <td>0.0</td>\n",
       "      <td>0.528875</td>\n",
       "      <td>0.405322</td>\n",
       "      <td>...</td>\n",
       "      <td>0.0</td>\n",
       "      <td>0.144499</td>\n",
       "      <td>0.0</td>\n",
       "      <td>0.254545</td>\n",
       "      <td>0.306870</td>\n",
       "      <td>0.0</td>\n",
       "      <td>0.215527</td>\n",
       "      <td>0.406091</td>\n",
       "      <td>0.194631</td>\n",
       "      <td>0.343600</td>\n",
       "    </tr>\n",
       "    <tr>\n",
       "      <th>support</th>\n",
       "      <td>32.0</td>\n",
       "      <td>201.0</td>\n",
       "      <td>166.0</td>\n",
       "      <td>32.0</td>\n",
       "      <td>201.0</td>\n",
       "      <td>166.0</td>\n",
       "      <td>428.000000</td>\n",
       "      <td>167.0</td>\n",
       "      <td>463.000000</td>\n",
       "      <td>631.000000</td>\n",
       "      <td>...</td>\n",
       "      <td>75.0</td>\n",
       "      <td>423.000000</td>\n",
       "      <td>201.0</td>\n",
       "      <td>369.000000</td>\n",
       "      <td>423.000000</td>\n",
       "      <td>201.0</td>\n",
       "      <td>369.000000</td>\n",
       "      <td>0.406091</td>\n",
       "      <td>6895.000000</td>\n",
       "      <td>6895.000000</td>\n",
       "    </tr>\n",
       "  </tbody>\n",
       "</table>\n",
       "<p>4 rows × 27 columns</p>\n",
       "</div>"
      ],
      "text/plain": [
       "           A_LF   A_LS   A_LW  A_RF   A_RS   A_RW        A_ST   D_CB  \\\n",
       "precision   0.0    0.0    0.0   0.0    0.0    0.0    0.497674    0.0   \n",
       "recall      0.0    0.0    0.0   0.0    0.0    0.0    0.750000    0.0   \n",
       "f1-score    0.0    0.0    0.0   0.0    0.0    0.0    0.598322    0.0   \n",
       "support    32.0  201.0  166.0  32.0  201.0  166.0  428.000000  167.0   \n",
       "\n",
       "                 D_LB       D_LCB  ...  M_CM       M_LCM  M_LDM        M_LM  \\\n",
       "precision    0.407972    0.572254  ...   0.0    0.236559    0.0    0.230263   \n",
       "recall       0.751620    0.313788  ...   0.0    0.104019    0.0    0.284553   \n",
       "f1-score     0.528875    0.405322  ...   0.0    0.144499    0.0    0.254545   \n",
       "support    463.000000  631.000000  ...  75.0  423.000000  201.0  369.000000   \n",
       "\n",
       "                M_RCM  M_RDM        M_RM  accuracy    macro avg  weighted avg  \n",
       "precision    0.226607    0.0    0.188259  0.406091     0.181915      0.326516  \n",
       "recall       0.475177    0.0    0.252033  0.406091     0.234804      0.406091  \n",
       "f1-score     0.306870    0.0    0.215527  0.406091     0.194631      0.343600  \n",
       "support    423.000000  201.0  369.000000  0.406091  6895.000000   6895.000000  \n",
       "\n",
       "[4 rows x 27 columns]"
      ]
     },
     "metadata": {},
     "output_type": "display_data"
    }
   ],
   "source": [
    "df_report_dt_ext"
   ]
  },
  {
   "cell_type": "code",
   "execution_count": null,
   "id": "78741f43",
   "metadata": {},
   "outputs": [
    {
     "data": {
      "text/plain": [
       "{'dtc__class_weight': None,\n",
       " 'dtc__max_depth': 13,\n",
       " 'dtc__max_features': 55,\n",
       " 'dtc__max_leaf_nodes': 1000,\n",
       " 'dtc__min_samples_leaf': 0.027908784118733383,\n",
       " 'dtc__min_samples_split': 0.05608362352155855}"
      ]
     },
     "metadata": {},
     "output_type": "display_data"
    }
   ],
   "source": [
    "best_params_dt_ext"
   ]
  },
  {
   "cell_type": "code",
   "execution_count": null,
   "id": "52dab3e1",
   "metadata": {},
   "outputs": [
    {
     "data": {
      "text/plain": [
       "{'f1_weighted': 0.2651632261081637,\n",
       " 'f1_micro': 0.3303018442638626,\n",
       " 'f1_macro': 0.15280702015262904,\n",
       " 'roc_auc_weighted': 0.8565792323601504}"
      ]
     },
     "metadata": {},
     "output_type": "display_data"
    }
   ],
   "source": [
    "best_scores_dt_ext"
   ]
  },
  {
   "cell_type": "markdown",
   "id": "6141cf92",
   "metadata": {},
   "source": [
    "#### C. No resampling, with adaptive boosting"
   ]
  },
  {
   "cell_type": "code",
   "execution_count": null,
   "id": "54ecbf5a",
   "metadata": {},
   "outputs": [
    {
     "name": "stdout",
     "output_type": "stream",
     "text": [
      "Fitting 5 folds for each of 100 candidates, totalling 500 fits\n"
     ]
    },
    {
     "name": "stderr",
     "output_type": "stream",
     "text": [
      "/home/pablo/miniconda3/envs/py312/lib/python3.12/site-packages/numpy/ma/core.py:2820: RuntimeWarning: invalid value encountered in cast\n",
      "  _data = np.array(data, dtype=dtype, copy=copy,\n"
     ]
    }
   ],
   "source": [
    "df_report_dt_adaboost, best_params_dt_adaboost, best_scores_dt_adaboost = baseline_models(\n",
    "    df = dfv1, numerical_features = numerical_features, categorical_features = categorical_features_all_dummies, \n",
    "    target = 'position_grouped', model = DecisionTreeClassifier, ada_boost = True, n_hyper_comb = 100, num_imputer = \"median\",\n",
    "    goalkeeper_label = \"G_GK\", refit_score = 'f1_micro', resampling_method = 'none'\n",
    "    )"
   ]
  },
  {
   "cell_type": "code",
   "execution_count": 7,
   "id": "c7af867b",
   "metadata": {},
   "outputs": [
    {
     "data": {
      "text/html": [
       "<div>\n",
       "<style scoped>\n",
       "    .dataframe tbody tr th:only-of-type {\n",
       "        vertical-align: middle;\n",
       "    }\n",
       "\n",
       "    .dataframe tbody tr th {\n",
       "        vertical-align: top;\n",
       "    }\n",
       "\n",
       "    .dataframe thead th {\n",
       "        text-align: right;\n",
       "    }\n",
       "</style>\n",
       "<table border=\"1\" class=\"dataframe\">\n",
       "  <thead>\n",
       "    <tr style=\"text-align: right;\">\n",
       "      <th></th>\n",
       "      <th>A_LF</th>\n",
       "      <th>A_LS</th>\n",
       "      <th>A_LW</th>\n",
       "      <th>A_RF</th>\n",
       "      <th>A_RS</th>\n",
       "      <th>A_RW</th>\n",
       "      <th>A_ST</th>\n",
       "      <th>D_CB</th>\n",
       "      <th>D_LB</th>\n",
       "      <th>D_LCB</th>\n",
       "      <th>...</th>\n",
       "      <th>M_CM</th>\n",
       "      <th>M_LCM</th>\n",
       "      <th>M_LDM</th>\n",
       "      <th>M_LM</th>\n",
       "      <th>M_RCM</th>\n",
       "      <th>M_RDM</th>\n",
       "      <th>M_RM</th>\n",
       "      <th>accuracy</th>\n",
       "      <th>macro avg</th>\n",
       "      <th>weighted avg</th>\n",
       "    </tr>\n",
       "  </thead>\n",
       "  <tbody>\n",
       "    <tr>\n",
       "      <th>precision</th>\n",
       "      <td>0.0</td>\n",
       "      <td>0.155556</td>\n",
       "      <td>0.100000</td>\n",
       "      <td>0.0</td>\n",
       "      <td>0.243902</td>\n",
       "      <td>0.210526</td>\n",
       "      <td>0.478697</td>\n",
       "      <td>0.500000</td>\n",
       "      <td>0.541791</td>\n",
       "      <td>0.591579</td>\n",
       "      <td>...</td>\n",
       "      <td>0.0</td>\n",
       "      <td>0.278846</td>\n",
       "      <td>0.300000</td>\n",
       "      <td>0.248555</td>\n",
       "      <td>0.267652</td>\n",
       "      <td>0.235955</td>\n",
       "      <td>0.268585</td>\n",
       "      <td>0.462364</td>\n",
       "      <td>0.300379</td>\n",
       "      <td>0.417379</td>\n",
       "    </tr>\n",
       "    <tr>\n",
       "      <th>recall</th>\n",
       "      <td>0.0</td>\n",
       "      <td>0.034826</td>\n",
       "      <td>0.012048</td>\n",
       "      <td>0.0</td>\n",
       "      <td>0.049751</td>\n",
       "      <td>0.024096</td>\n",
       "      <td>0.892523</td>\n",
       "      <td>0.005988</td>\n",
       "      <td>0.784017</td>\n",
       "      <td>0.445325</td>\n",
       "      <td>...</td>\n",
       "      <td>0.0</td>\n",
       "      <td>0.342790</td>\n",
       "      <td>0.014925</td>\n",
       "      <td>0.349593</td>\n",
       "      <td>0.385343</td>\n",
       "      <td>0.104478</td>\n",
       "      <td>0.303523</td>\n",
       "      <td>0.462364</td>\n",
       "      <td>0.276446</td>\n",
       "      <td>0.462364</td>\n",
       "    </tr>\n",
       "    <tr>\n",
       "      <th>f1-score</th>\n",
       "      <td>0.0</td>\n",
       "      <td>0.056911</td>\n",
       "      <td>0.021505</td>\n",
       "      <td>0.0</td>\n",
       "      <td>0.082645</td>\n",
       "      <td>0.043243</td>\n",
       "      <td>0.623165</td>\n",
       "      <td>0.011834</td>\n",
       "      <td>0.640777</td>\n",
       "      <td>0.508137</td>\n",
       "      <td>...</td>\n",
       "      <td>0.0</td>\n",
       "      <td>0.307529</td>\n",
       "      <td>0.028436</td>\n",
       "      <td>0.290541</td>\n",
       "      <td>0.315891</td>\n",
       "      <td>0.144828</td>\n",
       "      <td>0.284987</td>\n",
       "      <td>0.462364</td>\n",
       "      <td>0.247230</td>\n",
       "      <td>0.407492</td>\n",
       "    </tr>\n",
       "    <tr>\n",
       "      <th>support</th>\n",
       "      <td>32.0</td>\n",
       "      <td>201.000000</td>\n",
       "      <td>166.000000</td>\n",
       "      <td>32.0</td>\n",
       "      <td>201.000000</td>\n",
       "      <td>166.000000</td>\n",
       "      <td>428.000000</td>\n",
       "      <td>167.000000</td>\n",
       "      <td>463.000000</td>\n",
       "      <td>631.000000</td>\n",
       "      <td>...</td>\n",
       "      <td>75.0</td>\n",
       "      <td>423.000000</td>\n",
       "      <td>201.000000</td>\n",
       "      <td>369.000000</td>\n",
       "      <td>423.000000</td>\n",
       "      <td>201.000000</td>\n",
       "      <td>369.000000</td>\n",
       "      <td>0.462364</td>\n",
       "      <td>6895.000000</td>\n",
       "      <td>6895.000000</td>\n",
       "    </tr>\n",
       "  </tbody>\n",
       "</table>\n",
       "<p>4 rows × 27 columns</p>\n",
       "</div>"
      ],
      "text/plain": [
       "           A_LF        A_LS        A_LW  A_RF        A_RS        A_RW  \\\n",
       "precision   0.0    0.155556    0.100000   0.0    0.243902    0.210526   \n",
       "recall      0.0    0.034826    0.012048   0.0    0.049751    0.024096   \n",
       "f1-score    0.0    0.056911    0.021505   0.0    0.082645    0.043243   \n",
       "support    32.0  201.000000  166.000000  32.0  201.000000  166.000000   \n",
       "\n",
       "                 A_ST        D_CB        D_LB       D_LCB  ...  M_CM  \\\n",
       "precision    0.478697    0.500000    0.541791    0.591579  ...   0.0   \n",
       "recall       0.892523    0.005988    0.784017    0.445325  ...   0.0   \n",
       "f1-score     0.623165    0.011834    0.640777    0.508137  ...   0.0   \n",
       "support    428.000000  167.000000  463.000000  631.000000  ...  75.0   \n",
       "\n",
       "                M_LCM       M_LDM        M_LM       M_RCM       M_RDM  \\\n",
       "precision    0.278846    0.300000    0.248555    0.267652    0.235955   \n",
       "recall       0.342790    0.014925    0.349593    0.385343    0.104478   \n",
       "f1-score     0.307529    0.028436    0.290541    0.315891    0.144828   \n",
       "support    423.000000  201.000000  369.000000  423.000000  201.000000   \n",
       "\n",
       "                 M_RM  accuracy    macro avg  weighted avg  \n",
       "precision    0.268585  0.462364     0.300379      0.417379  \n",
       "recall       0.303523  0.462364     0.276446      0.462364  \n",
       "f1-score     0.284987  0.462364     0.247230      0.407492  \n",
       "support    369.000000  0.462364  6895.000000   6895.000000  \n",
       "\n",
       "[4 rows x 27 columns]"
      ]
     },
     "execution_count": 7,
     "metadata": {},
     "output_type": "execute_result"
    }
   ],
   "source": [
    "df_report_dt_adaboost"
   ]
  },
  {
   "cell_type": "code",
   "execution_count": 8,
   "id": "268d89b7",
   "metadata": {},
   "outputs": [
    {
     "data": {
      "text/plain": [
       "{'adaboost__estimator__max_depth': 31,\n",
       " 'adaboost__estimator__max_features': 10,\n",
       " 'adaboost__estimator__max_leaf_nodes': 4945,\n",
       " 'adaboost__estimator__min_samples_leaf': 0.033785596409893315,\n",
       " 'adaboost__estimator__min_samples_split': 0.15685639533910706,\n",
       " 'adaboost__learning_rate': 0.1,\n",
       " 'adaboost__n_estimators': 100}"
      ]
     },
     "execution_count": 8,
     "metadata": {},
     "output_type": "execute_result"
    }
   ],
   "source": [
    "best_params_dt_adaboost"
   ]
  },
  {
   "cell_type": "code",
   "execution_count": 9,
   "id": "9914ebe9",
   "metadata": {},
   "outputs": [
    {
     "data": {
      "text/plain": [
       "{'f1_weighted': 0.3271805064468502,\n",
       " 'f1_micro': 0.38378039669649067,\n",
       " 'f1_macro': 0.1984955865804376,\n",
       " 'roc_auc_weighted': 0.8900241148200992}"
      ]
     },
     "execution_count": 9,
     "metadata": {},
     "output_type": "execute_result"
    }
   ],
   "source": [
    "best_scores_dt_adaboost"
   ]
  },
  {
   "cell_type": "markdown",
   "id": "0fd274ec",
   "metadata": {},
   "source": [
    "### Random Forest"
   ]
  },
  {
   "cell_type": "markdown",
   "id": "c6af4667",
   "metadata": {},
   "source": [
    "#### A. No resampling (without considering class imbalance)"
   ]
  },
  {
   "cell_type": "code",
   "execution_count": null,
   "id": "0114b606",
   "metadata": {},
   "outputs": [
    {
     "name": "stdout",
     "output_type": "stream",
     "text": [
      "Fitting 5 folds for each of 100 candidates, totalling 500 fits\n"
     ]
    }
   ],
   "source": [
    "df_report_rf, best_params_rf, best_scores_rf = baseline_models(\n",
    "    df = dfv1, numerical_features = numerical_features, categorical_features = categorical_features_all_dummies, \n",
    "    model = RandomForestClassifier, target = 'position_grouped', n_hyper_comb = 100, num_imputer = \"median\",\n",
    "    goalkeeper_label = \"G_GK\", refit_score = 'f1_weighted', resampling_method = 'none'\n",
    "    )"
   ]
  },
  {
   "cell_type": "code",
   "execution_count": 71,
   "id": "e89b7d69",
   "metadata": {},
   "outputs": [
    {
     "data": {
      "text/html": [
       "<div>\n",
       "<style scoped>\n",
       "    .dataframe tbody tr th:only-of-type {\n",
       "        vertical-align: middle;\n",
       "    }\n",
       "\n",
       "    .dataframe tbody tr th {\n",
       "        vertical-align: top;\n",
       "    }\n",
       "\n",
       "    .dataframe thead th {\n",
       "        text-align: right;\n",
       "    }\n",
       "</style>\n",
       "<table border=\"1\" class=\"dataframe\">\n",
       "  <thead>\n",
       "    <tr style=\"text-align: right;\">\n",
       "      <th></th>\n",
       "      <th>A_LF</th>\n",
       "      <th>A_LS</th>\n",
       "      <th>A_LW</th>\n",
       "      <th>A_RF</th>\n",
       "      <th>A_RS</th>\n",
       "      <th>A_RW</th>\n",
       "      <th>A_ST</th>\n",
       "      <th>D_CB</th>\n",
       "      <th>D_LB</th>\n",
       "      <th>D_LCB</th>\n",
       "      <th>...</th>\n",
       "      <th>M_CM</th>\n",
       "      <th>M_LCM</th>\n",
       "      <th>M_LDM</th>\n",
       "      <th>M_LM</th>\n",
       "      <th>M_RCM</th>\n",
       "      <th>M_RDM</th>\n",
       "      <th>M_RM</th>\n",
       "      <th>accuracy</th>\n",
       "      <th>macro avg</th>\n",
       "      <th>weighted avg</th>\n",
       "    </tr>\n",
       "  </thead>\n",
       "  <tbody>\n",
       "    <tr>\n",
       "      <th>precision</th>\n",
       "      <td>0.0</td>\n",
       "      <td>0.875000</td>\n",
       "      <td>0.750000</td>\n",
       "      <td>0.0</td>\n",
       "      <td>0.0</td>\n",
       "      <td>0.900000</td>\n",
       "      <td>0.461714</td>\n",
       "      <td>0.0</td>\n",
       "      <td>0.576696</td>\n",
       "      <td>0.716456</td>\n",
       "      <td>...</td>\n",
       "      <td>0.0</td>\n",
       "      <td>0.466535</td>\n",
       "      <td>0.888889</td>\n",
       "      <td>0.458904</td>\n",
       "      <td>0.389140</td>\n",
       "      <td>0.711538</td>\n",
       "      <td>0.409346</td>\n",
       "      <td>0.544162</td>\n",
       "      <td>0.452352</td>\n",
       "      <td>0.551023</td>\n",
       "    </tr>\n",
       "    <tr>\n",
       "      <th>recall</th>\n",
       "      <td>0.0</td>\n",
       "      <td>0.034826</td>\n",
       "      <td>0.018072</td>\n",
       "      <td>0.0</td>\n",
       "      <td>0.0</td>\n",
       "      <td>0.054217</td>\n",
       "      <td>0.943925</td>\n",
       "      <td>0.0</td>\n",
       "      <td>0.844492</td>\n",
       "      <td>0.448494</td>\n",
       "      <td>...</td>\n",
       "      <td>0.0</td>\n",
       "      <td>0.560284</td>\n",
       "      <td>0.039801</td>\n",
       "      <td>0.544715</td>\n",
       "      <td>0.609929</td>\n",
       "      <td>0.184080</td>\n",
       "      <td>0.593496</td>\n",
       "      <td>0.544162</td>\n",
       "      <td>0.334748</td>\n",
       "      <td>0.544162</td>\n",
       "    </tr>\n",
       "    <tr>\n",
       "      <th>f1-score</th>\n",
       "      <td>0.0</td>\n",
       "      <td>0.066986</td>\n",
       "      <td>0.035294</td>\n",
       "      <td>0.0</td>\n",
       "      <td>0.0</td>\n",
       "      <td>0.102273</td>\n",
       "      <td>0.620107</td>\n",
       "      <td>0.0</td>\n",
       "      <td>0.685364</td>\n",
       "      <td>0.551657</td>\n",
       "      <td>...</td>\n",
       "      <td>0.0</td>\n",
       "      <td>0.509130</td>\n",
       "      <td>0.076190</td>\n",
       "      <td>0.498141</td>\n",
       "      <td>0.475138</td>\n",
       "      <td>0.292490</td>\n",
       "      <td>0.484513</td>\n",
       "      <td>0.544162</td>\n",
       "      <td>0.298803</td>\n",
       "      <td>0.475156</td>\n",
       "    </tr>\n",
       "    <tr>\n",
       "      <th>support</th>\n",
       "      <td>32.0</td>\n",
       "      <td>201.000000</td>\n",
       "      <td>166.000000</td>\n",
       "      <td>32.0</td>\n",
       "      <td>201.0</td>\n",
       "      <td>166.000000</td>\n",
       "      <td>428.000000</td>\n",
       "      <td>167.0</td>\n",
       "      <td>463.000000</td>\n",
       "      <td>631.000000</td>\n",
       "      <td>...</td>\n",
       "      <td>75.0</td>\n",
       "      <td>423.000000</td>\n",
       "      <td>201.000000</td>\n",
       "      <td>369.000000</td>\n",
       "      <td>423.000000</td>\n",
       "      <td>201.000000</td>\n",
       "      <td>369.000000</td>\n",
       "      <td>0.544162</td>\n",
       "      <td>6895.000000</td>\n",
       "      <td>6895.000000</td>\n",
       "    </tr>\n",
       "  </tbody>\n",
       "</table>\n",
       "<p>4 rows × 27 columns</p>\n",
       "</div>"
      ],
      "text/plain": [
       "           A_LF        A_LS        A_LW  A_RF   A_RS        A_RW        A_ST  \\\n",
       "precision   0.0    0.875000    0.750000   0.0    0.0    0.900000    0.461714   \n",
       "recall      0.0    0.034826    0.018072   0.0    0.0    0.054217    0.943925   \n",
       "f1-score    0.0    0.066986    0.035294   0.0    0.0    0.102273    0.620107   \n",
       "support    32.0  201.000000  166.000000  32.0  201.0  166.000000  428.000000   \n",
       "\n",
       "            D_CB        D_LB       D_LCB  ...  M_CM       M_LCM       M_LDM  \\\n",
       "precision    0.0    0.576696    0.716456  ...   0.0    0.466535    0.888889   \n",
       "recall       0.0    0.844492    0.448494  ...   0.0    0.560284    0.039801   \n",
       "f1-score     0.0    0.685364    0.551657  ...   0.0    0.509130    0.076190   \n",
       "support    167.0  463.000000  631.000000  ...  75.0  423.000000  201.000000   \n",
       "\n",
       "                 M_LM       M_RCM       M_RDM        M_RM  accuracy  \\\n",
       "precision    0.458904    0.389140    0.711538    0.409346  0.544162   \n",
       "recall       0.544715    0.609929    0.184080    0.593496  0.544162   \n",
       "f1-score     0.498141    0.475138    0.292490    0.484513  0.544162   \n",
       "support    369.000000  423.000000  201.000000  369.000000  0.544162   \n",
       "\n",
       "             macro avg  weighted avg  \n",
       "precision     0.452352      0.551023  \n",
       "recall        0.334748      0.544162  \n",
       "f1-score      0.298803      0.475156  \n",
       "support    6895.000000   6895.000000  \n",
       "\n",
       "[4 rows x 27 columns]"
      ]
     },
     "execution_count": 71,
     "metadata": {},
     "output_type": "execute_result"
    }
   ],
   "source": [
    "df_report_rf"
   ]
  },
  {
   "cell_type": "code",
   "execution_count": 87,
   "id": "f4cd56dc",
   "metadata": {},
   "outputs": [
    {
     "data": {
      "image/png": "[encoded data removed]",
      "text/plain": [
       "<Figure size 2000x600 with 2 Axes>"
      ]
     },
     "metadata": {},
     "output_type": "display_data"
    }
   ],
   "source": [
    "graph_f1_per_position(df_train = dfv1, df_report = df_report_rf)"
   ]
  },
  {
   "cell_type": "code",
   "execution_count": 68,
   "id": "b8a87660",
   "metadata": {},
   "outputs": [
    {
     "data": {
      "text/plain": [
       "{'rfc__max_depth': 148,\n",
       " 'rfc__max_features': 24,\n",
       " 'rfc__max_leaf_nodes': 1244,\n",
       " 'rfc__min_samples_leaf': 0.0013015285199047416,\n",
       " 'rfc__min_samples_split': 0.010912693744184222}"
      ]
     },
     "execution_count": 68,
     "metadata": {},
     "output_type": "execute_result"
    }
   ],
   "source": [
    "best_params_rf"
   ]
  },
  {
   "cell_type": "code",
   "execution_count": 72,
   "id": "7bf1348a",
   "metadata": {},
   "outputs": [
    {
     "data": {
      "text/plain": [
       "{'f1_weighted': 0.322408894783333,\n",
       " 'f1_micro': 0.3965510251434895,\n",
       " 'f1_macro': 0.18772638749343232,\n",
       " 'roc_auc_weighted': 0.901280182026645}"
      ]
     },
     "execution_count": 72,
     "metadata": {},
     "output_type": "execute_result"
    }
   ],
   "source": [
    "best_scores_rf"
   ]
  },
  {
   "cell_type": "markdown",
   "id": "997226d9",
   "metadata": {},
   "source": [
    "#### B. Oversampling"
   ]
  },
  {
   "cell_type": "code",
   "execution_count": null,
   "id": "bff99f0d",
   "metadata": {},
   "outputs": [
    {
     "name": "stdout",
     "output_type": "stream",
     "text": [
      "Fitting 5 folds for each of 100 candidates, totalling 500 fits\n"
     ]
    }
   ],
   "source": [
    "df_report_rf_overs, best_params_rf_overs, best_scores_rf_overs = baseline_models(\n",
    "    df = dfv1, numerical_features = numerical_features, categorical_features = categorical_features_all_dummies, \n",
    "    model = RandomForestClassifier, target = 'position_grouped', n_hyper_comb = 100, num_imputer = \"median\",\n",
    "    goalkeeper_label = \"G_GK\", refit_score = 'f1_weighted', resampling_method = 'oversample'\n",
    "    )"
   ]
  },
  {
   "cell_type": "code",
   "execution_count": null,
   "id": "7b0f4bfb",
   "metadata": {},
   "outputs": [
    {
     "data": {
      "text/html": [
       "<div>\n",
       "<style scoped>\n",
       "    .dataframe tbody tr th:only-of-type {\n",
       "        vertical-align: middle;\n",
       "    }\n",
       "\n",
       "    .dataframe tbody tr th {\n",
       "        vertical-align: top;\n",
       "    }\n",
       "\n",
       "    .dataframe thead th {\n",
       "        text-align: right;\n",
       "    }\n",
       "</style>\n",
       "<table border=\"1\" class=\"dataframe\">\n",
       "  <thead>\n",
       "    <tr style=\"text-align: right;\">\n",
       "      <th></th>\n",
       "      <th>A_LF</th>\n",
       "      <th>A_LS</th>\n",
       "      <th>A_LW</th>\n",
       "      <th>A_RF</th>\n",
       "      <th>A_RS</th>\n",
       "      <th>A_RW</th>\n",
       "      <th>A_ST</th>\n",
       "      <th>D_CB</th>\n",
       "      <th>D_LB</th>\n",
       "      <th>D_LCB</th>\n",
       "      <th>...</th>\n",
       "      <th>M_CM</th>\n",
       "      <th>M_LCM</th>\n",
       "      <th>M_LDM</th>\n",
       "      <th>M_LM</th>\n",
       "      <th>M_RCM</th>\n",
       "      <th>M_RDM</th>\n",
       "      <th>M_RM</th>\n",
       "      <th>accuracy</th>\n",
       "      <th>macro avg</th>\n",
       "      <th>weighted avg</th>\n",
       "    </tr>\n",
       "  </thead>\n",
       "  <tbody>\n",
       "    <tr>\n",
       "      <th>precision</th>\n",
       "      <td>0.190476</td>\n",
       "      <td>0.593939</td>\n",
       "      <td>0.423256</td>\n",
       "      <td>0.229630</td>\n",
       "      <td>0.486188</td>\n",
       "      <td>0.338870</td>\n",
       "      <td>0.705757</td>\n",
       "      <td>0.303514</td>\n",
       "      <td>0.665962</td>\n",
       "      <td>0.755853</td>\n",
       "      <td>...</td>\n",
       "      <td>0.210317</td>\n",
       "      <td>0.676471</td>\n",
       "      <td>0.470000</td>\n",
       "      <td>0.725000</td>\n",
       "      <td>0.461165</td>\n",
       "      <td>0.392226</td>\n",
       "      <td>0.618056</td>\n",
       "      <td>0.525018</td>\n",
       "      <td>0.485299</td>\n",
       "      <td>0.598919</td>\n",
       "    </tr>\n",
       "    <tr>\n",
       "      <th>recall</th>\n",
       "      <td>1.000000</td>\n",
       "      <td>0.487562</td>\n",
       "      <td>0.548193</td>\n",
       "      <td>0.968750</td>\n",
       "      <td>0.437811</td>\n",
       "      <td>0.614458</td>\n",
       "      <td>0.773364</td>\n",
       "      <td>0.568862</td>\n",
       "      <td>0.680346</td>\n",
       "      <td>0.358162</td>\n",
       "      <td>...</td>\n",
       "      <td>0.706667</td>\n",
       "      <td>0.054374</td>\n",
       "      <td>0.467662</td>\n",
       "      <td>0.157182</td>\n",
       "      <td>0.224586</td>\n",
       "      <td>0.552239</td>\n",
       "      <td>0.241192</td>\n",
       "      <td>0.525018</td>\n",
       "      <td>0.567221</td>\n",
       "      <td>0.525018</td>\n",
       "    </tr>\n",
       "    <tr>\n",
       "      <th>f1-score</th>\n",
       "      <td>0.320000</td>\n",
       "      <td>0.535519</td>\n",
       "      <td>0.477690</td>\n",
       "      <td>0.371257</td>\n",
       "      <td>0.460733</td>\n",
       "      <td>0.436831</td>\n",
       "      <td>0.738016</td>\n",
       "      <td>0.395833</td>\n",
       "      <td>0.673077</td>\n",
       "      <td>0.486022</td>\n",
       "      <td>...</td>\n",
       "      <td>0.324159</td>\n",
       "      <td>0.100656</td>\n",
       "      <td>0.468828</td>\n",
       "      <td>0.258352</td>\n",
       "      <td>0.302067</td>\n",
       "      <td>0.458678</td>\n",
       "      <td>0.346979</td>\n",
       "      <td>0.525018</td>\n",
       "      <td>0.457753</td>\n",
       "      <td>0.511420</td>\n",
       "    </tr>\n",
       "    <tr>\n",
       "      <th>support</th>\n",
       "      <td>32.000000</td>\n",
       "      <td>201.000000</td>\n",
       "      <td>166.000000</td>\n",
       "      <td>32.000000</td>\n",
       "      <td>201.000000</td>\n",
       "      <td>166.000000</td>\n",
       "      <td>428.000000</td>\n",
       "      <td>167.000000</td>\n",
       "      <td>463.000000</td>\n",
       "      <td>631.000000</td>\n",
       "      <td>...</td>\n",
       "      <td>75.000000</td>\n",
       "      <td>423.000000</td>\n",
       "      <td>201.000000</td>\n",
       "      <td>369.000000</td>\n",
       "      <td>423.000000</td>\n",
       "      <td>201.000000</td>\n",
       "      <td>369.000000</td>\n",
       "      <td>0.525018</td>\n",
       "      <td>6895.000000</td>\n",
       "      <td>6895.000000</td>\n",
       "    </tr>\n",
       "  </tbody>\n",
       "</table>\n",
       "<p>4 rows × 27 columns</p>\n",
       "</div>"
      ],
      "text/plain": [
       "                A_LF        A_LS        A_LW       A_RF        A_RS  \\\n",
       "precision   0.190476    0.593939    0.423256   0.229630    0.486188   \n",
       "recall      1.000000    0.487562    0.548193   0.968750    0.437811   \n",
       "f1-score    0.320000    0.535519    0.477690   0.371257    0.460733   \n",
       "support    32.000000  201.000000  166.000000  32.000000  201.000000   \n",
       "\n",
       "                 A_RW        A_ST        D_CB        D_LB       D_LCB  ...  \\\n",
       "precision    0.338870    0.705757    0.303514    0.665962    0.755853  ...   \n",
       "recall       0.614458    0.773364    0.568862    0.680346    0.358162  ...   \n",
       "f1-score     0.436831    0.738016    0.395833    0.673077    0.486022  ...   \n",
       "support    166.000000  428.000000  167.000000  463.000000  631.000000  ...   \n",
       "\n",
       "                M_CM       M_LCM       M_LDM        M_LM       M_RCM  \\\n",
       "precision   0.210317    0.676471    0.470000    0.725000    0.461165   \n",
       "recall      0.706667    0.054374    0.467662    0.157182    0.224586   \n",
       "f1-score    0.324159    0.100656    0.468828    0.258352    0.302067   \n",
       "support    75.000000  423.000000  201.000000  369.000000  423.000000   \n",
       "\n",
       "                M_RDM        M_RM  accuracy    macro avg  weighted avg  \n",
       "precision    0.392226    0.618056  0.525018     0.485299      0.598919  \n",
       "recall       0.552239    0.241192  0.525018     0.567221      0.525018  \n",
       "f1-score     0.458678    0.346979  0.525018     0.457753      0.511420  \n",
       "support    201.000000  369.000000  0.525018  6895.000000   6895.000000  \n",
       "\n",
       "[4 rows x 27 columns]"
      ]
     },
     "metadata": {},
     "output_type": "display_data"
    }
   ],
   "source": [
    "df_report_rf_overs"
   ]
  },
  {
   "cell_type": "code",
   "execution_count": null,
   "id": "a875ff36",
   "metadata": {},
   "outputs": [
    {
     "data": {
      "image/png": "[encoded data removed]",
      "text/plain": [
       "<Figure size 2000x600 with 2 Axes>"
      ]
     },
     "metadata": {},
     "output_type": "display_data"
    }
   ],
   "source": [
    "graph_f1_per_position(df_train = dfv1, df_report = df_report_rf_overs)"
   ]
  },
  {
   "cell_type": "code",
   "execution_count": null,
   "id": "969da65e",
   "metadata": {},
   "outputs": [
    {
     "data": {
      "text/plain": [
       "{'rfc__max_depth': 148,\n",
       " 'rfc__max_features': 24,\n",
       " 'rfc__max_leaf_nodes': 1244,\n",
       " 'rfc__min_samples_leaf': 0.0013015285199047416,\n",
       " 'rfc__min_samples_split': 0.010912693744184222}"
      ]
     },
     "metadata": {},
     "output_type": "display_data"
    }
   ],
   "source": [
    "best_params_rf_overs"
   ]
  },
  {
   "cell_type": "code",
   "execution_count": null,
   "id": "c7614a17",
   "metadata": {},
   "outputs": [
    {
     "data": {
      "text/plain": [
       "{'f1_weighted': 0.29078672267002725,\n",
       " 'f1_micro': 0.293903322122752,\n",
       " 'f1_macro': 0.21790911534763846,\n",
       " 'roc_auc_weighted': 0.894251696560503}"
      ]
     },
     "metadata": {},
     "output_type": "display_data"
    }
   ],
   "source": [
    "best_scores_rf_overs"
   ]
  },
  {
   "cell_type": "markdown",
   "id": "068ff5c8",
   "metadata": {},
   "source": [
    "#### C. SMOTE"
   ]
  },
  {
   "cell_type": "code",
   "execution_count": null,
   "id": "20fac3ca",
   "metadata": {},
   "outputs": [
    {
     "name": "stdout",
     "output_type": "stream",
     "text": [
      "Fitting 5 folds for each of 100 candidates, totalling 500 fits\n"
     ]
    }
   ],
   "source": [
    "df_report_rf_smote, best_params_rf_smote, best_scores_rf_smote = baseline_models(\n",
    "    df = dfv1, numerical_features = numerical_features, categorical_features = categorical_features_all_dummies, \n",
    "    model = RandomForestClassifier, target = 'position_grouped', n_hyper_comb = 100, num_imputer = \"median\",\n",
    "    goalkeeper_label = \"G_GK\", refit_score = 'f1_weighted', resampling_method = 'smote'\n",
    "    )"
   ]
  },
  {
   "cell_type": "code",
   "execution_count": null,
   "id": "ef267530",
   "metadata": {},
   "outputs": [
    {
     "data": {
      "text/html": [
       "<div>\n",
       "<style scoped>\n",
       "    .dataframe tbody tr th:only-of-type {\n",
       "        vertical-align: middle;\n",
       "    }\n",
       "\n",
       "    .dataframe tbody tr th {\n",
       "        vertical-align: top;\n",
       "    }\n",
       "\n",
       "    .dataframe thead th {\n",
       "        text-align: right;\n",
       "    }\n",
       "</style>\n",
       "<table border=\"1\" class=\"dataframe\">\n",
       "  <thead>\n",
       "    <tr style=\"text-align: right;\">\n",
       "      <th></th>\n",
       "      <th>A_LF</th>\n",
       "      <th>A_LS</th>\n",
       "      <th>A_LW</th>\n",
       "      <th>A_RF</th>\n",
       "      <th>A_RS</th>\n",
       "      <th>A_RW</th>\n",
       "      <th>A_ST</th>\n",
       "      <th>D_CB</th>\n",
       "      <th>D_LB</th>\n",
       "      <th>D_LCB</th>\n",
       "      <th>...</th>\n",
       "      <th>M_CM</th>\n",
       "      <th>M_LCM</th>\n",
       "      <th>M_LDM</th>\n",
       "      <th>M_LM</th>\n",
       "      <th>M_RCM</th>\n",
       "      <th>M_RDM</th>\n",
       "      <th>M_RM</th>\n",
       "      <th>accuracy</th>\n",
       "      <th>macro avg</th>\n",
       "      <th>weighted avg</th>\n",
       "    </tr>\n",
       "  </thead>\n",
       "  <tbody>\n",
       "    <tr>\n",
       "      <th>precision</th>\n",
       "      <td>0.118644</td>\n",
       "      <td>0.474026</td>\n",
       "      <td>0.284615</td>\n",
       "      <td>0.139394</td>\n",
       "      <td>0.300000</td>\n",
       "      <td>0.287356</td>\n",
       "      <td>0.644028</td>\n",
       "      <td>0.317073</td>\n",
       "      <td>0.517595</td>\n",
       "      <td>0.698795</td>\n",
       "      <td>...</td>\n",
       "      <td>0.172000</td>\n",
       "      <td>0.575000</td>\n",
       "      <td>0.398438</td>\n",
       "      <td>0.685185</td>\n",
       "      <td>0.412556</td>\n",
       "      <td>0.347656</td>\n",
       "      <td>0.549020</td>\n",
       "      <td>0.478898</td>\n",
       "      <td>0.420510</td>\n",
       "      <td>0.536695</td>\n",
       "    </tr>\n",
       "    <tr>\n",
       "      <th>recall</th>\n",
       "      <td>0.656250</td>\n",
       "      <td>0.363184</td>\n",
       "      <td>0.445783</td>\n",
       "      <td>0.718750</td>\n",
       "      <td>0.358209</td>\n",
       "      <td>0.451807</td>\n",
       "      <td>0.642523</td>\n",
       "      <td>0.233533</td>\n",
       "      <td>0.762419</td>\n",
       "      <td>0.367670</td>\n",
       "      <td>...</td>\n",
       "      <td>0.573333</td>\n",
       "      <td>0.108747</td>\n",
       "      <td>0.253731</td>\n",
       "      <td>0.100271</td>\n",
       "      <td>0.217494</td>\n",
       "      <td>0.442786</td>\n",
       "      <td>0.151762</td>\n",
       "      <td>0.478898</td>\n",
       "      <td>0.453509</td>\n",
       "      <td>0.478898</td>\n",
       "    </tr>\n",
       "    <tr>\n",
       "      <th>f1-score</th>\n",
       "      <td>0.200957</td>\n",
       "      <td>0.411268</td>\n",
       "      <td>0.347418</td>\n",
       "      <td>0.233503</td>\n",
       "      <td>0.326531</td>\n",
       "      <td>0.351288</td>\n",
       "      <td>0.643275</td>\n",
       "      <td>0.268966</td>\n",
       "      <td>0.616594</td>\n",
       "      <td>0.481828</td>\n",
       "      <td>...</td>\n",
       "      <td>0.264615</td>\n",
       "      <td>0.182903</td>\n",
       "      <td>0.310030</td>\n",
       "      <td>0.174941</td>\n",
       "      <td>0.284830</td>\n",
       "      <td>0.389497</td>\n",
       "      <td>0.237792</td>\n",
       "      <td>0.478898</td>\n",
       "      <td>0.384009</td>\n",
       "      <td>0.463551</td>\n",
       "    </tr>\n",
       "    <tr>\n",
       "      <th>support</th>\n",
       "      <td>32.000000</td>\n",
       "      <td>201.000000</td>\n",
       "      <td>166.000000</td>\n",
       "      <td>32.000000</td>\n",
       "      <td>201.000000</td>\n",
       "      <td>166.000000</td>\n",
       "      <td>428.000000</td>\n",
       "      <td>167.000000</td>\n",
       "      <td>463.000000</td>\n",
       "      <td>631.000000</td>\n",
       "      <td>...</td>\n",
       "      <td>75.000000</td>\n",
       "      <td>423.000000</td>\n",
       "      <td>201.000000</td>\n",
       "      <td>369.000000</td>\n",
       "      <td>423.000000</td>\n",
       "      <td>201.000000</td>\n",
       "      <td>369.000000</td>\n",
       "      <td>0.478898</td>\n",
       "      <td>6895.000000</td>\n",
       "      <td>6895.000000</td>\n",
       "    </tr>\n",
       "  </tbody>\n",
       "</table>\n",
       "<p>4 rows × 27 columns</p>\n",
       "</div>"
      ],
      "text/plain": [
       "                A_LF        A_LS        A_LW       A_RF        A_RS  \\\n",
       "precision   0.118644    0.474026    0.284615   0.139394    0.300000   \n",
       "recall      0.656250    0.363184    0.445783   0.718750    0.358209   \n",
       "f1-score    0.200957    0.411268    0.347418   0.233503    0.326531   \n",
       "support    32.000000  201.000000  166.000000  32.000000  201.000000   \n",
       "\n",
       "                 A_RW        A_ST        D_CB        D_LB       D_LCB  ...  \\\n",
       "precision    0.287356    0.644028    0.317073    0.517595    0.698795  ...   \n",
       "recall       0.451807    0.642523    0.233533    0.762419    0.367670  ...   \n",
       "f1-score     0.351288    0.643275    0.268966    0.616594    0.481828  ...   \n",
       "support    166.000000  428.000000  167.000000  463.000000  631.000000  ...   \n",
       "\n",
       "                M_CM       M_LCM       M_LDM        M_LM       M_RCM  \\\n",
       "precision   0.172000    0.575000    0.398438    0.685185    0.412556   \n",
       "recall      0.573333    0.108747    0.253731    0.100271    0.217494   \n",
       "f1-score    0.264615    0.182903    0.310030    0.174941    0.284830   \n",
       "support    75.000000  423.000000  201.000000  369.000000  423.000000   \n",
       "\n",
       "                M_RDM        M_RM  accuracy    macro avg  weighted avg  \n",
       "precision    0.347656    0.549020  0.478898     0.420510      0.536695  \n",
       "recall       0.442786    0.151762  0.478898     0.453509      0.478898  \n",
       "f1-score     0.389497    0.237792  0.478898     0.384009      0.463551  \n",
       "support    201.000000  369.000000  0.478898  6895.000000   6895.000000  \n",
       "\n",
       "[4 rows x 27 columns]"
      ]
     },
     "metadata": {},
     "output_type": "display_data"
    }
   ],
   "source": [
    "df_report_rf_smote"
   ]
  },
  {
   "cell_type": "code",
   "execution_count": null,
   "id": "b1e17321",
   "metadata": {},
   "outputs": [
    {
     "data": {
      "image/png": "[encoded data removed]",
      "text/plain": [
       "<Figure size 2000x600 with 2 Axes>"
      ]
     },
     "metadata": {},
     "output_type": "display_data"
    }
   ],
   "source": [
    "graph_f1_per_position(df_train = dfv1, df_report = df_report_rf_smote)"
   ]
  },
  {
   "cell_type": "code",
   "execution_count": null,
   "id": "7c237cf9",
   "metadata": {},
   "outputs": [
    {
     "data": {
      "text/plain": [
       "{'rfc__max_depth': 148,\n",
       " 'rfc__max_features': 24,\n",
       " 'rfc__max_leaf_nodes': 1244,\n",
       " 'rfc__min_samples_leaf': 0.0013015285199047416,\n",
       " 'rfc__min_samples_split': 0.010912693744184222}"
      ]
     },
     "metadata": {},
     "output_type": "display_data"
    }
   ],
   "source": [
    "best_params_rf_smote"
   ]
  },
  {
   "cell_type": "code",
   "execution_count": null,
   "id": "66853adf",
   "metadata": {},
   "outputs": [
    {
     "data": {
      "text/plain": [
       "{'f1_weighted': 0.30255549695147593,\n",
       " 'f1_micro': 0.3143353077215322,\n",
       " 'f1_macro': 0.2183088580720532,\n",
       " 'roc_auc_weighted': 0.894173840833344}"
      ]
     },
     "metadata": {},
     "output_type": "display_data"
    }
   ],
   "source": [
    "best_scores_rf_smote"
   ]
  },
  {
   "cell_type": "markdown",
   "id": "a8739f78",
   "metadata": {},
   "source": [
    "#### D. Undersampling"
   ]
  },
  {
   "cell_type": "code",
   "execution_count": null,
   "id": "d4fa5f7a",
   "metadata": {},
   "outputs": [
    {
     "name": "stdout",
     "output_type": "stream",
     "text": [
      "Fitting 5 folds for each of 100 candidates, totalling 500 fits\n"
     ]
    }
   ],
   "source": [
    "df_report_rf_under, best_params_rf_under, best_scores_rf_under = baseline_models(\n",
    "    df = dfv1, numerical_features = numerical_features, categorical_features = categorical_features_all_dummies, \n",
    "    model = RandomForestClassifier, target = 'position_grouped', n_hyper_comb = 100, num_imputer = \"median\",\n",
    "    goalkeeper_label = \"G_GK\", refit_score = 'f1_weighted', resampling_method = 'undersample'\n",
    "    )"
   ]
  },
  {
   "cell_type": "code",
   "execution_count": null,
   "id": "5d8ff91e",
   "metadata": {},
   "outputs": [
    {
     "data": {
      "text/html": [
       "<div>\n",
       "<style scoped>\n",
       "    .dataframe tbody tr th:only-of-type {\n",
       "        vertical-align: middle;\n",
       "    }\n",
       "\n",
       "    .dataframe tbody tr th {\n",
       "        vertical-align: top;\n",
       "    }\n",
       "\n",
       "    .dataframe thead th {\n",
       "        text-align: right;\n",
       "    }\n",
       "</style>\n",
       "<table border=\"1\" class=\"dataframe\">\n",
       "  <thead>\n",
       "    <tr style=\"text-align: right;\">\n",
       "      <th></th>\n",
       "      <th>A_LF</th>\n",
       "      <th>A_LS</th>\n",
       "      <th>A_LW</th>\n",
       "      <th>A_RF</th>\n",
       "      <th>A_RS</th>\n",
       "      <th>A_RW</th>\n",
       "      <th>A_ST</th>\n",
       "      <th>D_CB</th>\n",
       "      <th>D_LB</th>\n",
       "      <th>D_LCB</th>\n",
       "      <th>...</th>\n",
       "      <th>M_CM</th>\n",
       "      <th>M_LCM</th>\n",
       "      <th>M_LDM</th>\n",
       "      <th>M_LM</th>\n",
       "      <th>M_RCM</th>\n",
       "      <th>M_RDM</th>\n",
       "      <th>M_RM</th>\n",
       "      <th>accuracy</th>\n",
       "      <th>macro avg</th>\n",
       "      <th>weighted avg</th>\n",
       "    </tr>\n",
       "  </thead>\n",
       "  <tbody>\n",
       "    <tr>\n",
       "      <th>precision</th>\n",
       "      <td>0.154472</td>\n",
       "      <td>0.265152</td>\n",
       "      <td>0.232394</td>\n",
       "      <td>0.416667</td>\n",
       "      <td>0.259259</td>\n",
       "      <td>0.193955</td>\n",
       "      <td>0.536398</td>\n",
       "      <td>0.128093</td>\n",
       "      <td>0.572874</td>\n",
       "      <td>0.737762</td>\n",
       "      <td>...</td>\n",
       "      <td>0.126374</td>\n",
       "      <td>0.264901</td>\n",
       "      <td>0.294872</td>\n",
       "      <td>0.350000</td>\n",
       "      <td>0.308333</td>\n",
       "      <td>0.253425</td>\n",
       "      <td>0.395604</td>\n",
       "      <td>0.385932</td>\n",
       "      <td>0.346306</td>\n",
       "      <td>0.459343</td>\n",
       "    </tr>\n",
       "    <tr>\n",
       "      <th>recall</th>\n",
       "      <td>0.593750</td>\n",
       "      <td>0.174129</td>\n",
       "      <td>0.198795</td>\n",
       "      <td>0.468750</td>\n",
       "      <td>0.278607</td>\n",
       "      <td>0.463855</td>\n",
       "      <td>0.654206</td>\n",
       "      <td>0.526946</td>\n",
       "      <td>0.611231</td>\n",
       "      <td>0.334390</td>\n",
       "      <td>...</td>\n",
       "      <td>0.306667</td>\n",
       "      <td>0.094563</td>\n",
       "      <td>0.114428</td>\n",
       "      <td>0.132791</td>\n",
       "      <td>0.174941</td>\n",
       "      <td>0.184080</td>\n",
       "      <td>0.097561</td>\n",
       "      <td>0.385932</td>\n",
       "      <td>0.371061</td>\n",
       "      <td>0.385932</td>\n",
       "    </tr>\n",
       "    <tr>\n",
       "      <th>f1-score</th>\n",
       "      <td>0.245161</td>\n",
       "      <td>0.210210</td>\n",
       "      <td>0.214286</td>\n",
       "      <td>0.441176</td>\n",
       "      <td>0.268585</td>\n",
       "      <td>0.273535</td>\n",
       "      <td>0.589474</td>\n",
       "      <td>0.206089</td>\n",
       "      <td>0.591432</td>\n",
       "      <td>0.460196</td>\n",
       "      <td>...</td>\n",
       "      <td>0.178988</td>\n",
       "      <td>0.139373</td>\n",
       "      <td>0.164875</td>\n",
       "      <td>0.192534</td>\n",
       "      <td>0.223228</td>\n",
       "      <td>0.213256</td>\n",
       "      <td>0.156522</td>\n",
       "      <td>0.385932</td>\n",
       "      <td>0.316926</td>\n",
       "      <td>0.389799</td>\n",
       "    </tr>\n",
       "    <tr>\n",
       "      <th>support</th>\n",
       "      <td>32.000000</td>\n",
       "      <td>201.000000</td>\n",
       "      <td>166.000000</td>\n",
       "      <td>32.000000</td>\n",
       "      <td>201.000000</td>\n",
       "      <td>166.000000</td>\n",
       "      <td>428.000000</td>\n",
       "      <td>167.000000</td>\n",
       "      <td>463.000000</td>\n",
       "      <td>631.000000</td>\n",
       "      <td>...</td>\n",
       "      <td>75.000000</td>\n",
       "      <td>423.000000</td>\n",
       "      <td>201.000000</td>\n",
       "      <td>369.000000</td>\n",
       "      <td>423.000000</td>\n",
       "      <td>201.000000</td>\n",
       "      <td>369.000000</td>\n",
       "      <td>0.385932</td>\n",
       "      <td>6895.000000</td>\n",
       "      <td>6895.000000</td>\n",
       "    </tr>\n",
       "  </tbody>\n",
       "</table>\n",
       "<p>4 rows × 27 columns</p>\n",
       "</div>"
      ],
      "text/plain": [
       "                A_LF        A_LS        A_LW       A_RF        A_RS  \\\n",
       "precision   0.154472    0.265152    0.232394   0.416667    0.259259   \n",
       "recall      0.593750    0.174129    0.198795   0.468750    0.278607   \n",
       "f1-score    0.245161    0.210210    0.214286   0.441176    0.268585   \n",
       "support    32.000000  201.000000  166.000000  32.000000  201.000000   \n",
       "\n",
       "                 A_RW        A_ST        D_CB        D_LB       D_LCB  ...  \\\n",
       "precision    0.193955    0.536398    0.128093    0.572874    0.737762  ...   \n",
       "recall       0.463855    0.654206    0.526946    0.611231    0.334390  ...   \n",
       "f1-score     0.273535    0.589474    0.206089    0.591432    0.460196  ...   \n",
       "support    166.000000  428.000000  167.000000  463.000000  631.000000  ...   \n",
       "\n",
       "                M_CM       M_LCM       M_LDM        M_LM       M_RCM  \\\n",
       "precision   0.126374    0.264901    0.294872    0.350000    0.308333   \n",
       "recall      0.306667    0.094563    0.114428    0.132791    0.174941   \n",
       "f1-score    0.178988    0.139373    0.164875    0.192534    0.223228   \n",
       "support    75.000000  423.000000  201.000000  369.000000  423.000000   \n",
       "\n",
       "                M_RDM        M_RM  accuracy    macro avg  weighted avg  \n",
       "precision    0.253425    0.395604  0.385932     0.346306      0.459343  \n",
       "recall       0.184080    0.097561  0.385932     0.371061      0.385932  \n",
       "f1-score     0.213256    0.156522  0.385932     0.316926      0.389799  \n",
       "support    201.000000  369.000000  0.385932  6895.000000   6895.000000  \n",
       "\n",
       "[4 rows x 27 columns]"
      ]
     },
     "metadata": {},
     "output_type": "display_data"
    }
   ],
   "source": [
    "df_report_rf_under"
   ]
  },
  {
   "cell_type": "code",
   "execution_count": null,
   "id": "e734b7cf",
   "metadata": {},
   "outputs": [
    {
     "data": {
      "image/png": "[encoded data removed]",
      "text/plain": [
       "<Figure size 2000x600 with 2 Axes>"
      ]
     },
     "metadata": {},
     "output_type": "display_data"
    }
   ],
   "source": [
    "graph_f1_per_position(df_train = dfv1, df_report = df_report_rf_under)"
   ]
  },
  {
   "cell_type": "code",
   "execution_count": null,
   "id": "7ee13858",
   "metadata": {},
   "outputs": [
    {
     "data": {
      "text/plain": [
       "{'rfc__max_depth': 48,\n",
       " 'rfc__max_features': 7,\n",
       " 'rfc__max_leaf_nodes': 3096,\n",
       " 'rfc__min_samples_leaf': 0.0022275055277347616,\n",
       " 'rfc__min_samples_split': 0.039801263866007214}"
      ]
     },
     "metadata": {},
     "output_type": "display_data"
    }
   ],
   "source": [
    "best_params_rf_under"
   ]
  },
  {
   "cell_type": "code",
   "execution_count": null,
   "id": "8fd85a2c",
   "metadata": {},
   "outputs": [
    {
     "data": {
      "text/plain": [
       "{'f1_weighted': 0.2653410159084525,\n",
       " 'f1_micro': 0.2635702429185928,\n",
       " 'f1_macro': 0.19704035152319943,\n",
       " 'roc_auc_weighted': 0.8821096979259455}"
      ]
     },
     "metadata": {},
     "output_type": "display_data"
    }
   ],
   "source": [
    "best_scores_rf_under"
   ]
  },
  {
   "cell_type": "markdown",
   "id": "603a18d3",
   "metadata": {},
   "source": [
    "#### E. Extended number of features (and oversampling)"
   ]
  },
  {
   "cell_type": "code",
   "execution_count": null,
   "id": "1c6f7009",
   "metadata": {},
   "outputs": [
    {
     "name": "stdout",
     "output_type": "stream",
     "text": [
      "Fitting 5 folds for each of 100 candidates, totalling 500 fits\n"
     ]
    },
    {
     "name": "stderr",
     "output_type": "stream",
     "text": [
      "/home/pablo/miniconda3/envs/py312/lib/python3.12/site-packages/joblib/externals/loky/process_executor.py:752: UserWarning: A worker stopped while some jobs were given to the executor. This can be caused by a too short worker timeout or by a memory leak.\n",
      "  warnings.warn(\n"
     ]
    }
   ],
   "source": [
    "df_report_rf_overs_ext, best_params_rf_overs_ext, best_scores_rf_overs_ext = baseline_models(\n",
    "    df = dfv1, numerical_features = numerical_features_ext, categorical_features = categorical_features_all_dummies_ext, \n",
    "    model = RandomForestClassifier, target = 'position_grouped', n_hyper_comb = 100, num_imputer = \"median\",\n",
    "    goalkeeper_label = \"G_GK\", refit_score = 'f1_weighted', resampling_method = 'oversample'\n",
    "    )"
   ]
  },
  {
   "cell_type": "code",
   "execution_count": null,
   "id": "3eb5d9d9",
   "metadata": {},
   "outputs": [
    {
     "data": {
      "text/html": [
       "<div>\n",
       "<style scoped>\n",
       "    .dataframe tbody tr th:only-of-type {\n",
       "        vertical-align: middle;\n",
       "    }\n",
       "\n",
       "    .dataframe tbody tr th {\n",
       "        vertical-align: top;\n",
       "    }\n",
       "\n",
       "    .dataframe thead th {\n",
       "        text-align: right;\n",
       "    }\n",
       "</style>\n",
       "<table border=\"1\" class=\"dataframe\">\n",
       "  <thead>\n",
       "    <tr style=\"text-align: right;\">\n",
       "      <th></th>\n",
       "      <th>A_LF</th>\n",
       "      <th>A_LS</th>\n",
       "      <th>A_LW</th>\n",
       "      <th>A_RF</th>\n",
       "      <th>A_RS</th>\n",
       "      <th>A_RW</th>\n",
       "      <th>A_ST</th>\n",
       "      <th>D_CB</th>\n",
       "      <th>D_LB</th>\n",
       "      <th>D_LCB</th>\n",
       "      <th>...</th>\n",
       "      <th>M_CM</th>\n",
       "      <th>M_LCM</th>\n",
       "      <th>M_LDM</th>\n",
       "      <th>M_LM</th>\n",
       "      <th>M_RCM</th>\n",
       "      <th>M_RDM</th>\n",
       "      <th>M_RM</th>\n",
       "      <th>accuracy</th>\n",
       "      <th>macro avg</th>\n",
       "      <th>weighted avg</th>\n",
       "    </tr>\n",
       "  </thead>\n",
       "  <tbody>\n",
       "    <tr>\n",
       "      <th>precision</th>\n",
       "      <td>0.099206</td>\n",
       "      <td>0.355556</td>\n",
       "      <td>0.240964</td>\n",
       "      <td>0.208333</td>\n",
       "      <td>0.333333</td>\n",
       "      <td>0.220141</td>\n",
       "      <td>0.520863</td>\n",
       "      <td>0.195298</td>\n",
       "      <td>0.588517</td>\n",
       "      <td>0.744755</td>\n",
       "      <td>...</td>\n",
       "      <td>0.109557</td>\n",
       "      <td>0.400000</td>\n",
       "      <td>0.350000</td>\n",
       "      <td>0.722222</td>\n",
       "      <td>0.390071</td>\n",
       "      <td>0.323529</td>\n",
       "      <td>0.535714</td>\n",
       "      <td>0.404786</td>\n",
       "      <td>0.386593</td>\n",
       "      <td>0.509728</td>\n",
       "    </tr>\n",
       "    <tr>\n",
       "      <th>recall</th>\n",
       "      <td>0.781250</td>\n",
       "      <td>0.159204</td>\n",
       "      <td>0.240964</td>\n",
       "      <td>0.781250</td>\n",
       "      <td>0.124378</td>\n",
       "      <td>0.566265</td>\n",
       "      <td>0.845794</td>\n",
       "      <td>0.646707</td>\n",
       "      <td>0.531317</td>\n",
       "      <td>0.337559</td>\n",
       "      <td>...</td>\n",
       "      <td>0.626667</td>\n",
       "      <td>0.009456</td>\n",
       "      <td>0.104478</td>\n",
       "      <td>0.035230</td>\n",
       "      <td>0.130024</td>\n",
       "      <td>0.273632</td>\n",
       "      <td>0.040650</td>\n",
       "      <td>0.404786</td>\n",
       "      <td>0.426483</td>\n",
       "      <td>0.404786</td>\n",
       "    </tr>\n",
       "    <tr>\n",
       "      <th>f1-score</th>\n",
       "      <td>0.176056</td>\n",
       "      <td>0.219931</td>\n",
       "      <td>0.240964</td>\n",
       "      <td>0.328947</td>\n",
       "      <td>0.181159</td>\n",
       "      <td>0.317032</td>\n",
       "      <td>0.644702</td>\n",
       "      <td>0.300000</td>\n",
       "      <td>0.558456</td>\n",
       "      <td>0.464558</td>\n",
       "      <td>...</td>\n",
       "      <td>0.186508</td>\n",
       "      <td>0.018476</td>\n",
       "      <td>0.160920</td>\n",
       "      <td>0.067183</td>\n",
       "      <td>0.195035</td>\n",
       "      <td>0.296496</td>\n",
       "      <td>0.075567</td>\n",
       "      <td>0.404786</td>\n",
       "      <td>0.315293</td>\n",
       "      <td>0.385174</td>\n",
       "    </tr>\n",
       "    <tr>\n",
       "      <th>support</th>\n",
       "      <td>32.000000</td>\n",
       "      <td>201.000000</td>\n",
       "      <td>166.000000</td>\n",
       "      <td>32.000000</td>\n",
       "      <td>201.000000</td>\n",
       "      <td>166.000000</td>\n",
       "      <td>428.000000</td>\n",
       "      <td>167.000000</td>\n",
       "      <td>463.000000</td>\n",
       "      <td>631.000000</td>\n",
       "      <td>...</td>\n",
       "      <td>75.000000</td>\n",
       "      <td>423.000000</td>\n",
       "      <td>201.000000</td>\n",
       "      <td>369.000000</td>\n",
       "      <td>423.000000</td>\n",
       "      <td>201.000000</td>\n",
       "      <td>369.000000</td>\n",
       "      <td>0.404786</td>\n",
       "      <td>6895.000000</td>\n",
       "      <td>6895.000000</td>\n",
       "    </tr>\n",
       "  </tbody>\n",
       "</table>\n",
       "<p>4 rows × 27 columns</p>\n",
       "</div>"
      ],
      "text/plain": [
       "                A_LF        A_LS        A_LW       A_RF        A_RS  \\\n",
       "precision   0.099206    0.355556    0.240964   0.208333    0.333333   \n",
       "recall      0.781250    0.159204    0.240964   0.781250    0.124378   \n",
       "f1-score    0.176056    0.219931    0.240964   0.328947    0.181159   \n",
       "support    32.000000  201.000000  166.000000  32.000000  201.000000   \n",
       "\n",
       "                 A_RW        A_ST        D_CB        D_LB       D_LCB  ...  \\\n",
       "precision    0.220141    0.520863    0.195298    0.588517    0.744755  ...   \n",
       "recall       0.566265    0.845794    0.646707    0.531317    0.337559  ...   \n",
       "f1-score     0.317032    0.644702    0.300000    0.558456    0.464558  ...   \n",
       "support    166.000000  428.000000  167.000000  463.000000  631.000000  ...   \n",
       "\n",
       "                M_CM       M_LCM       M_LDM        M_LM       M_RCM  \\\n",
       "precision   0.109557    0.400000    0.350000    0.722222    0.390071   \n",
       "recall      0.626667    0.009456    0.104478    0.035230    0.130024   \n",
       "f1-score    0.186508    0.018476    0.160920    0.067183    0.195035   \n",
       "support    75.000000  423.000000  201.000000  369.000000  423.000000   \n",
       "\n",
       "                M_RDM        M_RM  accuracy    macro avg  weighted avg  \n",
       "precision    0.323529    0.535714  0.404786     0.386593      0.509728  \n",
       "recall       0.273632    0.040650  0.404786     0.426483      0.404786  \n",
       "f1-score     0.296496    0.075567  0.404786     0.315293      0.385174  \n",
       "support    201.000000  369.000000  0.404786  6895.000000   6895.000000  \n",
       "\n",
       "[4 rows x 27 columns]"
      ]
     },
     "metadata": {},
     "output_type": "display_data"
    }
   ],
   "source": [
    "df_report_rf_overs_ext"
   ]
  },
  {
   "cell_type": "code",
   "execution_count": null,
   "id": "9eff1bd0",
   "metadata": {},
   "outputs": [
    {
     "data": {
      "image/png": "[encoded data removed]",
      "text/plain": [
       "<Figure size 2000x600 with 2 Axes>"
      ]
     },
     "metadata": {},
     "output_type": "display_data"
    }
   ],
   "source": [
    "graph_f1_per_position(df_train = dfv1, df_report = df_report_rf_overs_ext)"
   ]
  },
  {
   "cell_type": "code",
   "execution_count": null,
   "id": "88a27bf0",
   "metadata": {},
   "outputs": [
    {
     "data": {
      "text/plain": [
       "{'rfc__max_depth': 48,\n",
       " 'rfc__max_features': 7,\n",
       " 'rfc__max_leaf_nodes': 3096,\n",
       " 'rfc__min_samples_leaf': 0.0022275055277347616,\n",
       " 'rfc__min_samples_split': 0.039801263866007214}"
      ]
     },
     "metadata": {},
     "output_type": "display_data"
    }
   ],
   "source": [
    "best_params_rf_overs_ext"
   ]
  },
  {
   "cell_type": "code",
   "execution_count": null,
   "id": "613c770d",
   "metadata": {},
   "outputs": [
    {
     "data": {
      "text/plain": [
       "{'f1_weighted': 0.25863165701762825,\n",
       " 'f1_micro': 0.2731472580822002,\n",
       " 'f1_macro': 0.19601820708548168,\n",
       " 'roc_auc_weighted': 0.8937206212368267}"
      ]
     },
     "metadata": {},
     "output_type": "display_data"
    }
   ],
   "source": [
    "best_scores_rf_overs_ext"
   ]
  },
  {
   "cell_type": "markdown",
   "id": "d21ba0f6",
   "metadata": {},
   "source": [
    "#### F. No resampling, finding best F1-micro\n",
    "After trying with logistic regression, it is very clear that the Kaggle competition is taking into account the F1-micro, so we should optimize for that in CV."
   ]
  },
  {
   "cell_type": "code",
   "execution_count": 16,
   "id": "db699c2b",
   "metadata": {},
   "outputs": [
    {
     "name": "stdout",
     "output_type": "stream",
     "text": [
      "Fitting 5 folds for each of 100 candidates, totalling 500 fits\n"
     ]
    },
    {
     "name": "stderr",
     "output_type": "stream",
     "text": [
      "/home/pablo/miniconda3/envs/py312/lib/python3.12/site-packages/joblib/externals/loky/process_executor.py:752: UserWarning: A worker stopped while some jobs were given to the executor. This can be caused by a too short worker timeout or by a memory leak.\n",
      "  warnings.warn(\n"
     ]
    }
   ],
   "source": [
    "df_report_rf_2, best_params_rf_2, best_scores_rf_2 = baseline_models(\n",
    "    df = dfv1, numerical_features = numerical_features, categorical_features = categorical_features_all_dummies, \n",
    "    model = RandomForestClassifier, target = 'position_grouped', n_hyper_comb = 100, num_imputer = \"median\",\n",
    "    goalkeeper_label = \"G_GK\", refit_score = 'f1_micro', resampling_method = 'none'\n",
    "    )"
   ]
  },
  {
   "cell_type": "code",
   "execution_count": 17,
   "id": "eb037895",
   "metadata": {},
   "outputs": [
    {
     "data": {
      "text/html": [
       "<div>\n",
       "<style scoped>\n",
       "    .dataframe tbody tr th:only-of-type {\n",
       "        vertical-align: middle;\n",
       "    }\n",
       "\n",
       "    .dataframe tbody tr th {\n",
       "        vertical-align: top;\n",
       "    }\n",
       "\n",
       "    .dataframe thead th {\n",
       "        text-align: right;\n",
       "    }\n",
       "</style>\n",
       "<table border=\"1\" class=\"dataframe\">\n",
       "  <thead>\n",
       "    <tr style=\"text-align: right;\">\n",
       "      <th></th>\n",
       "      <th>A_LF</th>\n",
       "      <th>A_LS</th>\n",
       "      <th>A_LW</th>\n",
       "      <th>A_RF</th>\n",
       "      <th>A_RS</th>\n",
       "      <th>A_RW</th>\n",
       "      <th>A_ST</th>\n",
       "      <th>D_CB</th>\n",
       "      <th>D_LB</th>\n",
       "      <th>D_LCB</th>\n",
       "      <th>...</th>\n",
       "      <th>M_CM</th>\n",
       "      <th>M_LCM</th>\n",
       "      <th>M_LDM</th>\n",
       "      <th>M_LM</th>\n",
       "      <th>M_RCM</th>\n",
       "      <th>M_RDM</th>\n",
       "      <th>M_RM</th>\n",
       "      <th>accuracy</th>\n",
       "      <th>macro avg</th>\n",
       "      <th>weighted avg</th>\n",
       "    </tr>\n",
       "  </thead>\n",
       "  <tbody>\n",
       "    <tr>\n",
       "      <th>precision</th>\n",
       "      <td>0.0</td>\n",
       "      <td>1.000000</td>\n",
       "      <td>0.833333</td>\n",
       "      <td>0.0</td>\n",
       "      <td>1.000000</td>\n",
       "      <td>1.000000</td>\n",
       "      <td>0.463303</td>\n",
       "      <td>0.0</td>\n",
       "      <td>0.575444</td>\n",
       "      <td>0.705584</td>\n",
       "      <td>...</td>\n",
       "      <td>0.0</td>\n",
       "      <td>0.473469</td>\n",
       "      <td>0.909091</td>\n",
       "      <td>0.455172</td>\n",
       "      <td>0.381872</td>\n",
       "      <td>0.649123</td>\n",
       "      <td>0.403738</td>\n",
       "      <td>0.542132</td>\n",
       "      <td>0.506436</td>\n",
       "      <td>0.586190</td>\n",
       "    </tr>\n",
       "    <tr>\n",
       "      <th>recall</th>\n",
       "      <td>0.0</td>\n",
       "      <td>0.044776</td>\n",
       "      <td>0.030120</td>\n",
       "      <td>0.0</td>\n",
       "      <td>0.004975</td>\n",
       "      <td>0.048193</td>\n",
       "      <td>0.943925</td>\n",
       "      <td>0.0</td>\n",
       "      <td>0.840173</td>\n",
       "      <td>0.440571</td>\n",
       "      <td>...</td>\n",
       "      <td>0.0</td>\n",
       "      <td>0.548463</td>\n",
       "      <td>0.049751</td>\n",
       "      <td>0.536585</td>\n",
       "      <td>0.607565</td>\n",
       "      <td>0.184080</td>\n",
       "      <td>0.585366</td>\n",
       "      <td>0.542132</td>\n",
       "      <td>0.334519</td>\n",
       "      <td>0.542132</td>\n",
       "    </tr>\n",
       "    <tr>\n",
       "      <th>f1-score</th>\n",
       "      <td>0.0</td>\n",
       "      <td>0.085714</td>\n",
       "      <td>0.058140</td>\n",
       "      <td>0.0</td>\n",
       "      <td>0.009901</td>\n",
       "      <td>0.091954</td>\n",
       "      <td>0.621538</td>\n",
       "      <td>0.0</td>\n",
       "      <td>0.683055</td>\n",
       "      <td>0.542439</td>\n",
       "      <td>...</td>\n",
       "      <td>0.0</td>\n",
       "      <td>0.508215</td>\n",
       "      <td>0.094340</td>\n",
       "      <td>0.492537</td>\n",
       "      <td>0.468978</td>\n",
       "      <td>0.286822</td>\n",
       "      <td>0.477876</td>\n",
       "      <td>0.542132</td>\n",
       "      <td>0.300620</td>\n",
       "      <td>0.474648</td>\n",
       "    </tr>\n",
       "    <tr>\n",
       "      <th>support</th>\n",
       "      <td>32.0</td>\n",
       "      <td>201.000000</td>\n",
       "      <td>166.000000</td>\n",
       "      <td>32.0</td>\n",
       "      <td>201.000000</td>\n",
       "      <td>166.000000</td>\n",
       "      <td>428.000000</td>\n",
       "      <td>167.0</td>\n",
       "      <td>463.000000</td>\n",
       "      <td>631.000000</td>\n",
       "      <td>...</td>\n",
       "      <td>75.0</td>\n",
       "      <td>423.000000</td>\n",
       "      <td>201.000000</td>\n",
       "      <td>369.000000</td>\n",
       "      <td>423.000000</td>\n",
       "      <td>201.000000</td>\n",
       "      <td>369.000000</td>\n",
       "      <td>0.542132</td>\n",
       "      <td>6895.000000</td>\n",
       "      <td>6895.000000</td>\n",
       "    </tr>\n",
       "  </tbody>\n",
       "</table>\n",
       "<p>4 rows × 27 columns</p>\n",
       "</div>"
      ],
      "text/plain": [
       "           A_LF        A_LS        A_LW  A_RF        A_RS        A_RW  \\\n",
       "precision   0.0    1.000000    0.833333   0.0    1.000000    1.000000   \n",
       "recall      0.0    0.044776    0.030120   0.0    0.004975    0.048193   \n",
       "f1-score    0.0    0.085714    0.058140   0.0    0.009901    0.091954   \n",
       "support    32.0  201.000000  166.000000  32.0  201.000000  166.000000   \n",
       "\n",
       "                 A_ST   D_CB        D_LB       D_LCB  ...  M_CM       M_LCM  \\\n",
       "precision    0.463303    0.0    0.575444    0.705584  ...   0.0    0.473469   \n",
       "recall       0.943925    0.0    0.840173    0.440571  ...   0.0    0.548463   \n",
       "f1-score     0.621538    0.0    0.683055    0.542439  ...   0.0    0.508215   \n",
       "support    428.000000  167.0  463.000000  631.000000  ...  75.0  423.000000   \n",
       "\n",
       "                M_LDM        M_LM       M_RCM       M_RDM        M_RM  \\\n",
       "precision    0.909091    0.455172    0.381872    0.649123    0.403738   \n",
       "recall       0.049751    0.536585    0.607565    0.184080    0.585366   \n",
       "f1-score     0.094340    0.492537    0.468978    0.286822    0.477876   \n",
       "support    201.000000  369.000000  423.000000  201.000000  369.000000   \n",
       "\n",
       "           accuracy    macro avg  weighted avg  \n",
       "precision  0.542132     0.506436      0.586190  \n",
       "recall     0.542132     0.334519      0.542132  \n",
       "f1-score   0.542132     0.300620      0.474648  \n",
       "support    0.542132  6895.000000   6895.000000  \n",
       "\n",
       "[4 rows x 27 columns]"
      ]
     },
     "execution_count": 17,
     "metadata": {},
     "output_type": "execute_result"
    }
   ],
   "source": [
    "df_report_rf_2"
   ]
  },
  {
   "cell_type": "code",
   "execution_count": 18,
   "id": "0d8060f7",
   "metadata": {},
   "outputs": [
    {
     "data": {
      "image/png": "[encoded data removed]",
      "text/plain": [
       "<Figure size 2000x600 with 2 Axes>"
      ]
     },
     "metadata": {},
     "output_type": "display_data"
    }
   ],
   "source": [
    "graph_f1_per_position(df_train = dfv1, df_report = df_report_rf_2)"
   ]
  },
  {
   "cell_type": "code",
   "execution_count": 19,
   "id": "37fcc963",
   "metadata": {},
   "outputs": [
    {
     "data": {
      "text/plain": [
       "{'rfc__max_depth': 148,\n",
       " 'rfc__max_features': 24,\n",
       " 'rfc__max_leaf_nodes': 1244,\n",
       " 'rfc__min_samples_leaf': 0.0013015285199047416,\n",
       " 'rfc__min_samples_split': 0.010912693744184222}"
      ]
     },
     "execution_count": 19,
     "metadata": {},
     "output_type": "execute_result"
    }
   ],
   "source": [
    "best_params_rf_2"
   ]
  },
  {
   "cell_type": "code",
   "execution_count": 20,
   "id": "0e06b54d",
   "metadata": {},
   "outputs": [
    {
     "data": {
      "text/plain": [
       "{'f1_weighted': 0.32056576086984634,\n",
       " 'f1_micro': 0.39495421850179374,\n",
       " 'f1_macro': 0.1865762572317392,\n",
       " 'roc_auc_weighted': 0.9008594105497577}"
      ]
     },
     "execution_count": 20,
     "metadata": {},
     "output_type": "execute_result"
    }
   ],
   "source": [
    "best_scores_rf_2"
   ]
  },
  {
   "cell_type": "markdown",
   "id": "10d0e129",
   "metadata": {},
   "source": [
    "Same results as with weighted F1-score!"
   ]
  },
  {
   "cell_type": "markdown",
   "id": "37bc8187",
   "metadata": {},
   "source": [
    "#### G. Oversampling, finding best F1-micro"
   ]
  },
  {
   "cell_type": "code",
   "execution_count": 25,
   "id": "1ed8b6ac",
   "metadata": {},
   "outputs": [
    {
     "name": "stdout",
     "output_type": "stream",
     "text": [
      "Fitting 5 folds for each of 100 candidates, totalling 500 fits\n"
     ]
    },
    {
     "name": "stderr",
     "output_type": "stream",
     "text": [
      "/home/pablo/miniconda3/envs/py312/lib/python3.12/site-packages/joblib/externals/loky/process_executor.py:752: UserWarning: A worker stopped while some jobs were given to the executor. This can be caused by a too short worker timeout or by a memory leak.\n",
      "  warnings.warn(\n"
     ]
    }
   ],
   "source": [
    "df_report_rf_overs2, best_params_rf_overs2, best_scores_rf_overs2 = baseline_models(\n",
    "    df = dfv1, numerical_features = numerical_features, categorical_features = categorical_features_all_dummies, \n",
    "    model = RandomForestClassifier, target = 'position_grouped', n_hyper_comb = 100, num_imputer = \"median\",\n",
    "    goalkeeper_label = \"G_GK\", refit_score = 'f1_micro', resampling_method = 'oversample'\n",
    "    )"
   ]
  },
  {
   "cell_type": "code",
   "execution_count": 26,
   "id": "7a92354e",
   "metadata": {},
   "outputs": [
    {
     "data": {
      "text/html": [
       "<div>\n",
       "<style scoped>\n",
       "    .dataframe tbody tr th:only-of-type {\n",
       "        vertical-align: middle;\n",
       "    }\n",
       "\n",
       "    .dataframe tbody tr th {\n",
       "        vertical-align: top;\n",
       "    }\n",
       "\n",
       "    .dataframe thead th {\n",
       "        text-align: right;\n",
       "    }\n",
       "</style>\n",
       "<table border=\"1\" class=\"dataframe\">\n",
       "  <thead>\n",
       "    <tr style=\"text-align: right;\">\n",
       "      <th></th>\n",
       "      <th>A_LF</th>\n",
       "      <th>A_LS</th>\n",
       "      <th>A_LW</th>\n",
       "      <th>A_RF</th>\n",
       "      <th>A_RS</th>\n",
       "      <th>A_RW</th>\n",
       "      <th>A_ST</th>\n",
       "      <th>D_CB</th>\n",
       "      <th>D_LB</th>\n",
       "      <th>D_LCB</th>\n",
       "      <th>...</th>\n",
       "      <th>M_CM</th>\n",
       "      <th>M_LCM</th>\n",
       "      <th>M_LDM</th>\n",
       "      <th>M_LM</th>\n",
       "      <th>M_RCM</th>\n",
       "      <th>M_RDM</th>\n",
       "      <th>M_RM</th>\n",
       "      <th>accuracy</th>\n",
       "      <th>macro avg</th>\n",
       "      <th>weighted avg</th>\n",
       "    </tr>\n",
       "  </thead>\n",
       "  <tbody>\n",
       "    <tr>\n",
       "      <th>precision</th>\n",
       "      <td>0.193939</td>\n",
       "      <td>0.578035</td>\n",
       "      <td>0.426471</td>\n",
       "      <td>0.227941</td>\n",
       "      <td>0.479167</td>\n",
       "      <td>0.338558</td>\n",
       "      <td>0.704194</td>\n",
       "      <td>0.298077</td>\n",
       "      <td>0.673640</td>\n",
       "      <td>0.741100</td>\n",
       "      <td>...</td>\n",
       "      <td>0.215139</td>\n",
       "      <td>0.666667</td>\n",
       "      <td>0.482051</td>\n",
       "      <td>0.705882</td>\n",
       "      <td>0.458128</td>\n",
       "      <td>0.401408</td>\n",
       "      <td>0.609023</td>\n",
       "      <td>0.524873</td>\n",
       "      <td>0.484074</td>\n",
       "      <td>0.595244</td>\n",
       "    </tr>\n",
       "    <tr>\n",
       "      <th>recall</th>\n",
       "      <td>1.000000</td>\n",
       "      <td>0.497512</td>\n",
       "      <td>0.524096</td>\n",
       "      <td>0.968750</td>\n",
       "      <td>0.457711</td>\n",
       "      <td>0.650602</td>\n",
       "      <td>0.745327</td>\n",
       "      <td>0.556886</td>\n",
       "      <td>0.695464</td>\n",
       "      <td>0.362916</td>\n",
       "      <td>...</td>\n",
       "      <td>0.720000</td>\n",
       "      <td>0.052009</td>\n",
       "      <td>0.467662</td>\n",
       "      <td>0.162602</td>\n",
       "      <td>0.219858</td>\n",
       "      <td>0.567164</td>\n",
       "      <td>0.219512</td>\n",
       "      <td>0.524873</td>\n",
       "      <td>0.569125</td>\n",
       "      <td>0.524873</td>\n",
       "    </tr>\n",
       "    <tr>\n",
       "      <th>f1-score</th>\n",
       "      <td>0.324873</td>\n",
       "      <td>0.534759</td>\n",
       "      <td>0.470270</td>\n",
       "      <td>0.369048</td>\n",
       "      <td>0.468193</td>\n",
       "      <td>0.445361</td>\n",
       "      <td>0.724177</td>\n",
       "      <td>0.388309</td>\n",
       "      <td>0.684378</td>\n",
       "      <td>0.487234</td>\n",
       "      <td>...</td>\n",
       "      <td>0.331288</td>\n",
       "      <td>0.096491</td>\n",
       "      <td>0.474747</td>\n",
       "      <td>0.264317</td>\n",
       "      <td>0.297125</td>\n",
       "      <td>0.470103</td>\n",
       "      <td>0.322709</td>\n",
       "      <td>0.524873</td>\n",
       "      <td>0.458664</td>\n",
       "      <td>0.510429</td>\n",
       "    </tr>\n",
       "    <tr>\n",
       "      <th>support</th>\n",
       "      <td>32.000000</td>\n",
       "      <td>201.000000</td>\n",
       "      <td>166.000000</td>\n",
       "      <td>32.000000</td>\n",
       "      <td>201.000000</td>\n",
       "      <td>166.000000</td>\n",
       "      <td>428.000000</td>\n",
       "      <td>167.000000</td>\n",
       "      <td>463.000000</td>\n",
       "      <td>631.000000</td>\n",
       "      <td>...</td>\n",
       "      <td>75.000000</td>\n",
       "      <td>423.000000</td>\n",
       "      <td>201.000000</td>\n",
       "      <td>369.000000</td>\n",
       "      <td>423.000000</td>\n",
       "      <td>201.000000</td>\n",
       "      <td>369.000000</td>\n",
       "      <td>0.524873</td>\n",
       "      <td>6895.000000</td>\n",
       "      <td>6895.000000</td>\n",
       "    </tr>\n",
       "  </tbody>\n",
       "</table>\n",
       "<p>4 rows × 27 columns</p>\n",
       "</div>"
      ],
      "text/plain": [
       "                A_LF        A_LS        A_LW       A_RF        A_RS  \\\n",
       "precision   0.193939    0.578035    0.426471   0.227941    0.479167   \n",
       "recall      1.000000    0.497512    0.524096   0.968750    0.457711   \n",
       "f1-score    0.324873    0.534759    0.470270   0.369048    0.468193   \n",
       "support    32.000000  201.000000  166.000000  32.000000  201.000000   \n",
       "\n",
       "                 A_RW        A_ST        D_CB        D_LB       D_LCB  ...  \\\n",
       "precision    0.338558    0.704194    0.298077    0.673640    0.741100  ...   \n",
       "recall       0.650602    0.745327    0.556886    0.695464    0.362916  ...   \n",
       "f1-score     0.445361    0.724177    0.388309    0.684378    0.487234  ...   \n",
       "support    166.000000  428.000000  167.000000  463.000000  631.000000  ...   \n",
       "\n",
       "                M_CM       M_LCM       M_LDM        M_LM       M_RCM  \\\n",
       "precision   0.215139    0.666667    0.482051    0.705882    0.458128   \n",
       "recall      0.720000    0.052009    0.467662    0.162602    0.219858   \n",
       "f1-score    0.331288    0.096491    0.474747    0.264317    0.297125   \n",
       "support    75.000000  423.000000  201.000000  369.000000  423.000000   \n",
       "\n",
       "                M_RDM        M_RM  accuracy    macro avg  weighted avg  \n",
       "precision    0.401408    0.609023  0.524873     0.484074      0.595244  \n",
       "recall       0.567164    0.219512  0.524873     0.569125      0.524873  \n",
       "f1-score     0.470103    0.322709  0.524873     0.458664      0.510429  \n",
       "support    201.000000  369.000000  0.524873  6895.000000   6895.000000  \n",
       "\n",
       "[4 rows x 27 columns]"
      ]
     },
     "execution_count": 26,
     "metadata": {},
     "output_type": "execute_result"
    }
   ],
   "source": [
    "df_report_rf_overs2"
   ]
  },
  {
   "cell_type": "code",
   "execution_count": 27,
   "id": "f6eef554",
   "metadata": {},
   "outputs": [
    {
     "data": {
      "text/plain": [
       "{'rfc__max_depth': 148,\n",
       " 'rfc__max_features': 24,\n",
       " 'rfc__max_leaf_nodes': 1244,\n",
       " 'rfc__min_samples_leaf': 0.0013015285199047416,\n",
       " 'rfc__min_samples_split': 0.010912693744184222}"
      ]
     },
     "execution_count": 27,
     "metadata": {},
     "output_type": "execute_result"
    }
   ],
   "source": [
    "best_params_rf_overs2"
   ]
  },
  {
   "cell_type": "code",
   "execution_count": 28,
   "id": "1f6b8725",
   "metadata": {},
   "outputs": [
    {
     "data": {
      "text/plain": [
       "{'f1_weighted': 0.2935298001147337,\n",
       " 'f1_micro': 0.2967771916091476,\n",
       " 'f1_macro': 0.22146317787795816,\n",
       " 'roc_auc_weighted': 0.894212860757459}"
      ]
     },
     "execution_count": 28,
     "metadata": {},
     "output_type": "execute_result"
    }
   ],
   "source": [
    "best_scores_rf_overs2"
   ]
  },
  {
   "cell_type": "markdown",
   "id": "904b0f2a",
   "metadata": {},
   "source": [
    "#### H. Undersampling, finding best F1-micro"
   ]
  },
  {
   "cell_type": "code",
   "execution_count": 29,
   "id": "cb2023ae",
   "metadata": {},
   "outputs": [
    {
     "name": "stdout",
     "output_type": "stream",
     "text": [
      "Fitting 5 folds for each of 100 candidates, totalling 500 fits\n"
     ]
    },
    {
     "name": "stderr",
     "output_type": "stream",
     "text": [
      "/home/pablo/miniconda3/envs/py312/lib/python3.12/site-packages/joblib/externals/loky/process_executor.py:752: UserWarning: A worker stopped while some jobs were given to the executor. This can be caused by a too short worker timeout or by a memory leak.\n",
      "  warnings.warn(\n"
     ]
    }
   ],
   "source": [
    "df_report_rf_under2, best_params_rf_under2, best_scores_rf_under2 = baseline_models(\n",
    "    df = dfv1, numerical_features = numerical_features, categorical_features = categorical_features_all_dummies, \n",
    "    model = RandomForestClassifier, target = 'position_grouped', n_hyper_comb = 100, num_imputer = \"median\",\n",
    "    goalkeeper_label = \"G_GK\", refit_score = 'f1_micro', resampling_method = 'undersample'\n",
    "    )"
   ]
  },
  {
   "cell_type": "code",
   "execution_count": 30,
   "id": "99a771c9",
   "metadata": {},
   "outputs": [
    {
     "data": {
      "text/html": [
       "<div>\n",
       "<style scoped>\n",
       "    .dataframe tbody tr th:only-of-type {\n",
       "        vertical-align: middle;\n",
       "    }\n",
       "\n",
       "    .dataframe tbody tr th {\n",
       "        vertical-align: top;\n",
       "    }\n",
       "\n",
       "    .dataframe thead th {\n",
       "        text-align: right;\n",
       "    }\n",
       "</style>\n",
       "<table border=\"1\" class=\"dataframe\">\n",
       "  <thead>\n",
       "    <tr style=\"text-align: right;\">\n",
       "      <th></th>\n",
       "      <th>A_LF</th>\n",
       "      <th>A_LS</th>\n",
       "      <th>A_LW</th>\n",
       "      <th>A_RF</th>\n",
       "      <th>A_RS</th>\n",
       "      <th>A_RW</th>\n",
       "      <th>A_ST</th>\n",
       "      <th>D_CB</th>\n",
       "      <th>D_LB</th>\n",
       "      <th>D_LCB</th>\n",
       "      <th>...</th>\n",
       "      <th>M_CM</th>\n",
       "      <th>M_LCM</th>\n",
       "      <th>M_LDM</th>\n",
       "      <th>M_LM</th>\n",
       "      <th>M_RCM</th>\n",
       "      <th>M_RDM</th>\n",
       "      <th>M_RM</th>\n",
       "      <th>accuracy</th>\n",
       "      <th>macro avg</th>\n",
       "      <th>weighted avg</th>\n",
       "    </tr>\n",
       "  </thead>\n",
       "  <tbody>\n",
       "    <tr>\n",
       "      <th>precision</th>\n",
       "      <td>0.038462</td>\n",
       "      <td>0.083333</td>\n",
       "      <td>0.0</td>\n",
       "      <td>0.0</td>\n",
       "      <td>0.095238</td>\n",
       "      <td>0.111607</td>\n",
       "      <td>0.394033</td>\n",
       "      <td>0.111392</td>\n",
       "      <td>0.423820</td>\n",
       "      <td>0.788945</td>\n",
       "      <td>...</td>\n",
       "      <td>0.101449</td>\n",
       "      <td>0.304348</td>\n",
       "      <td>0.0</td>\n",
       "      <td>1.000000</td>\n",
       "      <td>0.200000</td>\n",
       "      <td>0.500000</td>\n",
       "      <td>0.0</td>\n",
       "      <td>0.316896</td>\n",
       "      <td>0.272107</td>\n",
       "      <td>0.402436</td>\n",
       "    </tr>\n",
       "    <tr>\n",
       "      <th>recall</th>\n",
       "      <td>0.187500</td>\n",
       "      <td>0.004975</td>\n",
       "      <td>0.0</td>\n",
       "      <td>0.0</td>\n",
       "      <td>0.009950</td>\n",
       "      <td>0.602410</td>\n",
       "      <td>0.894860</td>\n",
       "      <td>0.790419</td>\n",
       "      <td>0.853132</td>\n",
       "      <td>0.248811</td>\n",
       "      <td>...</td>\n",
       "      <td>0.093333</td>\n",
       "      <td>0.033097</td>\n",
       "      <td>0.0</td>\n",
       "      <td>0.002710</td>\n",
       "      <td>0.002364</td>\n",
       "      <td>0.004975</td>\n",
       "      <td>0.0</td>\n",
       "      <td>0.316896</td>\n",
       "      <td>0.252190</td>\n",
       "      <td>0.316896</td>\n",
       "    </tr>\n",
       "    <tr>\n",
       "      <th>f1-score</th>\n",
       "      <td>0.063830</td>\n",
       "      <td>0.009390</td>\n",
       "      <td>0.0</td>\n",
       "      <td>0.0</td>\n",
       "      <td>0.018018</td>\n",
       "      <td>0.188324</td>\n",
       "      <td>0.547143</td>\n",
       "      <td>0.195266</td>\n",
       "      <td>0.566308</td>\n",
       "      <td>0.378313</td>\n",
       "      <td>...</td>\n",
       "      <td>0.097222</td>\n",
       "      <td>0.059701</td>\n",
       "      <td>0.0</td>\n",
       "      <td>0.005405</td>\n",
       "      <td>0.004673</td>\n",
       "      <td>0.009852</td>\n",
       "      <td>0.0</td>\n",
       "      <td>0.316896</td>\n",
       "      <td>0.167962</td>\n",
       "      <td>0.257828</td>\n",
       "    </tr>\n",
       "    <tr>\n",
       "      <th>support</th>\n",
       "      <td>32.000000</td>\n",
       "      <td>201.000000</td>\n",
       "      <td>166.0</td>\n",
       "      <td>32.0</td>\n",
       "      <td>201.000000</td>\n",
       "      <td>166.000000</td>\n",
       "      <td>428.000000</td>\n",
       "      <td>167.000000</td>\n",
       "      <td>463.000000</td>\n",
       "      <td>631.000000</td>\n",
       "      <td>...</td>\n",
       "      <td>75.000000</td>\n",
       "      <td>423.000000</td>\n",
       "      <td>201.0</td>\n",
       "      <td>369.000000</td>\n",
       "      <td>423.000000</td>\n",
       "      <td>201.000000</td>\n",
       "      <td>369.0</td>\n",
       "      <td>0.316896</td>\n",
       "      <td>6895.000000</td>\n",
       "      <td>6895.000000</td>\n",
       "    </tr>\n",
       "  </tbody>\n",
       "</table>\n",
       "<p>4 rows × 27 columns</p>\n",
       "</div>"
      ],
      "text/plain": [
       "                A_LF        A_LS   A_LW  A_RF        A_RS        A_RW  \\\n",
       "precision   0.038462    0.083333    0.0   0.0    0.095238    0.111607   \n",
       "recall      0.187500    0.004975    0.0   0.0    0.009950    0.602410   \n",
       "f1-score    0.063830    0.009390    0.0   0.0    0.018018    0.188324   \n",
       "support    32.000000  201.000000  166.0  32.0  201.000000  166.000000   \n",
       "\n",
       "                 A_ST        D_CB        D_LB       D_LCB  ...       M_CM  \\\n",
       "precision    0.394033    0.111392    0.423820    0.788945  ...   0.101449   \n",
       "recall       0.894860    0.790419    0.853132    0.248811  ...   0.093333   \n",
       "f1-score     0.547143    0.195266    0.566308    0.378313  ...   0.097222   \n",
       "support    428.000000  167.000000  463.000000  631.000000  ...  75.000000   \n",
       "\n",
       "                M_LCM  M_LDM        M_LM       M_RCM       M_RDM   M_RM  \\\n",
       "precision    0.304348    0.0    1.000000    0.200000    0.500000    0.0   \n",
       "recall       0.033097    0.0    0.002710    0.002364    0.004975    0.0   \n",
       "f1-score     0.059701    0.0    0.005405    0.004673    0.009852    0.0   \n",
       "support    423.000000  201.0  369.000000  423.000000  201.000000  369.0   \n",
       "\n",
       "           accuracy    macro avg  weighted avg  \n",
       "precision  0.316896     0.272107      0.402436  \n",
       "recall     0.316896     0.252190      0.316896  \n",
       "f1-score   0.316896     0.167962      0.257828  \n",
       "support    0.316896  6895.000000   6895.000000  \n",
       "\n",
       "[4 rows x 27 columns]"
      ]
     },
     "execution_count": 30,
     "metadata": {},
     "output_type": "execute_result"
    }
   ],
   "source": [
    "df_report_rf_under2"
   ]
  },
  {
   "cell_type": "code",
   "execution_count": 31,
   "id": "1678c26c",
   "metadata": {},
   "outputs": [
    {
     "data": {
      "text/plain": [
       "{'rfc__max_depth': 226,\n",
       " 'rfc__max_features': 16,\n",
       " 'rfc__max_leaf_nodes': 2933,\n",
       " 'rfc__min_samples_leaf': 0.09285448044329168,\n",
       " 'rfc__min_samples_split': 0.13272728160242153}"
      ]
     },
     "execution_count": 31,
     "metadata": {},
     "output_type": "execute_result"
    }
   ],
   "source": [
    "best_params_rf_under2"
   ]
  },
  {
   "cell_type": "code",
   "execution_count": 32,
   "id": "a7d03a23",
   "metadata": {},
   "outputs": [
    {
     "data": {
      "text/plain": [
       "{'f1_weighted': 0.22070148912719872,\n",
       " 'f1_micro': 0.2733082773866682,\n",
       " 'f1_macro': 0.14618122224801072,\n",
       " 'roc_auc_weighted': 0.8668802539865439}"
      ]
     },
     "execution_count": 32,
     "metadata": {},
     "output_type": "execute_result"
    }
   ],
   "source": [
    "best_scores_rf_under2"
   ]
  },
  {
   "cell_type": "markdown",
   "id": "bb60bcbb",
   "metadata": {},
   "source": [
    "### GradientBoostingClassifier"
   ]
  },
  {
   "cell_type": "markdown",
   "id": "b782f0d2",
   "metadata": {},
   "source": [
    "#### A. No resampling, finding best F1-micro"
   ]
  },
  {
   "cell_type": "code",
   "execution_count": null,
   "id": "4c4eb5c4",
   "metadata": {},
   "outputs": [
    {
     "name": "stdout",
     "output_type": "stream",
     "text": [
      "Fitting 5 folds for each of 50 candidates, totalling 250 fits\n"
     ]
    }
   ],
   "source": [
    "df_report_gb, best_params_gb, best_scores_gb = baseline_models(\n",
    "    df = dfv1, numerical_features = numerical_features, categorical_features = categorical_features_all_dummies, \n",
    "    target = 'position_grouped', model = GradientBoostingClassifier, ada_boost = False, n_hyper_comb = 50, num_imputer = \"median\",\n",
    "    goalkeeper_label = \"G_GK\", refit_score = 'f1_micro', resampling_method = 'none'\n",
    "    )"
   ]
  },
  {
   "cell_type": "markdown",
   "id": "9b215882",
   "metadata": {},
   "source": [
    "With 50 hyperparameter combinations (5 folds for each of 50 candidates, totalling 250 fits), it has ran for 10 minutes approximately."
   ]
  },
  {
   "cell_type": "code",
   "execution_count": 25,
   "id": "e3b6aa11",
   "metadata": {},
   "outputs": [
    {
     "data": {
      "text/html": [
       "<div>\n",
       "<style scoped>\n",
       "    .dataframe tbody tr th:only-of-type {\n",
       "        vertical-align: middle;\n",
       "    }\n",
       "\n",
       "    .dataframe tbody tr th {\n",
       "        vertical-align: top;\n",
       "    }\n",
       "\n",
       "    .dataframe thead th {\n",
       "        text-align: right;\n",
       "    }\n",
       "</style>\n",
       "<table border=\"1\" class=\"dataframe\">\n",
       "  <thead>\n",
       "    <tr style=\"text-align: right;\">\n",
       "      <th></th>\n",
       "      <th>A_LF</th>\n",
       "      <th>A_LS</th>\n",
       "      <th>A_LW</th>\n",
       "      <th>A_RF</th>\n",
       "      <th>A_RS</th>\n",
       "      <th>A_RW</th>\n",
       "      <th>A_ST</th>\n",
       "      <th>D_CB</th>\n",
       "      <th>D_LB</th>\n",
       "      <th>D_LCB</th>\n",
       "      <th>...</th>\n",
       "      <th>M_CM</th>\n",
       "      <th>M_LCM</th>\n",
       "      <th>M_LDM</th>\n",
       "      <th>M_LM</th>\n",
       "      <th>M_RCM</th>\n",
       "      <th>M_RDM</th>\n",
       "      <th>M_RM</th>\n",
       "      <th>accuracy</th>\n",
       "      <th>macro avg</th>\n",
       "      <th>weighted avg</th>\n",
       "    </tr>\n",
       "  </thead>\n",
       "  <tbody>\n",
       "    <tr>\n",
       "      <th>precision</th>\n",
       "      <td>1.000000</td>\n",
       "      <td>0.291667</td>\n",
       "      <td>0.375000</td>\n",
       "      <td>0.0</td>\n",
       "      <td>0.441860</td>\n",
       "      <td>0.484848</td>\n",
       "      <td>0.492443</td>\n",
       "      <td>0.400000</td>\n",
       "      <td>0.606688</td>\n",
       "      <td>0.646421</td>\n",
       "      <td>...</td>\n",
       "      <td>0.0</td>\n",
       "      <td>0.344891</td>\n",
       "      <td>0.481481</td>\n",
       "      <td>0.320988</td>\n",
       "      <td>0.328070</td>\n",
       "      <td>0.380000</td>\n",
       "      <td>0.354756</td>\n",
       "      <td>0.515591</td>\n",
       "      <td>0.461638</td>\n",
       "      <td>0.507670</td>\n",
       "    </tr>\n",
       "    <tr>\n",
       "      <th>recall</th>\n",
       "      <td>0.031250</td>\n",
       "      <td>0.034826</td>\n",
       "      <td>0.036145</td>\n",
       "      <td>0.0</td>\n",
       "      <td>0.094527</td>\n",
       "      <td>0.096386</td>\n",
       "      <td>0.913551</td>\n",
       "      <td>0.011976</td>\n",
       "      <td>0.822894</td>\n",
       "      <td>0.472266</td>\n",
       "      <td>...</td>\n",
       "      <td>0.0</td>\n",
       "      <td>0.446809</td>\n",
       "      <td>0.194030</td>\n",
       "      <td>0.422764</td>\n",
       "      <td>0.442080</td>\n",
       "      <td>0.189055</td>\n",
       "      <td>0.373984</td>\n",
       "      <td>0.515591</td>\n",
       "      <td>0.328565</td>\n",
       "      <td>0.515591</td>\n",
       "    </tr>\n",
       "    <tr>\n",
       "      <th>f1-score</th>\n",
       "      <td>0.060606</td>\n",
       "      <td>0.062222</td>\n",
       "      <td>0.065934</td>\n",
       "      <td>0.0</td>\n",
       "      <td>0.155738</td>\n",
       "      <td>0.160804</td>\n",
       "      <td>0.639935</td>\n",
       "      <td>0.023256</td>\n",
       "      <td>0.698442</td>\n",
       "      <td>0.545788</td>\n",
       "      <td>...</td>\n",
       "      <td>0.0</td>\n",
       "      <td>0.389289</td>\n",
       "      <td>0.276596</td>\n",
       "      <td>0.364912</td>\n",
       "      <td>0.376636</td>\n",
       "      <td>0.252492</td>\n",
       "      <td>0.364116</td>\n",
       "      <td>0.515591</td>\n",
       "      <td>0.312093</td>\n",
       "      <td>0.466777</td>\n",
       "    </tr>\n",
       "    <tr>\n",
       "      <th>support</th>\n",
       "      <td>32.000000</td>\n",
       "      <td>201.000000</td>\n",
       "      <td>166.000000</td>\n",
       "      <td>32.0</td>\n",
       "      <td>201.000000</td>\n",
       "      <td>166.000000</td>\n",
       "      <td>428.000000</td>\n",
       "      <td>167.000000</td>\n",
       "      <td>463.000000</td>\n",
       "      <td>631.000000</td>\n",
       "      <td>...</td>\n",
       "      <td>75.0</td>\n",
       "      <td>423.000000</td>\n",
       "      <td>201.000000</td>\n",
       "      <td>369.000000</td>\n",
       "      <td>423.000000</td>\n",
       "      <td>201.000000</td>\n",
       "      <td>369.000000</td>\n",
       "      <td>0.515591</td>\n",
       "      <td>6895.000000</td>\n",
       "      <td>6895.000000</td>\n",
       "    </tr>\n",
       "  </tbody>\n",
       "</table>\n",
       "<p>4 rows × 27 columns</p>\n",
       "</div>"
      ],
      "text/plain": [
       "                A_LF        A_LS        A_LW  A_RF        A_RS        A_RW  \\\n",
       "precision   1.000000    0.291667    0.375000   0.0    0.441860    0.484848   \n",
       "recall      0.031250    0.034826    0.036145   0.0    0.094527    0.096386   \n",
       "f1-score    0.060606    0.062222    0.065934   0.0    0.155738    0.160804   \n",
       "support    32.000000  201.000000  166.000000  32.0  201.000000  166.000000   \n",
       "\n",
       "                 A_ST        D_CB        D_LB       D_LCB  ...  M_CM  \\\n",
       "precision    0.492443    0.400000    0.606688    0.646421  ...   0.0   \n",
       "recall       0.913551    0.011976    0.822894    0.472266  ...   0.0   \n",
       "f1-score     0.639935    0.023256    0.698442    0.545788  ...   0.0   \n",
       "support    428.000000  167.000000  463.000000  631.000000  ...  75.0   \n",
       "\n",
       "                M_LCM       M_LDM        M_LM       M_RCM       M_RDM  \\\n",
       "precision    0.344891    0.481481    0.320988    0.328070    0.380000   \n",
       "recall       0.446809    0.194030    0.422764    0.442080    0.189055   \n",
       "f1-score     0.389289    0.276596    0.364912    0.376636    0.252492   \n",
       "support    423.000000  201.000000  369.000000  423.000000  201.000000   \n",
       "\n",
       "                 M_RM  accuracy    macro avg  weighted avg  \n",
       "precision    0.354756  0.515591     0.461638      0.507670  \n",
       "recall       0.373984  0.515591     0.328565      0.515591  \n",
       "f1-score     0.364116  0.515591     0.312093      0.466777  \n",
       "support    369.000000  0.515591  6895.000000   6895.000000  \n",
       "\n",
       "[4 rows x 27 columns]"
      ]
     },
     "execution_count": 25,
     "metadata": {},
     "output_type": "execute_result"
    }
   ],
   "source": [
    "df_report_gb"
   ]
  },
  {
   "cell_type": "code",
   "execution_count": 28,
   "id": "2d77655b",
   "metadata": {},
   "outputs": [
    {
     "data": {
      "text/plain": [
       "{'gbc__learning_rate': 0.1,\n",
       " 'gbc__max_depth': 51,\n",
       " 'gbc__max_features': 23,\n",
       " 'gbc__max_leaf_nodes': 2141,\n",
       " 'gbc__min_samples_leaf': 0.18017515564585876,\n",
       " 'gbc__min_samples_split': 0.13294085911713252,\n",
       " 'gbc__n_estimators': 100,\n",
       " 'gbc__subsample': 0.8317908278120589}"
      ]
     },
     "execution_count": 28,
     "metadata": {},
     "output_type": "execute_result"
    }
   ],
   "source": [
    "best_params_gb"
   ]
  },
  {
   "cell_type": "code",
   "execution_count": 27,
   "id": "c815c59f",
   "metadata": {},
   "outputs": [
    {
     "data": {
      "text/plain": [
       "{'f1_weighted': 0.33989296264867475,\n",
       " 'f1_micro': 0.39655204505990743,\n",
       " 'f1_macro': 0.20917857479090776,\n",
       " 'roc_auc_weighted': 0.9002483819000042}"
      ]
     },
     "execution_count": 27,
     "metadata": {},
     "output_type": "execute_result"
    }
   ],
   "source": [
    "best_scores_gb"
   ]
  },
  {
   "cell_type": "markdown",
   "id": "c359af3b",
   "metadata": {},
   "source": [
    "#### B. Undersampling, finding best F1-micro"
   ]
  },
  {
   "cell_type": "code",
   "execution_count": 16,
   "id": "c689016c",
   "metadata": {},
   "outputs": [
    {
     "name": "stdout",
     "output_type": "stream",
     "text": [
      "Fitting 5 folds for each of 50 candidates, totalling 250 fits\n"
     ]
    }
   ],
   "source": [
    "df_report_gb_under, best_params_gb_under, best_scores_gb_under = baseline_models(\n",
    "    df = dfv1, numerical_features = numerical_features, categorical_features = categorical_features_all_dummies, \n",
    "    target = 'position_grouped', model = GradientBoostingClassifier, ada_boost = False, n_hyper_comb = 50, num_imputer = \"median\",\n",
    "    goalkeeper_label = \"G_GK\", refit_score = 'f1_micro', resampling_method = 'undersample'\n",
    "    )"
   ]
  },
  {
   "cell_type": "code",
   "execution_count": 17,
   "id": "d3deb9b2",
   "metadata": {},
   "outputs": [
    {
     "data": {
      "text/html": [
       "<div>\n",
       "<style scoped>\n",
       "    .dataframe tbody tr th:only-of-type {\n",
       "        vertical-align: middle;\n",
       "    }\n",
       "\n",
       "    .dataframe tbody tr th {\n",
       "        vertical-align: top;\n",
       "    }\n",
       "\n",
       "    .dataframe thead th {\n",
       "        text-align: right;\n",
       "    }\n",
       "</style>\n",
       "<table border=\"1\" class=\"dataframe\">\n",
       "  <thead>\n",
       "    <tr style=\"text-align: right;\">\n",
       "      <th></th>\n",
       "      <th>A_LF</th>\n",
       "      <th>A_LS</th>\n",
       "      <th>A_LW</th>\n",
       "      <th>A_RF</th>\n",
       "      <th>A_RS</th>\n",
       "      <th>A_RW</th>\n",
       "      <th>A_ST</th>\n",
       "      <th>D_CB</th>\n",
       "      <th>D_LB</th>\n",
       "      <th>D_LCB</th>\n",
       "      <th>...</th>\n",
       "      <th>M_CM</th>\n",
       "      <th>M_LCM</th>\n",
       "      <th>M_LDM</th>\n",
       "      <th>M_LM</th>\n",
       "      <th>M_RCM</th>\n",
       "      <th>M_RDM</th>\n",
       "      <th>M_RM</th>\n",
       "      <th>accuracy</th>\n",
       "      <th>macro avg</th>\n",
       "      <th>weighted avg</th>\n",
       "    </tr>\n",
       "  </thead>\n",
       "  <tbody>\n",
       "    <tr>\n",
       "      <th>precision</th>\n",
       "      <td>0.141553</td>\n",
       "      <td>0.244526</td>\n",
       "      <td>0.239362</td>\n",
       "      <td>0.156977</td>\n",
       "      <td>0.276995</td>\n",
       "      <td>0.223529</td>\n",
       "      <td>0.569231</td>\n",
       "      <td>0.188462</td>\n",
       "      <td>0.638710</td>\n",
       "      <td>0.535354</td>\n",
       "      <td>...</td>\n",
       "      <td>0.153005</td>\n",
       "      <td>0.297071</td>\n",
       "      <td>0.226562</td>\n",
       "      <td>0.348387</td>\n",
       "      <td>0.389908</td>\n",
       "      <td>0.215859</td>\n",
       "      <td>0.394737</td>\n",
       "      <td>0.392748</td>\n",
       "      <td>0.343743</td>\n",
       "      <td>0.460057</td>\n",
       "    </tr>\n",
       "    <tr>\n",
       "      <th>recall</th>\n",
       "      <td>0.968750</td>\n",
       "      <td>0.333333</td>\n",
       "      <td>0.271084</td>\n",
       "      <td>0.843750</td>\n",
       "      <td>0.293532</td>\n",
       "      <td>0.343373</td>\n",
       "      <td>0.432243</td>\n",
       "      <td>0.586826</td>\n",
       "      <td>0.427646</td>\n",
       "      <td>0.335975</td>\n",
       "      <td>...</td>\n",
       "      <td>0.373333</td>\n",
       "      <td>0.167849</td>\n",
       "      <td>0.288557</td>\n",
       "      <td>0.146341</td>\n",
       "      <td>0.200946</td>\n",
       "      <td>0.243781</td>\n",
       "      <td>0.162602</td>\n",
       "      <td>0.392748</td>\n",
       "      <td>0.414324</td>\n",
       "      <td>0.392748</td>\n",
       "    </tr>\n",
       "    <tr>\n",
       "      <th>f1-score</th>\n",
       "      <td>0.247012</td>\n",
       "      <td>0.282105</td>\n",
       "      <td>0.254237</td>\n",
       "      <td>0.264706</td>\n",
       "      <td>0.285024</td>\n",
       "      <td>0.270784</td>\n",
       "      <td>0.491368</td>\n",
       "      <td>0.285298</td>\n",
       "      <td>0.512290</td>\n",
       "      <td>0.412853</td>\n",
       "      <td>...</td>\n",
       "      <td>0.217054</td>\n",
       "      <td>0.214502</td>\n",
       "      <td>0.253829</td>\n",
       "      <td>0.206107</td>\n",
       "      <td>0.265211</td>\n",
       "      <td>0.228972</td>\n",
       "      <td>0.230326</td>\n",
       "      <td>0.392748</td>\n",
       "      <td>0.331116</td>\n",
       "      <td>0.402960</td>\n",
       "    </tr>\n",
       "    <tr>\n",
       "      <th>support</th>\n",
       "      <td>32.000000</td>\n",
       "      <td>201.000000</td>\n",
       "      <td>166.000000</td>\n",
       "      <td>32.000000</td>\n",
       "      <td>201.000000</td>\n",
       "      <td>166.000000</td>\n",
       "      <td>428.000000</td>\n",
       "      <td>167.000000</td>\n",
       "      <td>463.000000</td>\n",
       "      <td>631.000000</td>\n",
       "      <td>...</td>\n",
       "      <td>75.000000</td>\n",
       "      <td>423.000000</td>\n",
       "      <td>201.000000</td>\n",
       "      <td>369.000000</td>\n",
       "      <td>423.000000</td>\n",
       "      <td>201.000000</td>\n",
       "      <td>369.000000</td>\n",
       "      <td>0.392748</td>\n",
       "      <td>6895.000000</td>\n",
       "      <td>6895.000000</td>\n",
       "    </tr>\n",
       "  </tbody>\n",
       "</table>\n",
       "<p>4 rows × 27 columns</p>\n",
       "</div>"
      ],
      "text/plain": [
       "                A_LF        A_LS        A_LW       A_RF        A_RS  \\\n",
       "precision   0.141553    0.244526    0.239362   0.156977    0.276995   \n",
       "recall      0.968750    0.333333    0.271084   0.843750    0.293532   \n",
       "f1-score    0.247012    0.282105    0.254237   0.264706    0.285024   \n",
       "support    32.000000  201.000000  166.000000  32.000000  201.000000   \n",
       "\n",
       "                 A_RW        A_ST        D_CB        D_LB       D_LCB  ...  \\\n",
       "precision    0.223529    0.569231    0.188462    0.638710    0.535354  ...   \n",
       "recall       0.343373    0.432243    0.586826    0.427646    0.335975  ...   \n",
       "f1-score     0.270784    0.491368    0.285298    0.512290    0.412853  ...   \n",
       "support    166.000000  428.000000  167.000000  463.000000  631.000000  ...   \n",
       "\n",
       "                M_CM       M_LCM       M_LDM        M_LM       M_RCM  \\\n",
       "precision   0.153005    0.297071    0.226562    0.348387    0.389908   \n",
       "recall      0.373333    0.167849    0.288557    0.146341    0.200946   \n",
       "f1-score    0.217054    0.214502    0.253829    0.206107    0.265211   \n",
       "support    75.000000  423.000000  201.000000  369.000000  423.000000   \n",
       "\n",
       "                M_RDM        M_RM  accuracy    macro avg  weighted avg  \n",
       "precision    0.215859    0.394737  0.392748     0.343743      0.460057  \n",
       "recall       0.243781    0.162602  0.392748     0.414324      0.392748  \n",
       "f1-score     0.228972    0.230326  0.392748     0.331116      0.402960  \n",
       "support    201.000000  369.000000  0.392748  6895.000000   6895.000000  \n",
       "\n",
       "[4 rows x 27 columns]"
      ]
     },
     "execution_count": 17,
     "metadata": {},
     "output_type": "execute_result"
    }
   ],
   "source": [
    "df_report_gb_under"
   ]
  },
  {
   "cell_type": "code",
   "execution_count": 18,
   "id": "96cca812",
   "metadata": {},
   "outputs": [
    {
     "data": {
      "text/plain": [
       "{'gbc__learning_rate': 0.1,\n",
       " 'gbc__max_depth': 260,\n",
       " 'gbc__max_features': 5,\n",
       " 'gbc__max_leaf_nodes': 1637,\n",
       " 'gbc__min_samples_leaf': 0.11169777079159572,\n",
       " 'gbc__min_samples_split': 0.15299634556560604,\n",
       " 'gbc__n_estimators': 100,\n",
       " 'gbc__subsample': 0.7736811730666274}"
      ]
     },
     "execution_count": 18,
     "metadata": {},
     "output_type": "execute_result"
    }
   ],
   "source": [
    "best_params_gb_under"
   ]
  },
  {
   "cell_type": "code",
   "execution_count": 19,
   "id": "2a7e873f",
   "metadata": {},
   "outputs": [
    {
     "data": {
      "text/plain": [
       "{'f1_weighted': 0.276352428514128,\n",
       " 'f1_micro': 0.25829969733980296,\n",
       " 'f1_macro': 0.20813109089947185,\n",
       " 'roc_auc_weighted': 0.8627701365664256}"
      ]
     },
     "execution_count": 19,
     "metadata": {},
     "output_type": "execute_result"
    }
   ],
   "source": [
    "best_scores_gb_under"
   ]
  },
  {
   "cell_type": "markdown",
   "id": "5cd9cdf3",
   "metadata": {},
   "source": [
    "#### C. Oversampling, finding best F1-micro"
   ]
  },
  {
   "cell_type": "code",
   "execution_count": 21,
   "id": "0ca6c371",
   "metadata": {},
   "outputs": [
    {
     "name": "stdout",
     "output_type": "stream",
     "text": [
      "Fitting 5 folds for each of 50 candidates, totalling 250 fits\n"
     ]
    }
   ],
   "source": [
    "df_report_gb_over, best_params_gb_over, best_scores_gb_over = baseline_models(\n",
    "    df = dfv1, numerical_features = numerical_features, categorical_features = categorical_features_all_dummies, \n",
    "    target = 'position_grouped', model = GradientBoostingClassifier, ada_boost = False, n_hyper_comb = 50, num_imputer = \"median\",\n",
    "    goalkeeper_label = \"G_GK\", refit_score = 'f1_micro', resampling_method = 'oversample'\n",
    "    )"
   ]
  },
  {
   "cell_type": "code",
   "execution_count": 22,
   "id": "9a053378",
   "metadata": {},
   "outputs": [
    {
     "data": {
      "text/html": [
       "<div>\n",
       "<style scoped>\n",
       "    .dataframe tbody tr th:only-of-type {\n",
       "        vertical-align: middle;\n",
       "    }\n",
       "\n",
       "    .dataframe tbody tr th {\n",
       "        vertical-align: top;\n",
       "    }\n",
       "\n",
       "    .dataframe thead th {\n",
       "        text-align: right;\n",
       "    }\n",
       "</style>\n",
       "<table border=\"1\" class=\"dataframe\">\n",
       "  <thead>\n",
       "    <tr style=\"text-align: right;\">\n",
       "      <th></th>\n",
       "      <th>A_LF</th>\n",
       "      <th>A_LS</th>\n",
       "      <th>A_LW</th>\n",
       "      <th>A_RF</th>\n",
       "      <th>A_RS</th>\n",
       "      <th>A_RW</th>\n",
       "      <th>A_ST</th>\n",
       "      <th>D_CB</th>\n",
       "      <th>D_LB</th>\n",
       "      <th>D_LCB</th>\n",
       "      <th>...</th>\n",
       "      <th>M_CM</th>\n",
       "      <th>M_LCM</th>\n",
       "      <th>M_LDM</th>\n",
       "      <th>M_LM</th>\n",
       "      <th>M_RCM</th>\n",
       "      <th>M_RDM</th>\n",
       "      <th>M_RM</th>\n",
       "      <th>accuracy</th>\n",
       "      <th>macro avg</th>\n",
       "      <th>weighted avg</th>\n",
       "    </tr>\n",
       "  </thead>\n",
       "  <tbody>\n",
       "    <tr>\n",
       "      <th>precision</th>\n",
       "      <td>1.0</td>\n",
       "      <td>1.0</td>\n",
       "      <td>1.0</td>\n",
       "      <td>1.0</td>\n",
       "      <td>1.0</td>\n",
       "      <td>1.0</td>\n",
       "      <td>1.0</td>\n",
       "      <td>0.982036</td>\n",
       "      <td>1.0</td>\n",
       "      <td>0.990244</td>\n",
       "      <td>...</td>\n",
       "      <td>1.0</td>\n",
       "      <td>1.0</td>\n",
       "      <td>1.0</td>\n",
       "      <td>1.0</td>\n",
       "      <td>1.0</td>\n",
       "      <td>1.0</td>\n",
       "      <td>1.0</td>\n",
       "      <td>0.995504</td>\n",
       "      <td>0.997428</td>\n",
       "      <td>0.995560</td>\n",
       "    </tr>\n",
       "    <tr>\n",
       "      <th>recall</th>\n",
       "      <td>1.0</td>\n",
       "      <td>1.0</td>\n",
       "      <td>1.0</td>\n",
       "      <td>1.0</td>\n",
       "      <td>1.0</td>\n",
       "      <td>1.0</td>\n",
       "      <td>1.0</td>\n",
       "      <td>0.982036</td>\n",
       "      <td>1.0</td>\n",
       "      <td>0.965135</td>\n",
       "      <td>...</td>\n",
       "      <td>1.0</td>\n",
       "      <td>1.0</td>\n",
       "      <td>1.0</td>\n",
       "      <td>1.0</td>\n",
       "      <td>1.0</td>\n",
       "      <td>1.0</td>\n",
       "      <td>1.0</td>\n",
       "      <td>0.995504</td>\n",
       "      <td>0.997403</td>\n",
       "      <td>0.995504</td>\n",
       "    </tr>\n",
       "    <tr>\n",
       "      <th>f1-score</th>\n",
       "      <td>1.0</td>\n",
       "      <td>1.0</td>\n",
       "      <td>1.0</td>\n",
       "      <td>1.0</td>\n",
       "      <td>1.0</td>\n",
       "      <td>1.0</td>\n",
       "      <td>1.0</td>\n",
       "      <td>0.982036</td>\n",
       "      <td>1.0</td>\n",
       "      <td>0.977528</td>\n",
       "      <td>...</td>\n",
       "      <td>1.0</td>\n",
       "      <td>1.0</td>\n",
       "      <td>1.0</td>\n",
       "      <td>1.0</td>\n",
       "      <td>1.0</td>\n",
       "      <td>1.0</td>\n",
       "      <td>1.0</td>\n",
       "      <td>0.995504</td>\n",
       "      <td>0.997402</td>\n",
       "      <td>0.995503</td>\n",
       "    </tr>\n",
       "    <tr>\n",
       "      <th>support</th>\n",
       "      <td>32.0</td>\n",
       "      <td>201.0</td>\n",
       "      <td>166.0</td>\n",
       "      <td>32.0</td>\n",
       "      <td>201.0</td>\n",
       "      <td>166.0</td>\n",
       "      <td>428.0</td>\n",
       "      <td>167.000000</td>\n",
       "      <td>463.0</td>\n",
       "      <td>631.000000</td>\n",
       "      <td>...</td>\n",
       "      <td>75.0</td>\n",
       "      <td>423.0</td>\n",
       "      <td>201.0</td>\n",
       "      <td>369.0</td>\n",
       "      <td>423.0</td>\n",
       "      <td>201.0</td>\n",
       "      <td>369.0</td>\n",
       "      <td>0.995504</td>\n",
       "      <td>6895.000000</td>\n",
       "      <td>6895.000000</td>\n",
       "    </tr>\n",
       "  </tbody>\n",
       "</table>\n",
       "<p>4 rows × 27 columns</p>\n",
       "</div>"
      ],
      "text/plain": [
       "           A_LF   A_LS   A_LW  A_RF   A_RS   A_RW   A_ST        D_CB   D_LB  \\\n",
       "precision   1.0    1.0    1.0   1.0    1.0    1.0    1.0    0.982036    1.0   \n",
       "recall      1.0    1.0    1.0   1.0    1.0    1.0    1.0    0.982036    1.0   \n",
       "f1-score    1.0    1.0    1.0   1.0    1.0    1.0    1.0    0.982036    1.0   \n",
       "support    32.0  201.0  166.0  32.0  201.0  166.0  428.0  167.000000  463.0   \n",
       "\n",
       "                D_LCB  ...  M_CM  M_LCM  M_LDM   M_LM  M_RCM  M_RDM   M_RM  \\\n",
       "precision    0.990244  ...   1.0    1.0    1.0    1.0    1.0    1.0    1.0   \n",
       "recall       0.965135  ...   1.0    1.0    1.0    1.0    1.0    1.0    1.0   \n",
       "f1-score     0.977528  ...   1.0    1.0    1.0    1.0    1.0    1.0    1.0   \n",
       "support    631.000000  ...  75.0  423.0  201.0  369.0  423.0  201.0  369.0   \n",
       "\n",
       "           accuracy    macro avg  weighted avg  \n",
       "precision  0.995504     0.997428      0.995560  \n",
       "recall     0.995504     0.997403      0.995504  \n",
       "f1-score   0.995504     0.997402      0.995503  \n",
       "support    0.995504  6895.000000   6895.000000  \n",
       "\n",
       "[4 rows x 27 columns]"
      ]
     },
     "execution_count": 22,
     "metadata": {},
     "output_type": "execute_result"
    }
   ],
   "source": [
    "df_report_gb_over"
   ]
  },
  {
   "cell_type": "code",
   "execution_count": 23,
   "id": "67bf93cd",
   "metadata": {},
   "outputs": [
    {
     "data": {
      "text/plain": [
       "{'gbc__learning_rate': 0.1,\n",
       " 'gbc__max_depth': 235,\n",
       " 'gbc__max_features': 8,\n",
       " 'gbc__max_leaf_nodes': 2622,\n",
       " 'gbc__min_samples_leaf': 0.027275110625239626,\n",
       " 'gbc__min_samples_split': 0.10632325151540195,\n",
       " 'gbc__n_estimators': 500,\n",
       " 'gbc__subsample': 0.9874254426586675}"
      ]
     },
     "execution_count": 23,
     "metadata": {},
     "output_type": "execute_result"
    }
   ],
   "source": [
    "best_params_gb_over"
   ]
  },
  {
   "cell_type": "code",
   "execution_count": 24,
   "id": "9f7a3aa0",
   "metadata": {},
   "outputs": [
    {
     "data": {
      "text/plain": [
       "{'f1_weighted': 0.34160106839201104,\n",
       " 'f1_micro': 0.3647850908618039,\n",
       " 'f1_macro': 0.22927187254684872,\n",
       " 'roc_auc_weighted': 0.8874408899954128}"
      ]
     },
     "execution_count": 24,
     "metadata": {},
     "output_type": "execute_result"
    }
   ],
   "source": [
    "best_scores_gb_over"
   ]
  },
  {
   "cell_type": "markdown",
   "id": "44cc1900",
   "metadata": {},
   "source": [
    "### LGBMClassifier"
   ]
  },
  {
   "cell_type": "markdown",
   "id": "6519133a",
   "metadata": {},
   "source": [
    "#### A. No resampling, finding best F1-micro"
   ]
  },
  {
   "cell_type": "code",
   "execution_count": 12,
   "id": "4a0725e0",
   "metadata": {},
   "outputs": [
    {
     "name": "stdout",
     "output_type": "stream",
     "text": [
      "Fitting 5 folds for each of 50 candidates, totalling 250 fits\n"
     ]
    }
   ],
   "source": [
    "df_report_lgb, best_params_lgb, best_scores_lgb = baseline_models(\n",
    "    df = dfv1, numerical_features = numerical_features, categorical_features = categorical_features_all_dummies, \n",
    "    target = 'position_grouped', model = LGBMClassifier, ada_boost = False, n_hyper_comb = 50, num_imputer = \"median\",\n",
    "    goalkeeper_label = \"G_GK\", refit_score = 'f1_micro', resampling_method = 'none'\n",
    "    )"
   ]
  },
  {
   "cell_type": "markdown",
   "id": "09fd5dbf",
   "metadata": {},
   "source": [
    "It has been running for 30 mins for 50 hyperparameter combinations (50 iterations)."
   ]
  },
  {
   "cell_type": "code",
   "execution_count": 13,
   "id": "52cdf26e",
   "metadata": {},
   "outputs": [
    {
     "data": {
      "text/html": [
       "<div>\n",
       "<style scoped>\n",
       "    .dataframe tbody tr th:only-of-type {\n",
       "        vertical-align: middle;\n",
       "    }\n",
       "\n",
       "    .dataframe tbody tr th {\n",
       "        vertical-align: top;\n",
       "    }\n",
       "\n",
       "    .dataframe thead th {\n",
       "        text-align: right;\n",
       "    }\n",
       "</style>\n",
       "<table border=\"1\" class=\"dataframe\">\n",
       "  <thead>\n",
       "    <tr style=\"text-align: right;\">\n",
       "      <th></th>\n",
       "      <th>A_LF</th>\n",
       "      <th>A_LS</th>\n",
       "      <th>A_LW</th>\n",
       "      <th>A_RF</th>\n",
       "      <th>A_RS</th>\n",
       "      <th>A_RW</th>\n",
       "      <th>A_ST</th>\n",
       "      <th>D_CB</th>\n",
       "      <th>D_LB</th>\n",
       "      <th>D_LCB</th>\n",
       "      <th>...</th>\n",
       "      <th>M_CM</th>\n",
       "      <th>M_LCM</th>\n",
       "      <th>M_LDM</th>\n",
       "      <th>M_LM</th>\n",
       "      <th>M_RCM</th>\n",
       "      <th>M_RDM</th>\n",
       "      <th>M_RM</th>\n",
       "      <th>accuracy</th>\n",
       "      <th>macro avg</th>\n",
       "      <th>weighted avg</th>\n",
       "    </tr>\n",
       "  </thead>\n",
       "  <tbody>\n",
       "    <tr>\n",
       "      <th>precision</th>\n",
       "      <td>1.000000</td>\n",
       "      <td>0.970588</td>\n",
       "      <td>0.939394</td>\n",
       "      <td>1.00000</td>\n",
       "      <td>0.937500</td>\n",
       "      <td>0.963636</td>\n",
       "      <td>0.633181</td>\n",
       "      <td>1.000000</td>\n",
       "      <td>0.687606</td>\n",
       "      <td>0.757282</td>\n",
       "      <td>...</td>\n",
       "      <td>1.000000</td>\n",
       "      <td>0.672165</td>\n",
       "      <td>0.926471</td>\n",
       "      <td>0.716667</td>\n",
       "      <td>0.647303</td>\n",
       "      <td>0.856164</td>\n",
       "      <td>0.702128</td>\n",
       "      <td>0.73256</td>\n",
       "      <td>0.844734</td>\n",
       "      <td>0.775996</td>\n",
       "    </tr>\n",
       "    <tr>\n",
       "      <th>recall</th>\n",
       "      <td>0.437500</td>\n",
       "      <td>0.492537</td>\n",
       "      <td>0.560241</td>\n",
       "      <td>0.15625</td>\n",
       "      <td>0.522388</td>\n",
       "      <td>0.638554</td>\n",
       "      <td>0.971963</td>\n",
       "      <td>0.131737</td>\n",
       "      <td>0.874730</td>\n",
       "      <td>0.618067</td>\n",
       "      <td>...</td>\n",
       "      <td>0.386667</td>\n",
       "      <td>0.770686</td>\n",
       "      <td>0.626866</td>\n",
       "      <td>0.699187</td>\n",
       "      <td>0.737589</td>\n",
       "      <td>0.621891</td>\n",
       "      <td>0.715447</td>\n",
       "      <td>0.73256</td>\n",
       "      <td>0.611454</td>\n",
       "      <td>0.732560</td>\n",
       "    </tr>\n",
       "    <tr>\n",
       "      <th>f1-score</th>\n",
       "      <td>0.608696</td>\n",
       "      <td>0.653465</td>\n",
       "      <td>0.701887</td>\n",
       "      <td>0.27027</td>\n",
       "      <td>0.670927</td>\n",
       "      <td>0.768116</td>\n",
       "      <td>0.766820</td>\n",
       "      <td>0.232804</td>\n",
       "      <td>0.769962</td>\n",
       "      <td>0.680628</td>\n",
       "      <td>...</td>\n",
       "      <td>0.557692</td>\n",
       "      <td>0.718062</td>\n",
       "      <td>0.747774</td>\n",
       "      <td>0.707819</td>\n",
       "      <td>0.689503</td>\n",
       "      <td>0.720461</td>\n",
       "      <td>0.708725</td>\n",
       "      <td>0.73256</td>\n",
       "      <td>0.657958</td>\n",
       "      <td>0.720678</td>\n",
       "    </tr>\n",
       "    <tr>\n",
       "      <th>support</th>\n",
       "      <td>32.000000</td>\n",
       "      <td>201.000000</td>\n",
       "      <td>166.000000</td>\n",
       "      <td>32.00000</td>\n",
       "      <td>201.000000</td>\n",
       "      <td>166.000000</td>\n",
       "      <td>428.000000</td>\n",
       "      <td>167.000000</td>\n",
       "      <td>463.000000</td>\n",
       "      <td>631.000000</td>\n",
       "      <td>...</td>\n",
       "      <td>75.000000</td>\n",
       "      <td>423.000000</td>\n",
       "      <td>201.000000</td>\n",
       "      <td>369.000000</td>\n",
       "      <td>423.000000</td>\n",
       "      <td>201.000000</td>\n",
       "      <td>369.000000</td>\n",
       "      <td>0.73256</td>\n",
       "      <td>6895.000000</td>\n",
       "      <td>6895.000000</td>\n",
       "    </tr>\n",
       "  </tbody>\n",
       "</table>\n",
       "<p>4 rows × 27 columns</p>\n",
       "</div>"
      ],
      "text/plain": [
       "                A_LF        A_LS        A_LW      A_RF        A_RS  \\\n",
       "precision   1.000000    0.970588    0.939394   1.00000    0.937500   \n",
       "recall      0.437500    0.492537    0.560241   0.15625    0.522388   \n",
       "f1-score    0.608696    0.653465    0.701887   0.27027    0.670927   \n",
       "support    32.000000  201.000000  166.000000  32.00000  201.000000   \n",
       "\n",
       "                 A_RW        A_ST        D_CB        D_LB       D_LCB  ...  \\\n",
       "precision    0.963636    0.633181    1.000000    0.687606    0.757282  ...   \n",
       "recall       0.638554    0.971963    0.131737    0.874730    0.618067  ...   \n",
       "f1-score     0.768116    0.766820    0.232804    0.769962    0.680628  ...   \n",
       "support    166.000000  428.000000  167.000000  463.000000  631.000000  ...   \n",
       "\n",
       "                M_CM       M_LCM       M_LDM        M_LM       M_RCM  \\\n",
       "precision   1.000000    0.672165    0.926471    0.716667    0.647303   \n",
       "recall      0.386667    0.770686    0.626866    0.699187    0.737589   \n",
       "f1-score    0.557692    0.718062    0.747774    0.707819    0.689503   \n",
       "support    75.000000  423.000000  201.000000  369.000000  423.000000   \n",
       "\n",
       "                M_RDM        M_RM  accuracy    macro avg  weighted avg  \n",
       "precision    0.856164    0.702128   0.73256     0.844734      0.775996  \n",
       "recall       0.621891    0.715447   0.73256     0.611454      0.732560  \n",
       "f1-score     0.720461    0.708725   0.73256     0.657958      0.720678  \n",
       "support    201.000000  369.000000   0.73256  6895.000000   6895.000000  \n",
       "\n",
       "[4 rows x 27 columns]"
      ]
     },
     "execution_count": 13,
     "metadata": {},
     "output_type": "execute_result"
    }
   ],
   "source": [
    "df_report_lgb"
   ]
  },
  {
   "cell_type": "code",
   "execution_count": 14,
   "id": "9ee42d91",
   "metadata": {},
   "outputs": [
    {
     "data": {
      "text/plain": [
       "{'lgb__boosting_type': 'gbdt',\n",
       " 'lgb__feature_fraction': 0.7156590973427577,\n",
       " 'lgb__learning_rate': 0.01,\n",
       " 'lgb__min_child_samples': 26,\n",
       " 'lgb__min_split_gain': 0.00019381680792066592,\n",
       " 'lgb__num_leaves': 31,\n",
       " 'lgb__reg_lambda': 0.8494364888772069}"
      ]
     },
     "execution_count": 14,
     "metadata": {},
     "output_type": "execute_result"
    }
   ],
   "source": [
    "best_params_lgb"
   ]
  },
  {
   "cell_type": "code",
   "execution_count": 15,
   "id": "6c208ed7",
   "metadata": {},
   "outputs": [
    {
     "data": {
      "text/plain": [
       "{'f1_weighted': 0.3397435778373765,\n",
       " 'f1_micro': 0.3975088541494024,\n",
       " 'f1_macro': 0.20877405965375648,\n",
       " 'roc_auc_weighted': 0.8962785630827919}"
      ]
     },
     "execution_count": 15,
     "metadata": {},
     "output_type": "execute_result"
    }
   ],
   "source": [
    "best_scores_lgb"
   ]
  },
  {
   "cell_type": "markdown",
   "id": "544ad76f",
   "metadata": {},
   "source": [
    "### Insights\n",
    "- Overall, *logistic regression* is the best performer in this case, while a single decision tree and KNN exhibit a similar predictive power.\n",
    "- Best results:\n",
    "    1. Logistic regression with no resampling.\n",
    "    2. Gradient boosting with no resampling.\n",
    "    3. LightGBM with no resampling.\n",
    "    4. Decision trees with adaptive boosting and no resampling.\n",
    "    5. Random forest with no resampling."
   ]
  }
 ],
 "metadata": {
  "colab": {
   "provenance": []
  },
  "kernelspec": {
   "display_name": "py312",
   "language": "python",
   "name": "python3"
  },
  "language_info": {
   "codemirror_mode": {
    "name": "ipython",
    "version": 3
   },
   "file_extension": ".py",
   "mimetype": "text/x-python",
   "name": "python",
   "nbconvert_exporter": "python",
   "pygments_lexer": "ipython3",
   "version": "3.12.2"
  }
 },
 "nbformat": 4,
 "nbformat_minor": 5
}
